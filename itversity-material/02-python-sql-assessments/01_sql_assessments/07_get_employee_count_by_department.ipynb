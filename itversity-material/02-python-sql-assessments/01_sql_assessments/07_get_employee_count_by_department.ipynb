{
 "cells": [
  {
   "cell_type": "markdown",
   "metadata": {},
   "source": [
    "## Get Employee Count By Department\n",
    "\n",
    "Let us get count of employees by department using tables setup as part of HR database.\n",
    "* You can review the table structures of employees and departments by going to **06_task_setup_hr_db.ipynb**.\n",
    "* If you cannot find one, please reach out to support staff.\n",
    "* After validating connectivity and data in the tables, come up with a query which will get us the employee count by department.\n",
    "* Output should contain department_name and count. You need to figure out the field on which join should be performed."
   ]
  },
  {
   "cell_type": "code",
   "execution_count": null,
   "metadata": {},
   "outputs": [],
   "source": [
    "%run 00_setup_database_variables.ipynb"
   ]
  },
  {
   "cell_type": "code",
   "execution_count": null,
   "metadata": {},
   "outputs": [],
   "source": [
    "%load_ext sql"
   ]
  },
  {
   "cell_type": "code",
   "execution_count": null,
   "metadata": {},
   "outputs": [],
   "source": [
    "%env DATABASE_URL=postgresql://{username}_hr_user:{password}@{postgres_host}:{postgres_port}/{username}_hr_db"
   ]
  },
  {
   "cell_type": "code",
   "execution_count": null,
   "metadata": {},
   "outputs": [],
   "source": [
    "%%sql\n",
    "\n",
    "SELECT * FROM departments LIMIT 10"
   ]
  },
  {
   "cell_type": "code",
   "execution_count": null,
   "metadata": {},
   "outputs": [],
   "source": [
    "%%sql\n",
    "\n",
    "SELECT * FROM employees LIMIT 10"
   ]
  },
  {
   "cell_type": "markdown",
   "metadata": {},
   "source": [
    "* Provide the query to get the employee count by department below. Make sure data is sorted in ascending order by department_name. Also the column names as part of the output should be **department_name** and **employee_count**.\n",
    "* Here is the expected output.\n",
    "\n",
    "|department_name|department_count|\n",
    "|---|---|\n",
    "|Accounting|2|\n",
    "|Administration|1|\n",
    "|Executive|3|\n",
    "|Finance|6|\n",
    "|Human Resources|1|\n",
    "|IT|5|\n",
    "|Marketing|2|\n",
    "|Public Relations|1|\n",
    "|Purchasing|6|\n",
    "|Sales|34|\n",
    "|Shipping|45|"
   ]
  },
  {
   "cell_type": "code",
   "execution_count": null,
   "metadata": {},
   "outputs": [],
   "source": [
    "%%sql\n"
   ]
  },
  {
   "cell_type": "code",
   "execution_count": null,
   "metadata": {},
   "outputs": [],
   "source": []
  }
 ],
 "metadata": {
  "kernelspec": {
   "display_name": "Python 3",
   "language": "python",
   "name": "python3"
  },
  "language_info": {
   "codemirror_mode": {
    "name": "ipython",
    "version": 3
   },
   "file_extension": ".py",
   "mimetype": "text/x-python",
   "name": "python",
   "nbconvert_exporter": "python",
   "pygments_lexer": "ipython3",
   "version": "3.6.12"
  }
 },
 "nbformat": 4,
 "nbformat_minor": 4
}
