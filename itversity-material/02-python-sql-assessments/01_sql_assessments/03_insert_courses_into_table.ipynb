{
 "cells": [
  {
   "cell_type": "markdown",
   "metadata": {},
   "source": [
    "## Exercise 3 - Insert Courses into Table\n",
    "\n",
    "Insert data into courses using the data provided. Make sure id is system generated. Use the table that is created as part of the previous exercise.\n",
    "\n",
    "|Course Name                      |Course Author         |Course Status|Course Published Date|\n",
    "|---------------------------------|----------------------|-------------|---------------------|\n",
    "|Programming using Python         |Bob Dillon            |published    |2020-09-30           |\n",
    "|Data Engineering using Python    |Bob Dillon            |published    |2020-07-15           |\n",
    "|Data Engineering using Scala     |Elvis Presley         |draft        |                     |\n",
    "|Programming using Scala          |Elvis Presley         |published    |2020-05-12           |\n",
    "|Programming using Java           |Mike Jack             |inactive     |2020-08-10           |\n",
    "|Web Applications - Python Flask  |Bob Dillon            |inactive     |2020-07-20           |\n",
    "|Web Applications - Java Spring   |Mike Jack             |draft        |                     |\n",
    "|Pipeline Orchestration - Python  |Bob Dillon            |draft        |                     |\n",
    "|Streaming Pipelines - Python     |Bob Dillon            |published    |2020-10-05           |\n",
    "|Web Applications - Scala Play    |Elvis Presley         |inactive     |2020-09-30           |\n",
    "|Web Applications - Python Django |Bob Dillon            |published    |2020-06-23           |\n",
    "|Server Automation - Ansible      |Uncle Sam             |published    |2020-07-05           |"
   ]
  },
  {
   "cell_type": "code",
   "execution_count": null,
   "metadata": {},
   "outputs": [],
   "source": [
    "%run 00_setup_database_variables.ipynb"
   ]
  },
  {
   "cell_type": "code",
   "execution_count": null,
   "metadata": {},
   "outputs": [],
   "source": [
    "%load_ext sql"
   ]
  },
  {
   "cell_type": "code",
   "execution_count": null,
   "metadata": {},
   "outputs": [],
   "source": [
    "%env DATABASE_URL=postgresql://{username}_sms_user:{password}@{postgres_host}:{postgres_port}/{username}_sms_db"
   ]
  },
  {
   "cell_type": "code",
   "execution_count": null,
   "metadata": {},
   "outputs": [],
   "source": [
    "%%sql \n",
    "\n",
    "SELECT * FROM information_schema.tables \n",
    "WHERE table_catalog = '{username}_sms_db' AND table_schema = 'public'\n",
    "LIMIT 10"
   ]
  },
  {
   "cell_type": "markdown",
   "metadata": {},
   "source": [
    "* Provide the insert statement(s) as answer for this exercise."
   ]
  },
  {
   "cell_type": "code",
   "execution_count": null,
   "metadata": {},
   "outputs": [],
   "source": [
    "%%sql\n"
   ]
  },
  {
   "cell_type": "markdown",
   "metadata": {},
   "source": [
    "* Validate by running query here"
   ]
  },
  {
   "cell_type": "code",
   "execution_count": null,
   "metadata": {},
   "outputs": [],
   "source": [
    "%%sql\n",
    "\n",
    "SELECT count(1) FROM courses"
   ]
  },
  {
   "cell_type": "code",
   "execution_count": null,
   "metadata": {},
   "outputs": [],
   "source": [
    "%%sql\n",
    "\n",
    "SELECT * FROM courses LIMIT 12"
   ]
  }
 ],
 "metadata": {
  "kernelspec": {
   "display_name": "Python 3",
   "language": "python",
   "name": "python3"
  },
  "language_info": {
   "codemirror_mode": {
    "name": "ipython",
    "version": 3
   },
   "file_extension": ".py",
   "mimetype": "text/x-python",
   "name": "python",
   "nbconvert_exporter": "python",
   "pygments_lexer": "ipython3",
   "version": "3.6.12"
  }
 },
 "nbformat": 4,
 "nbformat_minor": 4
}
