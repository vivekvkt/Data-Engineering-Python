{
 "cells": [
  {
   "cell_type": "markdown",
   "metadata": {},
   "source": [
    "## Exercise 5 - Get Course Count by Status\n",
    "\n",
    "Let us run queries on course data that is inserted into the table. As part of the prior topics we should have inserted this data. Using the below data get the count of courses by status. Also make sure data is sorted in descending order by Course Status.\n",
    "\n",
    "|Course Name                      |Course Author         |Course Status|Course Published Date|\n",
    "|---------------------------------|----------------------|-------------|---------------------|\n",
    "|Programming using Python         |Bob Dillon            |published    |2020-09-30           |\n",
    "|Data Engineering using Python    |Bob Dillon            |published    |2020-07-15           |\n",
    "|Data Engineering using Scala     |Elvis Presley         |draft        |                     |\n",
    "|Programming using Scala          |Elvis Presley         |published    |2020-05-12           |\n",
    "|Programming using Java           |Mike Jack             |inactive     |2020-08-10           |\n",
    "|Web Applications - Python Flask  |Bob Dillon            |inactive     |2020-07-20           |\n",
    "|Web Applications - Java Spring   |Mike Jack             |draft        |                     |\n",
    "|Pipeline Orchestration - Python  |Bob Dillon            |draft        |                     |\n",
    "|Streaming Pipelines - Python     |Bob Dillon            |published    |2020-10-05           |\n",
    "|Web Applications - Scala Play    |Elvis Presley         |inactive     |2020-09-30           |\n",
    "|Web Applications - Python Django |Bob Dillon            |published    |2020-06-23           |\n",
    "|Server Automation - Ansible      |Uncle Sam             |published    |2020-07-05           |\n"
   ]
  },
  {
   "cell_type": "code",
   "execution_count": null,
   "metadata": {},
   "outputs": [],
   "source": [
    "%run 00_setup_database_variables.ipynb"
   ]
  },
  {
   "cell_type": "code",
   "execution_count": null,
   "metadata": {},
   "outputs": [],
   "source": [
    "%load_ext sql"
   ]
  },
  {
   "cell_type": "code",
   "execution_count": null,
   "metadata": {},
   "outputs": [],
   "source": [
    "%env DATABASE_URL=postgresql://{username}_sms_user:{password}@{postgres_host}:{postgres_port}/{username}_sms_db"
   ]
  },
  {
   "cell_type": "markdown",
   "metadata": {},
   "source": [
    "* Make sure the table contain 12 records. You can run this query to validate."
   ]
  },
  {
   "cell_type": "code",
   "execution_count": null,
   "metadata": {},
   "outputs": [],
   "source": [
    "%%sql\n",
    "\n",
    "SELECT * FROM courses"
   ]
  },
  {
   "cell_type": "markdown",
   "metadata": {},
   "source": [
    "* Provide the query which will get the count of courses by status. Also make sure data is sorted in descending order by Course Status. Here is the expected output. For count, provide alias as **course_count**.\n",
    "\n",
    "|course_status|course_count|\n",
    "|---|---|\n",
    "|published|6|\n",
    "|inactive|3|\n",
    "|draft|3|"
   ]
  },
  {
   "cell_type": "code",
   "execution_count": null,
   "metadata": {},
   "outputs": [],
   "source": [
    "%%sql\n"
   ]
  },
  {
   "cell_type": "code",
   "execution_count": null,
   "metadata": {},
   "outputs": [],
   "source": []
  }
 ],
 "metadata": {
  "kernelspec": {
   "display_name": "Python 3",
   "language": "python",
   "name": "python3"
  },
  "language_info": {
   "codemirror_mode": {
    "name": "ipython",
    "version": 3
   },
   "file_extension": ".py",
   "mimetype": "text/x-python",
   "name": "python",
   "nbconvert_exporter": "python",
   "pygments_lexer": "ipython3",
   "version": "3.6.12"
  }
 },
 "nbformat": 4,
 "nbformat_minor": 4
}
