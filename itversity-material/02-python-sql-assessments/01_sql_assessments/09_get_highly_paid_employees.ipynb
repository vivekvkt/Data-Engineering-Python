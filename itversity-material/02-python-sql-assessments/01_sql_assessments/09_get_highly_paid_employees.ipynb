{
 "cells": [
  {
   "cell_type": "markdown",
   "metadata": {},
   "source": [
    "## Get Highly Paid Employees\n",
    "\n",
    "Let us get the highly paid employee of each department.\n",
    "* You can review the table structures of employees and departments by going to **06_task_setup_hr_db.ipynb**.\n",
    "* If you cannot find one, please reach out to support staff.\n",
    "* After validating connectivity and data in the tables, come up with a query which will get us highly paid employee with in each department.\n",
    "* Output should contain department_name, employee_id, first_name, last_name and salary. You need to figure out the field on which join should be performed.\n",
    "* Also if there are more than one employees with highest paid salary with in each department, you need to get all those employee details."
   ]
  },
  {
   "cell_type": "code",
   "execution_count": null,
   "metadata": {},
   "outputs": [],
   "source": [
    "%run 00_setup_database_variables.ipynb"
   ]
  },
  {
   "cell_type": "code",
   "execution_count": null,
   "metadata": {},
   "outputs": [],
   "source": [
    "%load_ext sql"
   ]
  },
  {
   "cell_type": "code",
   "execution_count": null,
   "metadata": {},
   "outputs": [],
   "source": [
    "%env DATABASE_URL=postgresql://{username}_hr_user:{password}@{postgres_host}:{postgres_port}/{username}_hr_db"
   ]
  },
  {
   "cell_type": "code",
   "execution_count": null,
   "metadata": {},
   "outputs": [],
   "source": [
    "%%sql\n",
    "\n",
    "SELECT * FROM departments LIMIT 10"
   ]
  },
  {
   "cell_type": "code",
   "execution_count": null,
   "metadata": {},
   "outputs": [],
   "source": [
    "%%sql\n",
    "\n",
    "SELECT * FROM employees LIMIT 10"
   ]
  },
  {
   "cell_type": "markdown",
   "metadata": {},
   "source": [
    "* Provide the query to get the highest paid employee details from each department. Make sure data is sorted in ascending order by department_name and then in ascending order by employee_id.\n",
    "* Here is the expected output.\n",
    "\n",
    "|department_name|employee_id|first_name|last_name|salary|\n",
    "|---|---|---|---|---|\n",
    "|Accounting|205|Shelley|Higgins|12000.00|\n",
    "|Administration|200|Jennifer|Whalen|4400.00|\n",
    "|Executive|100|Steven|King|24000.00|\n",
    "|Finance|108|Nancy|Greenberg|12000.00|\n",
    "|Human Resources|203|Susan|Mavris|6500.00|\n",
    "|IT|103|Alexander|Hunold|9000.00|\n",
    "|Marketing|201|Michael|Hartstein|13000.00|\n",
    "|Public Relations|204|Hermann|Baer|10000.00|\n",
    "|Purchasing|114|Den|Raphaely|11000.00|\n",
    "|Sales|145|John|Russell|14000.00|\n",
    "|Shipping|121|Adam|Fripp|8200.00|\n",
    "|None|178|Kimberely|Grant|7000.00|\n"
   ]
  },
  {
   "cell_type": "code",
   "execution_count": null,
   "metadata": {},
   "outputs": [],
   "source": [
    "%%sql\n"
   ]
  },
  {
   "cell_type": "code",
   "execution_count": null,
   "metadata": {},
   "outputs": [],
   "source": []
  }
 ],
 "metadata": {
  "kernelspec": {
   "display_name": "Python 3",
   "language": "python",
   "name": "python3"
  },
  "language_info": {
   "codemirror_mode": {
    "name": "ipython",
    "version": 3
   },
   "file_extension": ".py",
   "mimetype": "text/x-python",
   "name": "python",
   "nbconvert_exporter": "python",
   "pygments_lexer": "ipython3",
   "version": "3.6.12"
  }
 },
 "nbformat": 4,
 "nbformat_minor": 4
}
