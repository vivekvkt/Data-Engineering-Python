{
 "cells": [
  {
   "cell_type": "markdown",
   "id": "46a9e3a6",
   "metadata": {},
   "source": [
    "## Get count of friends\n",
    "\n",
    "Develop the logic to get the count of friends for each user.\n",
    "* Data is in **14_user_data.json**.\n",
    "* We will provide the logic of loading json data from file to list of dicts.\n",
    "* The exercise is to get the count of friends for each user using list of dicts.\n",
    "* Output should contain user_id and count and data should be descending order by count. If the count is same, then data should be further sorted in ascending order by user_id."
   ]
  },
  {
   "cell_type": "code",
   "execution_count": null,
   "id": "39b37c76",
   "metadata": {},
   "outputs": [],
   "source": [
    "# Logic to load json data into dict\n",
    "\n",
    "import json\n",
    "users = json.load(open('14_user_data.json'))"
   ]
  },
  {
   "cell_type": "code",
   "execution_count": null,
   "id": "477a3657",
   "metadata": {},
   "outputs": [],
   "source": [
    "type(users)"
   ]
  },
  {
   "cell_type": "code",
   "execution_count": null,
   "id": "e15e620b",
   "metadata": {},
   "outputs": [],
   "source": [
    "type(users[0])"
   ]
  },
  {
   "cell_type": "code",
   "execution_count": null,
   "id": "a6cbfeba",
   "metadata": {},
   "outputs": [],
   "source": [
    "users"
   ]
  },
  {
   "cell_type": "markdown",
   "id": "f333bc3b",
   "metadata": {},
   "source": [
    "* Using **users**, get the count by friends."
   ]
  },
  {
   "cell_type": "code",
   "execution_count": null,
   "id": "eb3c4af9",
   "metadata": {},
   "outputs": [],
   "source": [
    "# Your logic should go here\n",
    "\n",
    "def get_friend_count(users):\n",
    "\n",
    "    return friend_count"
   ]
  },
  {
   "cell_type": "markdown",
   "id": "5d8bbcbf",
   "metadata": {},
   "source": [
    "* You can validate by running below cells. Here is the desired output.\n",
    "\n",
    "```python\n",
    "[{'user_id': 'CX3zVZCP6_TO9c-AHkDG0Q', 'friend_count': 5},\n",
    " {'user_id': 'dMtkqy7SpggEFAGFkCbyDQ', 'friend_count': 5},\n",
    " {'user_id': '7pIUGJ224G589mfGZaUJmg', 'friend_count': 4},\n",
    " {'user_id': 'RdGxKWUqrkqmnSEhzBgiig', 'friend_count': 4},\n",
    " {'user_id': '_6CTDWsw4Fdr6R9ZzKvLZQ', 'friend_count': 4},\n",
    " {'user_id': 'a7QBKnU1ygMoxFmJKoiR3g', 'friend_count': 4},\n",
    " {'user_id': 'KLgBbAHOWumaXjEQwUDpmA', 'friend_count': 3},\n",
    " {'user_id': 'vNx3FrO1zRkXTKGkypcDEA', 'friend_count': 3},\n",
    " {'user_id': 'PA2MNztWmRx9JBvbz9wd4A', 'friend_count': 1},\n",
    " {'user_id': 'V0b6qQt_mF21xg_--BFw5Q', 'friend_count': 1}]\n",
    "```"
   ]
  },
  {
   "cell_type": "code",
   "execution_count": null,
   "id": "115fa522",
   "metadata": {},
   "outputs": [],
   "source": [
    "friend_count = get_friend_count(users)"
   ]
  },
  {
   "cell_type": "code",
   "execution_count": null,
   "id": "8c6078ce",
   "metadata": {},
   "outputs": [],
   "source": [
    "friend_count"
   ]
  },
  {
   "cell_type": "code",
   "execution_count": null,
   "id": "365f8e38",
   "metadata": {},
   "outputs": [],
   "source": []
  }
 ],
 "metadata": {
  "kernelspec": {
   "display_name": "Python 3",
   "language": "python",
   "name": "python3"
  },
  "language_info": {
   "codemirror_mode": {
    "name": "ipython",
    "version": 3
   },
   "file_extension": ".py",
   "mimetype": "text/x-python",
   "name": "python",
   "nbconvert_exporter": "python",
   "pygments_lexer": "ipython3",
   "version": "3.6.12"
  }
 },
 "nbformat": 4,
 "nbformat_minor": 5
}
