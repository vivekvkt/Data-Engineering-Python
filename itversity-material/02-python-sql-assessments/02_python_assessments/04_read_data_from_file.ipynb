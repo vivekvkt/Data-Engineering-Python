{
 "cells": [
  {
   "cell_type": "markdown",
   "id": "15c11658",
   "metadata": {},
   "source": [
    "## Read Data from file\n",
    "\n",
    "Develop logic to read the data from tab delimited file into list of tuples.\n",
    "* The file which you are supposed to use is **03_courses.csv** in the current folder.\n",
    "* It is a text file where lines are delimited by new line character.\n",
    "* Each line contain data for multiple attributes related to courses table. Each attribute value in each line is separated by '\\t' (tab) character.\n",
    "* You need to develop a function which will return list of tuples with all the values from the file.\n",
    "\n",
    "**Hint: Using Pandas or csv will facilitate you to come up with the solution faster**"
   ]
  },
  {
   "cell_type": "code",
   "execution_count": null,
   "id": "7eba8862",
   "metadata": {},
   "outputs": [],
   "source": [
    "# Provide the solution here\n",
    "import pandas as pd\n",
    "\n",
    "def get_courses(path):\n",
    "    return courses"
   ]
  },
  {
   "cell_type": "code",
   "execution_count": null,
   "id": "de1cf391",
   "metadata": {},
   "outputs": [],
   "source": [
    "courses = get_courses('03_courses.csv')"
   ]
  },
  {
   "cell_type": "code",
   "execution_count": null,
   "id": "ccbd4f99",
   "metadata": {},
   "outputs": [],
   "source": [
    "type(courses) # should be list"
   ]
  },
  {
   "cell_type": "code",
   "execution_count": null,
   "id": "ea7cc235",
   "metadata": {},
   "outputs": [],
   "source": [
    "len(courses) # should be 12"
   ]
  },
  {
   "cell_type": "code",
   "execution_count": null,
   "id": "83e4d3ea",
   "metadata": {},
   "outputs": [],
   "source": [
    "courses[0] # Output: ('Programming using Python', 'Bob Dillon', 'published', '2020-09-30')"
   ]
  },
  {
   "cell_type": "code",
   "execution_count": null,
   "id": "e8e6aeaa",
   "metadata": {},
   "outputs": [],
   "source": [
    "type(courses[0]) # tuple"
   ]
  },
  {
   "cell_type": "code",
   "execution_count": null,
   "id": "fed699c4",
   "metadata": {},
   "outputs": [],
   "source": []
  }
 ],
 "metadata": {
  "kernelspec": {
   "display_name": "Python 3",
   "language": "python",
   "name": "python3"
  },
  "language_info": {
   "codemirror_mode": {
    "name": "ipython",
    "version": 3
   },
   "file_extension": ".py",
   "mimetype": "text/x-python",
   "name": "python",
   "nbconvert_exporter": "python",
   "pygments_lexer": "ipython3",
   "version": "3.6.12"
  }
 },
 "nbformat": 4,
 "nbformat_minor": 5
}
