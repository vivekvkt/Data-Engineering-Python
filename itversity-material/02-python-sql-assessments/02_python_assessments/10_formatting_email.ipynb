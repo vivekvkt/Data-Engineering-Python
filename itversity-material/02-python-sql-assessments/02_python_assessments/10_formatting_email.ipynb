{
 "cells": [
  {
   "cell_type": "markdown",
   "metadata": {},
   "source": [
    "## Formatting Emails\n",
    "\n",
    "Develop a function to format the place holders in a string with the actual values. This is primarily to test usage of **key word arguments** and **formatting strings**.\n",
    "\n",
    "Here is a typical way how we send emails as part of the applications.\n",
    "* Function Name: **gen_email_body**.\n",
    "* Define email templates and store in a file or database. In this case we will be storing in a file. The actual email body template will be created using HTML.\n",
    "* We typically send emails in different scenarios. Here are some examples.\n",
    "  * When user signs up to our portal.\n",
    "  * When user purchase some product in our portal.\n",
    "  * When there is update about his order.\n",
    "  * Confirmation emails such as account created, updated, order successfully placed, order cancelled etc.\n",
    "* For each type of email, we will use one template. These templates will have placeholders which are supposed to be replaced before email is sent.\n",
    "* Now we get the data to be replaced in emails in the form of objects.\n",
    "* Once we get the data in the form of objects, we replace the placeholders or variables in the file using the data in the objects.\n",
    "* After generating email body with actual values, we will then send the email across."
   ]
  },
  {
   "cell_type": "code",
   "execution_count": 3,
   "metadata": {},
   "outputs": [],
   "source": [
    "BODY_HTML = \"\"\"\n",
    "<html>\n",
    "    <head>\n",
    "    </head>\n",
    "    <body>\n",
    "        Dear {customer_first_name},\n",
    "        <br>\n",
    "        <br>\n",
    "        Thank you for puchasing the <b>{product_subscription}</b> subscription of <b>{product_name}</b>.\n",
    "        <br>\n",
    "        Your credit card is charged for <b>{amount_received}</b> and it will be charged again on <b>{next_renewal_date}</b>.\n",
    "        \n",
    "        <br>\n",
    "        <br>\n",
    "        {product_description} We hope you to enjoy with your family members!!!\n",
    "    </body>\n",
    "</html>\n",
    "\"\"\""
   ]
  },
  {
   "cell_type": "code",
   "execution_count": 4,
   "metadata": {},
   "outputs": [],
   "source": [
    "product_purchase_details = {\n",
    "    'customer_first_name': 'Scott',\n",
    "    'customer_last_name': 'Tiger',\n",
    "    'product_name': 'Prime Video',\n",
    "    'product_subscription': 'quarterly',\n",
    "    'amount_received': '$20',\n",
    "    'product_description': 'You will get access to thousands of movies, exclusive web series as part of this subscription.',\n",
    "    'next_renewal_date': '01 August, 2020'\n",
    "}"
   ]
  },
  {
   "cell_type": "code",
   "execution_count": 5,
   "metadata": {},
   "outputs": [],
   "source": [
    "# Your code should go here.\n",
    "# Update the function.\n",
    "\n",
    "def gen_email_body(BODY_HTML):\n",
    "    # Develop the logic here.\n",
    "    return email_body"
   ]
  },
  {
   "cell_type": "markdown",
   "metadata": {},
   "source": [
    "* Here is the sample output.\n",
    "\n",
    "```html\n",
    "\n",
    "<html>\n",
    "    <head>\n",
    "    </head>\n",
    "    <body>\n",
    "        Dear Scott,\n",
    "        <br>\n",
    "        <br>\n",
    "        Thank you for puchasing the <b>quarterly</b> subscription of <b>Prime Video</b>.\n",
    "        <br>\n",
    "        Your credit card is charged for <b>$20</b> and it will be charged again on <b>01 August, 2020</b>.\n",
    "        \n",
    "        <br>\n",
    "        <br>\n",
    "        You will get access to thousands of movies, exclusive web series as part of this subscription. We hope you to enjoy with your family members!!!\n",
    "    </body>\n",
    "</html>\n",
    "```"
   ]
  },
  {
   "cell_type": "code",
   "execution_count": 7,
   "metadata": {},
   "outputs": [
    {
     "name": "stdout",
     "output_type": "stream",
     "text": [
      "\n",
      "<html>\n",
      "    <head>\n",
      "    </head>\n",
      "    <body>\n",
      "        Dear Scott,\n",
      "        <br>\n",
      "        <br>\n",
      "        Thank you for puchasing the <b>quarterly</b> subscription of <b>Prime Video</b>.\n",
      "        <br>\n",
      "        Your credit card is charged for <b>$20</b> and it will be charged again on <b>01 August, 2020</b>.\n",
      "        \n",
      "        <br>\n",
      "        <br>\n",
      "        You will get access to thousands of movies, exclusive web series as part of this subscription. We hope you to enjoy with your family members!!!\n",
      "    </body>\n",
      "</html>\n",
      "\n"
     ]
    }
   ],
   "source": [
    "print(gen_email_body(BODY_HTML))"
   ]
  },
  {
   "cell_type": "markdown",
   "metadata": {},
   "source": [
    "* Here is how the actual email body will be."
   ]
  },
  {
   "cell_type": "code",
   "execution_count": null,
   "metadata": {},
   "outputs": [],
   "source": [
    "%%HTML\n",
    "\n",
    "\n",
    "<html>\n",
    "    <head>\n",
    "    </head>\n",
    "    <body>\n",
    "        Dear Scott,\n",
    "        <br>\n",
    "        <br>\n",
    "        Thank you for puchasing the <b>quarterly</b> subscription of <b>Prime Video</b>.\n",
    "        <br>\n",
    "        Your credit card is charged for <b>$20</b> and it will be charged again on <b>01 August, 2020</b>.\n",
    "        \n",
    "        <br>\n",
    "        <br>\n",
    "        You will get access to thousands of movies, exclusive web series as part of this subscription. We hope you to enjoy with your family members!!!\n",
    "    </body>\n",
    "</html>"
   ]
  },
  {
   "cell_type": "code",
   "execution_count": null,
   "metadata": {},
   "outputs": [],
   "source": []
  }
 ],
 "metadata": {
  "kernelspec": {
   "display_name": "Python 3",
   "language": "python",
   "name": "python3"
  },
  "language_info": {
   "codemirror_mode": {
    "name": "ipython",
    "version": 3
   },
   "file_extension": ".py",
   "mimetype": "text/x-python",
   "name": "python",
   "nbconvert_exporter": "python",
   "pygments_lexer": "ipython3",
   "version": "3.6.9"
  }
 },
 "nbformat": 4,
 "nbformat_minor": 4
}
