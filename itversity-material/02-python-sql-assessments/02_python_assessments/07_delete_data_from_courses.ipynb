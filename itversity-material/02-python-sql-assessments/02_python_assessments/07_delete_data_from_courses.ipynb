{
 "cells": [
  {
   "cell_type": "markdown",
   "id": "e99f79c9",
   "metadata": {},
   "source": [
    "## Delete Data from Courses\n",
    "\n",
    "As part of this topic, you need to develop the required logic (Step 3 below) to delete the data from the table.\n",
    "* Make sure courses table is created\n",
    "* Validate all courses\n",
    "* Setup data to be deleted\n",
    "* Delete data from the table\n",
    "* Validate data in the table"
   ]
  },
  {
   "cell_type": "code",
   "execution_count": null,
   "id": "4f9bc133",
   "metadata": {},
   "outputs": [],
   "source": [
    "%run 00_get_database_connection.ipynb"
   ]
  },
  {
   "cell_type": "markdown",
   "id": "66a610cc",
   "metadata": {},
   "source": [
    "### Step 1: Make sure courses table is created\n",
    "\n",
    "You need to ensure courses table is created before going further and load data into the table."
   ]
  },
  {
   "cell_type": "code",
   "execution_count": null,
   "id": "132e0f0f",
   "metadata": {},
   "outputs": [],
   "source": [
    "connection = get_pg_connection(\n",
    "    host=postgres_host,\n",
    "    port=postgres_port,\n",
    "    database=f'{username}_sms_db',\n",
    "    user=f'{username}_sms_user',\n",
    "    password=password\n",
    ")"
   ]
  },
  {
   "cell_type": "code",
   "execution_count": null,
   "id": "9abd9ce1",
   "metadata": {},
   "outputs": [],
   "source": [
    "cursor = connection.cursor()"
   ]
  },
  {
   "cell_type": "code",
   "execution_count": null,
   "id": "778fb6c7",
   "metadata": {},
   "outputs": [],
   "source": [
    "cursor.execute(f\"\"\"\n",
    "    SELECT * FROM information_schema.tables \n",
    "    WHERE table_catalog = '{username}_sms_db' AND table_schema = 'public'\n",
    "    LIMIT 10\n",
    "\"\"\")"
   ]
  },
  {
   "cell_type": "code",
   "execution_count": null,
   "id": "bac99f20",
   "metadata": {},
   "outputs": [],
   "source": [
    "for row in cursor:\n",
    "    print(row)"
   ]
  },
  {
   "cell_type": "markdown",
   "id": "996c5150",
   "metadata": {},
   "source": [
    "### Step 2: Validate all courses\n",
    "\n",
    "Let us make sure courses table have all the data."
   ]
  },
  {
   "cell_type": "code",
   "execution_count": null,
   "id": "779f081f",
   "metadata": {},
   "outputs": [],
   "source": [
    "cursor.execute(f\"\"\"\n",
    "    SELECT * FROM courses\n",
    "\"\"\")"
   ]
  },
  {
   "cell_type": "code",
   "execution_count": null,
   "id": "7d457ea5",
   "metadata": {},
   "outputs": [],
   "source": [
    "courses = [course for course in cursor]"
   ]
  },
  {
   "cell_type": "code",
   "execution_count": null,
   "id": "e9b5430b",
   "metadata": {},
   "outputs": [],
   "source": [
    "len(courses) # should return 12"
   ]
  },
  {
   "cell_type": "code",
   "execution_count": null,
   "id": "40c45047",
   "metadata": {},
   "outputs": [],
   "source": [
    "courses # Review the data to make sure that all the records are as expected"
   ]
  },
  {
   "cell_type": "markdown",
   "id": "d4b85aa5",
   "metadata": {},
   "source": [
    "### Step 3: Setup Data to be deleted\n",
    "\n",
    "Let us setup the courses to be deleted. We will create a list which contain courses to be deleted."
   ]
  },
  {
   "cell_type": "code",
   "execution_count": null,
   "id": "c3ceaf9b",
   "metadata": {},
   "outputs": [],
   "source": [
    "courses_to_be_deleted = ['Web Applications - Scala Play', 'Server Automation - Ansible']"
   ]
  },
  {
   "cell_type": "markdown",
   "id": "6a7ac183",
   "metadata": {},
   "source": [
    "### Step 4: Delete data from the table\n",
    "\n",
    "Here you need to develop the logic which will insert the data into the table. Make sure to close connection after loading the data."
   ]
  },
  {
   "cell_type": "code",
   "execution_count": null,
   "id": "49b4ef4e",
   "metadata": {},
   "outputs": [],
   "source": [
    "# Your logic should go here"
   ]
  },
  {
   "cell_type": "markdown",
   "id": "9fa28776",
   "metadata": {},
   "source": [
    "### Step 5: Validate Data\n",
    "\n",
    "Make sure the output only contain 10 records. "
   ]
  },
  {
   "cell_type": "code",
   "execution_count": null,
   "id": "df1c797d",
   "metadata": {},
   "outputs": [],
   "source": [
    "%load_ext sql"
   ]
  },
  {
   "cell_type": "code",
   "execution_count": null,
   "id": "54281318",
   "metadata": {},
   "outputs": [],
   "source": [
    "%env DATABASE_URL=postgresql://{username}_sms_user:{password}@{postgres_host}:{postgres_port}/{username}_sms_db"
   ]
  },
  {
   "cell_type": "code",
   "execution_count": null,
   "id": "298f97b4",
   "metadata": {},
   "outputs": [],
   "source": [
    "%%sql\n",
    "\n",
    "SELECT * FROM courses"
   ]
  },
  {
   "cell_type": "markdown",
   "id": "e5ba48dc",
   "metadata": {},
   "source": [
    "* This query should not return any thing"
   ]
  },
  {
   "cell_type": "code",
   "execution_count": null,
   "id": "f9134302",
   "metadata": {},
   "outputs": [],
   "source": [
    "%%sql\n",
    "\n",
    "SELECT * FROM courses\n",
    "WHERE course_name IN ('Web Applications - Scala Play', 'Server Automation - Ansible')"
   ]
  },
  {
   "cell_type": "code",
   "execution_count": null,
   "id": "d615e670",
   "metadata": {},
   "outputs": [],
   "source": []
  }
 ],
 "metadata": {
  "kernelspec": {
   "display_name": "Python 3",
   "language": "python",
   "name": "python3"
  },
  "language_info": {
   "codemirror_mode": {
    "name": "ipython",
    "version": 3
   },
   "file_extension": ".py",
   "mimetype": "text/x-python",
   "name": "python",
   "nbconvert_exporter": "python",
   "pygments_lexer": "ipython3",
   "version": "3.6.12"
  }
 },
 "nbformat": 4,
 "nbformat_minor": 5
}
