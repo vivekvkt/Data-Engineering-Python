{
 "cells": [
  {
   "cell_type": "markdown",
   "id": "3d16f728",
   "metadata": {},
   "source": [
    "## Load Data into Courses\n",
    "\n",
    "As part of this topic, you need to develop the required logic (Step 3 below) to load the data into the table.\n",
    "* Make sure courses table is created\n",
    "* Setup courses data\n",
    "* Load data into the table\n",
    "* Validate data in the table"
   ]
  },
  {
   "cell_type": "code",
   "execution_count": null,
   "id": "073ded77",
   "metadata": {},
   "outputs": [],
   "source": [
    "%run 00_get_database_connection.ipynb"
   ]
  },
  {
   "cell_type": "markdown",
   "id": "ec6fa418",
   "metadata": {},
   "source": [
    "### Step 1: Make sure courses table is created\n",
    "\n",
    "You need to ensure courses table is created before going further and load data into the table."
   ]
  },
  {
   "cell_type": "code",
   "execution_count": null,
   "id": "53481e12",
   "metadata": {},
   "outputs": [],
   "source": [
    "connection = get_pg_connection(\n",
    "    host=postgres_host,\n",
    "    port=postgres_port,\n",
    "    database=f'{username}_sms_db',\n",
    "    user=f'{username}_sms_user',\n",
    "    password=password\n",
    ")"
   ]
  },
  {
   "cell_type": "code",
   "execution_count": null,
   "id": "b774ecce",
   "metadata": {},
   "outputs": [],
   "source": [
    "cursor = connection.cursor()"
   ]
  },
  {
   "cell_type": "code",
   "execution_count": null,
   "id": "070c05bd",
   "metadata": {},
   "outputs": [],
   "source": [
    "cursor.execute(f\"\"\"\n",
    "    SELECT * FROM information_schema.tables \n",
    "    WHERE table_catalog = '{username}_sms_db' AND table_schema = 'public'\n",
    "    LIMIT 10\n",
    "\"\"\")"
   ]
  },
  {
   "cell_type": "code",
   "execution_count": null,
   "id": "bd16ab11",
   "metadata": {},
   "outputs": [],
   "source": [
    "for row in cursor:\n",
    "    print(row)"
   ]
  },
  {
   "cell_type": "markdown",
   "id": "553f0f12",
   "metadata": {},
   "source": [
    "### Step 2: Setup courses data\n",
    "\n",
    "Let us make sure we have list of tuples which contain course data."
   ]
  },
  {
   "cell_type": "code",
   "execution_count": null,
   "id": "25d1c3fe",
   "metadata": {},
   "outputs": [],
   "source": [
    "courses = [('Programming using Python', 'Bob Dillon', 'published', '2020-09-30'),\n",
    " ('Data Engineering using Python', 'Bob Dillon', 'published', '2020-07-15'),\n",
    " ('Data Engineering using Scala', 'Elvis Presley', 'draft', None),\n",
    " ('Programming using Scala', 'Elvis Presley', 'published', '2020-05-12'),\n",
    " ('Programming using Java', 'Mike Jack', 'inactive', '2020-08-10'),\n",
    " ('Web Applications - Python Flask', 'Bob Dillon', 'inactive', '2020-07-20'),\n",
    " ('Web Applications - Java Spring', 'Mike Jack', 'draft', None),\n",
    " ('Pipeline Orchestration - Python', 'Bob Dillon', 'draft', None),\n",
    " ('Streaming Pipelines - Python', 'Bob Dillon', 'published', '2020-10-05'),\n",
    " ('Web Applications - Scala Play', 'Elvis Presley', 'inactive', '2020-09-30'),\n",
    " ('Web Applications - Python Django', 'Bob Dillon', 'published', '2020-06-23'),\n",
    " ('Server Automation - Ansible', 'Uncle Sam', 'published', '2020-07-05')]"
   ]
  },
  {
   "cell_type": "markdown",
   "id": "4661a7e4",
   "metadata": {},
   "source": [
    "### Step 3: Load Data into the table\n",
    "\n",
    "Here you need to develop the logic which will insert the data into the table. Make sure to close connection after loading the data."
   ]
  },
  {
   "cell_type": "code",
   "execution_count": null,
   "id": "19238528",
   "metadata": {},
   "outputs": [],
   "source": []
  },
  {
   "cell_type": "markdown",
   "id": "748c19ee",
   "metadata": {},
   "source": [
    "### Step 4: Validate Data\n",
    "\n",
    "Compare the output with the input data and make sure that every thing is loaded properly."
   ]
  },
  {
   "cell_type": "code",
   "execution_count": null,
   "id": "fd9ea2c3",
   "metadata": {},
   "outputs": [],
   "source": [
    "%load_ext sql"
   ]
  },
  {
   "cell_type": "code",
   "execution_count": null,
   "id": "9fcb2b40",
   "metadata": {},
   "outputs": [],
   "source": [
    "%env DATABASE_URL=postgresql://{username}_sms_user:{password}@{postgres_host}:{postgres_port}/{username}_sms_db"
   ]
  },
  {
   "cell_type": "code",
   "execution_count": null,
   "id": "ee967e91",
   "metadata": {},
   "outputs": [],
   "source": [
    "%%sql\n",
    "\n",
    "SELECT * FROM courses"
   ]
  },
  {
   "cell_type": "code",
   "execution_count": null,
   "id": "db6aa7fe",
   "metadata": {},
   "outputs": [],
   "source": []
  }
 ],
 "metadata": {
  "kernelspec": {
   "display_name": "Python 3",
   "language": "python",
   "name": "python3"
  },
  "language_info": {
   "codemirror_mode": {
    "name": "ipython",
    "version": 3
   },
   "file_extension": ".py",
   "mimetype": "text/x-python",
   "name": "python",
   "nbconvert_exporter": "python",
   "pygments_lexer": "ipython3",
   "version": "3.6.12"
  }
 },
 "nbformat": 4,
 "nbformat_minor": 5
}
