{
 "cells": [
  {
   "cell_type": "markdown",
   "metadata": {},
   "source": [
    "## Standardization of Dates\n",
    "\n",
    "At times, we might end up getting dates using different formats along with information related to the format using which dates should be interpreted. As part of the database we typically store using one format.\n",
    "\n",
    "**Hint: Use datetime library to format the dates**\n",
    "* Here are the details for formatting date components such as year, month, day etc.\n",
    "  * `%b`: Returns the first three characters of the month name. For example, September will be considered as \"Sep\"\n",
    "  * `%m`: Returns the the month in two-digit format. In our example, Septermber will be considered as 09\n",
    "  * `%d`: Returns day of the month, from 1 to 31. In our example, 5th of the month will be considered as 05\n",
    "  * `%Y`: Returns the year in four-digit format.\n",
    "  * `%H`: Returns the hour, from 00 to 23.\n",
    "  * `%M`: Returns the minute, from 00 to 59.\n",
    "  * `%S`: Returns the second, from 00 to 59. \n",
    "\n",
    "* Here is the sample input data"
   ]
  },
  {
   "cell_type": "code",
   "execution_count": null,
   "metadata": {},
   "outputs": [],
   "source": [
    "dates = [\n",
    "    {'date': '2020-05-21', 'format': 'yyyy-MM-dd'},\n",
    "    {'date': '2021-Feb-28', 'format': 'yyyy-Mon-dd'},\n",
    "    {'date': 20190131, 'format': 'yyyyMMdd'},\n",
    "    {'date': '18-Mar-2018', 'format': 'dd-Mon-yyyy'}\n",
    "]"
   ]
  },
  {
   "cell_type": "markdown",
   "metadata": {},
   "source": [
    "* Create a mapping for above formats with actual python formats"
   ]
  },
  {
   "cell_type": "code",
   "execution_count": null,
   "metadata": {},
   "outputs": [],
   "source": [
    "# The mapping dict goes here\n",
    "format_mapping = {\n",
    "    'yyyy-MM-dd': '%Y-%m-%d',\n",
    "    'yyyy-Mon-dd': '%Y-%b-%d',\n",
    "    'yyyyMMdd': '%Y%m%d',\n",
    "    'dd-Mon-yyyy': '%d-%b-%Y'\n",
    "}"
   ]
  },
  {
   "cell_type": "markdown",
   "metadata": {},
   "source": [
    "* Apply the format to convert to dates and then to the one uniform format - **yyyy-MM-dd**\n",
    "* Develop a function by name **standardize_dates** which take the list and return sorted dates with uniform date format.\n",
    "* The function should take the list of dates and dict for format mapping."
   ]
  },
  {
   "cell_type": "code",
   "execution_count": null,
   "metadata": {},
   "outputs": [],
   "source": [
    "# The logic to format dates to standard format goes here"
   ]
  },
  {
   "cell_type": "code",
   "execution_count": null,
   "metadata": {},
   "outputs": [],
   "source": [
    "standardize_dates(dates, format_mapping)"
   ]
  },
  {
   "cell_type": "markdown",
   "metadata": {},
   "source": [
    "* Here is the expected output"
   ]
  },
  {
   "cell_type": "code",
   "execution_count": null,
   "metadata": {},
   "outputs": [],
   "source": [
    "['2018-03-18', '2019-01-31', '2020-05-21', '2021-02-28']"
   ]
  },
  {
   "cell_type": "code",
   "execution_count": null,
   "metadata": {},
   "outputs": [],
   "source": []
  }
 ],
 "metadata": {
  "kernelspec": {
   "display_name": "Python 3",
   "language": "python",
   "name": "python3"
  },
  "language_info": {
   "codemirror_mode": {
    "name": "ipython",
    "version": 3
   },
   "file_extension": ".py",
   "mimetype": "text/x-python",
   "name": "python",
   "nbconvert_exporter": "python",
   "pygments_lexer": "ipython3",
   "version": "3.6.12"
  }
 },
 "nbformat": 4,
 "nbformat_minor": 4
}
