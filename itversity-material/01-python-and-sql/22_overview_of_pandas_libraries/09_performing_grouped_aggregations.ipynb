{
  "cells": [
    {
      "cell_type": "markdown",
      "metadata": {},
      "source": [
        "## Performing Grouped Aggregations\n",
        "\n",
        "Let us understand how to perform grouped or by key aggregations using Pandas.\n",
        "* Here are the steps we need to follow:\n",
        "  * Make sure data is read into Data Frame.\n",
        "  * Identify the key on which data should be aggregated. If the data has to be aggregated on derived field which is not available as part of the Data Frame, then first we need to update data frame with the derived field.\n",
        "  * Using the key group the values using `groupby` function on data frame. We can only pass column names from Data Frame as part of `groupby`.\n",
        "  * Apply required aggregate functions to get aggregated results based up on the key.\n",
        "* We can apply multiple aggregate functions at a time after creating grouped data frame.\n",
        "* Pandas Data Frame exposes a function called as `rename` to provide aliases to the aggregated fields."
      ]
    },
    {
      "cell_type": "code",
      "execution_count": null,
      "metadata": {},
      "outputs": [],
      "source": [
        "%run 06_csv_to_pandas_data_frame.ipynb"
      ]
    },
    {
      "cell_type": "markdown",
      "metadata": {},
      "source": [
        "* Getting number of orders per day"
      ]
    },
    {
      "cell_type": "code",
      "execution_count": null,
      "metadata": {},
      "outputs": [],
      "source": [
        "orders"
      ]
    },
    {
      "cell_type": "code",
      "execution_count": null,
      "metadata": {},
      "outputs": [],
      "source": [
        "orders.groupby(orders['order_date'])"
      ]
    },
    {
      "cell_type": "code",
      "execution_count": null,
      "metadata": {},
      "outputs": [],
      "source": [
        "list(orders.groupby(orders['order_date'])['order_id'])[:3]"
      ]
    },
    {
      "cell_type": "code",
      "execution_count": null,
      "metadata": {},
      "outputs": [],
      "source": [
        "orders.groupby(orders['order_date'])['order_id'].count()"
      ]
    },
    {
      "cell_type": "markdown",
      "metadata": {},
      "source": [
        "* Getting number of orders per status"
      ]
    },
    {
      "cell_type": "code",
      "execution_count": null,
      "metadata": {},
      "outputs": [],
      "source": [
        "orders.groupby('order_status')['order_status'].count()"
      ]
    },
    {
      "cell_type": "markdown",
      "metadata": {},
      "source": [
        "* Computing revenue per order"
      ]
    },
    {
      "cell_type": "code",
      "execution_count": null,
      "metadata": {},
      "outputs": [],
      "source": [
        "order_items"
      ]
    },
    {
      "cell_type": "code",
      "execution_count": null,
      "metadata": {},
      "outputs": [],
      "source": [
        "list(order_items. \\\n",
        "    groupby('order_item_order_id')['order_item_subtotal'])[:5]"
      ]
    },
    {
      "cell_type": "code",
      "execution_count": null,
      "metadata": {},
      "outputs": [],
      "source": [
        "order_items. \\\n",
        "    groupby('order_item_order_id')['order_item_subtotal']. \\\n",
        "    sum()"
      ]
    },
    {
      "cell_type": "code",
      "execution_count": null,
      "metadata": {},
      "outputs": [],
      "source": [
        "order_items. \\\n",
        "    groupby('order_item_order_id')['order_item_subtotal']. \\\n",
        "    agg(['sum', 'min', 'max', 'count'])"
      ]
    },
    {
      "cell_type": "code",
      "execution_count": null,
      "metadata": {},
      "outputs": [],
      "source": [
        "order_items. \\\n",
        "    groupby('order_item_order_id')['order_item_subtotal']. \\\n",
        "    agg(['sum', 'min', 'max', 'count']). \\\n",
        "    rename(columns={'count': 'item_count', 'sum': 'revenue'})"
      ]
    },
    {
      "cell_type": "code",
      "execution_count": null,
      "metadata": {},
      "outputs": [],
      "source": [
        "order_items.rename(columns={'order_item_order_id': 'order_id'})"
      ]
    },
    {
      "cell_type": "markdown",
      "metadata": {},
      "source": [
        "### Task 1\n",
        "\n",
        "Get order_item_count and order_revenue for each order_id."
      ]
    },
    {
      "cell_type": "code",
      "execution_count": null,
      "metadata": {},
      "outputs": [],
      "source": [
        "order_items"
      ]
    },
    {
      "cell_type": "code",
      "execution_count": null,
      "metadata": {},
      "outputs": [],
      "source": [
        "order_items. \\\n",
        "    groupby('order_item_order_id')['order_item_subtotal']. \\\n",
        "    agg(['sum', 'count']). \\\n",
        "    rename(columns={'sum': 'order_revenue', 'count': 'order_item_count'}). \\\n",
        "    reset_index()"
      ]
    },
    {
      "cell_type": "markdown",
      "metadata": {},
      "source": [
        "### Task 2\n",
        "\n",
        "Get order count by month using orders data for specific order_status."
      ]
    },
    {
      "cell_type": "code",
      "execution_count": null,
      "metadata": {},
      "outputs": [],
      "source": [
        "orders"
      ]
    },
    {
      "cell_type": "code",
      "execution_count": null,
      "metadata": {},
      "outputs": [],
      "source": [
        "orders.order_date.str.slice(0, 7)"
      ]
    },
    {
      "cell_type": "code",
      "execution_count": null,
      "metadata": {},
      "outputs": [],
      "source": [
        "orders['order_month'] = orders.order_date.str.slice(0, 7)"
      ]
    },
    {
      "cell_type": "code",
      "execution_count": null,
      "metadata": {},
      "outputs": [],
      "source": [
        "orders"
      ]
    },
    {
      "cell_type": "code",
      "execution_count": null,
      "metadata": {},
      "outputs": [],
      "source": [
        "orders.query('order_status == \"COMPLETE\"'). \\\n",
        "    groupby('order_month')['order_id']. \\\n",
        "    count(). \\\n",
        "    sort_index()"
      ]
    },
    {
      "cell_type": "markdown",
      "metadata": {},
      "source": [
        "### Task 3\n",
        "\n",
        "Get order_revenue and order_quantity for each order_id. Add quantity of all items for each order_id to get order_quantity."
      ]
    },
    {
      "cell_type": "code",
      "execution_count": null,
      "metadata": {},
      "outputs": [],
      "source": [
        "order_metrics = order_items. \\\n",
        "    groupby('order_item_order_id')[['order_item_subtotal', 'order_item_quantity']]. \\\n",
        "    agg(['sum'])"
      ]
    },
    {
      "cell_type": "code",
      "execution_count": null,
      "metadata": {},
      "outputs": [],
      "source": [
        "order_metrics.columns = ['order_revenue', 'order_quantity']"
      ]
    },
    {
      "cell_type": "code",
      "execution_count": null,
      "metadata": {},
      "outputs": [],
      "source": [
        "order_metrics"
      ]
    }
  ],
  "metadata": {
    "kernelspec": {
      "display_name": "Python 3",
      "language": "python",
      "name": "python3"
    },
    "language_info": {
      "codemirror_mode": {
        "name": "ipython",
        "version": 3
      },
      "file_extension": ".py",
      "mimetype": "text/x-python",
      "name": "python",
      "nbconvert_exporter": "python",
      "pygments_lexer": "ipython3",
      "version": "3.6.12"
    }
  },
  "nbformat": 4,
  "nbformat_minor": 4
}