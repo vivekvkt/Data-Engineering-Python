{
  "cells": [
    {
      "cell_type": "markdown",
      "metadata": {},
      "source": [
        "## Joining Data Frames\n",
        "\n",
        "Let us understand how to join Data Frames using Pandas."
      ]
    },
    {
      "cell_type": "code",
      "execution_count": null,
      "metadata": {},
      "outputs": [],
      "source": [
        "%run 06_csv_to_pandas_data_frame.ipynb"
      ]
    },
    {
      "cell_type": "code",
      "execution_count": null,
      "metadata": {},
      "outputs": [],
      "source": [
        "orders"
      ]
    },
    {
      "cell_type": "code",
      "execution_count": null,
      "metadata": {},
      "outputs": [],
      "source": [
        "order_items"
      ]
    },
    {
      "cell_type": "markdown",
      "metadata": {},
      "source": [
        "* Join orders and order_items using orders.order_id and order_items.order_item_order_id."
      ]
    },
    {
      "cell_type": "code",
      "execution_count": null,
      "metadata": {},
      "outputs": [],
      "source": [
        "orders.join?"
      ]
    },
    {
      "cell_type": "code",
      "execution_count": null,
      "metadata": {},
      "outputs": [],
      "source": [
        "orders.set_index('order_id')"
      ]
    },
    {
      "cell_type": "code",
      "execution_count": null,
      "metadata": {},
      "outputs": [],
      "source": [
        "order_items.set_index('order_item_order_id')"
      ]
    },
    {
      "cell_type": "code",
      "execution_count": null,
      "metadata": {},
      "outputs": [],
      "source": [
        "# Join orders and order_items using order_id (order_item_order_id from order_items)\n",
        "orders.set_index('order_id'). \\\n",
        "    join(order_items.set_index('order_item_order_id'))"
      ]
    },
    {
      "cell_type": "code",
      "execution_count": null,
      "metadata": {},
      "outputs": [],
      "source": [
        "orders.set_index('order_id'). \\\n",
        "    join(order_items.set_index('order_item_order_id'), how='inner')"
      ]
    },
    {
      "cell_type": "code",
      "execution_count": null,
      "metadata": {},
      "outputs": [],
      "source": [
        "orders.set_index('order_id'). \\\n",
        "    join(order_items.set_index('order_item_order_id'), how='inner'). \\\n",
        "    reset_index()"
      ]
    },
    {
      "cell_type": "code",
      "execution_count": null,
      "metadata": {},
      "outputs": [],
      "source": [
        "orders.set_index('order_id'). \\\n",
        "    join(order_items.set_index('order_item_order_id'), how='inner'). \\\n",
        "    reset_index(). \\\n",
        "    rename(columns={'index': 'order_id'})"
      ]
    },
    {
      "cell_type": "markdown",
      "metadata": {},
      "source": [
        "### Task 1\n",
        "Compute Daily Revenue using orders.order_date and order_items.order_item_order_subtotal considering only COMPLETE and CLOSED orders.\n",
        "* Here are the steps to join orders and order_items and get daily revenue.\n",
        "  * Create Data Frames for both orders and order_items using data in files.\n",
        "  * Filter for orders which are either in **COMPLETE** or **CLOSED** status.\n",
        "  * Set the join index for both the Data Frames.\n",
        "  * Join both the Data Frames using `inner`.\n",
        "  * Group the join results using **order_date** and get daily revenue by using `sum` on top of **order_item_subtotal**."
      ]
    },
    {
      "cell_type": "code",
      "execution_count": null,
      "metadata": {},
      "outputs": [],
      "source": [
        "orders_considered = orders.query(\"order_status in ('COMPLETE', 'CLOSED')\")"
      ]
    },
    {
      "cell_type": "code",
      "execution_count": null,
      "metadata": {},
      "outputs": [],
      "source": [
        "orders_filtered = orders[orders.order_status.isin([\"COMPLETE\", \"CLOSED\"])]"
      ]
    },
    {
      "cell_type": "code",
      "execution_count": null,
      "metadata": {},
      "outputs": [],
      "source": [
        "orders_considered. \\\n",
        "    set_index('order_id'). \\\n",
        "    join(order_items.set_index('order_item_order_id'), how='inner'). \\\n",
        "    groupby('order_date')['order_item_subtotal']. \\\n",
        "    agg(['sum']). \\\n",
        "    rename(columns={'sum': 'revenue'})"
      ]
    },
    {
      "cell_type": "markdown",
      "metadata": {},
      "source": [
        "### Task 2\n",
        "Get all the orders for which there are no corresponding order items.\n",
        "* We can use default join (`left`) to get orders with out corresponding order items."
      ]
    },
    {
      "cell_type": "code",
      "execution_count": null,
      "metadata": {},
      "outputs": [],
      "source": [
        "orders.set_index('order_id'). \\\n",
        "    join(order_items.set_index('order_item_order_id'))"
      ]
    },
    {
      "cell_type": "code",
      "execution_count": null,
      "metadata": {},
      "outputs": [],
      "source": [
        "orders.set_index('order_id'). \\\n",
        "    join(order_items.set_index('order_item_order_id')). \\\n",
        "    query('order_item_id.isna()')"
      ]
    },
    {
      "cell_type": "code",
      "execution_count": null,
      "metadata": {},
      "outputs": [],
      "source": [
        "orders_joined = orders.set_index('order_id'). \\\n",
        "    join(order_items.set_index('order_item_order_id'))"
      ]
    },
    {
      "cell_type": "code",
      "execution_count": null,
      "metadata": {},
      "outputs": [],
      "source": [
        "orders_joined[orders_joined['order_item_id'].isna()]"
      ]
    },
    {
      "cell_type": "markdown",
      "metadata": {},
      "source": [
        "### Task 3\n",
        "Compute Daily Product Revenue using orders.order_date as well as order_items.order_item_product_id and order_items.order_item_order_subtotal considering only COMPLETE and CLOSED orders."
      ]
    },
    {
      "cell_type": "code",
      "execution_count": null,
      "metadata": {},
      "outputs": [],
      "source": [
        "orders_considered = orders.query(\"order_status in ('COMPLETE', 'CLOSED')\")"
      ]
    },
    {
      "cell_type": "code",
      "execution_count": null,
      "metadata": {},
      "outputs": [],
      "source": [
        "orders_filtered = orders[orders.order_status.isin([\"COMPLETE\", \"CLOSED\"])]"
      ]
    },
    {
      "cell_type": "code",
      "execution_count": null,
      "metadata": {},
      "outputs": [],
      "source": [
        "orders_considered. \\\n",
        "    set_index('order_id'). \\\n",
        "    join(order_items.set_index('order_item_order_id'), how='inner')"
      ]
    },
    {
      "cell_type": "code",
      "execution_count": null,
      "metadata": {},
      "outputs": [],
      "source": [
        "orders_considered. \\\n",
        "    set_index('order_id'). \\\n",
        "    join(order_items.set_index('order_item_order_id'), how='inner'). \\\n",
        "    groupby(['order_date', 'order_item_product_id'])['order_item_subtotal']"
      ]
    },
    {
      "cell_type": "code",
      "execution_count": null,
      "metadata": {},
      "outputs": [],
      "source": [
        "list(orders_considered. \\\n",
        "    set_index('order_id'). \\\n",
        "    join(order_items.set_index('order_item_order_id'), how='inner'). \\\n",
        "    groupby(['order_date', 'order_item_product_id'])['order_item_subtotal'])[:10]"
      ]
    },
    {
      "cell_type": "code",
      "execution_count": null,
      "metadata": {},
      "outputs": [],
      "source": [
        "orders_considered. \\\n",
        "    set_index('order_id'). \\\n",
        "    join(order_items.set_index('order_item_order_id'), how='inner'). \\\n",
        "    groupby(['order_date', 'order_item_product_id'])['order_item_subtotal']. \\\n",
        "    agg(['sum']). \\\n",
        "    rename(columns={'sum': 'revenue'})"
      ]
    },
    {
      "cell_type": "code",
      "execution_count": null,
      "metadata": {},
      "outputs": [],
      "source": [
        "orders_considered. \\\n",
        "    set_index('order_id'). \\\n",
        "    join(order_items.set_index('order_item_order_id'), how='inner'). \\\n",
        "    groupby(['order_date', 'order_item_product_id'])['order_item_subtotal']. \\\n",
        "    agg(['sum']). \\\n",
        "    rename(columns={'sum': 'revenue'}). \\\n",
        "    reset_index()"
      ]
    }
  ],
  "metadata": {
    "kernelspec": {
      "display_name": "Python 3",
      "language": "python",
      "name": "python3"
    },
    "language_info": {
      "codemirror_mode": {
        "name": "ipython",
        "version": 3
      },
      "file_extension": ".py",
      "mimetype": "text/x-python",
      "name": "python",
      "nbconvert_exporter": "python",
      "pygments_lexer": "ipython3",
      "version": "3.6.12"
    }
  },
  "nbformat": 4,
  "nbformat_minor": 4
}