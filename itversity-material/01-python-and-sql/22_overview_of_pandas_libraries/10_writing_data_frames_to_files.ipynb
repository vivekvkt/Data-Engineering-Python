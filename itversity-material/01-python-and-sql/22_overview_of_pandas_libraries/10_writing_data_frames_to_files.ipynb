{
 "cells": [
  {
   "cell_type": "markdown",
   "metadata": {},
   "source": [
    "## Writing Data Frames to Files\n",
    "\n",
    "Pandas also provides simple APIs to write the data back to files.\n",
    "* Let us write the revenue per order along with order_id to a file.\n",
    "\n",
    "Here are the steps which you need to follow before writing Data Frame to a file.\n",
    "* Make sure you have the Data Frame that is supposed to be written to file.\n",
    "* You need to ensure that you have write permissions on the folder under which files are supposed to be written.\n",
    "* Make sure to use appropriate key word arguments to write the Data Frame into file as per the requirements."
   ]
  },
  {
   "cell_type": "code",
   "execution_count": null,
   "metadata": {},
   "outputs": [],
   "source": [
    "%run 06_csv_to_pandas_data_frame.ipynb"
   ]
  },
  {
   "cell_type": "code",
   "execution_count": null,
   "metadata": {},
   "outputs": [],
   "source": [
    "order_items.to_csv?"
   ]
  },
  {
   "cell_type": "code",
   "execution_count": null,
   "metadata": {},
   "outputs": [],
   "source": [
    "import getpass\n",
    "username = getpass.getuser()"
   ]
  },
  {
   "cell_type": "code",
   "execution_count": null,
   "metadata": {},
   "outputs": [],
   "source": [
    "username"
   ]
  },
  {
   "cell_type": "code",
   "execution_count": null,
   "metadata": {},
   "outputs": [],
   "source": [
    "base_dir = f\"/home/{username}/data/retail_db\"\n",
    "base_dir"
   ]
  },
  {
   "cell_type": "code",
   "execution_count": null,
   "metadata": {},
   "outputs": [],
   "source": [
    "output_dir = f'{base_dir}/revenue_per_order'\n",
    "output_dir"
   ]
  },
  {
   "cell_type": "code",
   "execution_count": null,
   "metadata": {},
   "outputs": [],
   "source": [
    "%%sh\n",
    "\n",
    "rm -rf /home/`whoami`/data/retail_db/revenue_per_order"
   ]
  },
  {
   "cell_type": "code",
   "execution_count": null,
   "metadata": {},
   "outputs": [],
   "source": [
    "%%sh\n",
    "\n",
    "ls -ltr /home/`whoami`/data/retail_db"
   ]
  },
  {
   "cell_type": "code",
   "execution_count": null,
   "metadata": {},
   "outputs": [],
   "source": [
    "import subprocess\n",
    "\n",
    "subprocess.call(['rm', '-rf', output_dir])"
   ]
  },
  {
   "cell_type": "code",
   "execution_count": null,
   "metadata": {},
   "outputs": [],
   "source": [
    "import subprocess\n",
    "\n",
    "subprocess.call(['mkdir', '-p', output_dir])"
   ]
  },
  {
   "cell_type": "code",
   "execution_count": null,
   "metadata": {},
   "outputs": [],
   "source": [
    "import subprocess\n",
    "#ls -ltr /Users/itversity/Research/data/retail_db/revenue_per_order\n",
    "subprocess.check_output(['ls', '-ltr', output_dir])"
   ]
  },
  {
   "cell_type": "code",
   "execution_count": null,
   "metadata": {},
   "outputs": [],
   "source": [
    "%%sh\n",
    "ls -ltr /data/retail_db"
   ]
  },
  {
   "cell_type": "code",
   "execution_count": null,
   "metadata": {},
   "outputs": [],
   "source": [
    "orders"
   ]
  },
  {
   "cell_type": "code",
   "execution_count": null,
   "metadata": {},
   "outputs": [],
   "source": [
    "order_items"
   ]
  },
  {
   "cell_type": "code",
   "execution_count": null,
   "metadata": {},
   "outputs": [],
   "source": [
    "order_items. \\\n",
    "    groupby('order_item_order_id')['order_item_subtotal']. \\\n",
    "    agg(['sum', 'min', 'max', 'count'])"
   ]
  },
  {
   "cell_type": "code",
   "execution_count": null,
   "metadata": {},
   "outputs": [],
   "source": [
    "order_items"
   ]
  },
  {
   "cell_type": "code",
   "execution_count": null,
   "metadata": {},
   "outputs": [],
   "source": [
    "order_items. \\\n",
    "    groupby('order_item_order_id')['order_item_subtotal']. \\\n",
    "    agg(['sum', 'min', 'max', 'count']). \\\n",
    "    reset_index()"
   ]
  },
  {
   "cell_type": "code",
   "execution_count": null,
   "metadata": {},
   "outputs": [],
   "source": [
    "order_items. \\\n",
    "    groupby('order_item_order_id')['order_item_subtotal']. \\\n",
    "    agg(['sum', 'min', 'max', 'count']). \\\n",
    "    rename(columns={'count': 'item_count', 'sum': 'revenue'}). \\\n",
    "    to_json(f'{output_dir}/revenue_per_order.json', orient='table')"
   ]
  },
  {
   "cell_type": "code",
   "execution_count": null,
   "metadata": {},
   "outputs": [],
   "source": [
    "%%sh\n",
    "ls -ltr /home/`whoami`/data/retail_db/revenue_per_order"
   ]
  },
  {
   "cell_type": "code",
   "execution_count": null,
   "metadata": {},
   "outputs": [],
   "source": [
    "%%sh\n",
    "head -10 /home/`whoami`/data/retail_db/revenue_per_order/revenue_per_order.json"
   ]
  },
  {
   "cell_type": "code",
   "execution_count": null,
   "metadata": {},
   "outputs": [],
   "source": [
    "order_items. \\\n",
    "    groupby('order_item_order_id')['order_item_subtotal']. \\\n",
    "    agg(['sum', 'min', 'max', 'count']). \\\n",
    "    rename(columns={'count': 'item_count', 'sum': 'revenue'})"
   ]
  },
  {
   "cell_type": "code",
   "execution_count": null,
   "metadata": {},
   "outputs": [],
   "source": [
    "order_items. \\\n",
    "    groupby('order_item_order_id')['order_item_subtotal']. \\\n",
    "    agg(['sum', 'min', 'max', 'count']). \\\n",
    "    rename(columns={'count': 'item_count', 'sum': 'revenue'}). \\\n",
    "    round(2). \\\n",
    "    to_csv(output_dir + '/revenue_per_order.csv')"
   ]
  },
  {
   "cell_type": "code",
   "execution_count": null,
   "metadata": {},
   "outputs": [],
   "source": [
    "%%sh\n",
    "ls -ltr /home/`whoami`/data/retail_db/revenue_per_order"
   ]
  },
  {
   "cell_type": "code",
   "execution_count": null,
   "metadata": {},
   "outputs": [],
   "source": [
    "%%sh\n",
    "head /home/`whoami`/data/retail_db/revenue_per_order/revenue_per_order.csv"
   ]
  }
 ],
 "metadata": {
  "kernelspec": {
   "display_name": "Python 3 (ipykernel)",
   "language": "python",
   "name": "python3"
  },
  "language_info": {
   "codemirror_mode": {
    "name": "ipython",
    "version": 3
   },
   "file_extension": ".py",
   "mimetype": "text/x-python",
   "name": "python",
   "nbconvert_exporter": "python",
   "pygments_lexer": "ipython3",
   "version": "3.8.12"
  }
 },
 "nbformat": 4,
 "nbformat_minor": 4
}
