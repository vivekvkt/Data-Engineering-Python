{
  "cells": [
    {
      "cell_type": "markdown",
      "metadata": {},
      "source": [
        "## Pandas Data Structures \u2013 Overview\n",
        "\n",
        "Let us understand the details with respect to Pandas.\n",
        "* Pandas is not a core Python module and hence we need to install using pip - `pip install pandas`.\n",
        "* It has 2 types of data structures - `Series` and `DataFrame`.\n",
        "* `Series` is a one dimension array while `DataFrame` is a two dimension array.\n",
        "* `Series` only contains index for each row and one attribute or column.\n",
        "* `DataFrame` contains index for each row and multiple columns.\n",
        "* Each attribute in the DataFrame is nothing but a Series.\n",
        "* We can perform all standard transformations using Pandas APIs\n",
        "* We also have SQL based wrappers on top of Pandas where we can write queries.",
        "Here are the steps to get started with Pandas Data Structures:\n",
        "* Make sure Pandas library is installed using `pip`.\n",
        "* Import Pandas library - `import pandas as pd`\n",
        "* We need to have a collection or data in a file to create Pandas Data Structures.\n",
        "* Use appropriate APIs on the data to create Pandas Data Structures.\n",
        "  * `Series` for single dimension array.\n",
        "  * `DataFrame` for two dimension array.\n",
        "\n",
        "```{note}\n",
        "Typically we use `Series` for list of regular objects or dict and `DataFrame` for list of tuples or list of dicts. Let us use list for `Series` and list of dicts for `DataFrame`.\n",
        "```"
      ]
    },
    {
      "cell_type": "code",
      "execution_count": null,
      "metadata": {},
      "outputs": [],
      "source": [
        "!pip install pandas"
      ]
    },
    {
      "cell_type": "code",
      "execution_count": null,
      "metadata": {},
      "outputs": [],
      "source": [
        "import pandas as pd"
      ]
    },
    {
      "cell_type": "code",
      "execution_count": null,
      "metadata": {},
      "outputs": [],
      "source": [
        "sals_l = [1500.0, 2000.0, 2200.00]"
      ]
    },
    {
      "cell_type": "code",
      "execution_count": null,
      "metadata": {},
      "outputs": [],
      "source": [
        "pd.Series?"
      ]
    },
    {
      "cell_type": "code",
      "execution_count": null,
      "metadata": {},
      "outputs": [],
      "source": [
        "sals_s = pd.Series(sals_l, name='sal')"
      ]
    },
    {
      "cell_type": "code",
      "execution_count": null,
      "metadata": {},
      "outputs": [],
      "source": [
        "sals_s"
      ]
    },
    {
      "cell_type": "code",
      "execution_count": null,
      "metadata": {},
      "outputs": [],
      "source": [
        "sals_s[:2]"
      ]
    },
    {
      "cell_type": "code",
      "execution_count": null,
      "metadata": {},
      "outputs": [],
      "source": [
        "sals_ld = [(1, 1500.0), (2, 2000.0), (3, 2200.00)]"
      ]
    },
    {
      "cell_type": "code",
      "execution_count": null,
      "metadata": {},
      "outputs": [],
      "source": [
        "pd.DataFrame?"
      ]
    },
    {
      "cell_type": "code",
      "execution_count": null,
      "metadata": {},
      "outputs": [],
      "source": [
        "sals_df = pd.DataFrame(sals_ld, columns=['id', 'sal'])"
      ]
    },
    {
      "cell_type": "code",
      "execution_count": null,
      "metadata": {},
      "outputs": [],
      "source": [
        "sals_df"
      ]
    },
    {
      "cell_type": "code",
      "execution_count": null,
      "metadata": {},
      "outputs": [],
      "source": [
        "sals_df['id']"
      ]
    },
    {
      "cell_type": "code",
      "execution_count": null,
      "metadata": {},
      "outputs": [],
      "source": []
    }
  ],
  "metadata": {
    "kernelspec": {
      "display_name": "Python 3",
      "language": "python",
      "name": "python3"
    },
    "language_info": {
      "codemirror_mode": {
        "name": "ipython",
        "version": 3
      },
      "file_extension": ".py",
      "mimetype": "text/x-python",
      "name": "python",
      "nbconvert_exporter": "python",
      "pygments_lexer": "ipython3",
      "version": "3.6.12"
    }
  },
  "nbformat": 4,
  "nbformat_minor": 4
}