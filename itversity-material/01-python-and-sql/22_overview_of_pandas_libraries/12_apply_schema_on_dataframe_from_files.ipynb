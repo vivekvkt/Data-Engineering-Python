{
 "cells": [
  {
   "cell_type": "markdown",
   "id": "6e2b87bb",
   "metadata": {},
   "source": [
    "## Apply Schema on the dataframe from files\n",
    "\n",
    "Let us understand how to apply schema while creating the data frame. \n",
    "* In many cases, data files might not contain the metadata such as column names, data types, etc.\n",
    "* We might get the data metadata in the form of separate files. Also, it is common that metadata is available via Database Tables or REST based schema registries.\n",
    "* We need to make sure that the metadata (schema) is applied on the data as part of data processing.\n",
    "\n",
    "In this case data files are available under **/data/retail_db**, the json file with metadata is available under **schemas/retail_db/retail.json**."
   ]
  },
  {
   "cell_type": "code",
   "execution_count": null,
   "id": "761cf36d-640a-43c5-af24-cc56446a6cbf",
   "metadata": {},
   "outputs": [],
   "source": [
    "!ls -ltr /data/retail_db"
   ]
  },
  {
   "cell_type": "code",
   "execution_count": null,
   "id": "55a6fa98-a3e6-4d2a-ba3f-0a0103ef03ab",
   "metadata": {},
   "outputs": [],
   "source": [
    "!ls -ltr schemas/retail_db/retail.json"
   ]
  },
  {
   "cell_type": "code",
   "execution_count": null,
   "id": "1693333e-59d1-4779-bda2-1e5ffd019758",
   "metadata": {},
   "outputs": [],
   "source": [
    "!cat schemas/retail_db/retail.json"
   ]
  },
  {
   "cell_type": "code",
   "execution_count": null,
   "id": "ea7879ae-02c7-494a-8114-b4a4c574bdd3",
   "metadata": {},
   "outputs": [],
   "source": [
    "!ls -ltr /data/retail_db/orders"
   ]
  },
  {
   "cell_type": "code",
   "execution_count": null,
   "id": "983977f2-4189-48e0-bba5-3d38eec851f3",
   "metadata": {},
   "outputs": [],
   "source": [
    "# Read orders data into list of strings\n",
    "\n",
    "orders_path = '/data/retail_db/orders/part-00000'\n",
    "orders = open(orders_path). \\\n",
    "    read(). \\\n",
    "    splitlines()"
   ]
  },
  {
   "cell_type": "code",
   "execution_count": null,
   "id": "9b764182-e2ae-4182-b87d-f16daec5147e",
   "metadata": {},
   "outputs": [],
   "source": [
    "orders[:10]"
   ]
  },
  {
   "cell_type": "code",
   "execution_count": null,
   "id": "550389be-0143-4568-acc9-7a2a3958298a",
   "metadata": {},
   "outputs": [],
   "source": [
    "# Load schemas into dict using json\n",
    "\n",
    "import json\n",
    "retail_schemas = json.load(open('schemas/retail_db/retail.json'))"
   ]
  },
  {
   "cell_type": "code",
   "execution_count": null,
   "id": "fd86c840-dab5-40f3-9ead-a17d62264c2d",
   "metadata": {},
   "outputs": [],
   "source": [
    "retail_schemas"
   ]
  },
  {
   "cell_type": "code",
   "execution_count": null,
   "id": "4a876fa4-bb91-4627-a69f-e398d9eadbaa",
   "metadata": {},
   "outputs": [],
   "source": [
    "# Get the schema for relevant data set\n",
    "\n",
    "retail_schemas['orders']"
   ]
  },
  {
   "cell_type": "code",
   "execution_count": null,
   "id": "40399998-8013-4fb9-8966-34dead3b2b6b",
   "metadata": {},
   "outputs": [],
   "source": [
    "# Fetch the column names\n",
    "\n",
    "columns = list(map(lambda col: col['column_name'], retail_schemas['orders']))"
   ]
  },
  {
   "cell_type": "code",
   "execution_count": null,
   "id": "70851606-60de-4e58-ac1b-bd641e905221",
   "metadata": {},
   "outputs": [],
   "source": [
    "columns"
   ]
  },
  {
   "cell_type": "code",
   "execution_count": null,
   "id": "61bd5897-657b-4b8b-b429-9beec01d6e83",
   "metadata": {},
   "outputs": [],
   "source": [
    "import pandas as pd"
   ]
  },
  {
   "cell_type": "code",
   "execution_count": null,
   "id": "7e653bd6-43c7-4a0c-9457-4b39d0fbb6bd",
   "metadata": {},
   "outputs": [],
   "source": [
    "pd.read_csv('/data/retail_db/orders/part-00000', names=columns)"
   ]
  },
  {
   "cell_type": "code",
   "execution_count": null,
   "id": "22b4f218-3577-433f-b575-25f770b9e8ca",
   "metadata": {},
   "outputs": [],
   "source": [
    "pd.DataFrame(map(lambda rec: rec.split(','), orders), columns=columns)"
   ]
  },
  {
   "cell_type": "code",
   "execution_count": null,
   "id": "4db388af-a870-4619-898b-ed91d1815b47",
   "metadata": {},
   "outputs": [],
   "source": [
    "import os\n",
    "import json\n",
    "import csv\n",
    "import pandas as pd\n",
    "\n",
    "def get_df(base_folder, data_set_name, schema_file):\n",
    "    file_names = os.listdir(f'{base_folder}/{data_set_name}')\n",
    "    retail_schemas = json.load(open(schema_file))\n",
    "    columns = list(map(lambda col: col['column_name'], retail_schemas[data_set_name]))\n",
    "    data = []\n",
    "    for file_name in file_names:\n",
    "        file_path = f'{base_folder}/{data_set_name}/{file_name}'\n",
    "        raw_data = open(file_path)\n",
    "        data += list(raw_data)\n",
    "    return pd.DataFrame(map(lambda rec: rec.split(','), data), columns=columns)"
   ]
  },
  {
   "cell_type": "code",
   "execution_count": null,
   "id": "f6f3c560-a700-4cc3-84e8-cca26198799f",
   "metadata": {},
   "outputs": [],
   "source": [
    "orders = get_df('/data/retail_db', 'orders', 'schemas/retail_db/retail.json')"
   ]
  },
  {
   "cell_type": "code",
   "execution_count": null,
   "id": "8197352f-2da2-48b8-aa8c-17e98c1eb636",
   "metadata": {},
   "outputs": [],
   "source": [
    "order_items = get_df('/data/retail_db', 'order_items', 'schemas/retail_db/retail.json')"
   ]
  },
  {
   "cell_type": "code",
   "execution_count": null,
   "id": "97e1ae49-581f-4412-bf75-a4a962f0cd72",
   "metadata": {},
   "outputs": [],
   "source": [
    "customers = get_df('/data/retail_db', 'customers', 'schemas/retail_db/retail.json')"
   ]
  }
 ],
 "metadata": {
  "kernelspec": {
   "display_name": "Python 3 (ipykernel)",
   "language": "python",
   "name": "python3"
  },
  "language_info": {
   "codemirror_mode": {
    "name": "ipython",
    "version": 3
   },
   "file_extension": ".py",
   "mimetype": "text/x-python",
   "name": "python",
   "nbconvert_exporter": "python",
   "pygments_lexer": "ipython3",
   "version": "3.8.12"
  }
 },
 "nbformat": 4,
 "nbformat_minor": 5
}
