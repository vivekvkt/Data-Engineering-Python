{
 "cells": [
  {
   "cell_type": "markdown",
   "id": "1a49333d",
   "metadata": {},
   "source": [
    "## Sorting list of delimited strings\n",
    "\n",
    "Let us perform a task to sort employees based upon their salary using employees list.\n",
    "* We will create employee list in the form of comma separated or delimited strings.\n",
    "* Employee list will contain employee id, email and salary."
   ]
  },
  {
   "cell_type": "code",
   "execution_count": null,
   "id": "25c56875",
   "metadata": {},
   "outputs": [],
   "source": [
    "employees = [\n",
    "    '1,ktrett0@independent.co.uk,6998.95',\n",
    "    '2,khaddock1@deviantart.com,10572.4',\n",
    "    '3,ecraft2@dell.com,3967.35',\n",
    "    '4,drussam3@t-online.de,17672.44',\n",
    "    '5,graigatt4@github.io,11660.67',\n",
    "    '6,bjaxon5@salon.com,18614.93',\n",
    "    '7,araulston6@list-manage.com,11550.75',\n",
    "    '8,mcobb7@mozilla.com,17016.15',\n",
    "    '9,grobardley8@unesco.org,14141.25',\n",
    "    '10,bbuye9@vkontakte.ru,12193.2'\n",
    "]"
   ]
  },
  {
   "cell_type": "code",
   "execution_count": null,
   "id": "7fcd3d13-83d9-4e61-a664-21f1521f0f84",
   "metadata": {},
   "outputs": [],
   "source": [
    "type(employees)"
   ]
  },
  {
   "cell_type": "code",
   "execution_count": null,
   "id": "3a3caca6-8a3c-4945-bafb-fe7e99fbc456",
   "metadata": {},
   "outputs": [],
   "source": [
    "employees[0]"
   ]
  },
  {
   "cell_type": "markdown",
   "id": "b1e49e19",
   "metadata": {},
   "source": [
    "* We need to sort the data by comparing salaries between employees.\n",
    "* We can define custom comparison logic using `key` argument.\n",
    "* Each element or record in the list is comma seperated.\n",
    "* We need to extract the salary as float for right comparison.\n",
    "* Here is how we can extract the salary."
   ]
  },
  {
   "cell_type": "code",
   "execution_count": null,
   "id": "d0ee089f",
   "metadata": {},
   "outputs": [],
   "source": [
    "# Reading first element\n",
    "employees[0]"
   ]
  },
  {
   "cell_type": "code",
   "execution_count": null,
   "id": "6082a791",
   "metadata": {},
   "outputs": [],
   "source": [
    "emp = employees[0]"
   ]
  },
  {
   "cell_type": "code",
   "execution_count": null,
   "id": "02d5776c",
   "metadata": {},
   "outputs": [],
   "source": [
    "type(emp)"
   ]
  },
  {
   "cell_type": "code",
   "execution_count": null,
   "id": "40ed0d9d-40af-4ade-9386-07cbd3fa27fc",
   "metadata": {},
   "outputs": [],
   "source": [
    "emp"
   ]
  },
  {
   "cell_type": "code",
   "execution_count": null,
   "id": "421627c4",
   "metadata": {},
   "outputs": [],
   "source": [
    "# We can use split with ',' as delimiter.\n",
    "# It will create a list of strings.\n",
    "# The list contains 3 elements - id, email and salary\n",
    "# All 3 will be of type string\n",
    "emp.split(',')"
   ]
  },
  {
   "cell_type": "code",
   "execution_count": null,
   "id": "1fc8d0a8",
   "metadata": {},
   "outputs": [],
   "source": [
    "emp_list = emp.split(',')"
   ]
  },
  {
   "cell_type": "code",
   "execution_count": null,
   "id": "ec968c09",
   "metadata": {},
   "outputs": [],
   "source": [
    "type(emp_list)"
   ]
  },
  {
   "cell_type": "code",
   "execution_count": null,
   "id": "49fb1420-dba0-42ca-befb-ec35c73d7f0d",
   "metadata": {},
   "outputs": [],
   "source": [
    "emp_list"
   ]
  },
  {
   "cell_type": "code",
   "execution_count": null,
   "id": "10f80040",
   "metadata": {},
   "outputs": [],
   "source": [
    "for e in emp_list:\n",
    "    print(f'Data type of {e} is {type(e)}')"
   ]
  },
  {
   "cell_type": "code",
   "execution_count": null,
   "id": "8ec31b80",
   "metadata": {},
   "outputs": [],
   "source": [
    "# Getting salary\n",
    "emp_list[2]"
   ]
  },
  {
   "cell_type": "code",
   "execution_count": null,
   "id": "87ab3b4e",
   "metadata": {},
   "outputs": [],
   "source": [
    "# We can also -1 to read from the last\n",
    "emp_list[-1]"
   ]
  },
  {
   "cell_type": "code",
   "execution_count": null,
   "id": "82949025",
   "metadata": {},
   "outputs": [],
   "source": [
    "# We need to change the data type to float or decimal for right comparison.\n",
    "float(emp_list[-1])"
   ]
  },
  {
   "cell_type": "code",
   "execution_count": null,
   "id": "9578abb7",
   "metadata": {},
   "outputs": [],
   "source": [
    "# Complete logic\n",
    "float(emp.split(',')[-1])"
   ]
  },
  {
   "cell_type": "code",
   "execution_count": null,
   "id": "b6f54512",
   "metadata": {},
   "outputs": [],
   "source": [
    "# We can pass the comparison logic to key function in sorted\n",
    "# You can see the output. It is sorted in ascending order by salary.\n",
    "sorted(employees, key=lambda emp: float(emp.split(',')[-1]))"
   ]
  },
  {
   "cell_type": "code",
   "execution_count": null,
   "id": "75b82ed7",
   "metadata": {},
   "outputs": [],
   "source": [
    "# You can reverse by using reverse keywork argument\n",
    "# reverse will be applied on custom comparison passed as part of key\n",
    "sorted(employees, key=lambda emp: float(emp.split(',')[-1]), reverse=True)"
   ]
  },
  {
   "cell_type": "code",
   "execution_count": null,
   "id": "c297a454-cd6c-4c89-8ee9-c6cd0056cbe0",
   "metadata": {},
   "outputs": [],
   "source": [
    "employees.sort(key=lambda emp: float(emp.split(',')[-1]))"
   ]
  },
  {
   "cell_type": "code",
   "execution_count": null,
   "id": "279cf46a-52ba-4f82-b06e-1610847379c4",
   "metadata": {},
   "outputs": [],
   "source": [
    "employees"
   ]
  },
  {
   "cell_type": "code",
   "execution_count": null,
   "id": "e58ece33-7270-44e2-b6df-6b597e7c8c07",
   "metadata": {},
   "outputs": [],
   "source": [
    "employees.sort(key=lambda emp: float(emp.split(',')[-1]), reverse=True)"
   ]
  },
  {
   "cell_type": "code",
   "execution_count": null,
   "id": "c7a9dd98-d02e-4879-b973-5d0acb433892",
   "metadata": {},
   "outputs": [],
   "source": [
    "employees"
   ]
  },
  {
   "cell_type": "code",
   "execution_count": null,
   "id": "d13336a9-d183-4ccc-a99d-5bf7b7aa8a22",
   "metadata": {},
   "outputs": [],
   "source": [
    "employees = [\n",
    "    '1,ktrett0@independent.co.uk,6998.95',\n",
    "    '2,khaddock1@deviantart.com,10572.4',\n",
    "    '3,ecraft2@dell.com,3967.35',\n",
    "    '4,drussam3@t-online.de,17672.44',\n",
    "    '5,graigatt4@github.io,11660.67',\n",
    "    '6,bjaxon5@salon.com,18614.93',\n",
    "    '7,araulston6@list-manage.com,11550.75',\n",
    "    '8,mcobb7@mozilla.com,17016.15',\n",
    "    '9,grobardley8@unesco.org,14141.25',\n",
    "    '10,bbuye9@vkontakte.ru,12193.2'\n",
    "]"
   ]
  },
  {
   "cell_type": "code",
   "execution_count": null,
   "id": "150dc966-2c7c-4113-865c-148f7a579d2c",
   "metadata": {},
   "outputs": [],
   "source": [
    "sorted(employees, key=lambda emp: emp.split(',')[-1], reverse=True)"
   ]
  },
  {
   "cell_type": "code",
   "execution_count": null,
   "id": "f8515346-64c6-4b9f-bc84-5f3dcb67027b",
   "metadata": {},
   "outputs": [],
   "source": [
    "'6' > '18614'"
   ]
  },
  {
   "cell_type": "code",
   "execution_count": null,
   "id": "79326d85-3cd7-400e-9e94-39cf5cea47e2",
   "metadata": {},
   "outputs": [],
   "source": []
  }
 ],
 "metadata": {
  "kernelspec": {
   "display_name": "Python 3 (ipykernel)",
   "language": "python",
   "name": "python3"
  },
  "language_info": {
   "codemirror_mode": {
    "name": "ipython",
    "version": 3
   },
   "file_extension": ".py",
   "mimetype": "text/x-python",
   "name": "python",
   "nbconvert_exporter": "python",
   "pygments_lexer": "ipython3",
   "version": "3.8.12"
  }
 },
 "nbformat": 4,
 "nbformat_minor": 5
}
