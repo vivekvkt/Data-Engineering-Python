{
 "cells": [
  {
   "cell_type": "markdown",
   "id": "25bed45a",
   "metadata": {},
   "source": [
    "## Sorting Data in lists and sets\n",
    "\n",
    "Let us go through the details about sorting data in lists and sets.\n",
    "* We can use `sorted` function to sort any collection - list, set, dict or tuple. For now, let's focus on list and set.\n",
    "* `sorted` always returns a new list. We typically assign it to a new variable to process the newly created sorted list further.\n",
    "* On top of `list`, we can also invoke `sort` function. While `sorted` creates new list, `sort` will update the existing list. The sorting done by `sort` is also known as **inplace** sorting.\n",
    "* While `sorted` returns a new list, `sort` on top of list returns nothing.\n",
    "* Both `sorted` and `sort` takes same arguments.\n",
    "* We can use `reverse` to sort in reverse order.\n",
    "* We can also sort the data based upon comparison logic passed using `key` argument.\n",
    "* We use `sorted` more often than `list.sort` for following reasons.\n",
    "  * `sorted` can be used on all types of collections - list, set, dict, tuple or any other collection type.\n",
    "  * The original collection will not be touched.\n",
    "  * We can pass `sorted` function to other functions as part of chained calling. For example if we would like to get unique records after sorting, we can say `set(sorted(l))`. It is not possible with `list.sort`"
   ]
  },
  {
   "cell_type": "code",
   "execution_count": null,
   "id": "6eaf0992",
   "metadata": {},
   "outputs": [],
   "source": [
    "# Run this to see the syntax of sorted\n",
    "sorted?"
   ]
  },
  {
   "cell_type": "code",
   "execution_count": null,
   "id": "fa562dab",
   "metadata": {},
   "outputs": [],
   "source": [
    "# Run this to see the syntax of sort function\n",
    "list.sort?"
   ]
  },
  {
   "cell_type": "markdown",
   "id": "b9739af1",
   "metadata": {},
   "source": [
    "* Sorting a simple list using `sorted`"
   ]
  },
  {
   "cell_type": "code",
   "execution_count": null,
   "id": "22df4363",
   "metadata": {},
   "outputs": [],
   "source": [
    "l = [1, 3, 2, 6, 4]"
   ]
  },
  {
   "cell_type": "code",
   "execution_count": null,
   "id": "9116f31b",
   "metadata": {},
   "outputs": [],
   "source": [
    "sorted(l)"
   ]
  },
  {
   "cell_type": "code",
   "execution_count": null,
   "id": "7b474549",
   "metadata": {},
   "outputs": [],
   "source": [
    "type(sorted(l))"
   ]
  },
  {
   "cell_type": "code",
   "execution_count": null,
   "id": "921998c4",
   "metadata": {},
   "outputs": [],
   "source": [
    "# l did not change\n",
    "l"
   ]
  },
  {
   "cell_type": "code",
   "execution_count": null,
   "id": "10da7ec3",
   "metadata": {},
   "outputs": [],
   "source": [
    "# Typical usage for further processing\n",
    "l_sorted = sorted(l)"
   ]
  },
  {
   "cell_type": "code",
   "execution_count": null,
   "id": "fb208052",
   "metadata": {},
   "outputs": [],
   "source": [
    "type(l_sorted)"
   ]
  },
  {
   "cell_type": "code",
   "execution_count": null,
   "id": "54cc4687",
   "metadata": {},
   "outputs": [],
   "source": [
    "l_sorted"
   ]
  },
  {
   "cell_type": "code",
   "execution_count": null,
   "id": "c4ba1777-f47b-4629-a462-9cd09e1c49b6",
   "metadata": {},
   "outputs": [],
   "source": [
    "sorted(l, reverse=True)"
   ]
  },
  {
   "cell_type": "markdown",
   "id": "377c4077",
   "metadata": {},
   "source": [
    "* Sorting a simple list using `sort`"
   ]
  },
  {
   "cell_type": "code",
   "execution_count": null,
   "id": "6d1e1e3d",
   "metadata": {},
   "outputs": [],
   "source": [
    "l = [1, 3, 2, 6, 4]"
   ]
  },
  {
   "cell_type": "code",
   "execution_count": null,
   "id": "71e410a2-22f1-40a5-b64d-3e732681d12f",
   "metadata": {},
   "outputs": [],
   "source": [
    "l"
   ]
  },
  {
   "cell_type": "code",
   "execution_count": null,
   "id": "576b7c20",
   "metadata": {},
   "outputs": [],
   "source": [
    "# We typically don't assign to another variable.\n",
    "l.sort()"
   ]
  },
  {
   "cell_type": "code",
   "execution_count": null,
   "id": "1c581340",
   "metadata": {},
   "outputs": [],
   "source": [
    "type(l.sort())"
   ]
  },
  {
   "cell_type": "code",
   "execution_count": null,
   "id": "c3336fe8",
   "metadata": {},
   "outputs": [],
   "source": [
    "l"
   ]
  },
  {
   "cell_type": "markdown",
   "id": "b8bba6c2",
   "metadata": {},
   "source": [
    "* Sorting a set using `sort`"
   ]
  },
  {
   "cell_type": "code",
   "execution_count": null,
   "id": "4dae5737",
   "metadata": {},
   "outputs": [],
   "source": [
    "s = {1, 4, 2}"
   ]
  },
  {
   "cell_type": "code",
   "execution_count": null,
   "id": "e0255f5c-1895-4dbe-8019-ce6eeeea17b5",
   "metadata": {},
   "outputs": [],
   "source": [
    "s"
   ]
  },
  {
   "cell_type": "code",
   "execution_count": null,
   "id": "f82c5c98",
   "metadata": {},
   "outputs": [],
   "source": [
    "# This will fail as sort is available only on top of list but not set\n",
    "s.sort()"
   ]
  },
  {
   "cell_type": "code",
   "execution_count": null,
   "id": "c0343d65",
   "metadata": {},
   "outputs": [],
   "source": [
    "sorted(s)"
   ]
  },
  {
   "cell_type": "code",
   "execution_count": null,
   "id": "ec97295c-18cc-4298-b361-3956fd6653ea",
   "metadata": {},
   "outputs": [],
   "source": [
    "sorted(s, reverse=True)"
   ]
  },
  {
   "cell_type": "code",
   "execution_count": null,
   "id": "5dd47b23-b182-4b2a-991f-96146b745cb9",
   "metadata": {},
   "outputs": [],
   "source": [
    "type(sorted(s))"
   ]
  },
  {
   "cell_type": "markdown",
   "id": "2731169e",
   "metadata": {},
   "source": [
    "* Reverse sorting of a list or a set using `sorted`. Similar process can be followed for `list.sort` as well."
   ]
  },
  {
   "cell_type": "code",
   "execution_count": null,
   "id": "9450b47b",
   "metadata": {},
   "outputs": [],
   "source": [
    "l = [1, 3, 2, 6, 4]"
   ]
  },
  {
   "cell_type": "code",
   "execution_count": null,
   "id": "0e3c2acc",
   "metadata": {},
   "outputs": [],
   "source": [
    "sorted(l, reverse=True)"
   ]
  },
  {
   "cell_type": "code",
   "execution_count": null,
   "id": "a61bf417-82fd-4194-a643-6677d0ce4840",
   "metadata": {},
   "outputs": [],
   "source": [
    "l.sort(reverse=True)"
   ]
  },
  {
   "cell_type": "code",
   "execution_count": null,
   "id": "6a49bdaf-7ae6-4abb-b970-d90d725c176a",
   "metadata": {},
   "outputs": [],
   "source": [
    "l"
   ]
  },
  {
   "cell_type": "code",
   "execution_count": null,
   "id": "25c56875",
   "metadata": {},
   "outputs": [],
   "source": [
    "employees = [\n",
    "    '1,ktrett0@independent.co.uk,6998.95',\n",
    "    '2,khaddock1@deviantart.com,10572.4',\n",
    "    '3,ecraft2@dell.com,3967.35',\n",
    "    '4,drussam3@t-online.de,17672.44',\n",
    "    '5,graigatt4@github.io,11660.67',\n",
    "    '6,bjaxon5@salon.com,18614.93',\n",
    "    '7,araulston6@list-manage.com,11550.75',\n",
    "    '8,mcobb7@mozilla.com,17016.15',\n",
    "    '9,grobardley8@unesco.org,14141.25',\n",
    "    '10,bbuye9@vkontakte.ru,12193.2'\n",
    "]"
   ]
  },
  {
   "cell_type": "markdown",
   "id": "b1e49e19",
   "metadata": {},
   "source": [
    "* We need to sort the data by comparing salaries between employees.\n",
    "* We can define custom comparitor using `key` argument.\n",
    "* Each element or record in the list is comma seperated.\n",
    "* We need to extract the salary as float for right comparison.\n",
    "* Here is how we can extract the salary."
   ]
  },
  {
   "cell_type": "code",
   "execution_count": null,
   "id": "d0ee089f",
   "metadata": {},
   "outputs": [],
   "source": [
    "# Reading first element\n",
    "employees[0]"
   ]
  },
  {
   "cell_type": "code",
   "execution_count": null,
   "id": "6082a791",
   "metadata": {},
   "outputs": [],
   "source": [
    "emp = employees[0]"
   ]
  },
  {
   "cell_type": "code",
   "execution_count": null,
   "id": "02d5776c",
   "metadata": {},
   "outputs": [],
   "source": [
    "type(emp)"
   ]
  },
  {
   "cell_type": "code",
   "execution_count": null,
   "id": "421627c4",
   "metadata": {},
   "outputs": [],
   "source": [
    "# We can use split with ',' as delimiter.\n",
    "# It will create a list of strings.\n",
    "# The list contains 3 elements - id, email and salary\n",
    "# All 3 will be of type string\n",
    "emp.split(',')"
   ]
  },
  {
   "cell_type": "code",
   "execution_count": null,
   "id": "1fc8d0a8",
   "metadata": {},
   "outputs": [],
   "source": [
    "emp_list = emp.split(',')"
   ]
  },
  {
   "cell_type": "code",
   "execution_count": null,
   "id": "ec968c09",
   "metadata": {},
   "outputs": [],
   "source": [
    "type(emp_list)"
   ]
  },
  {
   "cell_type": "code",
   "execution_count": null,
   "id": "10f80040",
   "metadata": {},
   "outputs": [],
   "source": [
    "for e in emp_list:\n",
    "    print(f'Data type of {e} is {type(e)}')"
   ]
  },
  {
   "cell_type": "code",
   "execution_count": null,
   "id": "8ec31b80",
   "metadata": {},
   "outputs": [],
   "source": [
    "# Getting salary\n",
    "emp_list[2]"
   ]
  },
  {
   "cell_type": "code",
   "execution_count": null,
   "id": "87ab3b4e",
   "metadata": {},
   "outputs": [],
   "source": [
    "# We can also -1 to read from the last\n",
    "emp_list[-1]"
   ]
  },
  {
   "cell_type": "code",
   "execution_count": null,
   "id": "82949025",
   "metadata": {},
   "outputs": [],
   "source": [
    "# We need to change the data type to float or decimal for right comparison.\n",
    "float(emp_list[-1])"
   ]
  },
  {
   "cell_type": "code",
   "execution_count": null,
   "id": "9578abb7",
   "metadata": {},
   "outputs": [],
   "source": [
    "# Complete logic\n",
    "float(emp.split(',')[-1])"
   ]
  },
  {
   "cell_type": "code",
   "execution_count": null,
   "id": "b6f54512",
   "metadata": {},
   "outputs": [],
   "source": [
    "# We can pass the comparison logic to key function in sorted\n",
    "# You can see the output. It is sorted in ascending order by salary.\n",
    "sorted(employees, key=lambda emp: float(emp.split(',')[-1]))"
   ]
  },
  {
   "cell_type": "code",
   "execution_count": null,
   "id": "75b82ed7",
   "metadata": {},
   "outputs": [],
   "source": [
    "# You can reverse by using reverse keywork argument\n",
    "# reverse will be applied on custom comparison passed as part of key\n",
    "sorted(employees, key=lambda emp: float(emp.split(',')[-1]), reverse=True)"
   ]
  }
 ],
 "metadata": {
  "kernelspec": {
   "display_name": "Python 3 (ipykernel)",
   "language": "python",
   "name": "python3"
  },
  "language_info": {
   "codemirror_mode": {
    "name": "ipython",
    "version": 3
   },
   "file_extension": ".py",
   "mimetype": "text/x-python",
   "name": "python",
   "nbconvert_exporter": "python",
   "pygments_lexer": "ipython3",
   "version": "3.8.12"
  }
 },
 "nbformat": 4,
 "nbformat_minor": 5
}
