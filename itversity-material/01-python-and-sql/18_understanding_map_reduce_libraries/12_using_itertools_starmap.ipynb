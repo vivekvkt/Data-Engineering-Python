{
 "cells": [
  {
   "cell_type": "markdown",
   "metadata": {},
   "source": [
    "## Using itertools starmap\n",
    "\n",
    "Let us understand the usage of `starmap`. We will first create a collection with sales and commission percentage. Using that collection compute total commission amount. If the commission percent is None or not present, treat it as 0.\n",
    "* Each element in the collection should be a tuple.\n",
    "* First element is the sales amount and second element is commission percentage.\n",
    "* Commission for each sale can be computed by multiplying commission percentage with sales (make sure to divide commission percentage by 100).\n",
    "* Some of the records does not have commission percentage, in that case commission amount for that sale shall be 0"
   ]
  },
  {
   "cell_type": "code",
   "execution_count": null,
   "metadata": {},
   "outputs": [],
   "source": [
    "import itertools as iter"
   ]
  },
  {
   "cell_type": "code",
   "execution_count": null,
   "metadata": {},
   "outputs": [],
   "source": [
    "transactions = [(376.0, 8),\n",
    "(548.23, 14),\n",
    "(107.93, 8),\n",
    "(838.22, 14),\n",
    "(846.85, 21),\n",
    "(234.84, None),\n",
    "(850.2, 21),\n",
    "(992.2, 21),\n",
    "(267.01, None),\n",
    "(958.91, 21),\n",
    "(412.59, None),\n",
    "(283.14, None),\n",
    "(350.01, 14),\n",
    "(226.95, None),\n",
    "(132.7, 14)]"
   ]
  },
  {
   "cell_type": "code",
   "execution_count": null,
   "metadata": {},
   "outputs": [],
   "source": [
    "help(iter.starmap)"
   ]
  },
  {
   "cell_type": "code",
   "execution_count": null,
   "metadata": {},
   "outputs": [],
   "source": [
    "a = iter.starmap(lambda rec: rec[0] * rec[1] if rec[1] else 0, transactions)"
   ]
  },
  {
   "cell_type": "code",
   "execution_count": null,
   "metadata": {},
   "outputs": [],
   "source": [
    "for i in a: print(i) # This will fail. We have to pass elements from each tuple separately."
   ]
  },
  {
   "cell_type": "code",
   "execution_count": null,
   "metadata": {},
   "outputs": [],
   "source": [
    "iter.starmap(\n",
    "    lambda sale_amount, comm_pct: \n",
    "        round(sale_amount * comm_pct / 100, 2) if comm_pct else 0, \n",
    "    transactions\n",
    ")"
   ]
  },
  {
   "cell_type": "code",
   "execution_count": null,
   "metadata": {},
   "outputs": [],
   "source": [
    "a = iter.starmap(\n",
    "    lambda sale_amount, comm_pct: \n",
    "        round(sale_amount * comm_pct / 100, 2) if comm_pct else 0, \n",
    "    transactions\n",
    ")"
   ]
  },
  {
   "cell_type": "code",
   "execution_count": null,
   "metadata": {},
   "outputs": [],
   "source": [
    "for i in a:\n",
    "    print(i)"
   ]
  },
  {
   "cell_type": "code",
   "execution_count": null,
   "metadata": {},
   "outputs": [],
   "source": [
    "sum(iter.starmap(lambda sale_amount, comm_pct: (round(sale_amount * comm_pct / 100, 2)) if comm_pct else (0), transactions))"
   ]
  },
  {
   "cell_type": "code",
   "execution_count": null,
   "metadata": {},
   "outputs": [],
   "source": []
  }
 ],
 "metadata": {
  "kernelspec": {
   "display_name": "Python 3 (ipykernel)",
   "language": "python",
   "name": "python3"
  },
  "language_info": {
   "codemirror_mode": {
    "name": "ipython",
    "version": 3
   },
   "file_extension": ".py",
   "mimetype": "text/x-python",
   "name": "python",
   "nbconvert_exporter": "python",
   "pygments_lexer": "ipython3",
   "version": "3.8.12"
  }
 },
 "nbformat": 4,
 "nbformat_minor": 4
}
