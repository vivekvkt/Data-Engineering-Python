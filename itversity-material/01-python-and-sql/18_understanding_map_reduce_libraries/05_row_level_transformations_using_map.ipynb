{
  "cells": [
    {
      "cell_type": "markdown",
      "metadata": {},
      "source": [
        "## Row level transformations using map\n",
        "\n",
        "Let us understand how we can perform row level transformations using `map`. Here are some of the examples.\n",
        "* Derive new fields from existing fields.\n",
        "* Get last 4 digits of social security number.\n",
        "* Standardize phone numbers.\n",
        "* Convert names to lower or upper case.\n",
        "* Break down the address into street, city, state, zip code.\n",
        "* Encrypt confidential information such as social security number or other unique ids such as Aadhaar."
      ]
    },
    {
      "cell_type": "code",
      "execution_count": null,
      "metadata": {},
      "outputs": [],
      "source": [
        "%run 02_preparing_data_sets.ipynb"
      ]
    },
    {
      "cell_type": "code",
      "execution_count": null,
      "metadata": {},
      "outputs": [],
      "source": [
        "orders[:10]"
      ]
    },
    {
      "cell_type": "code",
      "execution_count": null,
      "metadata": {},
      "outputs": [],
      "source": [
        "len(orders)"
      ]
    },
    {
      "cell_type": "code",
      "execution_count": null,
      "metadata": {},
      "outputs": [],
      "source": [
        "order_items[:10]"
      ]
    },
    {
      "cell_type": "code",
      "execution_count": null,
      "metadata": {},
      "outputs": [],
      "source": [
        "len(order_items)"
      ]
    },
    {
      "cell_type": "markdown",
      "metadata": {},
      "source": [
        "### Task 1\n",
        "\n",
        "Get day name of each date in our orders data set. Output should be tuple with 3 elements.\n",
        "  * order_id of type integer\n",
        "  * order_date of type string\n",
        "  * order_day_name of type string"
      ]
    },
    {
      "cell_type": "code",
      "execution_count": null,
      "metadata": {},
      "outputs": [],
      "source": [
        "import datetime as dt\n",
        "d = dt.datetime.strptime('2013-07-25 00:00:00.0'.split(' ')[0], '%Y-%m-%d')"
      ]
    },
    {
      "cell_type": "code",
      "execution_count": null,
      "metadata": {},
      "outputs": [],
      "source": [
        "d"
      ]
    },
    {
      "cell_type": "code",
      "execution_count": null,
      "metadata": {},
      "outputs": [],
      "source": [
        "d.weekday()"
      ]
    },
    {
      "cell_type": "code",
      "execution_count": null,
      "metadata": {},
      "outputs": [],
      "source": [
        "import calendar"
      ]
    },
    {
      "cell_type": "code",
      "execution_count": null,
      "metadata": {},
      "outputs": [],
      "source": [
        "list(calendar.day_name)"
      ]
    },
    {
      "cell_type": "code",
      "execution_count": null,
      "metadata": {},
      "outputs": [],
      "source": [
        "calendar.day_name[d.weekday()]"
      ]
    },
    {
      "cell_type": "code",
      "execution_count": null,
      "metadata": {},
      "outputs": [],
      "source": [
        "import datetime as dt, calendar as c\n",
        "\n",
        "order = '1,2013-07-25 00:00:00.0,11599,CLOSED'"
      ]
    },
    {
      "cell_type": "code",
      "execution_count": null,
      "metadata": {},
      "outputs": [],
      "source": [
        "order.split(',')[1].split(' ')[0]"
      ]
    },
    {
      "cell_type": "code",
      "execution_count": null,
      "metadata": {},
      "outputs": [],
      "source": [
        "dt.datetime.strptime(order.split(',')[1].split(' ')[0], '%Y-%m-%d')"
      ]
    },
    {
      "cell_type": "code",
      "execution_count": null,
      "metadata": {},
      "outputs": [],
      "source": [
        "dt.datetime.strptime(order.split(',')[1].split(' ')[0], '%Y-%m-%d').weekday()"
      ]
    },
    {
      "cell_type": "code",
      "execution_count": null,
      "metadata": {},
      "outputs": [],
      "source": [
        "c.day_name[dt.datetime.strptime(order.split(',')[1].split(' ')[0], '%Y-%m-%d').weekday()]"
      ]
    },
    {
      "cell_type": "code",
      "execution_count": null,
      "metadata": {},
      "outputs": [],
      "source": [
        "import datetime as dt, calendar as c\n",
        "order_dates = map(\n",
        "    lambda order: c.day_name[dt.datetime.strptime(order.split(',')[1].split(' ')[0], '%Y-%m-%d').weekday()],\n",
        "    orders\n",
        ")"
      ]
    },
    {
      "cell_type": "code",
      "execution_count": null,
      "metadata": {},
      "outputs": [],
      "source": [
        "list(order_dates)[:10]"
      ]
    },
    {
      "cell_type": "markdown",
      "metadata": {},
      "source": [
        "```{note}\n",
        "We can use lambda function as long as we do not have assignment operations. However, we might end up compromising readability.\n",
        "```"
      ]
    },
    {
      "cell_type": "code",
      "execution_count": null,
      "metadata": {},
      "outputs": [],
      "source": [
        "import datetime as dt, calendar as c\n",
        "order_dates = map(\n",
        "    lambda order: (\n",
        "        int(order.split(',')[0]),\n",
        "        order.split(',')[1],\n",
        "        c.day_name[dt.datetime.strptime(order.split(',')[1].split(' ')[0], '%Y-%m-%d').weekday()]\n",
        "    ),\n",
        "    orders\n",
        ")"
      ]
    },
    {
      "cell_type": "code",
      "execution_count": null,
      "metadata": {},
      "outputs": [],
      "source": [
        "list(order_dates)[:10]"
      ]
    },
    {
      "cell_type": "markdown",
      "metadata": {},
      "source": [
        "```{note}\n",
        "Here is the example of implementation using named function.\n",
        "```"
      ]
    },
    {
      "cell_type": "code",
      "execution_count": null,
      "metadata": {},
      "outputs": [],
      "source": [
        "def get_order_date(order):\n",
        "    order_details = order.split(',')\n",
        "    order_id = int(order_details[0])\n",
        "    order_date = order.split(',')[1]\n",
        "    order_date_as_datetime = dt.datetime.strptime(order_date.split(' ')[0], '%Y-%m-%d')\n",
        "    order_day_name = c.day_name[order_date_as_datetime.weekday()]\n",
        "    return (order_id, order_date, order_day_name)"
      ]
    },
    {
      "cell_type": "code",
      "execution_count": null,
      "metadata": {},
      "outputs": [],
      "source": [
        "order_dates = map(\n",
        "    get_order_date,\n",
        "    orders\n",
        ")"
      ]
    },
    {
      "cell_type": "code",
      "execution_count": null,
      "metadata": {},
      "outputs": [],
      "source": [
        "list(order_dates)[:10]"
      ]
    },
    {
      "cell_type": "code",
      "execution_count": null,
      "metadata": {},
      "outputs": [],
      "source": [
        "order_dates = map(\n",
        "    lambda order: get_order_date(order),\n",
        "    orders\n",
        ")"
      ]
    },
    {
      "cell_type": "code",
      "execution_count": null,
      "metadata": {},
      "outputs": [],
      "source": [
        "list(order_dates)[:10]"
      ]
    },
    {
      "cell_type": "markdown",
      "metadata": {},
      "source": [
        "### Task 2\n",
        "Add weekend flag for Saturday and Sunday dates.\n"
      ]
    },
    {
      "cell_type": "code",
      "execution_count": null,
      "metadata": {},
      "outputs": [],
      "source": [
        "def get_order_date(order):\n",
        "    order_details = order.split(',')\n",
        "    order_id = int(order_details[0])\n",
        "    order_date = order.split(',')[1]\n",
        "    order_date_as_datetime = dt.datetime.strptime(order_date.split(' ')[0], '%Y-%m-%d')\n",
        "    order_day_name = c.day_name[order_date_as_datetime.weekday()]\n",
        "    weekend_flag = True if order_date_as_datetime.weekday() in (5, 6) else False\n",
        "    return (order_id, order_date, order_day_name, weekend_flag)"
      ]
    },
    {
      "cell_type": "code",
      "execution_count": null,
      "metadata": {},
      "outputs": [],
      "source": [
        "order_dates = map(\n",
        "    get_order_date,\n",
        "    orders\n",
        ")"
      ]
    },
    {
      "cell_type": "code",
      "execution_count": null,
      "metadata": {},
      "outputs": [],
      "source": [
        "list(order_dates)[:10]"
      ]
    },
    {
      "cell_type": "markdown",
      "metadata": {},
      "source": [
        "```{note}\n",
        "Validate whether weekend_flag is generated properly or not.\n",
        "```"
      ]
    },
    {
      "cell_type": "code",
      "execution_count": null,
      "metadata": {},
      "outputs": [],
      "source": [
        "def get_order_date(order):\n",
        "    order_details = order.split(',')\n",
        "    order_id = int(order_details[0])\n",
        "    order_date = order.split(',')[1]\n",
        "    order_date_as_datetime = dt.datetime.strptime(order_date.split(' ')[0], '%Y-%m-%d')\n",
        "    order_day_name = c.day_name[order_date_as_datetime.weekday()]\n",
        "    weekend_flag = True if order_date_as_datetime.weekday() in (5, 6) else False\n",
        "    return (order_id, order_date, order_day_name, weekend_flag)"
      ]
    },
    {
      "cell_type": "code",
      "execution_count": null,
      "metadata": {},
      "outputs": [],
      "source": [
        "order_dates = map(\n",
        "    get_order_date,\n",
        "    orders\n",
        ")"
      ]
    },
    {
      "cell_type": "code",
      "execution_count": null,
      "metadata": {},
      "outputs": [],
      "source": [
        "order_dates_without_ids = map(\n",
        "    lambda order: (order[1], order[2], order[3]),\n",
        "    order_dates\n",
        ")"
      ]
    },
    {
      "cell_type": "code",
      "execution_count": null,
      "metadata": {},
      "outputs": [],
      "source": [
        "set(order_dates_without_ids)"
      ]
    }
  ],
  "metadata": {
    "kernelspec": {
      "display_name": "Python 3",
      "language": "python",
      "name": "python3"
    },
    "language_info": {
      "codemirror_mode": {
        "name": "ipython",
        "version": 3
      },
      "file_extension": ".py",
      "mimetype": "text/x-python",
      "name": "python",
      "nbconvert_exporter": "python",
      "pygments_lexer": "ipython3",
      "version": "3.6.12"
    }
  },
  "nbformat": 4,
  "nbformat_minor": 4
}