{
 "cells": [
  {
   "cell_type": "markdown",
   "metadata": {
    "tags": []
   },
   "source": [
    "## Get Revenue for a given product_id\n",
    "\n",
    "Use order items data set and compute total revenue generated for a given product_id.\n",
    "\n",
    "* Filter for given product_id.\n",
    "* Extract order_item_subtotal for each item.\n",
    "* Aggregate to get the revenue for a given product id."
   ]
  },
  {
   "cell_type": "code",
   "execution_count": null,
   "metadata": {},
   "outputs": [],
   "source": [
    "%run 02_preparing_data_sets.ipynb"
   ]
  },
  {
   "cell_type": "code",
   "execution_count": null,
   "metadata": {},
   "outputs": [],
   "source": [
    "order_items[:10]"
   ]
  },
  {
   "cell_type": "code",
   "execution_count": null,
   "metadata": {},
   "outputs": [],
   "source": [
    "len(order_items)"
   ]
  },
  {
   "cell_type": "code",
   "execution_count": null,
   "metadata": {},
   "outputs": [],
   "source": [
    "order_item = order_items[0]"
   ]
  },
  {
   "cell_type": "code",
   "execution_count": null,
   "metadata": {},
   "outputs": [],
   "source": [
    "order_item"
   ]
  },
  {
   "cell_type": "code",
   "execution_count": null,
   "metadata": {},
   "outputs": [],
   "source": [
    "order_item.split(',')"
   ]
  },
  {
   "cell_type": "code",
   "execution_count": null,
   "metadata": {},
   "outputs": [],
   "source": [
    "order_item.split(',')[2]"
   ]
  },
  {
   "cell_type": "code",
   "execution_count": null,
   "metadata": {},
   "outputs": [],
   "source": [
    "int(order_item.split(',')[2])"
   ]
  },
  {
   "cell_type": "code",
   "execution_count": null,
   "metadata": {},
   "outputs": [],
   "source": [
    "float(order_item.split(',')[4])"
   ]
  },
  {
   "cell_type": "code",
   "execution_count": null,
   "metadata": {},
   "outputs": [],
   "source": [
    "items_for_product = filter(\n",
    "    lambda order_item: int(order_item.split(',')[2]) == 502,\n",
    "    order_items\n",
    ")"
   ]
  },
  {
   "cell_type": "code",
   "execution_count": null,
   "metadata": {},
   "outputs": [],
   "source": [
    "list(items_for_product)[:10]"
   ]
  },
  {
   "cell_type": "code",
   "execution_count": null,
   "metadata": {},
   "outputs": [],
   "source": [
    "items_for_product = filter(\n",
    "    lambda order_item: int(order_item.split(',')[2]) == 502,\n",
    "    order_items\n",
    ")\n",
    "item_subtotals = map(\n",
    "    lambda order_item: float(order_item.split(',')[4]),\n",
    "    items_for_product\n",
    ")"
   ]
  },
  {
   "cell_type": "code",
   "execution_count": null,
   "metadata": {},
   "outputs": [],
   "source": [
    "list(item_subtotals)[:10]"
   ]
  },
  {
   "cell_type": "code",
   "execution_count": null,
   "metadata": {},
   "outputs": [],
   "source": [
    "len(list(item_subtotals))"
   ]
  },
  {
   "cell_type": "code",
   "execution_count": null,
   "metadata": {},
   "outputs": [],
   "source": [
    "items_for_product = filter(\n",
    "    lambda order_item: int(order_item.split(',')[2]) == 502,\n",
    "    order_items\n",
    ")\n",
    "item_subtotals = map(\n",
    "    lambda order_item: float(order_item.split(',')[4]),\n",
    "    items_for_product\n",
    ")\n",
    "\n",
    "from functools import reduce\n",
    "\n",
    "reduce(\n",
    "    lambda total_revenue, item_revenue: total_revenue + item_revenue,\n",
    "    item_subtotals\n",
    ")"
   ]
  },
  {
   "cell_type": "markdown",
   "metadata": {},
   "source": [
    "```{note}\n",
    "We can also aggregate using functions such as `add`, `min`, `max` etc to get the aggregated results.\n",
    "```"
   ]
  },
  {
   "cell_type": "code",
   "execution_count": null,
   "metadata": {},
   "outputs": [],
   "source": [
    "from operator import add\n",
    "items_for_product = filter(\n",
    "    lambda order_item: int(order_item.split(',')[2]) == 502,\n",
    "    order_items\n",
    ")\n",
    "item_subtotals = map(\n",
    "    lambda order_item: float(order_item.split(',')[4]),\n",
    "    items_for_product\n",
    ")\n",
    "reduce(\n",
    "    add,\n",
    "    item_subtotals\n",
    ")"
   ]
  },
  {
   "cell_type": "code",
   "execution_count": null,
   "metadata": {},
   "outputs": [],
   "source": [
    "items_for_product = filter(\n",
    "    lambda order_item: int(order_item.split(',')[2]) == 502,\n",
    "    order_items\n",
    ")\n",
    "item_subtotals = map(\n",
    "    lambda order_item: float(order_item.split(',')[4]),\n",
    "    items_for_product\n",
    ")\n",
    "reduce(\n",
    "    min,\n",
    "    item_subtotals\n",
    ")"
   ]
  },
  {
   "cell_type": "code",
   "execution_count": null,
   "metadata": {},
   "outputs": [],
   "source": []
  }
 ],
 "metadata": {
  "kernelspec": {
   "display_name": "Python 3 (ipykernel)",
   "language": "python",
   "name": "python3"
  },
  "language_info": {
   "codemirror_mode": {
    "name": "ipython",
    "version": 3
   },
   "file_extension": ".py",
   "mimetype": "text/x-python",
   "name": "python",
   "nbconvert_exporter": "python",
   "pygments_lexer": "ipython3",
   "version": "3.8.12"
  }
 },
 "nbformat": 4,
 "nbformat_minor": 4
}
