  "cells": [
    {
      "cell_type": "markdown",
      "metadata": {
        "pycharm": {
          "name": "#%% md"
        }
      },
      "source": [
        "# Understanding Python Map Reduce Libraries\n",
        "\n",
        "Let us go through Map Reduce libraries that are available as part of Python to manipulate collections.\n",
        "\n",
        "* Filtering Data using filter\n",
        "* Projecting Data using map\n",
        "* Row level transformations using map\n",
        "* Aggregations using reduce\n",
        "* Overview of itertools\n",
        "* Using groupby\n",
        "* Limitations of Map Reduce Libraries"
      ]
    }
  ],
  "metadata": {
    "kernelspec": {
      "display_name": "Python 3",
      "language": "python",
      "name": "python3"
    },
    "language_info": {
      "codemirror_mode": {
        "name": "ipython",
        "version": 3
      },
      "file_extension": ".py",
      "mimetype": "text/x-python",
      "name": "python",
      "nbconvert_exporter": "python",
      "pygments_lexer": "ipython3",
      "version": "3.6.12"
    }
  },
  "nbformat": 4,
  "nbformat_minor": 4
}