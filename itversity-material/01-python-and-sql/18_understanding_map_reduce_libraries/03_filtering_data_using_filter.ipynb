{
  "cells": [
    {
      "cell_type": "markdown",
      "metadata": {},
      "source": [
        "## Filtering Data using filter\n",
        "\n",
        "Let us go through the details about `filter`.\n",
        "* We can use `filter` on top of `iterable` to return new `iterable` with all the elements satisfying the condition.\n",
        "* It takes filter logic and iterable as arguments. We can pass filter logic either as regular function or lambda function.\n",
        "* `filter` returns a special iterable called as `filter`. We have to type cast to regular collection such as `list` to preview the data or we can use for loop to iterate and print the data.\n",
        "* Number of elements in the `filter` object is typically less than number of elements in the original `iterable` passed to it."
      ]
    },
    {
      "cell_type": "code",
      "execution_count": null,
      "metadata": {},
      "outputs": [],
      "source": [
        "%run 02_preparing_data_sets.ipynb"
      ]
    },
    {
      "cell_type": "code",
      "execution_count": null,
      "metadata": {},
      "outputs": [],
      "source": [
        "orders[:10]"
      ]
    },
    {
      "cell_type": "code",
      "execution_count": null,
      "metadata": {},
      "outputs": [],
      "source": [
        "len(orders)"
      ]
    },
    {
      "cell_type": "code",
      "execution_count": null,
      "metadata": {},
      "outputs": [],
      "source": [
        "order_items[:10]"
      ]
    },
    {
      "cell_type": "code",
      "execution_count": null,
      "metadata": {},
      "outputs": [],
      "source": [
        "len(order_items)"
      ]
    },
    {
      "cell_type": "code",
      "execution_count": null,
      "metadata": {},
      "outputs": [],
      "source": [
        "filter?"
      ]
    },
    {
      "cell_type": "markdown",
      "metadata": {},
      "source": [
        "* We need to pass a function with filter logic and an `iterable` to filter."
      ]
    },
    {
      "cell_type": "code",
      "execution_count": null,
      "metadata": {},
      "outputs": [],
      "source": [
        "orders[:10]"
      ]
    },
    {
      "cell_type": "code",
      "execution_count": null,
      "metadata": {},
      "outputs": [],
      "source": [
        "order = '1,2013-07-25 00:00:00.0,11599,CLOSED'\n",
        "int(order.split(',')[2]) == 11599"
      ]
    },
    {
      "cell_type": "markdown",
      "metadata": {},
      "source": [
        "* Get orders placed by customer id 12431"
      ]
    },
    {
      "cell_type": "code",
      "execution_count": null,
      "metadata": {},
      "outputs": [],
      "source": [
        "customer_orders = filter(\n",
        "    lambda order: int(order.split(',')[2]) == 12431,\n",
        "    orders\n",
        ")"
      ]
    },
    {
      "cell_type": "code",
      "execution_count": null,
      "metadata": {},
      "outputs": [],
      "source": [
        "type(customer_orders)"
      ]
    },
    {
      "cell_type": "code",
      "execution_count": null,
      "metadata": {},
      "outputs": [],
      "source": [
        "customer_orders"
      ]
    },
    {
      "cell_type": "code",
      "execution_count": null,
      "metadata": {},
      "outputs": [],
      "source": [
        "list(customer_orders)"
      ]
    },
    {
      "cell_type": "markdown",
      "metadata": {},
      "source": [
        "* Get orders placed by customer id 12431 in the month of 2014 January"
      ]
    },
    {
      "cell_type": "code",
      "execution_count": null,
      "metadata": {},
      "outputs": [],
      "source": [
        "customer_orders_for_month = filter(\n",
        "    lambda order: int(order.split(',')[2]) == 12431\n",
        "        and order.split(',')[1].startswith('2014-01'),\n",
        "    orders\n",
        ")"
      ]
    },
    {
      "cell_type": "code",
      "execution_count": null,
      "metadata": {},
      "outputs": [],
      "source": [
        "for rec in customer_orders_for_month:\n",
        "    print(rec)"
      ]
    },
    {
      "cell_type": "markdown",
      "metadata": {},
      "source": [
        "* Get orders placed by customer id 12431 in processing or pending_payment for the month of 2014 January"
      ]
    },
    {
      "cell_type": "code",
      "execution_count": null,
      "metadata": {},
      "outputs": [],
      "source": [
        "customer_orders_for_month = filter(\n",
        "    lambda order: int(order.split(',')[2]) == 12431\n",
        "        and order.split(',')[1].startswith('2014-01')\n",
        "        and order.split(',')[3] in ('PENDING_PAYMENT', 'PROCESSING'),\n",
        "    orders\n",
        ")"
      ]
    },
    {
      "cell_type": "code",
      "execution_count": null,
      "metadata": {},
      "outputs": [],
      "source": [
        "list(customer_orders_for_month)"
      ]
    },
    {
      "cell_type": "code",
      "execution_count": null,
      "metadata": {},
      "outputs": [],
      "source": [
        "def check_order(order_details, customer_id, order_month, order_statuses):\n",
        "    if int(order_details[2]) == customer_id and \\\n",
        "        order_details[1].startswith(order_month) and \\\n",
        "        order_details[3] in order_statuses:\n",
        "        return True"
      ]
    },
    {
      "cell_type": "code",
      "execution_count": null,
      "metadata": {},
      "outputs": [],
      "source": [
        "customer_orders_for_month = filter(\n",
        "    lambda order: check_order(order.split(','), 12431, '2014-01', ('PENDING_PAYMENT', 'PROCESSING')),\n",
        "    orders\n",
        ")"
      ]
    },
    {
      "cell_type": "code",
      "execution_count": null,
      "metadata": {},
      "outputs": [],
      "source": [
        "list(customer_orders_for_month)"
      ]
    }
  ],
  "metadata": {
    "kernelspec": {
      "display_name": "Python 3",
      "language": "python",
      "name": "python3"
    },
    "language_info": {
      "codemirror_mode": {
        "name": "ipython",
        "version": 3
      },
      "file_extension": ".py",
      "mimetype": "text/x-python",
      "name": "python",
      "nbconvert_exporter": "python",
      "pygments_lexer": "ipython3",
      "version": "3.6.12"
    }
  },
  "nbformat": 4,
  "nbformat_minor": 4
}