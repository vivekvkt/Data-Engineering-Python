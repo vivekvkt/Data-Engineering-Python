{
 "cells": [
  {
   "cell_type": "markdown",
   "metadata": {},
   "source": [
    "## Exercise - User Defined Functions\n",
    "\n",
    "Let us take care of exercises to check whether we understand how to define the functions."
   ]
  },
  {
   "cell_type": "markdown",
   "metadata": {},
   "source": [
    "### Simple Calculator\n",
    "Let us develop a function called as **calc**.\n",
    "* It should take 3 arguments\n",
    "* First argument - a of type int\n",
    "* Second argument - b of type int\n",
    "* Third argument - op of type int\n",
    "* If op is 1, the function should return sum of a and b\n",
    "* If op is 2, the function should subtract b from a and return the result\n",
    "* If op is 3, the function should multiply a with b and return the result\n",
    "* If op is 4, the function should divide a by b and return the result\n",
    "* If op is any other number, the function should print saying that **invalid op** and return nothing"
   ]
  },
  {
   "cell_type": "code",
   "execution_count": null,
   "metadata": {},
   "outputs": [],
   "source": [
    "print('Hello World')"
   ]
  },
  {
   "cell_type": "code",
   "execution_count": null,
   "metadata": {},
   "outputs": [],
   "source": [
    "# Your code should go here"
   ]
  },
  {
   "cell_type": "markdown",
   "metadata": {},
   "source": [
    "### Validation\n",
    "Please run this code to validate the function `calc`."
   ]
  },
  {
   "cell_type": "code",
   "execution_count": null,
   "metadata": {},
   "outputs": [],
   "source": [
    "a = int(input(\"Enter first value of type integer: \"))"
   ]
  },
  {
   "cell_type": "code",
   "execution_count": null,
   "metadata": {},
   "outputs": [],
   "source": [
    "b = int(input(\"Enter second value of type integer: \"))"
   ]
  },
  {
   "cell_type": "code",
   "execution_count": null,
   "metadata": {},
   "outputs": [],
   "source": [
    "op = int(input(\"Enter 1 for add, 2 for sub, 3 for mul and 4 for div: \"))"
   ]
  },
  {
   "cell_type": "code",
   "execution_count": null,
   "metadata": {},
   "outputs": [],
   "source": [
    "res = calc(a, b, op)"
   ]
  },
  {
   "cell_type": "markdown",
   "metadata": {},
   "source": [
    "### Sum of Integers from 1 to n\n",
    "\n",
    "Develop functions to get sum of integers within a range of 1 to n.\n",
    "* Function Name: **sum_n**\n",
    "* Argument: **n**\n",
    "* Perform below validations. If not, raise an exception.\n",
    "  * Check if **n** is integer or not.\n",
    "  * Check if **n** is positive integer or not.\n",
    "* Exception should say **{n} is not a valid integer**.\n",
    "* You should display the value passed in place of **{n}** as part of the exception.\n",
    "* The function should return the sum of integers from 1 to n. The logic should be implemented using formula."
   ]
  },
  {
   "cell_type": "code",
   "execution_count": null,
   "metadata": {},
   "outputs": [],
   "source": [
    "# Your code should go here"
   ]
  },
  {
   "cell_type": "code",
   "execution_count": null,
   "metadata": {},
   "outputs": [],
   "source": [
    "n = 4"
   ]
  },
  {
   "cell_type": "code",
   "execution_count": null,
   "metadata": {},
   "outputs": [],
   "source": [
    "res = sum_n(n) # the output should be 10"
   ]
  },
  {
   "cell_type": "code",
   "execution_count": null,
   "metadata": {},
   "outputs": [],
   "source": [
    "m = 10"
   ]
  },
  {
   "cell_type": "code",
   "execution_count": null,
   "metadata": {},
   "outputs": [],
   "source": [
    "res = sum_n(m) # the output should be 55"
   ]
  },
  {
   "cell_type": "markdown",
   "metadata": {},
   "source": [
    "### Sum of Integers within a range\n",
    "\n",
    "Develop functions to get sum of integers within a range of lower bound and upper bound.\n",
    "* Function Name: **sum_of_integers**\n",
    "* Argument Names: **lb** and **ub**\n",
    "* Check if **lb** and **ub** are integers or not. If not, raise an exception. Exception should be **Either {lb} or {ub} are not integers**. \n",
    "* Check if **lb** is less than **ub** or not. If not, raise an exception. Exception should say **{lb} is not lower than {ub}**.\n",
    "* You should display the values passed to the function in place of **{lb}** and **{ub}** as part of the exception.\n",
    "* The function should return the sum of integers from lb and ub. The function should use **sum_n** to get sum of integers between 1 and upper bound as well as 1 and lower bound."
   ]
  },
  {
   "cell_type": "code",
   "execution_count": null,
   "metadata": {},
   "outputs": [],
   "source": [
    "# Your code should go here"
   ]
  },
  {
   "cell_type": "code",
   "execution_count": null,
   "metadata": {},
   "outputs": [],
   "source": [
    "n = 4"
   ]
  },
  {
   "cell_type": "code",
   "execution_count": null,
   "metadata": {},
   "outputs": [],
   "source": [
    "res = sum_n(n) # the output should be 10"
   ]
  },
  {
   "cell_type": "code",
   "execution_count": null,
   "metadata": {},
   "outputs": [],
   "source": [
    "m = 10"
   ]
  },
  {
   "cell_type": "code",
   "execution_count": null,
   "metadata": {},
   "outputs": [],
   "source": [
    "res = sum_n(m) # the output should be 55"
   ]
  }
 ],
 "metadata": {
  "kernelspec": {
   "display_name": "Python 3 (ipykernel)",
   "language": "python",
   "name": "python3"
  },
  "language_info": {
   "codemirror_mode": {
    "name": "ipython",
    "version": 3
   },
   "file_extension": ".py",
   "mimetype": "text/x-python",
   "name": "python",
   "nbconvert_exporter": "python",
   "pygments_lexer": "ipython3",
   "version": "3.7.12"
  }
 },
 "nbformat": 4,
 "nbformat_minor": 4
}
