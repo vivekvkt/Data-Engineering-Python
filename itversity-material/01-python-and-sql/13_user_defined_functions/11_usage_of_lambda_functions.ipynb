{
 "cells": [
  {
   "cell_type": "markdown",
   "metadata": {},
   "source": [
    "## Usage of Lambda Functions\n",
    "\n",
    "Lambda functions are typically used while invoking those functions which take functions as arguments. Here are some of the functions which take other functions as arguments.\n",
    "* `filter`\n",
    "* `map`\n",
    "* `sorted` or `sort`\n",
    "and more\n",
    "\n",
    "There are many Python modules which have functions which take other functions as arguments. We will see quite a lot of examples in upcoming chapters."
   ]
  },
  {
   "cell_type": "code",
   "execution_count": null,
   "metadata": {},
   "outputs": [],
   "source": [
    "filter?"
   ]
  },
  {
   "cell_type": "code",
   "execution_count": null,
   "metadata": {},
   "outputs": [],
   "source": [
    "map?"
   ]
  },
  {
   "cell_type": "code",
   "execution_count": null,
   "metadata": {},
   "outputs": [],
   "source": [
    "sorted?"
   ]
  },
  {
   "cell_type": "code",
   "execution_count": null,
   "metadata": {},
   "outputs": [],
   "source": [
    "users = [\n",
    "    '1,Bryn,Eaken,beaken0@cbc.ca,Female,236.34.175.186',\n",
    "    '2,Smith,Combe,scombe1@xing.com,Male,',\n",
    "    '3,Roland,Wallentin,rwallentin2@aboutads.info,Male,94.67.195.44',\n",
    "    '4,Charlotta,Richten,crichten3@wikia.com,Female,202.51.201.1',\n",
    "    '5,Berne,Coyne,bcoyne4@squarespace.com,,150.246.120.53',\n",
    "    '6,Kesley,Hakonsen,khakonsen5@cbc.ca,Female,227.61.48.174',\n",
    "    \"7,Gray,M'Barron,gmbarron6@altervista.org,Male,190.128.200.183\",\n",
    "    '8,Melinde,Scarf,mscarf7@diigo.com,Female,134.41.141.5',\n",
    "    '9,Arturo,Warkup,awarkup8@nifty.com,Male,',\n",
    "    '10,Annette,Lowthorpe,alowthorpe9@marketwatch.com,Female,63.157.95.191',\n",
    "    '11,Melinda,McOwen,mmcowena@unblog.fr,Female,73.95.183.60',\n",
    "    '12,Minnie,Andrivel,mandrivelb@storify.com,,131.194.233.209',\n",
    "    '13,Taryn,Medhurst,tmedhurstc@ebay.co.uk,Female,65.191.102.59',\n",
    "    '14,Fanni,Whitley,fwhitleyd@who.int,Female,184.210.235.118',\n",
    "    '15,Jareb,Thunderchief,jthunderchiefe@arizona.edu,Male,150.159.27.112',\n",
    "    '16,Sharona,Haffard,shaffardf@kickstarter.com,Female,91.125.183.157',\n",
    "    '17,Pattin,Basant,pbasantg@gov.uk,Male,162.227.228.164',\n",
    "    '18,Beatrice,Butler,bbutlerh@abc.net.au,Female,139.49.169.236',\n",
    "    '19,Linoel,Bucktrout,lbucktrouti@google.ru,Male,18.17.136.105',\n",
    "    '20,Katee,Aveyard,kaveyardj@feedburner.com,Female,60.25.33.89'\n",
    "]"
   ]
  },
  {
   "cell_type": "code",
   "execution_count": null,
   "metadata": {},
   "outputs": [],
   "source": [
    "type(users)"
   ]
  },
  {
   "cell_type": "code",
   "execution_count": null,
   "metadata": {},
   "outputs": [],
   "source": [
    "type(users[0])"
   ]
  },
  {
   "cell_type": "code",
   "execution_count": null,
   "metadata": {},
   "outputs": [],
   "source": [
    "males = filter(\n",
    "    lambda user: user.split(',')[4] == 'Male',\n",
    "    users\n",
    ")\n",
    "list(males)"
   ]
  },
  {
   "cell_type": "code",
   "execution_count": null,
   "metadata": {},
   "outputs": [],
   "source": [
    "male_and_females = filter(\n",
    "    lambda user: user.split(',')[4] in ('Male', 'Female'),\n",
    "    users\n",
    ")\n",
    "list(male_and_females)"
   ]
  },
  {
   "cell_type": "code",
   "execution_count": null,
   "metadata": {},
   "outputs": [],
   "source": [
    "male_and_females = filter(\n",
    "    lambda user: user.split(',')[4] in ('Male', 'Female'),\n",
    "    users\n",
    ")\n",
    "len(list(male_and_females))"
   ]
  },
  {
   "cell_type": "code",
   "execution_count": null,
   "metadata": {},
   "outputs": [],
   "source": [
    "users"
   ]
  },
  {
   "cell_type": "code",
   "execution_count": null,
   "metadata": {},
   "outputs": [],
   "source": [
    "user_ips = map(\n",
    "    lambda user: (int(user.split(',')[0]), user.split(',')[-1]),\n",
    "    users\n",
    ")\n",
    "list(user_ips)"
   ]
  },
  {
   "cell_type": "code",
   "execution_count": null,
   "metadata": {},
   "outputs": [],
   "source": [
    "sort_by_gender_and_id = sorted(\n",
    "    users, \n",
    "    key=lambda user: (user.split(',')[4], int(user.split(',')[0]))\n",
    ")\n",
    "sort_by_gender_and_id"
   ]
  }
 ],
 "metadata": {
  "kernelspec": {
   "display_name": "Python 3 (ipykernel)",
   "language": "python",
   "name": "python3"
  },
  "language_info": {
   "codemirror_mode": {
    "name": "ipython",
    "version": 3
   },
   "file_extension": ".py",
   "mimetype": "text/x-python",
   "name": "python",
   "nbconvert_exporter": "python",
   "pygments_lexer": "ipython3",
   "version": "3.7.12"
  }
 },
 "nbformat": 4,
 "nbformat_minor": 4
}
