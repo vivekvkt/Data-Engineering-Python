{
 "cells": [
  {
   "cell_type": "markdown",
   "metadata": {},
   "source": [
    "## Function Parameters and Arguments\n",
    "\n",
    "Let us get an overview of different types of Function Parameters and Arguments supported by Python.\n",
    "* Parameter is variable in the declaration of function. Argument is the actual value of this variable that gets passed to function.\n",
    "* However, in some cases these two terms are used interchangeably.\n",
    "* In Python, parameters can be objects or even functions. We can pass named functions or lambda functions as arguments. We will talk about these details later.\n",
    "* Here are different types of parameters or arguments:\n",
    "  * Parameters with Default Values\n",
    "  * Varying arguments\n",
    "  * Keyword arguments\n",
    "  * Varying Keyword arguments\n",
    "* We can pass arguments to a function by parameter position or name. If you use name you can pass arguments in any order.\n",
    "* You can only specify parameters with default values after mandatory parameters. `def get_commission_amount(sales_amount=1000, commission_pct)` is syntactically wrong and throws error."
   ]
  },
  {
   "cell_type": "markdown",
   "metadata": {},
   "source": [
    "### Tasks\n",
    "Let us perform a few tasks to understand more about parameters and arguments with and with out default values.\n",
    "\n",
    "* Checking whether phone numbers of a given employee are valid - get_invalid_phone_count\n",
    "  * Function should take 2 arguments, employee_id and phone_numbers (list)\n",
    "  * Check whether each phone number have 10 digits.\n",
    "  * Return employee_id and number of phone numbers with less than 10 digits\n",
    "* Get commission amount by passing sales amount and commission percentage. However, if the commission percentage is not passed from the caller, then the default percentage should be 10."
   ]
  },
  {
   "cell_type": "code",
   "execution_count": null,
   "metadata": {},
   "outputs": [],
   "source": [
    "def get_invalid_phone_count(employee_id, phone_numbers):\n",
    "    invalid_count = 0\n",
    "    for phone_number in phone_numbers:\n",
    "        if len(phone_number) != 10:\n",
    "            invalid_count += 1\n",
    "    return employee_id, invalid_count"
   ]
  },
  {
   "cell_type": "code",
   "execution_count": null,
   "metadata": {},
   "outputs": [],
   "source": [
    "s = 'Employee {employee_id} have {invalid_count} invalid phones'\n",
    "employee_id, invalid_count = get_invalid_phone_count(1, ['1234', '1234567890'])"
   ]
  },
  {
   "cell_type": "code",
   "execution_count": null,
   "metadata": {},
   "outputs": [],
   "source": [
    "print(s.format(employee_id=employee_id, invalid_count=invalid_count))"
   ]
  },
  {
   "cell_type": "code",
   "execution_count": null,
   "metadata": {},
   "outputs": [],
   "source": [
    "def get_commission_amount(sales_amount=1000, commission_pct):\n",
    "    \"\"\"Function to compute commission amount. commission_pct should be passed as percent notation (eg: 20%)\n",
    "       20% using percent notation is equal to 0.20 in decimal notation.\n",
    "    \"\"\"\n",
    "    commission_amount = (sales_amount * commission_pct / 100) if commission_pct else 0\n",
    "    return commission_amount"
   ]
  },
  {
   "cell_type": "code",
   "execution_count": null,
   "metadata": {},
   "outputs": [],
   "source": [
    "def get_commission_amount(sales_amount, commission_pct=10):\n",
    "    \"\"\"Function to compute commission amount. commission_pct should be passed as percent notation (eg: 20%)\n",
    "       20% using percent notation is equal to 0.20 in decimal notation.\n",
    "    \"\"\"\n",
    "    if commission_pct and commission_pct > 100:\n",
    "        print('Invalid Commision Percentage, greater than 100')\n",
    "        return\n",
    "    commission_amount = sales_amount * (commission_pct / 100) if commission_pct else 0\n",
    "    return commission_amount"
   ]
  },
  {
   "cell_type": "code",
   "execution_count": null,
   "metadata": {},
   "outputs": [],
   "source": [
    "# Arguments by position\n",
    "get_commission_amount(1000, 5)"
   ]
  },
  {
   "cell_type": "code",
   "execution_count": null,
   "metadata": {},
   "outputs": [],
   "source": [
    "# Will take commission_pct default value\n",
    "get_commission_amount(1000)"
   ]
  },
  {
   "cell_type": "code",
   "execution_count": null,
   "metadata": {},
   "outputs": [],
   "source": [
    "get_commission_amount(1000, None)"
   ]
  },
  {
   "cell_type": "code",
   "execution_count": null,
   "metadata": {},
   "outputs": [],
   "source": [
    "get_commission_amount(1000, 150)"
   ]
  },
  {
   "cell_type": "code",
   "execution_count": null,
   "metadata": {},
   "outputs": [],
   "source": [
    "# Arguments by name\n",
    "get_commission_amount(commission_pct=18, sales_amount=1500)"
   ]
  },
  {
   "cell_type": "code",
   "execution_count": null,
   "metadata": {},
   "outputs": [],
   "source": []
  }
 ],
 "metadata": {
  "kernelspec": {
   "display_name": "Python 3 (ipykernel)",
   "language": "python",
   "name": "python3"
  },
  "language_info": {
   "codemirror_mode": {
    "name": "ipython",
    "version": 3
   },
   "file_extension": ".py",
   "mimetype": "text/x-python",
   "name": "python",
   "nbconvert_exporter": "python",
   "pygments_lexer": "ipython3",
   "version": "3.7.12"
  }
 },
 "nbformat": 4,
 "nbformat_minor": 4
}
