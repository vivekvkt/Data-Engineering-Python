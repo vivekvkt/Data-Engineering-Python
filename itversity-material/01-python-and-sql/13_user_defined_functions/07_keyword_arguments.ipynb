{
 "cells": [
  {
   "cell_type": "markdown",
   "metadata": {},
   "source": [
    "## Keyword Arguments\n",
    "\n",
    "Let us go through the details related to Keyword Arguments using Python as Programming Language.\n",
    "* Keyword Argument is same as passing argument by name.\n",
    "* You can also specify parameter for varying keyword arguments with `**` at the beginning - example: `**degrees`\n",
    "* While passing arguments to satisfy the parameter with `**`, you have to pass key as well as value.\n",
    "* Varying Keyword Arguments can be processed as `dict` in the Function body."
   ]
  },
  {
   "cell_type": "code",
   "execution_count": null,
   "metadata": {},
   "outputs": [],
   "source": [
    "def add_employee(employee_id, **degrees):\n",
    "    print(f'Length of degrees is: {len(degrees)}')\n",
    "    print(f'Type of degrees is: {type(degrees)}')\n",
    "    print(degrees)"
   ]
  },
  {
   "cell_type": "code",
   "execution_count": null,
   "metadata": {},
   "outputs": [],
   "source": [
    "add_employee(1, bachelors='B. Sc', masters='M. C. A')"
   ]
  },
  {
   "cell_type": "code",
   "execution_count": null,
   "metadata": {},
   "outputs": [],
   "source": [
    "degrees = {'bachelors': 'B. Sc', 'masters': 'M. C. A'}\n",
    "add_employee(1, **degrees)"
   ]
  },
  {
   "cell_type": "code",
   "execution_count": null,
   "metadata": {},
   "outputs": [],
   "source": [
    "def add_employee(employee_id, *phone_numbers, **degrees):\n",
    "    print(f'Length of phone_numbers is: {len(phone_numbers)}')\n",
    "    print(f'Type of phone_numbers is: {type(phone_numbers)}')\n",
    "    print(phone_numbers)    \n",
    "    print(f'Length of degrees is: {len(degrees)}')\n",
    "    print(f'Type of degrees is: {type(degrees)}')\n",
    "    print(degrees)"
   ]
  },
  {
   "cell_type": "code",
   "execution_count": null,
   "metadata": {},
   "outputs": [],
   "source": [
    "add_employee(1, '1234567890', '1234567890', bachelors='B. Sc', masters='M. C. A')"
   ]
  },
  {
   "cell_type": "code",
   "execution_count": null,
   "metadata": {},
   "outputs": [],
   "source": []
  }
 ],
 "metadata": {
  "kernelspec": {
   "display_name": "Python 3 (ipykernel)",
   "language": "python",
   "name": "python3"
  },
  "language_info": {
   "codemirror_mode": {
    "name": "ipython",
    "version": 3
   },
   "file_extension": ".py",
   "mimetype": "text/x-python",
   "name": "python",
   "nbconvert_exporter": "python",
   "pygments_lexer": "ipython3",
   "version": "3.7.12"
  }
 },
 "nbformat": 4,
 "nbformat_minor": 4
}
