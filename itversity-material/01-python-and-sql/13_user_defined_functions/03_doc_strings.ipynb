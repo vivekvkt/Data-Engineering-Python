{
 "cells": [
  {
   "cell_type": "markdown",
   "metadata": {},
   "source": [
    "## Doc Strings\n",
    "Documentation is one of the key aspect related to programming. However, it should be crisp and informative. In Python we can use doc strings for the documentation of our code.* One of the key aspect of documentation is to provide information about usage of a function.\n",
    "* In Python we can get the information about the function by using help.\n",
    "* We can get help for a class like `str` using `help(str)` and help for a function like `str.startswith` using `help(str.startswith)`.\n",
    "* If you want to provide help for user defined function, you can leverage the feature of Doc Strings. It is nothing but a string which is provided as first statement in a function.\n",
    "* Here are some of the characteristics related to Doc Strings:\n",
    "  * By default help returns the function specification.\n",
    "  * Doc String should be the first line in the function body.\n",
    "  * The Doc String should not be assigned to any variable.\n",
    "  * Using `\"\"\"` or `'''`, we can have multi-line string.\n",
    "* It is a good practice to provide crisp and concise Doc String for each of the custom function developed."
   ]
  },
  {
   "cell_type": "code",
   "execution_count": null,
   "metadata": {},
   "outputs": [],
   "source": [
    "help(str)"
   ]
  },
  {
   "cell_type": "code",
   "execution_count": null,
   "metadata": {},
   "outputs": [],
   "source": [
    "help(str.startswith)"
   ]
  },
  {
   "cell_type": "code",
   "execution_count": null,
   "metadata": {},
   "outputs": [],
   "source": [
    "str.startswith?"
   ]
  },
  {
   "cell_type": "code",
   "execution_count": null,
   "metadata": {},
   "outputs": [],
   "source": [
    "def get_commission_amount(sales_amount, commission_pct):\n",
    "    \"\"\"Function to compute commission amount. commission_pct should be passed as percent notation (eg: 20%)\n",
    "       20% using percent notation is equal to 0.20 in decimal notation.\n",
    "    \"\"\"\n",
    "    commission_amount = (sales_amount * commission_pct / 100) if commission_pct else 0\n",
    "    return commission_amount"
   ]
  },
  {
   "cell_type": "code",
   "execution_count": null,
   "metadata": {},
   "outputs": [],
   "source": [
    "get_commission_amount"
   ]
  },
  {
   "cell_type": "code",
   "execution_count": null,
   "metadata": {},
   "outputs": [],
   "source": [
    "help(get_commission_amount)"
   ]
  },
  {
   "cell_type": "code",
   "execution_count": null,
   "metadata": {},
   "outputs": [],
   "source": [
    "get_commission_amount?"
   ]
  },
  {
   "cell_type": "code",
   "execution_count": null,
   "metadata": {},
   "outputs": [],
   "source": []
  }
 ],
 "metadata": {
  "kernelspec": {
   "display_name": "Python 3 (ipykernel)",
   "language": "python",
   "name": "python3"
  },
  "language_info": {
   "codemirror_mode": {
    "name": "ipython",
    "version": 3
   },
   "file_extension": ".py",
   "mimetype": "text/x-python",
   "name": "python",
   "nbconvert_exporter": "python",
   "pygments_lexer": "ipython3",
   "version": "3.7.12"
  }
 },
 "nbformat": 4,
 "nbformat_minor": 4
}
