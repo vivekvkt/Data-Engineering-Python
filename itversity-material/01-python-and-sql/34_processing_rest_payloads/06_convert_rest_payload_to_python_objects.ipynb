{
  "cells": [
    {
      "cell_type": "markdown",
      "id": "3d620962",
      "metadata": {},
      "source": [
        "## Convert REST Payload to Python Objects\n",
        "\n",
        "Let us understand how we can convert REST `GET` Payload to appropriate Python Objects.\n",
        "* We have already seen that the `payload` is of type `str`. Also, it contains valid `json`. It can be a simple JSON Document or JSON Array.\n",
        "\n",
        "Here are the steps involved in converting REST Payload to Python Objects.\n",
        "* Invoke REST API by passing valid URI. It will create response object.\n",
        "* Using response object, we can invoke `json()`. It will return Python dict or Python list. The list typically contain dicts.\n",
        "* Once it is converted to Python dict or list we can further process data using appropriate Python APIs as per our requirements."
      ]
    },
    {
      "cell_type": "code",
      "execution_count": null,
      "id": "25d5dc09",
      "metadata": {},
      "outputs": [],
      "source": [
        "import requests"
      ]
    },
    {
      "cell_type": "markdown",
      "id": "bf8853b9",
      "metadata": {},
      "source": [
        "* Example for simple JSON to `dict`."
      ]
    },
    {
      "cell_type": "code",
      "execution_count": null,
      "id": "ae053a12",
      "metadata": {},
      "outputs": [],
      "source": [
        "!curl https://api.github.com"
      ]
    },
    {
      "cell_type": "code",
      "execution_count": null,
      "id": "2a20a697",
      "metadata": {},
      "outputs": [],
      "source": [
        "payload = requests.get('https://api.github.com').content.decode('utf-8')"
      ]
    },
    {
      "cell_type": "code",
      "execution_count": null,
      "id": "770ef3cc",
      "metadata": {},
      "outputs": [],
      "source": [
        "payload # A string with valid json"
      ]
    },
    {
      "cell_type": "code",
      "execution_count": null,
      "id": "68ef6c2d",
      "metadata": {},
      "outputs": [],
      "source": [
        "payload_dict = requests.get('https://api.github.com').json() # returns Python dict directly"
      ]
    },
    {
      "cell_type": "code",
      "execution_count": null,
      "id": "feb32d50",
      "metadata": {},
      "outputs": [],
      "source": [
        "type(payload_dict)"
      ]
    },
    {
      "cell_type": "code",
      "execution_count": null,
      "id": "b64df6d8",
      "metadata": {},
      "outputs": [],
      "source": [
        "payload_dict # It is of type dict"
      ]
    },
    {
      "cell_type": "code",
      "execution_count": null,
      "id": "a83aa377",
      "metadata": {},
      "outputs": [],
      "source": [
        "payload_dict.keys()"
      ]
    },
    {
      "cell_type": "code",
      "execution_count": null,
      "id": "b4e82a79",
      "metadata": {},
      "outputs": [],
      "source": [
        "payload_dict.values()"
      ]
    },
    {
      "cell_type": "code",
      "execution_count": null,
      "id": "44f920da",
      "metadata": {},
      "outputs": [],
      "source": [
        "payload_dict['current_user_url']"
      ]
    },
    {
      "cell_type": "markdown",
      "id": "a8025353",
      "metadata": {},
      "source": [
        "* Example for JSON Array to `list`."
      ]
    },
    {
      "cell_type": "code",
      "execution_count": null,
      "id": "04a7b1e0",
      "metadata": {},
      "outputs": [],
      "source": [
        "!curl https://api.github.com/users/dgadiraju/repos"
      ]
    },
    {
      "cell_type": "code",
      "execution_count": null,
      "id": "9b43a124",
      "metadata": {},
      "outputs": [],
      "source": [
        "import requests"
      ]
    },
    {
      "cell_type": "code",
      "execution_count": null,
      "id": "d6f0e3e0",
      "metadata": {},
      "outputs": [],
      "source": [
        "url = \"https://api.github.com/users/dgadiraju/repos\""
      ]
    },
    {
      "cell_type": "code",
      "execution_count": null,
      "id": "7cedb27c",
      "metadata": {},
      "outputs": [],
      "source": [
        "type(url)"
      ]
    },
    {
      "cell_type": "code",
      "execution_count": null,
      "id": "7d074b50",
      "metadata": {},
      "outputs": [],
      "source": [
        "response = requests.get(url)"
      ]
    },
    {
      "cell_type": "code",
      "execution_count": null,
      "id": "0dc44eca",
      "metadata": {},
      "outputs": [],
      "source": [
        "type(response)"
      ]
    },
    {
      "cell_type": "code",
      "execution_count": null,
      "id": "a7ef4492",
      "metadata": {},
      "outputs": [],
      "source": [
        "response.json()"
      ]
    },
    {
      "cell_type": "code",
      "execution_count": null,
      "id": "06383f47",
      "metadata": {},
      "outputs": [],
      "source": [
        "repos = response.json()"
      ]
    },
    {
      "cell_type": "code",
      "execution_count": null,
      "id": "68de2aa0",
      "metadata": {},
      "outputs": [],
      "source": [
        "type(repos)"
      ]
    },
    {
      "cell_type": "code",
      "execution_count": null,
      "id": "5b3c7a8b",
      "metadata": {},
      "outputs": [],
      "source": [
        "len(repos)"
      ]
    },
    {
      "cell_type": "code",
      "execution_count": null,
      "id": "2aed3841",
      "metadata": {},
      "outputs": [],
      "source": [
        "repos[0]"
      ]
    },
    {
      "cell_type": "code",
      "execution_count": null,
      "id": "125cdb97",
      "metadata": {},
      "outputs": [],
      "source": [
        "# Get names of the repos\n",
        "list(map(lambda repo: repo['name'], repos))"
      ]
    },
    {
      "cell_type": "code",
      "execution_count": null,
      "id": "ea81ea7f",
      "metadata": {},
      "outputs": [],
      "source": [
        "list(map(lambda repo: (repo['name'], repo['url']), repos))"
      ]
    }
  ],
  "metadata": {
    "kernelspec": {
      "display_name": "Python 3",
      "language": "python",
      "name": "python3"
    },
    "language_info": {
      "codemirror_mode": {
        "name": "ipython",
        "version": 3
      },
      "file_extension": ".py",
      "mimetype": "text/x-python",
      "name": "python",
      "nbconvert_exporter": "python",
      "pygments_lexer": "ipython3",
      "version": "3.6.12"
    }
  },
  "nbformat": 4,
  "nbformat_minor": 5
}