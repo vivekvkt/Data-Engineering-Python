{
 "cells": [
  {
   "cell_type": "markdown",
   "id": "940360a2-b36c-4d23-a7da-c050741700f6",
   "metadata": {},
   "source": [
    "## Processing REST Payloads\n",
    "\n",
    "As part of this section or module, we will go through the details related to Processing REST Payloads using Python.\n",
    "\n",
    "* Overview of REST APIs\n",
    "* Using curl command\n",
    "* Overview of Postman\n",
    "* Getting Started with requests\n",
    "* Convert REST Payload to Python Objects\n",
    "* Process REST Payload using Collection Operations\n",
    "* Process REST Payload using Pandas\n",
    "* Exercise - REST Payload to DB Table"
   ]
  },
  {
   "cell_type": "code",
   "execution_count": null,
   "id": "09e1a1ff-09a1-43f0-8186-f4cd0a9eca1d",
   "metadata": {},
   "outputs": [],
   "source": []
  }
 ],
 "metadata": {
  "kernelspec": {
   "display_name": "Python 3 (ipykernel)",
   "language": "python",
   "name": "python3"
  },
  "language_info": {
   "codemirror_mode": {
    "name": "ipython",
    "version": 3
   },
   "file_extension": ".py",
   "mimetype": "text/x-python",
   "name": "python",
   "nbconvert_exporter": "python",
   "pygments_lexer": "ipython3",
   "version": "3.8.12"
  }
 },
 "nbformat": 4,
 "nbformat_minor": 5
}
