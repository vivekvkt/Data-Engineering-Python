{
  "cells": [
    {
      "cell_type": "markdown",
      "id": "55d17ade",
      "metadata": {},
      "source": [
        "## Process REST Payload using pandas\n",
        "\n",
        "Let us understand how to process REST Payload using Pandas Dataframe APIs.\n",
        "* We can get details about all the public repositories using `GET /repositories` from **https://api.github.com**.\n",
        "* As it is getting or reading data from external application the details are available via `GET`. We will have JSON Array as part of the Payload.\n",
        "* We can convert this JSON Array to Python `list`. Each element in the list will be of type `dict`.\n",
        "* We can apply `pandas.json_normalize` to get flattened Dataframe by passing this list of dicts.\n",
        "* Let us understand how the data in this Pandas Dataframe can be processed using appropriate Pandas APIs as per our requirements."
      ]
    },
    {
      "cell_type": "code",
      "execution_count": null,
      "id": "99a58a77",
      "metadata": {},
      "outputs": [],
      "source": [
        "import requests"
      ]
    },
    {
      "cell_type": "code",
      "execution_count": null,
      "id": "f19fa2d6",
      "metadata": {},
      "outputs": [],
      "source": [
        "payload = requests.get('https://api.github.com/repositories').json()"
      ]
    },
    {
      "cell_type": "code",
      "execution_count": null,
      "id": "d6f0ed4f",
      "metadata": {},
      "outputs": [],
      "source": [
        "type(payload)"
      ]
    },
    {
      "cell_type": "code",
      "execution_count": null,
      "id": "e48bbd58",
      "metadata": {},
      "outputs": [],
      "source": [
        "payload # A list which contain dicts"
      ]
    },
    {
      "cell_type": "markdown",
      "id": "abcc7d08",
      "metadata": {},
      "source": [
        "* Now we can convert the list returned to pandas dataframe using `json_normalize`."
      ]
    },
    {
      "cell_type": "code",
      "execution_count": null,
      "id": "5d313faa",
      "metadata": {},
      "outputs": [],
      "source": [
        "import pandas as pd"
      ]
    },
    {
      "cell_type": "code",
      "execution_count": null,
      "id": "a605b934",
      "metadata": {},
      "outputs": [],
      "source": [
        "pd.DataFrame(payload)"
      ]
    },
    {
      "cell_type": "code",
      "execution_count": null,
      "id": "7c583cfb",
      "metadata": {},
      "outputs": [],
      "source": [
        "repos_df = pd.json_normalize(payload)"
      ]
    },
    {
      "cell_type": "code",
      "execution_count": null,
      "id": "a765b023",
      "metadata": {},
      "outputs": [],
      "source": [
        "repos_df"
      ]
    },
    {
      "cell_type": "code",
      "execution_count": null,
      "id": "d1c8d05f",
      "metadata": {},
      "outputs": [],
      "source": [
        "repos_df.columns"
      ]
    },
    {
      "cell_type": "code",
      "execution_count": null,
      "id": "ad0e9ae3",
      "metadata": {},
      "outputs": [],
      "source": [
        "repos_df.dtypes"
      ]
    },
    {
      "cell_type": "code",
      "execution_count": null,
      "id": "3be930e8",
      "metadata": {},
      "outputs": [],
      "source": [
        "repos_df.shape"
      ]
    },
    {
      "cell_type": "code",
      "execution_count": null,
      "id": "8c5ebdd9",
      "metadata": {},
      "outputs": [],
      "source": [
        "repos_df.count()"
      ]
    },
    {
      "cell_type": "markdown",
      "id": "123f6402",
      "metadata": {},
      "source": [
        "Here are some of the tasks you can work on using `repos_df` data. We will explore the solutions using Pandas APIs."
      ]
    },
    {
      "cell_type": "code",
      "execution_count": null,
      "id": "03ea8756",
      "metadata": {},
      "outputs": [],
      "source": [
        "since = 369"
      ]
    },
    {
      "cell_type": "code",
      "execution_count": null,
      "id": "693264ba",
      "metadata": {},
      "outputs": [],
      "source": [
        "repos = requests.get(f'https://api.github.com/repositories?since={since}').json()"
      ]
    },
    {
      "cell_type": "code",
      "execution_count": null,
      "id": "5c2b3762",
      "metadata": {},
      "outputs": [],
      "source": [
        "repos_df = pd.json_normalize(repos)"
      ]
    },
    {
      "cell_type": "code",
      "execution_count": null,
      "id": "e83df71b",
      "metadata": {},
      "outputs": [],
      "source": [
        "repos_df"
      ]
    },
    {
      "cell_type": "markdown",
      "id": "7f10b485",
      "metadata": {},
      "source": [
        "* Get number of repositories."
      ]
    },
    {
      "cell_type": "code",
      "execution_count": null,
      "id": "4e6ebe92",
      "metadata": {},
      "outputs": [],
      "source": [
        "repos_df.shape"
      ]
    },
    {
      "cell_type": "code",
      "execution_count": null,
      "id": "f23e5e83",
      "metadata": {},
      "outputs": [],
      "source": [
        "repos_df.shape[0]"
      ]
    },
    {
      "cell_type": "markdown",
      "id": "062055d7",
      "metadata": {},
      "source": [
        "* Get repository name, url and owner type of all repositories."
      ]
    },
    {
      "cell_type": "code",
      "execution_count": null,
      "id": "64e05f64",
      "metadata": {},
      "outputs": [],
      "source": [
        "repos_df"
      ]
    },
    {
      "cell_type": "code",
      "execution_count": null,
      "id": "a61ccb32",
      "metadata": {},
      "outputs": [],
      "source": [
        "repos_df[['name', 'url', 'owner.type']]"
      ]
    },
    {
      "cell_type": "markdown",
      "id": "c3693976",
      "metadata": {},
      "source": [
        "* Get all unique or distinct owner types of the repositories. The output should be of type **list**."
      ]
    },
    {
      "cell_type": "code",
      "execution_count": null,
      "id": "0097df85",
      "metadata": {},
      "outputs": [],
      "source": [
        "repos_df['owner.type']"
      ]
    },
    {
      "cell_type": "code",
      "execution_count": null,
      "id": "9c353387",
      "metadata": {},
      "outputs": [],
      "source": [
        "repos_df['owner.type'].unique()"
      ]
    },
    {
      "cell_type": "code",
      "execution_count": null,
      "id": "1aa8a1a9",
      "metadata": {},
      "outputs": [],
      "source": [
        "list(repos_df['owner.type'].unique())"
      ]
    },
    {
      "cell_type": "markdown",
      "id": "840fa522",
      "metadata": {},
      "source": [
        "* Get number of repositories where owner type is **User**."
      ]
    },
    {
      "cell_type": "code",
      "execution_count": null,
      "id": "1db28303",
      "metadata": {},
      "outputs": [],
      "source": [
        "repos_df['owner.type'] == 'User'"
      ]
    },
    {
      "cell_type": "code",
      "execution_count": null,
      "id": "93946fbd",
      "metadata": {},
      "outputs": [],
      "source": [
        "repos_df[repos_df['owner.type'] == 'User']"
      ]
    },
    {
      "cell_type": "code",
      "execution_count": null,
      "id": "4085db02",
      "metadata": {},
      "outputs": [],
      "source": [
        "repos_df[repos_df['owner.type'] == 'User'].shape"
      ]
    },
    {
      "cell_type": "code",
      "execution_count": null,
      "id": "fa992add",
      "metadata": {},
      "outputs": [],
      "source": [
        "repos_df[repos_df['owner.type'] == 'User'].shape[0]"
      ]
    },
    {
      "cell_type": "markdown",
      "id": "83cc7bc8",
      "metadata": {},
      "source": [
        "* Get number of repositories where owner type is **Organization**."
      ]
    },
    {
      "cell_type": "code",
      "execution_count": null,
      "id": "41cafdc9",
      "metadata": {},
      "outputs": [],
      "source": [
        "repos_df[repos_df['owner.type'] == 'Organization'].shape[0]"
      ]
    },
    {
      "cell_type": "markdown",
      "id": "074e27a0",
      "metadata": {},
      "source": [
        "* Get number of repositories by each owner type."
      ]
    },
    {
      "cell_type": "code",
      "execution_count": null,
      "id": "63ee17dd",
      "metadata": {},
      "outputs": [],
      "source": [
        "repos_df.groupby('owner.type')"
      ]
    },
    {
      "cell_type": "code",
      "execution_count": null,
      "id": "987a438c",
      "metadata": {},
      "outputs": [],
      "source": [
        "repos_df.groupby('owner.type')['owner.type'].count()"
      ]
    },
    {
      "cell_type": "markdown",
      "id": "7d8d97bc",
      "metadata": {},
      "source": [
        "* Sort the data by owner type and then by id. Ensure that data is sorted by id as numeric."
      ]
    },
    {
      "cell_type": "code",
      "execution_count": null,
      "id": "b0646785",
      "metadata": {},
      "outputs": [],
      "source": [
        "repos_df.dtypes"
      ]
    },
    {
      "cell_type": "code",
      "execution_count": null,
      "id": "a80b7d94",
      "metadata": {},
      "outputs": [],
      "source": [
        "repos_df.sort_values(by=['owner.type', 'id']).head(10)"
      ]
    }
  ],
  "metadata": {
    "kernelspec": {
      "display_name": "Python 3",
      "language": "python",
      "name": "python3"
    },
    "language_info": {
      "codemirror_mode": {
        "name": "ipython",
        "version": 3
      },
      "file_extension": ".py",
      "mimetype": "text/x-python",
      "name": "python",
      "nbconvert_exporter": "python",
      "pygments_lexer": "ipython3",
      "version": "3.6.12"
    }
  },
  "nbformat": 4,
  "nbformat_minor": 5
}