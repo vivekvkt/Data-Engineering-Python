{
  "cells": [
    {
      "cell_type": "markdown",
      "id": "35e6c185",
      "metadata": {},
      "source": [
        "## Getting Started with requests\n",
        "\n",
        "Let us get started with requests module. You might have to install `requests` using `pip`.\n",
        "* `requests` is part of many other 3rd party libraries. You can check whether it is already installed or not."
      ]
    },
    {
      "cell_type": "code",
      "execution_count": null,
      "id": "2704820a",
      "metadata": {},
      "outputs": [],
      "source": [
        "!pip list|grep requests"
      ]
    },
    {
      "cell_type": "code",
      "execution_count": null,
      "id": "e1f3642c",
      "metadata": {},
      "outputs": [],
      "source": [
        "!pip install requests"
      ]
    },
    {
      "cell_type": "markdown",
      "id": "e7b57748",
      "metadata": {},
      "source": [
        "* You need to import before you start using it as part of your Python program."
      ]
    },
    {
      "cell_type": "code",
      "execution_count": null,
      "id": "83edb882",
      "metadata": {},
      "outputs": [],
      "source": [
        "import requests"
      ]
    },
    {
      "cell_type": "markdown",
      "id": "2762a87f",
      "metadata": {},
      "source": [
        "* Here are some of the important functions from `requests` module we use on regular basis. The below functions are to support common REST API calls."
      ]
    },
    {
      "cell_type": "code",
      "execution_count": null,
      "id": "f7ad6570",
      "metadata": {},
      "outputs": [],
      "source": [
        "import requests"
      ]
    },
    {
      "cell_type": "code",
      "execution_count": null,
      "id": "39557b2e",
      "metadata": {},
      "outputs": [],
      "source": [
        "url = \"https://api.github.com/users/dgadiraju/repos\""
      ]
    },
    {
      "cell_type": "code",
      "execution_count": null,
      "id": "ac708cf7",
      "metadata": {},
      "outputs": [],
      "source": [
        "type(url)"
      ]
    },
    {
      "cell_type": "code",
      "execution_count": null,
      "id": "f2234e45",
      "metadata": {},
      "outputs": [],
      "source": [
        "payload = {}\n",
        "headers = {}"
      ]
    },
    {
      "cell_type": "code",
      "execution_count": null,
      "id": "d55e91ac",
      "metadata": {},
      "outputs": [],
      "source": [
        "requests.request?"
      ]
    },
    {
      "cell_type": "code",
      "execution_count": null,
      "id": "fc0c35a2",
      "metadata": {},
      "outputs": [],
      "source": [
        "response = requests.request(\"GET\", url, headers=headers, data=payload)"
      ]
    },
    {
      "cell_type": "code",
      "execution_count": null,
      "id": "9dbedfb3",
      "metadata": {},
      "outputs": [],
      "source": [
        "type(response)"
      ]
    },
    {
      "cell_type": "code",
      "execution_count": null,
      "id": "2a02db6c",
      "metadata": {},
      "outputs": [],
      "source": [
        "response.text"
      ]
    },
    {
      "cell_type": "code",
      "execution_count": null,
      "id": "57d81e08",
      "metadata": {},
      "outputs": [],
      "source": [
        "response.json()"
      ]
    },
    {
      "cell_type": "code",
      "execution_count": null,
      "id": "2715c86e",
      "metadata": {},
      "outputs": [],
      "source": [
        "response.content"
      ]
    },
    {
      "cell_type": "code",
      "execution_count": null,
      "id": "9506b112",
      "metadata": {},
      "outputs": [],
      "source": [
        "response.content.decode('utf-8')"
      ]
    },
    {
      "cell_type": "code",
      "execution_count": null,
      "id": "33a0ba4c",
      "metadata": {},
      "outputs": [],
      "source": [
        "requests.get?"
      ]
    },
    {
      "cell_type": "code",
      "execution_count": null,
      "id": "b32670b9",
      "metadata": {},
      "outputs": [],
      "source": [
        "requests.post?"
      ]
    },
    {
      "cell_type": "code",
      "execution_count": null,
      "id": "817941b5",
      "metadata": {},
      "outputs": [],
      "source": [
        "requests.put?"
      ]
    },
    {
      "cell_type": "code",
      "execution_count": null,
      "id": "80517899",
      "metadata": {},
      "outputs": [],
      "source": [
        "requests.delete?"
      ]
    },
    {
      "cell_type": "markdown",
      "id": "7666e574",
      "metadata": {},
      "source": [
        "* As part of the Data Engineering projects, we typically read the data from REST APIs. It means we will be using functions such as `requests.get` more often than others.\n",
        "* Here is a quick example. We will deep dive as part of subsequent topics."
      ]
    },
    {
      "cell_type": "code",
      "execution_count": null,
      "id": "bf5deaf6",
      "metadata": {},
      "outputs": [],
      "source": [
        "import requests"
      ]
    },
    {
      "cell_type": "code",
      "execution_count": null,
      "id": "6d0dd6cf",
      "metadata": {},
      "outputs": [],
      "source": [
        "res = requests.get('https://api.github.com')"
      ]
    },
    {
      "cell_type": "code",
      "execution_count": null,
      "id": "15b676c8",
      "metadata": {},
      "outputs": [],
      "source": [
        "res.text"
      ]
    },
    {
      "cell_type": "code",
      "execution_count": null,
      "id": "5f027fc7",
      "metadata": {},
      "outputs": [],
      "source": [
        "res.json()"
      ]
    },
    {
      "cell_type": "code",
      "execution_count": null,
      "id": "977bf6ce",
      "metadata": {},
      "outputs": [],
      "source": [
        "res.content"
      ]
    },
    {
      "cell_type": "code",
      "execution_count": null,
      "id": "f860eb27",
      "metadata": {},
      "outputs": [],
      "source": [
        "type(res.content)"
      ]
    },
    {
      "cell_type": "code",
      "execution_count": null,
      "id": "ae780467",
      "metadata": {},
      "outputs": [],
      "source": [
        "gitapi = requests.get('https://api.github.com').text"
      ]
    },
    {
      "cell_type": "code",
      "execution_count": null,
      "id": "4ae5e52a",
      "metadata": {},
      "outputs": [],
      "source": [
        "gitapi # It is of type string. This string is a valid JSON"
      ]
    }
  ],
  "metadata": {
    "kernelspec": {
      "display_name": "Python 3",
      "language": "python",
      "name": "python3"
    },
    "language_info": {
      "codemirror_mode": {
        "name": "ipython",
        "version": 3
      },
      "file_extension": ".py",
      "mimetype": "text/x-python",
      "name": "python",
      "nbconvert_exporter": "python",
      "pygments_lexer": "ipython3",
      "version": "3.6.12"
    }
  },
  "nbformat": 4,
  "nbformat_minor": 5
}