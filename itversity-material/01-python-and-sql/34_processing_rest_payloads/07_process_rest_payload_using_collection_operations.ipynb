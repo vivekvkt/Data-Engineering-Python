{
 "cells": [
  {
   "cell_type": "markdown",
   "id": "9183e0ae",
   "metadata": {},
   "source": [
    "## Process REST Payload using Collection Operations\n",
    "\n",
    "Let us understand how to process REST Payload using Collection Operations.\n",
    "* We can get details about all the public repositories using `GET /repositories` from **https://api.github.com**.\n",
    "* As it is getting or reading data from external application the details are available via `GET`. We will have JSON Array as part of the Payload.\n",
    "* We can convert this JSON Array to Python `list`. Each element in the list will be of type `dict`.\n",
    "* Let us understand how the data in this list of dicts can be processed using Python core collection operations."
   ]
  },
  {
   "cell_type": "markdown",
   "id": "2f351c1a",
   "metadata": {},
   "source": [
    "* Let us quickly review the output of the REST API using `curl`."
   ]
  },
  {
   "cell_type": "code",
   "execution_count": null,
   "id": "9744fa0c",
   "metadata": {},
   "outputs": [],
   "source": [
    "!curl https://api.github.com/repositories"
   ]
  },
  {
   "cell_type": "markdown",
   "id": "0ff5a9c8",
   "metadata": {},
   "source": [
    "* We can get the payload of public repositories using `requests.get`.\n",
    "* We can convert to Python list using `json()`."
   ]
  },
  {
   "cell_type": "code",
   "execution_count": null,
   "id": "32c36cbf",
   "metadata": {},
   "outputs": [],
   "source": [
    "import requests"
   ]
  },
  {
   "cell_type": "markdown",
   "id": "5b7ba2a7",
   "metadata": {},
   "source": [
    "* We can convert `payload` which is of string type and contains valid JSON to `dict` or `list` using `json` module."
   ]
  },
  {
   "cell_type": "code",
   "execution_count": null,
   "id": "23c020af",
   "metadata": {},
   "outputs": [],
   "source": [
    "payload = requests.get('https://api.github.com/repositories', params={'since':369}).json()"
   ]
  },
  {
   "cell_type": "code",
   "execution_count": null,
   "id": "3fec5efe",
   "metadata": {},
   "outputs": [],
   "source": [
    "payload"
   ]
  },
  {
   "cell_type": "code",
   "execution_count": null,
   "id": "5b3fa093",
   "metadata": {},
   "outputs": [],
   "source": [
    "since = int(input('Enter the repo id from which you want to get repositories: '))"
   ]
  },
  {
   "cell_type": "code",
   "execution_count": null,
   "id": "97253344",
   "metadata": {},
   "outputs": [],
   "source": [
    "repos = requests.get(f'https://api.github.com/repositories?since={since}').json()"
   ]
  },
  {
   "cell_type": "code",
   "execution_count": null,
   "id": "d2e3ed98",
   "metadata": {},
   "outputs": [],
   "source": [
    "type(repos)"
   ]
  },
  {
   "cell_type": "code",
   "execution_count": null,
   "id": "bafc363b",
   "metadata": {},
   "outputs": [],
   "source": [
    "repos # A string with valid json array converted to list of dicts"
   ]
  },
  {
   "cell_type": "code",
   "execution_count": null,
   "id": "d4b161e7",
   "metadata": {},
   "outputs": [],
   "source": [
    "len(repos)"
   ]
  },
  {
   "cell_type": "code",
   "execution_count": null,
   "id": "02572965",
   "metadata": {},
   "outputs": [],
   "source": [
    "repos[0]"
   ]
  },
  {
   "cell_type": "code",
   "execution_count": null,
   "id": "f8c04d51",
   "metadata": {},
   "outputs": [],
   "source": [
    "type(repos[0])"
   ]
  },
  {
   "cell_type": "markdown",
   "id": "536507fa",
   "metadata": {},
   "source": [
    "* We can process the data further using appropriate Python modules based upon the requiements."
   ]
  },
  {
   "cell_type": "code",
   "execution_count": null,
   "id": "1263bd57",
   "metadata": {},
   "outputs": [],
   "source": [
    "for repo in repos:\n",
    "    print(repo['id'])"
   ]
  },
  {
   "cell_type": "code",
   "execution_count": null,
   "id": "8e298fdb",
   "metadata": {},
   "outputs": [],
   "source": [
    "for repo in repos:\n",
    "    print(repo['name'])"
   ]
  },
  {
   "cell_type": "code",
   "execution_count": null,
   "id": "0f2cc465",
   "metadata": {},
   "outputs": [],
   "source": [
    "# Getting repo name and urls\n",
    "for repo in repos:\n",
    "    print(f\"{repo['name']}:{repo['url']}\")"
   ]
  },
  {
   "cell_type": "code",
   "execution_count": null,
   "id": "90f22c6c",
   "metadata": {},
   "outputs": [],
   "source": [
    "repo_urls = [{'name': repo['name'], 'repo_url': repo['url']} for repo in repos]"
   ]
  },
  {
   "cell_type": "code",
   "execution_count": null,
   "id": "97f45669",
   "metadata": {},
   "outputs": [],
   "source": [
    "repo_urls[0]"
   ]
  },
  {
   "cell_type": "code",
   "execution_count": null,
   "id": "d45a649e",
   "metadata": {},
   "outputs": [],
   "source": [
    "repo_urls = list(map(lambda repo: {'name': repo['name'], 'repo_url': repo['url']}, repos))"
   ]
  },
  {
   "cell_type": "code",
   "execution_count": null,
   "id": "17269061",
   "metadata": {},
   "outputs": [],
   "source": [
    "repo_urls[0]"
   ]
  },
  {
   "cell_type": "markdown",
   "id": "1fd6b0a1",
   "metadata": {},
   "source": [
    "Here are some of the tasks you can work on using `repos` data. We will explore the solutions using functions such as `map`, `filter`, `itertools.groupby`, etc."
   ]
  },
  {
   "cell_type": "code",
   "execution_count": null,
   "id": "5f38274e",
   "metadata": {},
   "outputs": [],
   "source": [
    "repos = requests.get(f'https://api.github.com/repositories?since={since}').json()"
   ]
  },
  {
   "cell_type": "markdown",
   "id": "bf9172a3",
   "metadata": {},
   "source": [
    "* Get number of repositories."
   ]
  },
  {
   "cell_type": "code",
   "execution_count": null,
   "id": "f1d08f73",
   "metadata": {},
   "outputs": [],
   "source": [
    "len(repos)"
   ]
  },
  {
   "cell_type": "markdown",
   "id": "9b64b152",
   "metadata": {},
   "source": [
    "* Get repository name, url and owner type of all repositories. Each element in the new list should be of type **tuple**."
   ]
  },
  {
   "cell_type": "code",
   "execution_count": null,
   "id": "3b2fc06f",
   "metadata": {},
   "outputs": [],
   "source": [
    "repo = repos[0]"
   ]
  },
  {
   "cell_type": "code",
   "execution_count": null,
   "id": "36e92114",
   "metadata": {},
   "outputs": [],
   "source": [
    "repo"
   ]
  },
  {
   "cell_type": "code",
   "execution_count": null,
   "id": "798e3330",
   "metadata": {},
   "outputs": [],
   "source": [
    "repo['name']"
   ]
  },
  {
   "cell_type": "code",
   "execution_count": null,
   "id": "b3cc464b",
   "metadata": {},
   "outputs": [],
   "source": [
    "repo['url']"
   ]
  },
  {
   "cell_type": "code",
   "execution_count": null,
   "id": "fb651bdc",
   "metadata": {},
   "outputs": [],
   "source": [
    "repo['owner']['type']"
   ]
  },
  {
   "cell_type": "code",
   "execution_count": null,
   "id": "a14a1651",
   "metadata": {},
   "outputs": [],
   "source": [
    "list(map(lambda repo: (repo['name'], repo['url'], repo['owner']['type']), repos))"
   ]
  },
  {
   "cell_type": "markdown",
   "id": "0bd94857",
   "metadata": {},
   "source": [
    "* Get all unique or distinct owner types of the repositories. The output should be of type **list**."
   ]
  },
  {
   "cell_type": "code",
   "execution_count": null,
   "id": "e127b9dd",
   "metadata": {},
   "outputs": [],
   "source": [
    "list(map(lambda repo: repo['owner']['type'], repos))"
   ]
  },
  {
   "cell_type": "code",
   "execution_count": null,
   "id": "6ea7b0a2",
   "metadata": {},
   "outputs": [],
   "source": [
    "set(map(lambda repo: repo['owner']['type'], repos))"
   ]
  },
  {
   "cell_type": "code",
   "execution_count": null,
   "id": "17cb1797",
   "metadata": {},
   "outputs": [],
   "source": [
    "list(set(map(lambda repo: repo['owner']['type'], repos)))"
   ]
  },
  {
   "cell_type": "markdown",
   "id": "3c4a5033",
   "metadata": {},
   "source": [
    "* Get number of repositories where owner type is **User**."
   ]
  },
  {
   "cell_type": "code",
   "execution_count": null,
   "id": "e3bc4ff1",
   "metadata": {},
   "outputs": [],
   "source": [
    "repo['owner']['type'] == 'User'"
   ]
  },
  {
   "cell_type": "code",
   "execution_count": null,
   "id": "19f9ab90",
   "metadata": {},
   "outputs": [],
   "source": [
    "list(filter(lambda repo: repo['owner']['type'] == 'User', repos))"
   ]
  },
  {
   "cell_type": "code",
   "execution_count": null,
   "id": "1dc5bd46",
   "metadata": {},
   "outputs": [],
   "source": [
    "len(list(filter(lambda repo: repo['owner']['type'] == 'User', repos)))"
   ]
  },
  {
   "cell_type": "markdown",
   "id": "851a7675",
   "metadata": {},
   "source": [
    "* Get number of repositories where owner type is **Organization**."
   ]
  },
  {
   "cell_type": "code",
   "execution_count": null,
   "id": "01104e75",
   "metadata": {},
   "outputs": [],
   "source": [
    "len(list(filter(lambda repo: repo['owner']['type'] == 'Organization', repos)))"
   ]
  },
  {
   "cell_type": "markdown",
   "id": "e40bec78",
   "metadata": {},
   "source": [
    "* Get number of repositories by each owner type."
   ]
  },
  {
   "cell_type": "code",
   "execution_count": null,
   "id": "4593bb6e",
   "metadata": {},
   "outputs": [],
   "source": [
    "import itertools as iter"
   ]
  },
  {
   "cell_type": "code",
   "execution_count": null,
   "id": "e62efcc6",
   "metadata": {},
   "outputs": [],
   "source": [
    "list(map(lambda repo: repo['owner']['type'], repos))"
   ]
  },
  {
   "cell_type": "code",
   "execution_count": null,
   "id": "19825aa5",
   "metadata": {},
   "outputs": [],
   "source": [
    "sorted(map(lambda repo: repo['owner']['type'], repos))"
   ]
  },
  {
   "cell_type": "code",
   "execution_count": null,
   "id": "a93bf413",
   "metadata": {},
   "outputs": [],
   "source": [
    "repo_types = sorted(map(lambda repo: repo['owner']['type'], repos))"
   ]
  },
  {
   "cell_type": "code",
   "execution_count": null,
   "id": "2326f009",
   "metadata": {},
   "outputs": [],
   "source": [
    "repo_types"
   ]
  },
  {
   "cell_type": "code",
   "execution_count": null,
   "id": "0f030057",
   "metadata": {},
   "outputs": [],
   "source": [
    "iter.groupby(repo_types)"
   ]
  },
  {
   "cell_type": "code",
   "execution_count": null,
   "id": "3e4a616a",
   "metadata": {},
   "outputs": [],
   "source": [
    "for item in iter.groupby(repo_types):\n",
    "    print((item[0], list(item[1])))"
   ]
  },
  {
   "cell_type": "code",
   "execution_count": null,
   "id": "28c9ce7a",
   "metadata": {},
   "outputs": [],
   "source": [
    "list(map(lambda item: (item[0], len(list(item[1]))), iter.groupby(repo_types)))"
   ]
  },
  {
   "cell_type": "markdown",
   "id": "df4cc326",
   "metadata": {},
   "source": [
    "* Sort the data by owner type and then by id. Ensure that data is sorted by id as numeric."
   ]
  },
  {
   "cell_type": "code",
   "execution_count": null,
   "id": "c4572d62",
   "metadata": {},
   "outputs": [],
   "source": [
    "repo"
   ]
  },
  {
   "cell_type": "code",
   "execution_count": null,
   "id": "f75e377a",
   "metadata": {},
   "outputs": [],
   "source": [
    "type(repo['id'])"
   ]
  },
  {
   "cell_type": "code",
   "execution_count": null,
   "id": "d6ccaced",
   "metadata": {},
   "outputs": [],
   "source": [
    "sorted(repos, key=lambda repo: (repo['owner']['type'], repo['id']))"
   ]
  }
 ],
 "metadata": {
  "kernelspec": {
   "display_name": "Python 3 (ipykernel)",
   "language": "python",
   "name": "python3"
  },
  "language_info": {
   "codemirror_mode": {
    "name": "ipython",
    "version": 3
   },
   "file_extension": ".py",
   "mimetype": "text/x-python",
   "name": "python",
   "nbconvert_exporter": "python",
   "pygments_lexer": "ipython3",
   "version": "3.8.12"
  }
 },
 "nbformat": 4,
 "nbformat_minor": 5
}
