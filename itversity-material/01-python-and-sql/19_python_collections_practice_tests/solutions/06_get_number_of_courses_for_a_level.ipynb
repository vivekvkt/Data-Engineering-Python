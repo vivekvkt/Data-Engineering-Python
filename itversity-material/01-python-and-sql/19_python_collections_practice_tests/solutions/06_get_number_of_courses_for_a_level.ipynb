{
 "cells": [
  {
   "cell_type": "markdown",
   "id": "58d35abf",
   "metadata": {},
   "source": [
    "## Get number of courses for a level\n",
    "\n",
    "Develop logic to get the number or count of courses at a specified level.\n",
    "* We will provide course data which will be of type list of dicts.\n",
    "* Develop a function which takes the `courses` along with the `suitable_for` as arguments.\n",
    "* The function should return the number of courses for the level passed.\n",
    "* Here is the data provided below in the form of list of dicts."
   ]
  },
  {
   "cell_type": "code",
   "execution_count": 1,
   "id": "c3b2a7d9",
   "metadata": {},
   "outputs": [],
   "source": [
    "courses = [{'course_id': 1,\n",
    "  'course_name': '2020 Complete Python Bootcamp: From Zero to Hero in Python',\n",
    "  'suitable_for': 'Beginner',\n",
    "  'enrollment': 1100093,\n",
    "  'stars': 4.6,\n",
    "  'number_of_ratings': 318066},\n",
    " {'course_id': 4,\n",
    "  'course_name': 'Angular - The Complete Guide (2020 Edition)',\n",
    "  'suitable_for': 'Intermediate',\n",
    "  'enrollment': 422557,\n",
    "  'stars': 4.6,\n",
    "  'number_of_ratings': 129984},\n",
    " {'course_id': 12,\n",
    "  'course_name': 'Automate the Boring Stuff with Python Programming',\n",
    "  'suitable_for': 'Advanced',\n",
    "  'enrollment': 692617,\n",
    "  'stars': 4.6,\n",
    "  'number_of_ratings': 70508},\n",
    " {'course_id': 10,\n",
    "  'course_name': 'Complete C# Unity Game Developer 2D',\n",
    "  'suitable_for': 'Advanced',\n",
    "  'enrollment': 364934,\n",
    "  'stars': 4.6,\n",
    "  'number_of_ratings': 78989},\n",
    " {'course_id': 5,\n",
    "  'course_name': 'Java Programming Masterclass for Software Developers',\n",
    "  'suitable_for': 'Advanced',\n",
    "  'enrollment': 502572,\n",
    "  'stars': 4.6,\n",
    "  'number_of_ratings': 123798},\n",
    " {'course_id': 15,\n",
    "  'course_name': 'Learn Python Programming Masterclass',\n",
    "  'suitable_for': 'Advanced',\n",
    "  'enrollment': 240790,\n",
    "  'stars': 4.5,\n",
    "  'number_of_ratings': 58677},\n",
    " {'course_id': 3,\n",
    "  'course_name': 'Machine Learning A-Z™: Hands-On Python & R In Data Science',\n",
    "  'suitable_for': 'Intermediate',\n",
    "  'enrollment': 692812,\n",
    "  'stars': 4.5,\n",
    "  'number_of_ratings': 132228},\n",
    " {'course_id': 14,\n",
    "  'course_name': 'Modern React with Redux [2020 Update]',\n",
    "  'suitable_for': 'Intermediate',\n",
    "  'enrollment': 203214,\n",
    "  'stars': 4.7,\n",
    "  'number_of_ratings': 60835},\n",
    " {'course_id': 8,\n",
    "  'course_name': 'Python for Data Science and Machine Learning Bootcamp',\n",
    "  'suitable_for': 'Intermediate',\n",
    "  'enrollment': 387789,\n",
    "  'stars': 4.6,\n",
    "  'number_of_ratings': 87403},\n",
    " {'course_id': 6,\n",
    "  'course_name': 'React - The Complete Guide (incl Hooks, React Router, Redux)',\n",
    "  'suitable_for': 'Intermediate',\n",
    "  'enrollment': 304670,\n",
    "  'stars': 4.6,\n",
    "  'number_of_ratings': 90964},\n",
    " {'course_id': 18,\n",
    "  'course_name': 'Selenium WebDriver with Java -Basics to Advanced+Frameworks',\n",
    "  'suitable_for': 'Advanced',\n",
    "  'enrollment': 148562,\n",
    "  'stars': 4.6,\n",
    "  'number_of_ratings': 49947},\n",
    " {'course_id': 21,\n",
    "  'course_name': 'Spring & Hibernate for Beginners (includes Spring Boot)',\n",
    "  'suitable_for': 'Advanced',\n",
    "  'enrollment': 177053,\n",
    "  'stars': 4.6,\n",
    "  'number_of_ratings': 45329},\n",
    " {'course_id': 7,\n",
    "  'course_name': 'The Complete 2020 Web Development Bootcamp',\n",
    "  'suitable_for': 'Beginner',\n",
    "  'enrollment': 270656,\n",
    "  'stars': 4.7,\n",
    "  'number_of_ratings': 88098},\n",
    " {'course_id': 9,\n",
    "  'course_name': 'The Complete JavaScript Course 2020: Build Real Projects!',\n",
    "  'suitable_for': 'Intermediate',\n",
    "  'enrollment': 347979,\n",
    "  'stars': 4.6,\n",
    "  'number_of_ratings': 83521},\n",
    " {'course_id': 16,\n",
    "  'course_name': 'The Complete Node.js Developer Course (3rd Edition)',\n",
    "  'suitable_for': 'Advanced',\n",
    "  'enrollment': 202922,\n",
    "  'stars': 4.7,\n",
    "  'number_of_ratings': 50885},\n",
    " {'course_id': 13,\n",
    "  'course_name': 'The Complete Web Developer Course 2.0',\n",
    "  'suitable_for': 'Intermediate',\n",
    "  'enrollment': 273598,\n",
    "  'stars': 4.5,\n",
    "  'number_of_ratings': 63175},\n",
    " {'course_id': 11,\n",
    "  'course_name': 'The Data Science Course 2020: Complete Data Science Bootcamp',\n",
    "  'suitable_for': 'Beginner',\n",
    "  'enrollment': 325047,\n",
    "  'stars': 4.5,\n",
    "  'number_of_ratings': 76907},\n",
    " {'course_id': 20,\n",
    "  'course_name': 'The Ultimate MySQL Bootcamp: Go from SQL Beginner to Expert',\n",
    "  'suitable_for': 'Beginner',\n",
    "  'enrollment': 203366,\n",
    "  'stars': 4.6,\n",
    "  'number_of_ratings': 45382},\n",
    " {'course_id': 2,\n",
    "  'course_name': 'The Web Developer Bootcamp',\n",
    "  'suitable_for': 'Beginner',\n",
    "  'enrollment': 596726,\n",
    "  'stars': 4.6,\n",
    "  'number_of_ratings': 182997},\n",
    " {'course_id': 19,\n",
    "  'course_name': 'Unreal Engine C++ Developer: Learn C++ and Make Video Games',\n",
    "  'suitable_for': 'Advanced',\n",
    "  'enrollment': 229005,\n",
    "  'stars': 4.5,\n",
    "  'number_of_ratings': 45860},\n",
    " {'course_id': 17,\n",
    "  'course_name': 'iOS 13 & Swift 5 - The Complete iOS App Development Bootcamp',\n",
    "  'suitable_for': 'Advanced',\n",
    "  'enrollment': 179598,\n",
    "  'stars': 4.8,\n",
    "  'number_of_ratings': 49972}]"
   ]
  },
  {
   "cell_type": "markdown",
   "id": "d95c9c27",
   "metadata": {},
   "source": [
    "### Step 1: Preview the data\n",
    "\n",
    "Let us first preview the data."
   ]
  },
  {
   "cell_type": "code",
   "execution_count": 2,
   "id": "01917370",
   "metadata": {},
   "outputs": [
    {
     "data": {
      "text/plain": [
       "[{'course_id': 1,\n",
       "  'course_name': '2020 Complete Python Bootcamp: From Zero to Hero in Python',\n",
       "  'suitable_for': 'Beginner',\n",
       "  'enrollment': 1100093,\n",
       "  'stars': 4.6,\n",
       "  'number_of_ratings': 318066},\n",
       " {'course_id': 4,\n",
       "  'course_name': 'Angular - The Complete Guide (2020 Edition)',\n",
       "  'suitable_for': 'Intermediate',\n",
       "  'enrollment': 422557,\n",
       "  'stars': 4.6,\n",
       "  'number_of_ratings': 129984},\n",
       " {'course_id': 12,\n",
       "  'course_name': 'Automate the Boring Stuff with Python Programming',\n",
       "  'suitable_for': 'Advanced',\n",
       "  'enrollment': 692617,\n",
       "  'stars': 4.6,\n",
       "  'number_of_ratings': 70508},\n",
       " {'course_id': 10,\n",
       "  'course_name': 'Complete C# Unity Game Developer 2D',\n",
       "  'suitable_for': 'Advanced',\n",
       "  'enrollment': 364934,\n",
       "  'stars': 4.6,\n",
       "  'number_of_ratings': 78989},\n",
       " {'course_id': 5,\n",
       "  'course_name': 'Java Programming Masterclass for Software Developers',\n",
       "  'suitable_for': 'Advanced',\n",
       "  'enrollment': 502572,\n",
       "  'stars': 4.6,\n",
       "  'number_of_ratings': 123798},\n",
       " {'course_id': 15,\n",
       "  'course_name': 'Learn Python Programming Masterclass',\n",
       "  'suitable_for': 'Advanced',\n",
       "  'enrollment': 240790,\n",
       "  'stars': 4.5,\n",
       "  'number_of_ratings': 58677},\n",
       " {'course_id': 3,\n",
       "  'course_name': 'Machine Learning A-Z™: Hands-On Python & R In Data Science',\n",
       "  'suitable_for': 'Intermediate',\n",
       "  'enrollment': 692812,\n",
       "  'stars': 4.5,\n",
       "  'number_of_ratings': 132228},\n",
       " {'course_id': 14,\n",
       "  'course_name': 'Modern React with Redux [2020 Update]',\n",
       "  'suitable_for': 'Intermediate',\n",
       "  'enrollment': 203214,\n",
       "  'stars': 4.7,\n",
       "  'number_of_ratings': 60835},\n",
       " {'course_id': 8,\n",
       "  'course_name': 'Python for Data Science and Machine Learning Bootcamp',\n",
       "  'suitable_for': 'Intermediate',\n",
       "  'enrollment': 387789,\n",
       "  'stars': 4.6,\n",
       "  'number_of_ratings': 87403},\n",
       " {'course_id': 6,\n",
       "  'course_name': 'React - The Complete Guide (incl Hooks, React Router, Redux)',\n",
       "  'suitable_for': 'Intermediate',\n",
       "  'enrollment': 304670,\n",
       "  'stars': 4.6,\n",
       "  'number_of_ratings': 90964},\n",
       " {'course_id': 18,\n",
       "  'course_name': 'Selenium WebDriver with Java -Basics to Advanced+Frameworks',\n",
       "  'suitable_for': 'Advanced',\n",
       "  'enrollment': 148562,\n",
       "  'stars': 4.6,\n",
       "  'number_of_ratings': 49947},\n",
       " {'course_id': 21,\n",
       "  'course_name': 'Spring & Hibernate for Beginners (includes Spring Boot)',\n",
       "  'suitable_for': 'Advanced',\n",
       "  'enrollment': 177053,\n",
       "  'stars': 4.6,\n",
       "  'number_of_ratings': 45329},\n",
       " {'course_id': 7,\n",
       "  'course_name': 'The Complete 2020 Web Development Bootcamp',\n",
       "  'suitable_for': 'Beginner',\n",
       "  'enrollment': 270656,\n",
       "  'stars': 4.7,\n",
       "  'number_of_ratings': 88098},\n",
       " {'course_id': 9,\n",
       "  'course_name': 'The Complete JavaScript Course 2020: Build Real Projects!',\n",
       "  'suitable_for': 'Intermediate',\n",
       "  'enrollment': 347979,\n",
       "  'stars': 4.6,\n",
       "  'number_of_ratings': 83521},\n",
       " {'course_id': 16,\n",
       "  'course_name': 'The Complete Node.js Developer Course (3rd Edition)',\n",
       "  'suitable_for': 'Advanced',\n",
       "  'enrollment': 202922,\n",
       "  'stars': 4.7,\n",
       "  'number_of_ratings': 50885},\n",
       " {'course_id': 13,\n",
       "  'course_name': 'The Complete Web Developer Course 2.0',\n",
       "  'suitable_for': 'Intermediate',\n",
       "  'enrollment': 273598,\n",
       "  'stars': 4.5,\n",
       "  'number_of_ratings': 63175},\n",
       " {'course_id': 11,\n",
       "  'course_name': 'The Data Science Course 2020: Complete Data Science Bootcamp',\n",
       "  'suitable_for': 'Beginner',\n",
       "  'enrollment': 325047,\n",
       "  'stars': 4.5,\n",
       "  'number_of_ratings': 76907},\n",
       " {'course_id': 20,\n",
       "  'course_name': 'The Ultimate MySQL Bootcamp: Go from SQL Beginner to Expert',\n",
       "  'suitable_for': 'Beginner',\n",
       "  'enrollment': 203366,\n",
       "  'stars': 4.6,\n",
       "  'number_of_ratings': 45382},\n",
       " {'course_id': 2,\n",
       "  'course_name': 'The Web Developer Bootcamp',\n",
       "  'suitable_for': 'Beginner',\n",
       "  'enrollment': 596726,\n",
       "  'stars': 4.6,\n",
       "  'number_of_ratings': 182997},\n",
       " {'course_id': 19,\n",
       "  'course_name': 'Unreal Engine C++ Developer: Learn C++ and Make Video Games',\n",
       "  'suitable_for': 'Advanced',\n",
       "  'enrollment': 229005,\n",
       "  'stars': 4.5,\n",
       "  'number_of_ratings': 45860},\n",
       " {'course_id': 17,\n",
       "  'course_name': 'iOS 13 & Swift 5 - The Complete iOS App Development Bootcamp',\n",
       "  'suitable_for': 'Advanced',\n",
       "  'enrollment': 179598,\n",
       "  'stars': 4.8,\n",
       "  'number_of_ratings': 49972}]"
      ]
     },
     "execution_count": 2,
     "metadata": {},
     "output_type": "execute_result"
    }
   ],
   "source": [
    "courses"
   ]
  },
  {
   "cell_type": "code",
   "execution_count": 3,
   "id": "bf445554",
   "metadata": {},
   "outputs": [
    {
     "data": {
      "text/plain": [
       "list"
      ]
     },
     "execution_count": 3,
     "metadata": {},
     "output_type": "execute_result"
    }
   ],
   "source": [
    "type(courses)"
   ]
  },
  {
   "cell_type": "code",
   "execution_count": 4,
   "id": "571a79be",
   "metadata": {},
   "outputs": [
    {
     "data": {
      "text/plain": [
       "21"
      ]
     },
     "execution_count": 4,
     "metadata": {},
     "output_type": "execute_result"
    }
   ],
   "source": [
    "len(courses)"
   ]
  },
  {
   "cell_type": "code",
   "execution_count": 5,
   "id": "82341bad",
   "metadata": {},
   "outputs": [
    {
     "name": "stdout",
     "output_type": "stream",
     "text": [
      "The type of value 1 with attribute course_id is <class 'int'>\n",
      "The type of value 2020 Complete Python Bootcamp: From Zero to Hero in Python with attribute course_name is <class 'str'>\n",
      "The type of value Beginner with attribute suitable_for is <class 'str'>\n",
      "The type of value 1100093 with attribute enrollment is <class 'int'>\n",
      "The type of value 4.6 with attribute stars is <class 'float'>\n",
      "The type of value 318066 with attribute number_of_ratings is <class 'int'>\n"
     ]
    }
   ],
   "source": [
    "for course in courses[0].items():\n",
    "    print(f'The type of value {course[1]} with attribute {course[0]} is {type(course[1])}')"
   ]
  },
  {
   "cell_type": "markdown",
   "id": "8a1305d0",
   "metadata": {},
   "source": [
    "### Step 2: Provide the solution\n",
    "\n",
    "Now come up with the solution by developing the required logic. Once the function is developed, go to the next step to take care of the validation."
   ]
  },
  {
   "cell_type": "code",
   "execution_count": 6,
   "id": "1f4dc88e",
   "metadata": {},
   "outputs": [
    {
     "data": {
      "text/plain": [
       "{'course_id': 1,\n",
       " 'course_name': '2020 Complete Python Bootcamp: From Zero to Hero in Python',\n",
       " 'suitable_for': 'Beginner',\n",
       " 'enrollment': 1100093,\n",
       " 'stars': 4.6,\n",
       " 'number_of_ratings': 318066}"
      ]
     },
     "execution_count": 6,
     "metadata": {},
     "output_type": "execute_result"
    }
   ],
   "source": [
    "course = courses[0]\n",
    "course"
   ]
  },
  {
   "cell_type": "code",
   "execution_count": 7,
   "id": "e7954d85",
   "metadata": {},
   "outputs": [
    {
     "data": {
      "text/plain": [
       "True"
      ]
     },
     "execution_count": 7,
     "metadata": {},
     "output_type": "execute_result"
    }
   ],
   "source": [
    "course['suitable_for'] == 'Beginner'"
   ]
  },
  {
   "cell_type": "code",
   "execution_count": 8,
   "id": "3606fb8a",
   "metadata": {},
   "outputs": [
    {
     "data": {
      "text/plain": [
       "<filter at 0x7f1feeb94be0>"
      ]
     },
     "execution_count": 8,
     "metadata": {},
     "output_type": "execute_result"
    }
   ],
   "source": [
    "filter(lambda course: course['suitable_for'] == 'Beginner', courses)\n",
    "# type of object is filter"
   ]
  },
  {
   "cell_type": "code",
   "execution_count": 9,
   "id": "42cc561c",
   "metadata": {},
   "outputs": [
    {
     "data": {
      "text/plain": [
       "[{'course_id': 1,\n",
       "  'course_name': '2020 Complete Python Bootcamp: From Zero to Hero in Python',\n",
       "  'suitable_for': 'Beginner',\n",
       "  'enrollment': 1100093,\n",
       "  'stars': 4.6,\n",
       "  'number_of_ratings': 318066},\n",
       " {'course_id': 7,\n",
       "  'course_name': 'The Complete 2020 Web Development Bootcamp',\n",
       "  'suitable_for': 'Beginner',\n",
       "  'enrollment': 270656,\n",
       "  'stars': 4.7,\n",
       "  'number_of_ratings': 88098},\n",
       " {'course_id': 11,\n",
       "  'course_name': 'The Data Science Course 2020: Complete Data Science Bootcamp',\n",
       "  'suitable_for': 'Beginner',\n",
       "  'enrollment': 325047,\n",
       "  'stars': 4.5,\n",
       "  'number_of_ratings': 76907},\n",
       " {'course_id': 20,\n",
       "  'course_name': 'The Ultimate MySQL Bootcamp: Go from SQL Beginner to Expert',\n",
       "  'suitable_for': 'Beginner',\n",
       "  'enrollment': 203366,\n",
       "  'stars': 4.6,\n",
       "  'number_of_ratings': 45382},\n",
       " {'course_id': 2,\n",
       "  'course_name': 'The Web Developer Bootcamp',\n",
       "  'suitable_for': 'Beginner',\n",
       "  'enrollment': 596726,\n",
       "  'stars': 4.6,\n",
       "  'number_of_ratings': 182997}]"
      ]
     },
     "execution_count": 9,
     "metadata": {},
     "output_type": "execute_result"
    }
   ],
   "source": [
    "list(filter(lambda course: course['suitable_for'] == 'Beginner', courses))"
   ]
  },
  {
   "cell_type": "code",
   "execution_count": 10,
   "id": "9ffe60a7",
   "metadata": {},
   "outputs": [
    {
     "data": {
      "text/plain": [
       "5"
      ]
     },
     "execution_count": 10,
     "metadata": {},
     "output_type": "execute_result"
    }
   ],
   "source": [
    "len(list(filter(lambda course: course['suitable_for'] == 'Beginner', courses))) \n",
    "# We have to convert filter object to list to apply len to get number of elements"
   ]
  },
  {
   "cell_type": "code",
   "execution_count": 11,
   "id": "73b567f8",
   "metadata": {},
   "outputs": [],
   "source": [
    "# The logic should go here\n",
    "def get_course_count(courses, suitable_for):\n",
    "    course_count = len(list(filter(lambda course: course['suitable_for'] == 'Beginner', courses)))\n",
    "    return course_count"
   ]
  },
  {
   "cell_type": "markdown",
   "id": "d00d6649",
   "metadata": {},
   "source": [
    "### Step 3: Validate the function\n",
    "\n",
    "Let us validate the function by running below cells.\n",
    "* Here is the expected output.\n",
    "  * For `Beginner`, the count should be 5."
   ]
  },
  {
   "cell_type": "code",
   "execution_count": 12,
   "id": "615445b5",
   "metadata": {},
   "outputs": [
    {
     "data": {
      "text/plain": [
       "5"
      ]
     },
     "execution_count": 12,
     "metadata": {},
     "output_type": "execute_result"
    }
   ],
   "source": [
    "course_count = get_course_count(courses, 'Beginner')\n",
    "course_count"
   ]
  },
  {
   "cell_type": "code",
   "execution_count": 13,
   "id": "8dbc028f",
   "metadata": {},
   "outputs": [
    {
     "data": {
      "text/plain": [
       "int"
      ]
     },
     "execution_count": 13,
     "metadata": {},
     "output_type": "execute_result"
    }
   ],
   "source": [
    "type(course_count) # int"
   ]
  },
  {
   "cell_type": "code",
   "execution_count": 14,
   "id": "7b2a675e",
   "metadata": {},
   "outputs": [
    {
     "data": {
      "text/plain": [
       "5"
      ]
     },
     "execution_count": 14,
     "metadata": {},
     "output_type": "execute_result"
    }
   ],
   "source": [
    "course_count # 5"
   ]
  },
  {
   "cell_type": "code",
   "execution_count": null,
   "id": "f247227e",
   "metadata": {},
   "outputs": [],
   "source": []
  }
 ],
 "metadata": {
  "kernelspec": {
   "display_name": "Python 3",
   "language": "python",
   "name": "python3"
  },
  "language_info": {
   "codemirror_mode": {
    "name": "ipython",
    "version": 3
   },
   "file_extension": ".py",
   "mimetype": "text/x-python",
   "name": "python",
   "nbconvert_exporter": "python",
   "pygments_lexer": "ipython3",
   "version": "3.6.12"
  }
 },
 "nbformat": 4,
 "nbformat_minor": 5
}
