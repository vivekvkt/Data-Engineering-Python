{
 "cells": [
  {
   "cell_type": "markdown",
   "id": "d3453eee",
   "metadata": {},
   "source": [
    "## Check color in list of tuples\n",
    "Develop a function to check the element is present in a tuple. The function should check whether the color exists or not.\n",
    "* The input data is in the form of list. Each element in the list is of type tuple.\n",
    "* Each tuple contain multiple colors.\n",
    "* The function should take 2 arguments. The first argument is list of tuples which contain colors. The second argument is the color which you want to check.\n",
    "* If the color that is passed as second argument, exists in any of the tuples, then the function should return `True` else the function should return `false`.\n",
    "* The characters in the second argument might be passed in any case. However, we need to perform case insensitive search.\n",
    "\n",
    "**Restrictions: The program shall be solved using loops**"
   ]
  },
  {
   "cell_type": "code",
   "execution_count": 1,
   "id": "be838d2b",
   "metadata": {},
   "outputs": [],
   "source": [
    "colors = [\n",
    "    ('Red', 'White', 'Blue'),\n",
    "    ('Green', 'Pink', 'Purple'),\n",
    "    ('Orange', 'Yellow', 'Lime')\n",
    "]"
   ]
  },
  {
   "cell_type": "markdown",
   "id": "f45531a3",
   "metadata": {},
   "source": [
    "## Step 1: Preview the data\n",
    "* Let us first preview the data."
   ]
  },
  {
   "cell_type": "code",
   "execution_count": 2,
   "id": "76f680da",
   "metadata": {},
   "outputs": [
    {
     "data": {
      "text/plain": [
       "[('Red', 'White', 'Blue'),\n",
       " ('Green', 'Pink', 'Purple'),\n",
       " ('Orange', 'Yellow', 'Lime')]"
      ]
     },
     "execution_count": 2,
     "metadata": {},
     "output_type": "execute_result"
    }
   ],
   "source": [
    "colors"
   ]
  },
  {
   "cell_type": "code",
   "execution_count": 3,
   "id": "c779cab3",
   "metadata": {},
   "outputs": [
    {
     "data": {
      "text/plain": [
       "list"
      ]
     },
     "execution_count": 3,
     "metadata": {},
     "output_type": "execute_result"
    }
   ],
   "source": [
    "type(colors)"
   ]
  },
  {
   "cell_type": "code",
   "execution_count": 4,
   "id": "26447355",
   "metadata": {},
   "outputs": [
    {
     "data": {
      "text/plain": [
       "3"
      ]
     },
     "execution_count": 4,
     "metadata": {},
     "output_type": "execute_result"
    }
   ],
   "source": [
    "len(colors)"
   ]
  },
  {
   "cell_type": "code",
   "execution_count": 5,
   "id": "ac05be04",
   "metadata": {},
   "outputs": [
    {
     "name": "stdout",
     "output_type": "stream",
     "text": [
      "The type of the record ('Red', 'White', 'Blue') is <class 'tuple'>\n",
      "The type of the record ('Green', 'Pink', 'Purple') is <class 'tuple'>\n",
      "The type of the record ('Orange', 'Yellow', 'Lime') is <class 'tuple'>\n"
     ]
    }
   ],
   "source": [
    "for color in colors:\n",
    "    print(f'The type of the record {color} is {type(color)}')"
   ]
  },
  {
   "cell_type": "markdown",
   "id": "a7319207",
   "metadata": {},
   "source": [
    "## Step 2: Provide the solution\n",
    "Now come up with the solution by developing the required logic. Once the function is developed, go to the next step to take care of the validation."
   ]
  },
  {
   "cell_type": "code",
   "execution_count": 6,
   "id": "4dc58538",
   "metadata": {},
   "outputs": [],
   "source": [
    "color = 'red'"
   ]
  },
  {
   "cell_type": "code",
   "execution_count": 7,
   "id": "23bac047",
   "metadata": {},
   "outputs": [],
   "source": [
    "item = colors[0]"
   ]
  },
  {
   "cell_type": "code",
   "execution_count": 8,
   "id": "d76a03d7",
   "metadata": {},
   "outputs": [
    {
     "data": {
      "text/plain": [
       "True"
      ]
     },
     "execution_count": 8,
     "metadata": {},
     "output_type": "execute_result"
    }
   ],
   "source": [
    "color.capitalize() in item"
   ]
  },
  {
   "cell_type": "code",
   "execution_count": 9,
   "id": "4e183928",
   "metadata": {},
   "outputs": [],
   "source": [
    "def check_in_tuples(colors, color):\n",
    "    # your code should go here\n",
    "    for item in colors:\n",
    "        if color.capitalize() in item:\n",
    "            return True\n",
    "    return False"
   ]
  },
  {
   "cell_type": "markdown",
   "id": "da203590",
   "metadata": {},
   "source": [
    "### Step 3: Validate the function\n",
    "\n",
    "* Here is the expected output."
   ]
  },
  {
   "cell_type": "code",
   "execution_count": 10,
   "id": "d971e2d6",
   "metadata": {},
   "outputs": [
    {
     "data": {
      "text/plain": [
       "True"
      ]
     },
     "execution_count": 10,
     "metadata": {},
     "output_type": "execute_result"
    }
   ],
   "source": [
    "check_in_tuples(colors, 'Red') # True"
   ]
  },
  {
   "cell_type": "code",
   "execution_count": 11,
   "id": "86888ccd",
   "metadata": {},
   "outputs": [
    {
     "data": {
      "text/plain": [
       "True"
      ]
     },
     "execution_count": 11,
     "metadata": {},
     "output_type": "execute_result"
    }
   ],
   "source": [
    "check_in_tuples(colors, 'red') # True"
   ]
  },
  {
   "cell_type": "code",
   "execution_count": 12,
   "id": "35f5b157",
   "metadata": {},
   "outputs": [
    {
     "data": {
      "text/plain": [
       "False"
      ]
     },
     "execution_count": 12,
     "metadata": {},
     "output_type": "execute_result"
    }
   ],
   "source": [
    "check_in_tuples(colors, 'Black') # False"
   ]
  },
  {
   "cell_type": "code",
   "execution_count": 13,
   "id": "fe5ac226",
   "metadata": {},
   "outputs": [
    {
     "data": {
      "text/plain": [
       "bool"
      ]
     },
     "execution_count": 13,
     "metadata": {},
     "output_type": "execute_result"
    }
   ],
   "source": [
    "type((check_in_tuples(colors, 'red'))) #It should be bool"
   ]
  },
  {
   "cell_type": "code",
   "execution_count": null,
   "id": "4371ada0",
   "metadata": {},
   "outputs": [],
   "source": []
  }
 ],
 "metadata": {
  "kernelspec": {
   "display_name": "Python 3",
   "language": "python",
   "name": "python3"
  },
  "language_info": {
   "codemirror_mode": {
    "name": "ipython",
    "version": 3
   },
   "file_extension": ".py",
   "mimetype": "text/x-python",
   "name": "python",
   "nbconvert_exporter": "python",
   "pygments_lexer": "ipython3",
   "version": "3.6.12"
  }
 },
 "nbformat": 4,
 "nbformat_minor": 5
}
