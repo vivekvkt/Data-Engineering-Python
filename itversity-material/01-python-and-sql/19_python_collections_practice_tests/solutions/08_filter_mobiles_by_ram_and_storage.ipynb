{
 "cells": [
  {
   "cell_type": "markdown",
   "id": "7846e737",
   "metadata": {},
   "source": [
    "## Filter for mobiles by RAM and Storage\n",
    "\n",
    "Develop a function to get mobile details for given specifications such as RAM and storage.\n",
    "* The input data will be given in list of dicts with mobile phone specifications.\n",
    "* The output should contains mobiles based up on the given ram and storage.\n",
    "* The function should take 3 arguments - list of mobile details, RAM as well as storage.\n",
    "* The output should be in form of list of dicts. It should be sorted in the ascending order by company followed by model."
   ]
  },
  {
   "cell_type": "code",
   "execution_count": 1,
   "id": "1b712e12",
   "metadata": {},
   "outputs": [],
   "source": [
    "mobile_details = [{'company': 'Apple',\n",
    "  'model': 'Iphone 12',\n",
    "  'ram': 4,\n",
    "  'storage': 256,\n",
    "  'os': 'iOS'},\n",
    " {'company': 'Xiaomi',\n",
    "  'model': 'Redmi 9',\n",
    "  'ram': 4,\n",
    "  'storage': 64,\n",
    "  'os': 'android'},\n",
    " {'company': 'One plus',\n",
    "  'model': 'One plus 9R',\n",
    "  'ram': 6,\n",
    "  'storage': 128,\n",
    "  'os': 'android'},\n",
    " {'company': 'Samsung',\n",
    "  'model': 'Galaxy M32',\n",
    "  'ram': 4,\n",
    "  'storage': 64,\n",
    "  'os': 'android'},\n",
    " {'company': 'Xiaomi',\n",
    "  'model': 'Redmi note 10 pro',\n",
    "  'ram': 8,\n",
    "  'storage': 128,\n",
    "  'os': 'android'},\n",
    " {'company': 'One plus',\n",
    "  'model': 'One plus Nord',\n",
    "  'ram': 4,\n",
    "  'storage': 128,\n",
    "  'os': 'android'},\n",
    " {'company': 'Apple',\n",
    "  'model': 'Iphone X',\n",
    "  'ram': 4,\n",
    "  'storage': 256,\n",
    "  'os': 'android'},\n",
    " {'company': 'Oppo',\n",
    "  'model': 'Oppo A31',\n",
    "  'ram': 4,\n",
    "  'storage': 64,\n",
    "  'os': 'iOS'}]"
   ]
  },
  {
   "cell_type": "markdown",
   "id": "ddacbcfd",
   "metadata": {},
   "source": [
    "### Step 1: Preview the data\n",
    "* Let us first preview the data."
   ]
  },
  {
   "cell_type": "code",
   "execution_count": 2,
   "id": "ea104d64",
   "metadata": {},
   "outputs": [
    {
     "data": {
      "text/plain": [
       "[{'company': 'Apple',\n",
       "  'model': 'Iphone 12',\n",
       "  'ram': 4,\n",
       "  'storage': 256,\n",
       "  'os': 'iOS'},\n",
       " {'company': 'Xiaomi',\n",
       "  'model': 'Redmi 9',\n",
       "  'ram': 4,\n",
       "  'storage': 64,\n",
       "  'os': 'android'},\n",
       " {'company': 'One plus',\n",
       "  'model': 'One plus 9R',\n",
       "  'ram': 6,\n",
       "  'storage': 128,\n",
       "  'os': 'android'},\n",
       " {'company': 'Samsung',\n",
       "  'model': 'Galaxy M32',\n",
       "  'ram': 4,\n",
       "  'storage': 64,\n",
       "  'os': 'android'},\n",
       " {'company': 'Xiaomi',\n",
       "  'model': 'Redmi note 10 pro',\n",
       "  'ram': 8,\n",
       "  'storage': 128,\n",
       "  'os': 'android'},\n",
       " {'company': 'One plus',\n",
       "  'model': 'One plus Nord',\n",
       "  'ram': 4,\n",
       "  'storage': 128,\n",
       "  'os': 'android'},\n",
       " {'company': 'Apple',\n",
       "  'model': 'Iphone X',\n",
       "  'ram': 4,\n",
       "  'storage': 256,\n",
       "  'os': 'android'},\n",
       " {'company': 'Oppo',\n",
       "  'model': 'Oppo A31',\n",
       "  'ram': 4,\n",
       "  'storage': 64,\n",
       "  'os': 'iOS'}]"
      ]
     },
     "execution_count": 2,
     "metadata": {},
     "output_type": "execute_result"
    }
   ],
   "source": [
    "mobile_details"
   ]
  },
  {
   "cell_type": "code",
   "execution_count": 3,
   "id": "09ce49ed",
   "metadata": {},
   "outputs": [
    {
     "data": {
      "text/plain": [
       "list"
      ]
     },
     "execution_count": 3,
     "metadata": {},
     "output_type": "execute_result"
    }
   ],
   "source": [
    "type(mobile_details)"
   ]
  },
  {
   "cell_type": "code",
   "execution_count": 4,
   "id": "238149b3",
   "metadata": {},
   "outputs": [
    {
     "data": {
      "text/plain": [
       "8"
      ]
     },
     "execution_count": 4,
     "metadata": {},
     "output_type": "execute_result"
    }
   ],
   "source": [
    "len(mobile_details)"
   ]
  },
  {
   "cell_type": "code",
   "execution_count": 5,
   "id": "5ebabb11",
   "metadata": {},
   "outputs": [
    {
     "data": {
      "text/plain": [
       "{'company': 'Apple',\n",
       " 'model': 'Iphone 12',\n",
       " 'ram': 4,\n",
       " 'storage': 256,\n",
       " 'os': 'iOS'}"
      ]
     },
     "execution_count": 5,
     "metadata": {},
     "output_type": "execute_result"
    }
   ],
   "source": [
    "mobile_details[0]"
   ]
  },
  {
   "cell_type": "code",
   "execution_count": 6,
   "id": "c9dc6ff7",
   "metadata": {},
   "outputs": [
    {
     "data": {
      "text/plain": [
       "dict"
      ]
     },
     "execution_count": 6,
     "metadata": {},
     "output_type": "execute_result"
    }
   ],
   "source": [
    "type(mobile_details[0])"
   ]
  },
  {
   "cell_type": "code",
   "execution_count": 7,
   "id": "881c2054",
   "metadata": {},
   "outputs": [
    {
     "data": {
      "text/plain": [
       "5"
      ]
     },
     "execution_count": 7,
     "metadata": {},
     "output_type": "execute_result"
    }
   ],
   "source": [
    "len(mobile_details[0])"
   ]
  },
  {
   "cell_type": "markdown",
   "id": "ad1396a3",
   "metadata": {},
   "source": [
    "### Step 2: Provide the solution\n",
    "Now come up with the solution by developing the required logic. Once the function is developed, go to the next step to take care of the validation."
   ]
  },
  {
   "cell_type": "code",
   "execution_count": 8,
   "id": "38ad0694",
   "metadata": {},
   "outputs": [
    {
     "data": {
      "text/plain": [
       "{'company': 'Apple',\n",
       " 'model': 'Iphone 12',\n",
       " 'ram': 4,\n",
       " 'storage': 256,\n",
       " 'os': 'iOS'}"
      ]
     },
     "execution_count": 8,
     "metadata": {},
     "output_type": "execute_result"
    }
   ],
   "source": [
    "mobile = mobile_details[0]\n",
    "mobile"
   ]
  },
  {
   "cell_type": "code",
   "execution_count": 9,
   "id": "80de0a8e",
   "metadata": {},
   "outputs": [
    {
     "data": {
      "text/plain": [
       "4"
      ]
     },
     "execution_count": 9,
     "metadata": {},
     "output_type": "execute_result"
    }
   ],
   "source": [
    "mobile['ram']"
   ]
  },
  {
   "cell_type": "code",
   "execution_count": 10,
   "id": "be6a3975",
   "metadata": {},
   "outputs": [
    {
     "data": {
      "text/plain": [
       "256"
      ]
     },
     "execution_count": 10,
     "metadata": {},
     "output_type": "execute_result"
    }
   ],
   "source": [
    "mobile['storage']"
   ]
  },
  {
   "cell_type": "code",
   "execution_count": 11,
   "id": "df5baf37",
   "metadata": {},
   "outputs": [],
   "source": [
    "ram, storage = 4, 64"
   ]
  },
  {
   "cell_type": "code",
   "execution_count": 12,
   "id": "5ece0784",
   "metadata": {},
   "outputs": [
    {
     "data": {
      "text/plain": [
       "[{'company': 'Xiaomi',\n",
       "  'model': 'Redmi 9',\n",
       "  'ram': 4,\n",
       "  'storage': 64,\n",
       "  'os': 'android'},\n",
       " {'company': 'Samsung',\n",
       "  'model': 'Galaxy M32',\n",
       "  'ram': 4,\n",
       "  'storage': 64,\n",
       "  'os': 'android'},\n",
       " {'company': 'Oppo',\n",
       "  'model': 'Oppo A31',\n",
       "  'ram': 4,\n",
       "  'storage': 64,\n",
       "  'os': 'iOS'}]"
      ]
     },
     "execution_count": 12,
     "metadata": {},
     "output_type": "execute_result"
    }
   ],
   "source": [
    "list(\n",
    "    filter(\n",
    "        lambda mobile: mobile['ram'] == ram and mobile['storage'] == storage,\n",
    "        mobile_details\n",
    "    )\n",
    ")"
   ]
  },
  {
   "cell_type": "code",
   "execution_count": 13,
   "id": "776994ff",
   "metadata": {},
   "outputs": [
    {
     "data": {
      "text/plain": [
       "[{'company': 'Oppo',\n",
       "  'model': 'Oppo A31',\n",
       "  'ram': 4,\n",
       "  'storage': 64,\n",
       "  'os': 'iOS'},\n",
       " {'company': 'Samsung',\n",
       "  'model': 'Galaxy M32',\n",
       "  'ram': 4,\n",
       "  'storage': 64,\n",
       "  'os': 'android'},\n",
       " {'company': 'Xiaomi',\n",
       "  'model': 'Redmi 9',\n",
       "  'ram': 4,\n",
       "  'storage': 64,\n",
       "  'os': 'android'}]"
      ]
     },
     "execution_count": 13,
     "metadata": {},
     "output_type": "execute_result"
    }
   ],
   "source": [
    "sorted(\n",
    "    filter(\n",
    "        lambda mobile: mobile['ram'] == ram and mobile['storage'] == storage,\n",
    "        mobile_details\n",
    "    ),\n",
    "    key=lambda mobile: (mobile['company'], mobile['model'])\n",
    ")"
   ]
  },
  {
   "cell_type": "code",
   "execution_count": 14,
   "id": "7e655333",
   "metadata": {},
   "outputs": [],
   "source": [
    "def get_mobile_details(mobile_details, ram, storage):\n",
    "    # your code should go hers\n",
    "    mobiles_filtered = sorted(\n",
    "        filter(\n",
    "            lambda mobile: mobile['ram'] == ram and mobile['storage'] == storage,\n",
    "            mobile_details\n",
    "        ),\n",
    "        key=lambda mobile: (mobile['company'], mobile['model'])\n",
    "    )\n",
    "    return mobiles_filtered"
   ]
  },
  {
   "cell_type": "markdown",
   "id": "12c7fef7",
   "metadata": {},
   "source": [
    "### Step 3: Validate the function\n",
    "\n",
    "Here is the expected output.\n",
    "\n",
    "```python\n",
    "[{'company': 'Oppo',\n",
    "  'model': 'Oppo A31',\n",
    "  'ram': 4,\n",
    "  'storage': 64,\n",
    "  'os': 'iOS'},\n",
    " {'company': 'Samsung',\n",
    "  'model': 'Galaxy M32',\n",
    "  'ram': 4,\n",
    "  'storage': 64,\n",
    "  'os': 'android'},\n",
    " {'company': 'Xiaomi',\n",
    "  'model': 'Redmi 9',\n",
    "  'ram': 4,\n",
    "  'storage': 64,\n",
    "  'os': 'android'}]\n",
    "```"
   ]
  },
  {
   "cell_type": "code",
   "execution_count": 15,
   "id": "8aee5f8b",
   "metadata": {},
   "outputs": [],
   "source": [
    "mobile_details = get_mobile_details(mobile_details, 4, 64)"
   ]
  },
  {
   "cell_type": "code",
   "execution_count": 16,
   "id": "1728c5b2",
   "metadata": {},
   "outputs": [
    {
     "data": {
      "text/plain": [
       "[{'company': 'Oppo',\n",
       "  'model': 'Oppo A31',\n",
       "  'ram': 4,\n",
       "  'storage': 64,\n",
       "  'os': 'iOS'},\n",
       " {'company': 'Samsung',\n",
       "  'model': 'Galaxy M32',\n",
       "  'ram': 4,\n",
       "  'storage': 64,\n",
       "  'os': 'android'},\n",
       " {'company': 'Xiaomi',\n",
       "  'model': 'Redmi 9',\n",
       "  'ram': 4,\n",
       "  'storage': 64,\n",
       "  'os': 'android'}]"
      ]
     },
     "execution_count": 16,
     "metadata": {},
     "output_type": "execute_result"
    }
   ],
   "source": [
    "mobile_details"
   ]
  },
  {
   "cell_type": "code",
   "execution_count": 17,
   "id": "d832f397",
   "metadata": {},
   "outputs": [
    {
     "data": {
      "text/plain": [
       "list"
      ]
     },
     "execution_count": 17,
     "metadata": {},
     "output_type": "execute_result"
    }
   ],
   "source": [
    "type(mobile_details) # list"
   ]
  },
  {
   "cell_type": "code",
   "execution_count": 18,
   "id": "ddaa30d6",
   "metadata": {},
   "outputs": [
    {
     "data": {
      "text/plain": [
       "3"
      ]
     },
     "execution_count": 18,
     "metadata": {},
     "output_type": "execute_result"
    }
   ],
   "source": [
    "len(mobile_details) # 3"
   ]
  },
  {
   "cell_type": "code",
   "execution_count": null,
   "id": "cd1db58e",
   "metadata": {},
   "outputs": [],
   "source": []
  }
 ],
 "metadata": {
  "kernelspec": {
   "display_name": "Python 3",
   "language": "python",
   "name": "python3"
  },
  "language_info": {
   "codemirror_mode": {
    "name": "ipython",
    "version": 3
   },
   "file_extension": ".py",
   "mimetype": "text/x-python",
   "name": "python",
   "nbconvert_exporter": "python",
   "pygments_lexer": "ipython3",
   "version": "3.6.12"
  }
 },
 "nbformat": 4,
 "nbformat_minor": 5
}
