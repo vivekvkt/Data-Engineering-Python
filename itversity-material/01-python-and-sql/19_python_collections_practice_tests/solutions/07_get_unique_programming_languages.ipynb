{
 "cells": [
  {
   "cell_type": "markdown",
   "id": "40668eb1",
   "metadata": {},
   "source": [
    "## Get unique programming languages\n",
    "\n",
    "Develop a function which takes a delimited string as input and returns unique values ignoring the case.\n",
    "* We have a string of programming languages which are delimited by `,`.\n",
    "* However the programming languages might be in mixed case. Also some of the programming languages have spaces in the beginning or the end.\n",
    "* We need to ignore spaces and also ignore the case to get unique list of programming languages.\n",
    "* Output should all be lower case, without leading or trailing spaces. The data type of the output should be `list`. Data should be sorted in ascending order."
   ]
  },
  {
   "cell_type": "code",
   "execution_count": 1,
   "id": "5b209a84",
   "metadata": {},
   "outputs": [],
   "source": [
    "programming_languages = 'Python, Java , java,python, Scala, java script, python, Go, scala,java, Ruby, go, ruby, Java Script'"
   ]
  },
  {
   "cell_type": "markdown",
   "id": "f19c41a7",
   "metadata": {},
   "source": [
    "### Step 1: Preview the data\n",
    "* Let us first preview the data."
   ]
  },
  {
   "cell_type": "code",
   "execution_count": 2,
   "id": "aff170b1",
   "metadata": {},
   "outputs": [
    {
     "data": {
      "text/plain": [
       "'Python, Java , java,python, Scala, java script, python, Go, scala,java, Ruby, go, ruby, Java Script'"
      ]
     },
     "execution_count": 2,
     "metadata": {},
     "output_type": "execute_result"
    }
   ],
   "source": [
    "programming_languages"
   ]
  },
  {
   "cell_type": "code",
   "execution_count": 3,
   "id": "5d8220f3",
   "metadata": {},
   "outputs": [
    {
     "data": {
      "text/plain": [
       "str"
      ]
     },
     "execution_count": 3,
     "metadata": {},
     "output_type": "execute_result"
    }
   ],
   "source": [
    "type(programming_languages)"
   ]
  },
  {
   "cell_type": "markdown",
   "id": "70a3b2be",
   "metadata": {},
   "source": [
    "### Step 2: Provide the solution\n",
    "Now come up with the solution by developing the required logic. Once the function is developed, go to the next step to take care of the validation."
   ]
  },
  {
   "cell_type": "code",
   "execution_count": 4,
   "id": "dd443eaa",
   "metadata": {},
   "outputs": [
    {
     "data": {
      "text/plain": [
       "['go', 'java', 'java script', 'python', 'ruby', 'scala']"
      ]
     },
     "execution_count": 4,
     "metadata": {},
     "output_type": "execute_result"
    }
   ],
   "source": [
    "# for loop approach\n",
    "unique_programming_languages = set()\n",
    "for pl in programming_languages.split(','):\n",
    "    unique_programming_languages.add(pl.strip().lower())\n",
    "sorted(unique_programming_languages) "
   ]
  },
  {
   "cell_type": "code",
   "execution_count": 5,
   "id": "3bcea989",
   "metadata": {},
   "outputs": [
    {
     "data": {
      "text/plain": [
       "['Python',\n",
       " ' Java ',\n",
       " ' java',\n",
       " 'python',\n",
       " ' Scala',\n",
       " ' java script',\n",
       " ' python',\n",
       " ' Go',\n",
       " ' scala',\n",
       " 'java',\n",
       " ' Ruby',\n",
       " ' go',\n",
       " ' ruby',\n",
       " ' Java Script']"
      ]
     },
     "execution_count": 5,
     "metadata": {},
     "output_type": "execute_result"
    }
   ],
   "source": [
    "programming_languages.split(',')"
   ]
  },
  {
   "cell_type": "code",
   "execution_count": 6,
   "id": "0281037c",
   "metadata": {},
   "outputs": [
    {
     "data": {
      "text/plain": [
       "['python',\n",
       " 'java',\n",
       " 'java',\n",
       " 'python',\n",
       " 'scala',\n",
       " 'java script',\n",
       " 'python',\n",
       " 'go',\n",
       " 'scala',\n",
       " 'java',\n",
       " 'ruby',\n",
       " 'go',\n",
       " 'ruby',\n",
       " 'java script']"
      ]
     },
     "execution_count": 6,
     "metadata": {},
     "output_type": "execute_result"
    }
   ],
   "source": [
    "list(map(lambda pl: pl.strip().lower(), programming_languages.split(',')))"
   ]
  },
  {
   "cell_type": "code",
   "execution_count": 7,
   "id": "248bd48c",
   "metadata": {},
   "outputs": [
    {
     "data": {
      "text/plain": [
       "{'go', 'java', 'java script', 'python', 'ruby', 'scala'}"
      ]
     },
     "execution_count": 7,
     "metadata": {},
     "output_type": "execute_result"
    }
   ],
   "source": [
    "set(map(lambda pl: pl.strip().lower(), programming_languages.split(',')))"
   ]
  },
  {
   "cell_type": "code",
   "execution_count": 8,
   "id": "de501130",
   "metadata": {},
   "outputs": [
    {
     "data": {
      "text/plain": [
       "['go', 'java', 'java script', 'python', 'ruby', 'scala']"
      ]
     },
     "execution_count": 8,
     "metadata": {},
     "output_type": "execute_result"
    }
   ],
   "source": [
    "sorted(\n",
    "    set(\n",
    "        map(lambda pl: pl.strip().lower(), programming_languages.split(','))\n",
    "    )\n",
    ")"
   ]
  },
  {
   "cell_type": "code",
   "execution_count": 9,
   "id": "e24edf93",
   "metadata": {},
   "outputs": [],
   "source": [
    "def get_unique_programming_languages(programming_languages):\n",
    "    # Your solution should go here\n",
    "    unique_programming_languages = sorted(\n",
    "        set(\n",
    "            map(\n",
    "                lambda pl: pl.strip().lower(), programming_languages.split(',')\n",
    "            )\n",
    "        )\n",
    "    )\n",
    "    return unique_programming_languages"
   ]
  },
  {
   "cell_type": "markdown",
   "id": "75bb52c8",
   "metadata": {},
   "source": [
    "### Step 3: Validate the function\n",
    "\n",
    "Here is the expected output.\n",
    "\n",
    "```python\n",
    "['go', 'java', 'java script', 'python', 'ruby', 'scala']\n",
    "```"
   ]
  },
  {
   "cell_type": "code",
   "execution_count": 10,
   "id": "163e6140",
   "metadata": {},
   "outputs": [
    {
     "data": {
      "text/plain": [
       "['go', 'java', 'java script', 'python', 'ruby', 'scala']"
      ]
     },
     "execution_count": 10,
     "metadata": {},
     "output_type": "execute_result"
    }
   ],
   "source": [
    "unique_programming_languages = get_unique_programming_languages(programming_languages)\n",
    "unique_programming_languages"
   ]
  },
  {
   "cell_type": "code",
   "execution_count": 11,
   "id": "af52d12e",
   "metadata": {},
   "outputs": [
    {
     "data": {
      "text/plain": [
       "list"
      ]
     },
     "execution_count": 11,
     "metadata": {},
     "output_type": "execute_result"
    }
   ],
   "source": [
    "type(unique_programming_languages) # list"
   ]
  },
  {
   "cell_type": "code",
   "execution_count": 12,
   "id": "a400d084",
   "metadata": {},
   "outputs": [
    {
     "data": {
      "text/plain": [
       "6"
      ]
     },
     "execution_count": 12,
     "metadata": {},
     "output_type": "execute_result"
    }
   ],
   "source": [
    "len(unique_programming_languages) # 6"
   ]
  },
  {
   "cell_type": "code",
   "execution_count": null,
   "id": "e0f8104f",
   "metadata": {},
   "outputs": [],
   "source": []
  }
 ],
 "metadata": {
  "kernelspec": {
   "display_name": "Python 3",
   "language": "python",
   "name": "python3"
  },
  "language_info": {
   "codemirror_mode": {
    "name": "ipython",
    "version": 3
   },
   "file_extension": ".py",
   "mimetype": "text/x-python",
   "name": "python",
   "nbconvert_exporter": "python",
   "pygments_lexer": "ipython3",
   "version": "3.6.12"
  }
 },
 "nbformat": 4,
 "nbformat_minor": 5
}
