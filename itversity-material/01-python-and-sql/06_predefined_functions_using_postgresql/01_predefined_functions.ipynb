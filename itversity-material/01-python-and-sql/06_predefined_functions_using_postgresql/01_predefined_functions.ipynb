{
 "cells": [
  {
   "cell_type": "markdown",
   "metadata": {},
   "source": [
    "# Pre-Defined Functions\n",
    "\n",
    "Let us go through the pre-defined functions available in Postgresql.\n",
    "\n",
    "* Overview of Pre-Defined Functions\n",
    "* String Manipulation Functions\n",
    "* Date Manipulation Functions\n",
    "* Overview of Numeric Functions\n",
    "* Data Type Conversion\n",
    "* Handling Null Values\n",
    "* Using CASE and WHEN\n",
    "* Exercises - Pre-Defined Functions\n",
    "\n",
    "Here are the key objectives of this section.\n",
    "* How to use official documentation of Postgres to get syntax and symantecs of the pre-defined functions?\n",
    "* Understand different categories of functions\n",
    "* How to use functions effectively using real world examples?\n",
    "* How to manipulate strings and dates?\n",
    "* How to deal with nulls, convert data types etc?\n",
    "* Self evaluate by solving the exercises by using multiple functions in tandem."
   ]
  }
 ],
 "metadata": {
  "kernelspec": {
   "display_name": "Python 3 (ipykernel)",
   "language": "python",
   "name": "python3"
  },
  "language_info": {
   "codemirror_mode": {
    "name": "ipython",
    "version": 3
   },
   "file_extension": ".py",
   "mimetype": "text/x-python",
   "name": "python",
   "nbconvert_exporter": "python",
   "pygments_lexer": "ipython3",
   "version": "3.8.12"
  }
 },
 "nbformat": 4,
 "nbformat_minor": 4
}
