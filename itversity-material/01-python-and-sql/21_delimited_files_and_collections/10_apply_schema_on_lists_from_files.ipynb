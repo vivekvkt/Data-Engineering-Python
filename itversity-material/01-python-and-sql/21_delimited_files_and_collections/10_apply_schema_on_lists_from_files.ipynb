{
 "cells": [
  {
   "cell_type": "markdown",
   "id": "6e2b87bb",
   "metadata": {},
   "source": [
    "## Apply Schema on the lists from files\n",
    "\n",
    "Let us understand how to apply schema while processing the data from the files. \n",
    "* In many cases, data files might not contain the metadata such as column names, data types, etc.\n",
    "* We might get the data metadata in the form of separate files. Also, it is common that metadata is available via Database Tables or REST based schema registries.\n",
    "* We need to make sure that the metadata (schema) is applied on the data as part of data processing.\n",
    "\n",
    "In this case data files are available under **/data/retail_db**, the json file with metadata is available under **schemas/retail_db/retail.json**."
   ]
  },
  {
   "cell_type": "code",
   "execution_count": null,
   "id": "761cf36d-640a-43c5-af24-cc56446a6cbf",
   "metadata": {},
   "outputs": [],
   "source": [
    "!ls -ltr /data/retail_db"
   ]
  },
  {
   "cell_type": "code",
   "execution_count": null,
   "id": "55a6fa98-a3e6-4d2a-ba3f-0a0103ef03ab",
   "metadata": {},
   "outputs": [],
   "source": [
    "!ls -ltr schemas/retail_db/retail.json"
   ]
  },
  {
   "cell_type": "code",
   "execution_count": null,
   "id": "1693333e-59d1-4779-bda2-1e5ffd019758",
   "metadata": {},
   "outputs": [],
   "source": [
    "!cat schemas/retail_db/retail.json"
   ]
  },
  {
   "cell_type": "code",
   "execution_count": null,
   "id": "ea7879ae-02c7-494a-8114-b4a4c574bdd3",
   "metadata": {},
   "outputs": [],
   "source": [
    "!ls -ltr /data/retail_db/orders"
   ]
  },
  {
   "cell_type": "code",
   "execution_count": null,
   "id": "983977f2-4189-48e0-bba5-3d38eec851f3",
   "metadata": {},
   "outputs": [],
   "source": [
    "# Read orders data into list of strings\n",
    "\n",
    "orders_path = '/data/retail_db/orders/part-00000'\n",
    "orders = open(orders_path). \\\n",
    "    read(). \\\n",
    "    splitlines()"
   ]
  },
  {
   "cell_type": "code",
   "execution_count": null,
   "id": "9b764182-e2ae-4182-b87d-f16daec5147e",
   "metadata": {},
   "outputs": [],
   "source": [
    "orders[:10]"
   ]
  },
  {
   "cell_type": "code",
   "execution_count": null,
   "id": "550389be-0143-4568-acc9-7a2a3958298a",
   "metadata": {},
   "outputs": [],
   "source": [
    "# Load schemas into dict using json\n",
    "\n",
    "import json\n",
    "retail_schemas = json.load(open('schemas/retail_db/retail.json'))"
   ]
  },
  {
   "cell_type": "code",
   "execution_count": null,
   "id": "fd86c840-dab5-40f3-9ead-a17d62264c2d",
   "metadata": {},
   "outputs": [],
   "source": [
    "retail_schemas"
   ]
  },
  {
   "cell_type": "code",
   "execution_count": null,
   "id": "4a876fa4-bb91-4627-a69f-e398d9eadbaa",
   "metadata": {},
   "outputs": [],
   "source": [
    "# Get the schema for relevant data set\n",
    "\n",
    "retail_schemas['orders']"
   ]
  },
  {
   "cell_type": "code",
   "execution_count": null,
   "id": "40399998-8013-4fb9-8966-34dead3b2b6b",
   "metadata": {},
   "outputs": [],
   "source": [
    "# Fetch the column names\n",
    "\n",
    "columns = list(map(lambda col: col['column_name'], retail_schemas['orders']))"
   ]
  },
  {
   "cell_type": "code",
   "execution_count": null,
   "id": "70851606-60de-4e58-ac1b-bd641e905221",
   "metadata": {},
   "outputs": [],
   "source": [
    "columns"
   ]
  },
  {
   "cell_type": "code",
   "execution_count": null,
   "id": "70f47a90-cbc6-4e39-85cb-6fb7130e259e",
   "metadata": {},
   "outputs": [],
   "source": [
    "import csv"
   ]
  },
  {
   "cell_type": "code",
   "execution_count": null,
   "id": "7031155b-7fc8-4c83-97c9-2720c17c9e4d",
   "metadata": {},
   "outputs": [],
   "source": [
    "csv.DictReader?"
   ]
  },
  {
   "cell_type": "code",
   "execution_count": null,
   "id": "57317f26-7ec6-4170-a220-85c7542a1f74",
   "metadata": {},
   "outputs": [],
   "source": [
    "# Create DictReader object using list of strings and column names\n",
    "# We will get list of dicts. The keys in the dicts are from columns\n",
    "csv_reader = csv.DictReader(open(orders_path), fieldnames=columns)"
   ]
  },
  {
   "cell_type": "code",
   "execution_count": null,
   "id": "226db74d-3aad-43a6-8606-2ad228ae786c",
   "metadata": {},
   "outputs": [],
   "source": [
    "csv_reader"
   ]
  },
  {
   "cell_type": "code",
   "execution_count": null,
   "id": "d3c18bec-2100-409d-99bd-e8831e1df467",
   "metadata": {},
   "outputs": [],
   "source": [
    "list(csv_reader)[:10]"
   ]
  },
  {
   "cell_type": "code",
   "execution_count": null,
   "id": "f0f34935-06db-4dd3-b076-3d81571f2713",
   "metadata": {},
   "outputs": [],
   "source": [
    "folder_name = '/data/retail_db/orders'"
   ]
  },
  {
   "cell_type": "code",
   "execution_count": null,
   "id": "837a788d-1fa4-46a4-a3bd-8ebaf636d2ea",
   "metadata": {},
   "outputs": [],
   "source": [
    "import os\n",
    "file_names = os.listdir(folder_name)"
   ]
  },
  {
   "cell_type": "code",
   "execution_count": null,
   "id": "ae59b0df-c5ed-4d21-a559-4b7abf750453",
   "metadata": {},
   "outputs": [],
   "source": [
    "file_names"
   ]
  },
  {
   "cell_type": "code",
   "execution_count": null,
   "id": "163a2799-d19a-4d0f-b76b-f127115a0199",
   "metadata": {},
   "outputs": [],
   "source": [
    "l1 = [1, 2, 3]"
   ]
  },
  {
   "cell_type": "code",
   "execution_count": null,
   "id": "25ced17a-bb4b-44f4-a8ab-6282ed775f7d",
   "metadata": {},
   "outputs": [],
   "source": [
    "l2 = [4, 5]"
   ]
  },
  {
   "cell_type": "code",
   "execution_count": null,
   "id": "2967f46c-3111-4a8e-a18a-414930858670",
   "metadata": {},
   "outputs": [],
   "source": [
    "l1 + l2"
   ]
  },
  {
   "cell_type": "code",
   "execution_count": null,
   "id": "8cbb2c3c-43d8-4058-a0a3-85859902f2d8",
   "metadata": {},
   "outputs": [],
   "source": [
    "import os\n",
    "import json\n",
    "import csv\n",
    "\n",
    "def get_dicts(base_folder, data_set_name, schema_file):\n",
    "    file_names = os.listdir(f'{base_folder}/{data_set_name}')\n",
    "    retail_schemas = json.load(open(schema_file))\n",
    "    columns = list(map(lambda col: col['column_name'], retail_schemas[data_set_name]))\n",
    "    data = []\n",
    "    for file_name in file_names:\n",
    "        file_path = f'{base_folder}/{data_set_name}/{file_name}'\n",
    "        csv_reader = csv.DictReader(open(file_path), fieldnames=columns)\n",
    "        data += list(csv_reader)\n",
    "    return data"
   ]
  },
  {
   "cell_type": "code",
   "execution_count": null,
   "id": "5ebdb7d3-470d-41b0-a485-b9e1534f31c6",
   "metadata": {},
   "outputs": [],
   "source": [
    "data = get_dicts('/data/retail_db', 'orders', 'schemas/retail_db/retail.json')"
   ]
  },
  {
   "cell_type": "code",
   "execution_count": null,
   "id": "a1533350-4771-4e62-8250-82f5f739d47e",
   "metadata": {},
   "outputs": [],
   "source": [
    "len(data)"
   ]
  },
  {
   "cell_type": "code",
   "execution_count": null,
   "id": "8bd331d9-a996-41ba-87e3-c77d918b5c41",
   "metadata": {},
   "outputs": [],
   "source": [
    "data[:10]"
   ]
  },
  {
   "cell_type": "code",
   "execution_count": null,
   "id": "8246e1d6-3f27-4b45-b908-a65c4a36f754",
   "metadata": {},
   "outputs": [],
   "source": [
    "data = get_dicts('/data/retail_db', 'order_items', 'schemas/retail_db/retail.json')"
   ]
  },
  {
   "cell_type": "code",
   "execution_count": null,
   "id": "fb7888b6-5b45-45f8-84dd-226b7970bfe7",
   "metadata": {},
   "outputs": [],
   "source": [
    "len(data)"
   ]
  },
  {
   "cell_type": "code",
   "execution_count": null,
   "id": "acb37f6b-5e72-4e57-8f22-cef7a6522c36",
   "metadata": {},
   "outputs": [],
   "source": [
    "data[:10]"
   ]
  },
  {
   "cell_type": "code",
   "execution_count": null,
   "id": "dd2c2635-3709-4e15-b5e0-5ee33486e247",
   "metadata": {},
   "outputs": [],
   "source": []
  }
 ],
 "metadata": {
  "kernelspec": {
   "display_name": "Python 3 (ipykernel)",
   "language": "python",
   "name": "python3"
  },
  "language_info": {
   "codemirror_mode": {
    "name": "ipython",
    "version": 3
   },
   "file_extension": ".py",
   "mimetype": "text/x-python",
   "name": "python",
   "nbconvert_exporter": "python",
   "pygments_lexer": "ipython3",
   "version": "3.8.12"
  }
 },
 "nbformat": 4,
 "nbformat_minor": 5
}
