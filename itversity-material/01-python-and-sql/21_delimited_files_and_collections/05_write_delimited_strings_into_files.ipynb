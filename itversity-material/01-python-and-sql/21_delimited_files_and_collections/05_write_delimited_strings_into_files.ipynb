{
 "cells": [
  {
   "cell_type": "markdown",
   "id": "d9d29199",
   "metadata": {},
   "source": [
    "## Write Delimited Strings into files\n",
    "\n",
    "Let us understand how to write delimited strings into files. We will start with a collection or list of tuples and see how to convert to delimited strings before writing to a file.\n",
    "\n",
    "Here are the steps involved to write list of tuples into file as delimited strings.\n",
    "* Convert the list of tuples into list of delimited strings.\n",
    "* Open the file in write mode using `w` (overwrite) or `a` (append).\n",
    "* Add the data into the file.\n",
    "* Ensure that the data in the file is validated."
   ]
  },
  {
   "cell_type": "code",
   "execution_count": null,
   "id": "3df77a70",
   "metadata": {},
   "outputs": [],
   "source": [
    "orders = [(1, '2013-07-25 00:00:00.0', 11599, 'CLOSED'),\n",
    " (2, '2013-07-25 00:00:00.0', 256, 'PENDING_PAYMENT'),\n",
    " (3, '2013-07-25 00:00:00.0', 12111, 'COMPLETE'),\n",
    " (4, '2013-07-25 00:00:00.0', 8827, 'CLOSED'),\n",
    " (5, '2013-07-25 00:00:00.0', 11318, 'COMPLETE'),\n",
    " (6, '2013-07-25 00:00:00.0', 7130, 'COMPLETE'),\n",
    " (7, '2013-07-25 00:00:00.0', 4530, 'COMPLETE'),\n",
    " (8, '2013-07-25 00:00:00.0', 2911, 'PROCESSING'),\n",
    " (9, '2013-07-25 00:00:00.0', 5657, 'PENDING_PAYMENT'),\n",
    " (10, '2013-07-25 00:00:00.0', 5648, 'PENDING_PAYMENT')]"
   ]
  },
  {
   "cell_type": "code",
   "execution_count": null,
   "id": "012fde51",
   "metadata": {},
   "outputs": [],
   "source": [
    "type(orders)"
   ]
  },
  {
   "cell_type": "code",
   "execution_count": null,
   "id": "eb5f559b",
   "metadata": {},
   "outputs": [],
   "source": [
    "orders[0]"
   ]
  },
  {
   "cell_type": "code",
   "execution_count": null,
   "id": "638b97a1",
   "metadata": {},
   "outputs": [],
   "source": [
    "type(orders[0])"
   ]
  },
  {
   "cell_type": "code",
   "execution_count": null,
   "id": "f0aa1e5d",
   "metadata": {},
   "outputs": [],
   "source": [
    "order = orders[0]"
   ]
  },
  {
   "cell_type": "code",
   "execution_count": null,
   "id": "072390e8",
   "metadata": {},
   "outputs": [],
   "source": [
    "str.join?"
   ]
  },
  {
   "cell_type": "code",
   "execution_count": null,
   "id": "8eeff1c9",
   "metadata": {},
   "outputs": [],
   "source": [
    "'hello'.join"
   ]
  },
  {
   "cell_type": "code",
   "execution_count": null,
   "id": "fcb8aaaf",
   "metadata": {},
   "outputs": [],
   "source": [
    "','.join(order) # throws error as first and third elements are of type int"
   ]
  },
  {
   "cell_type": "code",
   "execution_count": null,
   "id": "1078616c",
   "metadata": {},
   "outputs": [],
   "source": [
    "[str(item) for item in order]"
   ]
  },
  {
   "cell_type": "code",
   "execution_count": null,
   "id": "bb5781f7",
   "metadata": {},
   "outputs": [],
   "source": [
    "# Convering all the items in tuple to strings using list comprehension\n",
    "','.join([str(item) for item in order]) "
   ]
  },
  {
   "cell_type": "code",
   "execution_count": null,
   "id": "d02d2982",
   "metadata": {},
   "outputs": [],
   "source": [
    "list(map(lambda item: str(item), order))"
   ]
  },
  {
   "cell_type": "code",
   "execution_count": null,
   "id": "eed3de05",
   "metadata": {},
   "outputs": [],
   "source": [
    "# Convering all the items in tuple to strings using map function\n",
    "','.join(map(lambda item: str(item), order))"
   ]
  },
  {
   "cell_type": "code",
   "execution_count": null,
   "id": "1c11886d",
   "metadata": {},
   "outputs": [],
   "source": [
    "orders"
   ]
  },
  {
   "cell_type": "code",
   "execution_count": null,
   "id": "a0a2ee90",
   "metadata": {},
   "outputs": [],
   "source": [
    "orders_csv = map(lambda order: ','.join(map(lambda item: str(item), order)), orders)"
   ]
  },
  {
   "cell_type": "code",
   "execution_count": null,
   "id": "dea9b1fa",
   "metadata": {},
   "outputs": [],
   "source": [
    "list(orders_csv)"
   ]
  },
  {
   "cell_type": "code",
   "execution_count": null,
   "id": "4fd9d16f",
   "metadata": {},
   "outputs": [],
   "source": [
    "orders_csv = map(lambda order: ','.join(map(lambda item: str(item), order)), orders)\n",
    "order = list(orders_csv)[0]\n",
    "order"
   ]
  },
  {
   "cell_type": "markdown",
   "id": "7bdd78b5",
   "metadata": {},
   "source": [
    "* Writing CSV strings one at a time to the file."
   ]
  },
  {
   "cell_type": "code",
   "execution_count": null,
   "id": "d29982c4",
   "metadata": {},
   "outputs": [],
   "source": [
    "!rm -rf data/retail_db/orders"
   ]
  },
  {
   "cell_type": "code",
   "execution_count": null,
   "id": "492df35c",
   "metadata": {},
   "outputs": [],
   "source": [
    "!mkdir -p data/retail_db/orders"
   ]
  },
  {
   "cell_type": "code",
   "execution_count": null,
   "id": "7445edff",
   "metadata": {},
   "outputs": [],
   "source": [
    "orders_file = open('data/retail_db/orders/part-00000', 'w')"
   ]
  },
  {
   "cell_type": "code",
   "execution_count": null,
   "id": "ef5e669f",
   "metadata": {},
   "outputs": [],
   "source": [
    "orders_csv = map(lambda order: ','.join(map(lambda item: str(item), order)), orders)"
   ]
  },
  {
   "cell_type": "code",
   "execution_count": null,
   "id": "9e145f53",
   "metadata": {},
   "outputs": [],
   "source": [
    "for order in orders_csv:\n",
    "    orders_file.write(f'{order}\\n')"
   ]
  },
  {
   "cell_type": "code",
   "execution_count": null,
   "id": "266f88a8",
   "metadata": {},
   "outputs": [],
   "source": [
    "orders_file.close()"
   ]
  },
  {
   "cell_type": "markdown",
   "id": "8818d38b",
   "metadata": {},
   "source": [
    "* Writing as one big string. As we are opening the file using `w`, the file will be truncated. It means the contents of the file will be overwritten with the string we are trying to write to the file."
   ]
  },
  {
   "cell_type": "code",
   "execution_count": null,
   "id": "8c45563d",
   "metadata": {},
   "outputs": [],
   "source": [
    "orders_csv = map(lambda order: ','.join(map(lambda item: str(item), order)), orders)"
   ]
  },
  {
   "cell_type": "code",
   "execution_count": null,
   "id": "64d80893",
   "metadata": {},
   "outputs": [],
   "source": [
    "orders_string = '\\n'.join(orders_csv)"
   ]
  },
  {
   "cell_type": "code",
   "execution_count": null,
   "id": "fb1bcb2b",
   "metadata": {},
   "outputs": [],
   "source": [
    "orders_string"
   ]
  },
  {
   "cell_type": "code",
   "execution_count": null,
   "id": "07ed8fec",
   "metadata": {},
   "outputs": [],
   "source": [
    "orders_file = open('data/retail_db/orders/part-00000', 'w')"
   ]
  },
  {
   "cell_type": "code",
   "execution_count": null,
   "id": "0a45dc6f",
   "metadata": {},
   "outputs": [],
   "source": [
    "orders_file.write(orders_string)"
   ]
  },
  {
   "cell_type": "code",
   "execution_count": null,
   "id": "e9df0e47",
   "metadata": {},
   "outputs": [],
   "source": [
    "orders_file.close()"
   ]
  }
 ],
 "metadata": {
  "kernelspec": {
   "display_name": "Python 3 (ipykernel)",
   "language": "python",
   "name": "python3"
  },
  "language_info": {
   "codemirror_mode": {
    "name": "ipython",
    "version": 3
   },
   "file_extension": ".py",
   "mimetype": "text/x-python",
   "name": "python",
   "nbconvert_exporter": "python",
   "pygments_lexer": "ipython3",
   "version": "3.8.12"
  }
 },
 "nbformat": 4,
 "nbformat_minor": 5
}
