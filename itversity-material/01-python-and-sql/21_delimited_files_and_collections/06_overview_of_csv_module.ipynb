{
  "cells": [
    {
      "cell_type": "markdown",
      "id": "8b72e3a7",
      "metadata": {},
      "source": [
        "## Overview of CSV Module\n",
        "\n",
        "Let us get an overview of CSV Module. It provide some wrapper functions to provide structure to the delimited data in collections as well as to write the collections back in the form of delimited records.\n",
        "* You need to import `csv` module to use the functions that are part of it.\n",
        "* It exposes several APIs to deal with collections which contain delimited strings. Most of them are to read and write."
      ]
    },
    {
      "cell_type": "code",
      "execution_count": null,
      "id": "77dd16bf",
      "metadata": {},
      "outputs": [],
      "source": [
        "import csv"
      ]
    },
    {
      "cell_type": "markdown",
      "id": "e52535a5",
      "metadata": {},
      "source": [
        "* Let us see how we can read the list with delimited strings using `csv.reader`."
      ]
    },
    {
      "cell_type": "code",
      "execution_count": null,
      "id": "86a1bb4a",
      "metadata": {},
      "outputs": [],
      "source": [
        "l = ['1,Scott,Tiger', '2,Donald,Duck']"
      ]
    },
    {
      "cell_type": "code",
      "execution_count": null,
      "id": "eef6ef94",
      "metadata": {},
      "outputs": [],
      "source": [
        "csv.reader?"
      ]
    },
    {
      "cell_type": "code",
      "execution_count": null,
      "id": "9e52efaf",
      "metadata": {},
      "outputs": [],
      "source": [
        "csv.reader(l)"
      ]
    },
    {
      "cell_type": "code",
      "execution_count": null,
      "id": "21c3b8ac",
      "metadata": {},
      "outputs": [],
      "source": [
        "list(csv.reader(l))"
      ]
    },
    {
      "cell_type": "code",
      "execution_count": null,
      "id": "01dd83e1",
      "metadata": {},
      "outputs": [],
      "source": [
        "for item in list(csv.reader(l)):\n",
        "    print(item)"
      ]
    },
    {
      "cell_type": "code",
      "execution_count": null,
      "id": "17c10025",
      "metadata": {},
      "outputs": [],
      "source": [
        "l = ['1\\tScott\\tTiger', '2\\tDonald\\tDuck']"
      ]
    },
    {
      "cell_type": "code",
      "execution_count": null,
      "id": "5766455b",
      "metadata": {},
      "outputs": [],
      "source": [
        "list(csv.reader(l, delimiter='\\t'))"
      ]
    },
    {
      "cell_type": "code",
      "execution_count": null,
      "id": "8e0bc4b2",
      "metadata": {},
      "outputs": [],
      "source": [
        "lt = [(1, 'Scott', 'Tiger'), (2, 'Donald', 'Duck')]"
      ]
    },
    {
      "cell_type": "markdown",
      "id": "973bd001",
      "metadata": {},
      "source": [
        "Now let us see how we can write list of tuples to the file using `csv.writer`.\n",
        "* First we need to create file object in write mode.\n",
        "* We need to create csv writer object using `csv.writer`. By default, the object will be created with `,` as delimiter or separator.\n",
        "* We can pass key word argument `delimiter` along with the character using which we want the data to be separated by using specific character."
      ]
    },
    {
      "cell_type": "code",
      "execution_count": null,
      "id": "8a55e8f2",
      "metadata": {},
      "outputs": [],
      "source": [
        "csv.writer?"
      ]
    },
    {
      "cell_type": "code",
      "execution_count": null,
      "id": "a2509088",
      "metadata": {},
      "outputs": [],
      "source": [
        "!mkdir -p data/users"
      ]
    },
    {
      "cell_type": "code",
      "execution_count": null,
      "id": "09ff77d9",
      "metadata": {},
      "outputs": [],
      "source": [
        "!rm -f data/users/part-00000"
      ]
    },
    {
      "cell_type": "code",
      "execution_count": null,
      "id": "3e91b123",
      "metadata": {},
      "outputs": [],
      "source": [
        "users_file = open('data/users/part-00000', 'w')"
      ]
    },
    {
      "cell_type": "code",
      "execution_count": null,
      "id": "530e0f79",
      "metadata": {},
      "outputs": [],
      "source": [
        "csv_writer = csv.writer(users_file)"
      ]
    },
    {
      "cell_type": "code",
      "execution_count": null,
      "id": "087fe2a0",
      "metadata": {},
      "outputs": [],
      "source": [
        "csv_writer"
      ]
    },
    {
      "cell_type": "code",
      "execution_count": null,
      "id": "b08b6881",
      "metadata": {},
      "outputs": [],
      "source": [
        "csv_writer.writerows(lt)"
      ]
    },
    {
      "cell_type": "code",
      "execution_count": null,
      "id": "0289ffcd",
      "metadata": {},
      "outputs": [],
      "source": [
        "users_file.close()"
      ]
    },
    {
      "cell_type": "code",
      "execution_count": null,
      "id": "3e4ad63d",
      "metadata": {},
      "outputs": [],
      "source": [
        "!ls -ltr data/users/part-00000"
      ]
    },
    {
      "cell_type": "code",
      "execution_count": null,
      "id": "c00dfd6f",
      "metadata": {},
      "outputs": [],
      "source": [
        "!cat data/users/part-00000"
      ]
    },
    {
      "cell_type": "markdown",
      "id": "5d2294d3",
      "metadata": {},
      "source": [
        "* Let us see an example to write the data to the file using `|` as delimiter."
      ]
    },
    {
      "cell_type": "code",
      "execution_count": null,
      "id": "2c2cafd4",
      "metadata": {},
      "outputs": [],
      "source": [
        "!mkdir -p data/users"
      ]
    },
    {
      "cell_type": "code",
      "execution_count": null,
      "id": "32910c9f",
      "metadata": {},
      "outputs": [],
      "source": [
        "!rm -f data/users/part-00000"
      ]
    },
    {
      "cell_type": "code",
      "execution_count": null,
      "id": "52637c9d",
      "metadata": {},
      "outputs": [],
      "source": [
        "users_file = open('data/users/part-00000', 'w')"
      ]
    },
    {
      "cell_type": "code",
      "execution_count": null,
      "id": "01742511",
      "metadata": {},
      "outputs": [],
      "source": [
        "csv_writer = csv.writer(users_file, delimiter='|')"
      ]
    },
    {
      "cell_type": "code",
      "execution_count": null,
      "id": "52eba4ca",
      "metadata": {},
      "outputs": [],
      "source": [
        "csv_writer.writerows(lt)"
      ]
    },
    {
      "cell_type": "code",
      "execution_count": null,
      "id": "7b0108be",
      "metadata": {},
      "outputs": [],
      "source": [
        "users_file.close()"
      ]
    },
    {
      "cell_type": "code",
      "execution_count": null,
      "id": "7370e68d",
      "metadata": {},
      "outputs": [],
      "source": [
        "!ls -ltr data/users/part-00000"
      ]
    },
    {
      "cell_type": "code",
      "execution_count": null,
      "id": "7543ec59",
      "metadata": {},
      "outputs": [],
      "source": [
        "!cat data/users/part-00000"
      ]
    }
  ],
  "metadata": {
    "kernelspec": {
      "display_name": "Python 3",
      "language": "python",
      "name": "python3"
    },
    "language_info": {
      "codemirror_mode": {
        "name": "ipython",
        "version": 3
      },
      "file_extension": ".py",
      "mimetype": "text/x-python",
      "name": "python",
      "nbconvert_exporter": "python",
      "pygments_lexer": "ipython3",
      "version": "3.6.12"
    }
  },
  "nbformat": 4,
  "nbformat_minor": 5
}