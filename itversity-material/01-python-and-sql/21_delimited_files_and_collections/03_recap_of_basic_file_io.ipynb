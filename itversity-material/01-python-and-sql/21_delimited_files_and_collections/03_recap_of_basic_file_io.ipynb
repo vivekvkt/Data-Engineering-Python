{
  "cells": [
    {
      "cell_type": "markdown",
      "id": "5f2a0ea3",
      "metadata": {},
      "source": [
        "## Recap of basic file IO\n",
        "\n",
        "Let us quickly recap basic file IO using first class Python functions.\n",
        "* We use `open` to open a file with `r` for read only purpose.\n",
        "* We can use `open` to open a file with `w` to create a new file and write or to overwrite the existing file.\n",
        "* We can use `open` to open a file in append mode by using `a`. If the file does not exists, it will be created and if the file does exists then the content will be appended at the end of the file.\n",
        "* We might have to introduce `\\n` (new line character) after each element if we want to write a list of elements into a file.\n",
        "* In case if we want to create a file, only if it does not exists, then we can use `open` with `x`. If the file exists, it will throw error.\n",
        "* Let us perform a task to read a file under **/data/retail_db/orders** into a collection and then write the collection into a target file under **data/retail_db/orders**. The data folder which we are trying to write should be under our current folder."
      ]
    },
    {
      "cell_type": "markdown",
      "id": "cc2c1eb1",
      "metadata": {},
      "source": [
        "* Read data from **/data/retail_db/orders/part-00000**."
      ]
    },
    {
      "cell_type": "code",
      "execution_count": null,
      "id": "088184c9",
      "metadata": {},
      "outputs": [],
      "source": [
        "!ls -ltr /data/retail_db/orders/part-00000"
      ]
    },
    {
      "cell_type": "code",
      "execution_count": null,
      "id": "e3f2b74d",
      "metadata": {},
      "outputs": [],
      "source": [
        "!file /data/retail_db/orders/part-00000"
      ]
    },
    {
      "cell_type": "code",
      "execution_count": null,
      "id": "5359ee98",
      "metadata": {},
      "outputs": [],
      "source": [
        "!head -5 /data/retail_db/orders/part-00000"
      ]
    },
    {
      "cell_type": "code",
      "execution_count": null,
      "id": "484e4e26",
      "metadata": {},
      "outputs": [],
      "source": [
        "orders = open('/data/retail_db/orders/part-00000').read().splitlines()"
      ]
    },
    {
      "cell_type": "code",
      "execution_count": null,
      "id": "03a7b2d0",
      "metadata": {},
      "outputs": [],
      "source": [
        "type(orders)"
      ]
    },
    {
      "cell_type": "code",
      "execution_count": null,
      "id": "9d1f27db",
      "metadata": {},
      "outputs": [],
      "source": [
        "len(orders)"
      ]
    },
    {
      "cell_type": "code",
      "execution_count": null,
      "id": "aeb83b0a",
      "metadata": {},
      "outputs": [],
      "source": [
        "orders[0]"
      ]
    },
    {
      "cell_type": "markdown",
      "id": "4997595f",
      "metadata": {},
      "source": [
        "* Write the list `orders` to the target file."
      ]
    },
    {
      "cell_type": "code",
      "execution_count": null,
      "id": "96918ea4",
      "metadata": {},
      "outputs": [],
      "source": [
        "!rm -rf data/retail_db/orders"
      ]
    },
    {
      "cell_type": "code",
      "execution_count": null,
      "id": "76126a20",
      "metadata": {},
      "outputs": [],
      "source": [
        "!mkdir -p data/retail_db/orders"
      ]
    },
    {
      "cell_type": "code",
      "execution_count": null,
      "id": "f34f2d60",
      "metadata": {},
      "outputs": [],
      "source": [
        "orders_file = open('data/retail_db/orders/part-00000', 'w')"
      ]
    },
    {
      "cell_type": "code",
      "execution_count": null,
      "id": "11f16d8c",
      "metadata": {},
      "outputs": [],
      "source": [
        "for order in orders:\n",
        "    orders_file.write(f'{order}\\n')"
      ]
    },
    {
      "cell_type": "code",
      "execution_count": null,
      "id": "0e2bedd6",
      "metadata": {},
      "outputs": [],
      "source": [
        "orders_file.close()"
      ]
    },
    {
      "cell_type": "markdown",
      "id": "ad4bedc2",
      "metadata": {},
      "source": [
        "* Validate whether file is created or not as expected."
      ]
    },
    {
      "cell_type": "code",
      "execution_count": null,
      "id": "6df52aaa",
      "metadata": {},
      "outputs": [],
      "source": [
        "!ls -ltr data/retail_db/orders"
      ]
    },
    {
      "cell_type": "code",
      "execution_count": null,
      "id": "e9c88a72",
      "metadata": {},
      "outputs": [],
      "source": [
        "!head -5 data/retail_db/orders/part-00000"
      ]
    },
    {
      "cell_type": "code",
      "execution_count": null,
      "id": "734fb007",
      "metadata": {},
      "outputs": [],
      "source": [
        "!wc -l data/retail_db/orders/part-00000"
      ]
    }
  ],
  "metadata": {
    "kernelspec": {
      "display_name": "Python 3",
      "language": "python",
      "name": "python3"
    },
    "language_info": {
      "codemirror_mode": {
        "name": "ipython",
        "version": 3
      },
      "file_extension": ".py",
      "mimetype": "text/x-python",
      "name": "python",
      "nbconvert_exporter": "python",
      "pygments_lexer": "ipython3",
      "version": "3.6.12"
    }
  },
  "nbformat": 4,
  "nbformat_minor": 5
}