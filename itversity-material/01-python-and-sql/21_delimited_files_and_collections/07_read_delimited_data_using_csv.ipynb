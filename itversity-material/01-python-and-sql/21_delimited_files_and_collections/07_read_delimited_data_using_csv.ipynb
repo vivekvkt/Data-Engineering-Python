{
 "cells": [
  {
   "cell_type": "markdown",
   "id": "1b206716",
   "metadata": {},
   "source": [
    "## Read Delimited data using CSV\n",
    "\n",
    "Let us understand how to read data from delimited files using Python I/O functions as well as `csv`. `csv` can be used to read iterable of delimited strings into iterable of tuples or dicts.\n",
    "* We will go through the steps related to how to read the contents of the file into list of tuples. We will also see how we can apply transformations such as changing the data types of elements in each of the tuple.\n",
    "* Also, we will go through the steps related to how to read the contents of the file into list of dicts."
   ]
  },
  {
   "cell_type": "code",
   "execution_count": 1,
   "id": "33352e8b",
   "metadata": {},
   "outputs": [
    {
     "name": "stdout",
     "output_type": "stream",
     "text": [
      "total 3.0M\n",
      "-rwxrwxrwx 1 root root 3.0M Nov 10 01:02 part-00000\n"
     ]
    }
   ],
   "source": [
    "!ls -lhtr /data/retail_db/orders"
   ]
  },
  {
   "cell_type": "code",
   "execution_count": 2,
   "id": "fe3a5f69",
   "metadata": {},
   "outputs": [
    {
     "name": "stdout",
     "output_type": "stream",
     "text": [
      "1,2013-07-25 00:00:00.0,11599,CLOSED\n",
      "2,2013-07-25 00:00:00.0,256,PENDING_PAYMENT\n",
      "3,2013-07-25 00:00:00.0,12111,COMPLETE\n",
      "4,2013-07-25 00:00:00.0,8827,CLOSED\n",
      "5,2013-07-25 00:00:00.0,11318,COMPLETE\n"
     ]
    }
   ],
   "source": [
    "!head -5 /data/retail_db/orders/part-00000"
   ]
  },
  {
   "cell_type": "code",
   "execution_count": 3,
   "id": "e77d78c4",
   "metadata": {},
   "outputs": [],
   "source": [
    "import csv"
   ]
  },
  {
   "cell_type": "code",
   "execution_count": 4,
   "id": "377c703b",
   "metadata": {},
   "outputs": [],
   "source": [
    "orders_file = open('/data/retail_db/orders/part-00000')"
   ]
  },
  {
   "cell_type": "code",
   "execution_count": 5,
   "id": "4789c655",
   "metadata": {},
   "outputs": [],
   "source": [
    "orders_list = orders_file.read().splitlines()"
   ]
  },
  {
   "cell_type": "code",
   "execution_count": 6,
   "id": "8ac7d27e",
   "metadata": {},
   "outputs": [
    {
     "data": {
      "text/plain": [
       "list"
      ]
     },
     "execution_count": 6,
     "metadata": {},
     "output_type": "execute_result"
    }
   ],
   "source": [
    "type(orders_list)"
   ]
  },
  {
   "cell_type": "code",
   "execution_count": 7,
   "id": "fde4dfdc",
   "metadata": {},
   "outputs": [
    {
     "data": {
      "text/plain": [
       "['1,2013-07-25 00:00:00.0,11599,CLOSED',\n",
       " '2,2013-07-25 00:00:00.0,256,PENDING_PAYMENT',\n",
       " '3,2013-07-25 00:00:00.0,12111,COMPLETE',\n",
       " '4,2013-07-25 00:00:00.0,8827,CLOSED',\n",
       " '5,2013-07-25 00:00:00.0,11318,COMPLETE',\n",
       " '6,2013-07-25 00:00:00.0,7130,COMPLETE',\n",
       " '7,2013-07-25 00:00:00.0,4530,COMPLETE',\n",
       " '8,2013-07-25 00:00:00.0,2911,PROCESSING',\n",
       " '9,2013-07-25 00:00:00.0,5657,PENDING_PAYMENT',\n",
       " '10,2013-07-25 00:00:00.0,5648,PENDING_PAYMENT']"
      ]
     },
     "execution_count": 7,
     "metadata": {},
     "output_type": "execute_result"
    }
   ],
   "source": [
    "orders_list[:10]"
   ]
  },
  {
   "cell_type": "code",
   "execution_count": 8,
   "id": "8dbf50ad",
   "metadata": {},
   "outputs": [
    {
     "data": {
      "text/plain": [
       "\u001b[0;31mDocstring:\u001b[0m\n",
       "csv_reader = reader(iterable [, dialect='excel']\n",
       "                        [optional keyword args])\n",
       "    for row in csv_reader:\n",
       "        process(row)\n",
       "\n",
       "The \"iterable\" argument can be any object that returns a line\n",
       "of input for each iteration, such as a file object or a list.  The\n",
       "optional \"dialect\" parameter is discussed below.  The function\n",
       "also accepts optional keyword arguments which override settings\n",
       "provided by the dialect.\n",
       "\n",
       "The returned object is an iterator.  Each iteration returns a row\n",
       "of the CSV file (which can span multiple input lines).\n",
       "\u001b[0;31mType:\u001b[0m      builtin_function_or_method\n"
      ]
     },
     "metadata": {},
     "output_type": "display_data"
    }
   ],
   "source": [
    "csv.reader?"
   ]
  },
  {
   "cell_type": "code",
   "execution_count": 9,
   "id": "c6fc3b0c",
   "metadata": {},
   "outputs": [],
   "source": [
    "orders = csv.reader(orders_list, delimiter=',') \n",
    "# Default for delimter is ','\n",
    "# The above piece of code is same as csv.reader(orders_list) "
   ]
  },
  {
   "cell_type": "code",
   "execution_count": 10,
   "id": "e01e3d74",
   "metadata": {},
   "outputs": [
    {
     "data": {
      "text/plain": [
       "_csv.reader"
      ]
     },
     "execution_count": 10,
     "metadata": {},
     "output_type": "execute_result"
    }
   ],
   "source": [
    "type(orders)"
   ]
  },
  {
   "cell_type": "code",
   "execution_count": 11,
   "id": "fd51af12",
   "metadata": {},
   "outputs": [
    {
     "data": {
      "text/plain": [
       "[['1', '2013-07-25 00:00:00.0', '11599', 'CLOSED'],\n",
       " ['2', '2013-07-25 00:00:00.0', '256', 'PENDING_PAYMENT'],\n",
       " ['3', '2013-07-25 00:00:00.0', '12111', 'COMPLETE'],\n",
       " ['4', '2013-07-25 00:00:00.0', '8827', 'CLOSED'],\n",
       " ['5', '2013-07-25 00:00:00.0', '11318', 'COMPLETE'],\n",
       " ['6', '2013-07-25 00:00:00.0', '7130', 'COMPLETE'],\n",
       " ['7', '2013-07-25 00:00:00.0', '4530', 'COMPLETE'],\n",
       " ['8', '2013-07-25 00:00:00.0', '2911', 'PROCESSING'],\n",
       " ['9', '2013-07-25 00:00:00.0', '5657', 'PENDING_PAYMENT'],\n",
       " ['10', '2013-07-25 00:00:00.0', '5648', 'PENDING_PAYMENT']]"
      ]
     },
     "execution_count": 11,
     "metadata": {},
     "output_type": "execute_result"
    }
   ],
   "source": [
    "orders = csv.reader(orders_list)\n",
    "list(orders)[:10]"
   ]
  },
  {
   "cell_type": "code",
   "execution_count": null,
   "id": "312f8cac",
   "metadata": {},
   "outputs": [],
   "source": [
    "orders = csv.reader(orders_list)\n",
    "order = list(orders)[0]"
   ]
  },
  {
   "cell_type": "code",
   "execution_count": null,
   "id": "0d74266b",
   "metadata": {},
   "outputs": [],
   "source": [
    "order"
   ]
  },
  {
   "cell_type": "code",
   "execution_count": null,
   "id": "8f9fde0d",
   "metadata": {},
   "outputs": [],
   "source": [
    "order[0]"
   ]
  },
  {
   "cell_type": "code",
   "execution_count": null,
   "id": "2b8bf1e7",
   "metadata": {},
   "outputs": [],
   "source": [
    "int(order[0]) if order[0].isdigit() else order[0]"
   ]
  },
  {
   "cell_type": "code",
   "execution_count": null,
   "id": "848171d1",
   "metadata": {},
   "outputs": [],
   "source": [
    "list(map(lambda item: int(item) if item.isdigit() else item, order))"
   ]
  },
  {
   "cell_type": "code",
   "execution_count": null,
   "id": "41753ad9",
   "metadata": {},
   "outputs": [],
   "source": [
    "tuple(map(lambda item: int(item) if item.isdigit() else item, order))"
   ]
  },
  {
   "cell_type": "code",
   "execution_count": null,
   "id": "188e72e7",
   "metadata": {},
   "outputs": [],
   "source": [
    "orders = csv.reader(orders_list)\n",
    "\n",
    "list(\n",
    "    tuple(\n",
    "        map(\n",
    "            lambda order: tuple(map(lambda item: int(item) if item.isdigit() else item, order)), \n",
    "            orders\n",
    "        )\n",
    "    )\n",
    ")[:10]"
   ]
  },
  {
   "cell_type": "markdown",
   "id": "2485be70",
   "metadata": {},
   "source": [
    "* Here is the code to convert the data in a CSV file to list of tuples using `csv`."
   ]
  },
  {
   "cell_type": "code",
   "execution_count": null,
   "id": "925f155e",
   "metadata": {},
   "outputs": [],
   "source": [
    "orders_file = open('/data/retail_db/orders/part-00000')\n",
    "orders_list = orders_file.read().splitlines()\n",
    "\n",
    "orders = csv.reader(orders_list)\n",
    "\n",
    "list(\n",
    "    tuple(\n",
    "        map(\n",
    "            lambda order: tuple(map(lambda item: int(item) if item.isdigit() else item, order)), \n",
    "            orders\n",
    "        )\n",
    "    )\n",
    ")[:10]"
   ]
  },
  {
   "cell_type": "markdown",
   "id": "e3aad9ea",
   "metadata": {},
   "source": [
    "* Let us see how we can read iterable of CSV strings into list of dict type objects using `csv.DictReader`."
   ]
  },
  {
   "cell_type": "code",
   "execution_count": null,
   "id": "316c2bed",
   "metadata": {},
   "outputs": [],
   "source": [
    "csv.DictReader?"
   ]
  },
  {
   "cell_type": "code",
   "execution_count": null,
   "id": "c5580a9e",
   "metadata": {},
   "outputs": [],
   "source": [
    "users = [\n",
    "    '1,Scott,Tiger',\n",
    "    '2,Donald,Duck'\n",
    "]"
   ]
  },
  {
   "cell_type": "code",
   "execution_count": null,
   "id": "47408e77",
   "metadata": {},
   "outputs": [],
   "source": [
    "csv.DictReader(users, fieldnames=['user_id', 'user_first_name', 'user_last_name'])"
   ]
  },
  {
   "cell_type": "code",
   "execution_count": null,
   "id": "6ab3fbcf",
   "metadata": {},
   "outputs": [],
   "source": [
    "list(csv.DictReader(users, fieldnames=['user_id', 'user_first_name', 'user_last_name']))"
   ]
  },
  {
   "cell_type": "code",
   "execution_count": null,
   "id": "104a93d0",
   "metadata": {},
   "outputs": [],
   "source": [
    "users_dicts = list(csv.DictReader(users, fieldnames=['user_id', 'user_first_name', 'user_last_name']))"
   ]
  },
  {
   "cell_type": "code",
   "execution_count": null,
   "id": "9979c124",
   "metadata": {},
   "outputs": [],
   "source": [
    "users_dicts"
   ]
  },
  {
   "cell_type": "code",
   "execution_count": null,
   "id": "ebb8eae4",
   "metadata": {},
   "outputs": [],
   "source": [
    "users_dicts[0]"
   ]
  },
  {
   "cell_type": "code",
   "execution_count": null,
   "id": "0731b64e",
   "metadata": {},
   "outputs": [],
   "source": [
    "users_dicts[0]['user_first_name']"
   ]
  },
  {
   "cell_type": "code",
   "execution_count": null,
   "id": "0837e618",
   "metadata": {},
   "outputs": [],
   "source": [
    "orders_file = open('/data/retail_db/orders/part-00000')"
   ]
  },
  {
   "cell_type": "code",
   "execution_count": null,
   "id": "555aa69a",
   "metadata": {},
   "outputs": [],
   "source": [
    "orders_list = orders_file.read().splitlines()"
   ]
  },
  {
   "cell_type": "code",
   "execution_count": null,
   "id": "f49f08da",
   "metadata": {},
   "outputs": [],
   "source": [
    "orders_list[:10]"
   ]
  },
  {
   "cell_type": "code",
   "execution_count": null,
   "id": "37853b1e",
   "metadata": {},
   "outputs": [],
   "source": [
    "list(csv.DictReader(orders_list, fieldnames=['order_id', 'order_date', 'order_customer_id', 'order_status']))[:10]"
   ]
  },
  {
   "cell_type": "code",
   "execution_count": null,
   "id": "ef6dda70",
   "metadata": {},
   "outputs": [],
   "source": [
    "orders = list(csv.DictReader(orders_list, fieldnames=['order_id', 'order_date', 'order_customer_id', 'order_status']))"
   ]
  },
  {
   "cell_type": "code",
   "execution_count": null,
   "id": "a1c2c2a6",
   "metadata": {},
   "outputs": [],
   "source": [
    "orders[:3]"
   ]
  },
  {
   "cell_type": "code",
   "execution_count": null,
   "id": "cf6e6254",
   "metadata": {},
   "outputs": [],
   "source": [
    "order = orders[0]"
   ]
  },
  {
   "cell_type": "code",
   "execution_count": null,
   "id": "d7734088",
   "metadata": {},
   "outputs": [],
   "source": [
    "type(order)"
   ]
  },
  {
   "cell_type": "code",
   "execution_count": null,
   "id": "84aed4c3",
   "metadata": {},
   "outputs": [],
   "source": [
    "order"
   ]
  },
  {
   "cell_type": "code",
   "execution_count": null,
   "id": "2f8061f5",
   "metadata": {},
   "outputs": [],
   "source": [
    "order['order_date']"
   ]
  }
 ],
 "metadata": {
  "kernelspec": {
   "display_name": "Python 3 (ipykernel)",
   "language": "python",
   "name": "python3"
  },
  "language_info": {
   "codemirror_mode": {
    "name": "ipython",
    "version": 3
   },
   "file_extension": ".py",
   "mimetype": "text/x-python",
   "name": "python",
   "nbconvert_exporter": "python",
   "pygments_lexer": "ipython3",
   "version": "3.8.12"
  }
 },
 "nbformat": 4,
 "nbformat_minor": 5
}
