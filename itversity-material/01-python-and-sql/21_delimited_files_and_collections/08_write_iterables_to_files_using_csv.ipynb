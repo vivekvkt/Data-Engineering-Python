{
 "cells": [
  {
   "cell_type": "markdown",
   "id": "51c31a07",
   "metadata": {
    "tags": []
   },
   "source": [
    "## Write iterables to files using CSV\n",
    "\n",
    "Let us understand how to write data in iterables such as list of tuples to delimited files using Python I/O functions as well as `csv`. `csv` can also be used to write iterable of dicts into delimited files."
   ]
  },
  {
   "cell_type": "code",
   "execution_count": null,
   "id": "4f5e1bd1-7029-4f46-91ae-3c8d9c1d50dc",
   "metadata": {},
   "outputs": [],
   "source": [
    "orders = [(1, '2013-07-25 00:00:00.0', 11599, 'CLOSED'),\n",
    " (2, '2013-07-25 00:00:00.0', 256, 'PENDING_PAYMENT'),\n",
    " (3, '2013-07-25 00:00:00.0', 12111, 'COMPLETE'),\n",
    " (4, '2013-07-25 00:00:00.0', 8827, 'CLOSED'),\n",
    " (5, '2013-07-25 00:00:00.0', 11318, 'COMPLETE'),\n",
    " (6, '2013-07-25 00:00:00.0', 7130, 'COMPLETE'),\n",
    " (7, '2013-07-25 00:00:00.0', 4530, 'COMPLETE'),\n",
    " (8, '2013-07-25 00:00:00.0', 2911, 'PROCESSING'),\n",
    " (9, '2013-07-25 00:00:00.0', 5657, 'PENDING_PAYMENT'),\n",
    " (10, '2013-07-25 00:00:00.0', 5648, 'PENDING_PAYMENT')]\n",
    "\n",
    "orders_csv = map(lambda order: ','.join(map(lambda item: str(item), order)), orders)"
   ]
  },
  {
   "cell_type": "code",
   "execution_count": null,
   "id": "26d68345-79e0-4806-9a1d-c6b68650e285",
   "metadata": {},
   "outputs": [],
   "source": [
    "list(orders_csv)"
   ]
  },
  {
   "cell_type": "code",
   "execution_count": null,
   "id": "e7bceb17-bf96-4c01-8028-3219a3728b91",
   "metadata": {},
   "outputs": [],
   "source": [
    "!rm -rf data/retail_db/orders"
   ]
  },
  {
   "cell_type": "code",
   "execution_count": null,
   "id": "8bbf9aa2-8185-4503-8f0e-f4bcad0b3885",
   "metadata": {},
   "outputs": [],
   "source": [
    "!mkdir -p data/retail_db/orders"
   ]
  },
  {
   "cell_type": "code",
   "execution_count": null,
   "id": "ab8ca2a4-c4f4-4680-a329-e47a6fea97bf",
   "metadata": {},
   "outputs": [],
   "source": [
    "orders_file = open('data/retail_db/orders/part-00000', 'w')\n",
    "\n",
    "orders_csv = map(lambda order: ','.join(map(lambda item: str(item), order)), orders)\n",
    "\n",
    "for order in orders_csv:\n",
    "    orders_file.write(f'{order}\\n')\n",
    "\n",
    "orders_file.close()"
   ]
  },
  {
   "cell_type": "code",
   "execution_count": null,
   "id": "87decd22-ba63-4275-8f7a-0f449a331f47",
   "metadata": {},
   "outputs": [],
   "source": [
    "!ls -ltr data/retail_db/orders/part-00000"
   ]
  },
  {
   "cell_type": "code",
   "execution_count": null,
   "id": "47be1e71-5222-4854-b75e-c29499bd8043",
   "metadata": {},
   "outputs": [],
   "source": [
    "!cat data/retail_db/orders/part-00000"
   ]
  },
  {
   "cell_type": "markdown",
   "id": "83cde936-7266-4ca0-a958-ad54028915c6",
   "metadata": {},
   "source": [
    "* Writing iterables of tuples using `csv.writer`."
   ]
  },
  {
   "cell_type": "code",
   "execution_count": null,
   "id": "935ccef0-9d7f-4eb5-95c6-4a91f0c32e9e",
   "metadata": {},
   "outputs": [],
   "source": [
    "orders = [(1, '2013-07-25 00:00:00.0', 11599, 'CLOSED'),\n",
    " (2, '2013-07-25 00:00:00.0', 256, 'PENDING_PAYMENT'),\n",
    " (3, '2013-07-25 00:00:00.0', 12111, 'COMPLETE'),\n",
    " (4, '2013-07-25 00:00:00.0', 8827, 'CLOSED'),\n",
    " (5, '2013-07-25 00:00:00.0', 11318, 'COMPLETE'),\n",
    " (6, '2013-07-25 00:00:00.0', 7130, 'COMPLETE'),\n",
    " (7, '2013-07-25 00:00:00.0', 4530, 'COMPLETE'),\n",
    " (8, '2013-07-25 00:00:00.0', 2911, 'PROCESSING'),\n",
    " (9, '2013-07-25 00:00:00.0', 5657, 'PENDING_PAYMENT'),\n",
    " (10, '2013-07-25 00:00:00.0', 5648, 'PENDING_PAYMENT')]"
   ]
  },
  {
   "cell_type": "code",
   "execution_count": null,
   "id": "08269e8c-61be-45fc-a002-f18c14865d38",
   "metadata": {},
   "outputs": [],
   "source": [
    "import csv"
   ]
  },
  {
   "cell_type": "code",
   "execution_count": null,
   "id": "9e09aa08-d327-40e1-a86f-666ea291347a",
   "metadata": {},
   "outputs": [],
   "source": [
    "csv.writer?"
   ]
  },
  {
   "cell_type": "code",
   "execution_count": null,
   "id": "e7613177-6fcd-476b-bcb9-e8cbd8b4f011",
   "metadata": {},
   "outputs": [],
   "source": [
    "!rm data/retail_db/orders/part-00000"
   ]
  },
  {
   "cell_type": "code",
   "execution_count": null,
   "id": "18e29d04-8775-4340-a089-5c0ff878ad19",
   "metadata": {},
   "outputs": [],
   "source": [
    "orders_file = open('data/retail_db/orders/part-00000', 'w')"
   ]
  },
  {
   "cell_type": "code",
   "execution_count": null,
   "id": "ff1a5d42-3c54-40e5-a8c4-32995eea1529",
   "metadata": {},
   "outputs": [],
   "source": [
    "csv_writer = csv.writer(orders_file)"
   ]
  },
  {
   "cell_type": "code",
   "execution_count": null,
   "id": "a9dd7360-f7db-41f7-8920-b94f336468e0",
   "metadata": {},
   "outputs": [],
   "source": [
    "csv_writer.writerows(orders)"
   ]
  },
  {
   "cell_type": "code",
   "execution_count": null,
   "id": "be872d01-36c3-472e-9a2a-89c8dce017a4",
   "metadata": {},
   "outputs": [],
   "source": [
    "orders_file.close()"
   ]
  },
  {
   "cell_type": "code",
   "execution_count": null,
   "id": "624fb2e1-8012-46c9-9043-a09858471586",
   "metadata": {},
   "outputs": [],
   "source": [
    "!ls -ltr data/retail_db/orders/part-00000"
   ]
  },
  {
   "cell_type": "code",
   "execution_count": null,
   "id": "cebcb3d7-e94a-46f8-8d4b-ff6dd029a43f",
   "metadata": {},
   "outputs": [],
   "source": [
    "!cat data/retail_db/orders/part-00000"
   ]
  },
  {
   "cell_type": "markdown",
   "id": "b55d4c7e-e13f-4cc6-aec2-22f097df44c2",
   "metadata": {},
   "source": [
    "* We can also write into delimited text files using other delimiters than comma."
   ]
  },
  {
   "cell_type": "code",
   "execution_count": null,
   "id": "86f79e16-1e2f-4da7-876c-0a76bb34e0fd",
   "metadata": {},
   "outputs": [],
   "source": [
    "!rm data/retail_db/orders/part-00000"
   ]
  },
  {
   "cell_type": "code",
   "execution_count": null,
   "id": "2493ded8-4cec-4e9b-8e4f-cbc991d3606e",
   "metadata": {},
   "outputs": [],
   "source": [
    "orders_file = open('data/retail_db/orders/part-00000', 'w')\n",
    "csv_writer = csv.writer(orders_file, delimiter=';')\n",
    "csv_writer.writerows(orders)\n",
    "orders_file.close()"
   ]
  },
  {
   "cell_type": "code",
   "execution_count": null,
   "id": "fe9c2ceb-3190-43f7-88f3-f934aed1c001",
   "metadata": {},
   "outputs": [],
   "source": [
    "!ls -ltr data/retail_db/orders/part-00000"
   ]
  },
  {
   "cell_type": "code",
   "execution_count": null,
   "id": "48a5d243-656a-496a-92e0-f22fb554b61b",
   "metadata": {},
   "outputs": [],
   "source": [
    "!cat data/retail_db/orders/part-00000"
   ]
  },
  {
   "cell_type": "markdown",
   "id": "48c9b2ca-a002-4e94-9953-f7ceed57c550",
   "metadata": {},
   "source": [
    "* We can also write list of dicts into delimited strings using `csv.DictWriter`"
   ]
  },
  {
   "cell_type": "code",
   "execution_count": null,
   "id": "14cef844-5d78-497f-a306-6bdaca90e6b4",
   "metadata": {},
   "outputs": [],
   "source": [
    "orders = [\n",
    "    {'order_id': 1, 'order_date': '2013-07-25 00:00:00.0', 'order_customer_id': 11599, 'order_status': 'CLOSED'},\n",
    "    {'order_id': 2, 'order_date': '2013-07-25 00:00:00.0', 'order_customer_id': 256, 'order_status': 'PENDING_PAYMENT'},\n",
    "    {'order_id': 3, 'order_date': '2013-07-25 00:00:00.0', 'order_customer_id': 12111, 'order_status': 'COMPLETE'},\n",
    "    {'order_id': 4, 'order_date': '2013-07-25 00:00:00.0', 'order_customer_id': 8827, 'order_status': 'CLOSED'},\n",
    "    {'order_id': 5, 'order_date': '2013-07-25 00:00:00.0', 'order_customer_id': 11318, 'order_status': 'COMPLETE'},\n",
    "    {'order_id': 6, 'order_date': '2013-07-25 00:00:00.0', 'order_customer_id': 7130, 'order_status': 'COMPLETE'},\n",
    "    {'order_id': 7, 'order_date': '2013-07-25 00:00:00.0', 'order_customer_id': 4530, 'order_status': 'COMPLETE'},\n",
    "    {'order_id': 8, 'order_date': '2013-07-25 00:00:00.0', 'order_customer_id': 2911, 'order_status': 'PROCESSING'},\n",
    "    {'order_id': 9, 'order_date': '2013-07-25 00:00:00.0', 'order_customer_id': 5657, 'order_status': 'PENDING_PAYMENT'},\n",
    "    {'order_id': 10, 'order_date': '2013-07-25 00:00:00.0', 'order_customer_id': 5648, 'order_status': 'PENDING_PAYMENT'}\n",
    "]"
   ]
  },
  {
   "cell_type": "code",
   "execution_count": null,
   "id": "62831321-aa0e-41d3-a355-2676305c90b8",
   "metadata": {},
   "outputs": [],
   "source": [
    "!rm data/retail_db/orders/part-00000"
   ]
  },
  {
   "cell_type": "code",
   "execution_count": null,
   "id": "25bcccd0-02f0-423c-a118-75f032d53605",
   "metadata": {},
   "outputs": [],
   "source": [
    "orders_file = open('data/retail_db/orders/part-00000', 'w')"
   ]
  },
  {
   "cell_type": "code",
   "execution_count": null,
   "id": "8ea08abe-965b-4d8d-82be-c153582e746a",
   "metadata": {},
   "outputs": [],
   "source": [
    "csv.DictWriter?"
   ]
  },
  {
   "cell_type": "code",
   "execution_count": null,
   "id": "72a7dd89-f536-4149-a0bb-15f5e034836e",
   "metadata": {},
   "outputs": [],
   "source": [
    "csv_writer = csv.DictWriter(\n",
    "    orders_file,\n",
    "    fieldnames=['order_id', 'order_date', 'order_customer_id', 'order_status'],\n",
    "    delimiter=';'\n",
    ")"
   ]
  },
  {
   "cell_type": "code",
   "execution_count": null,
   "id": "1a25019c-b1e5-4459-bba4-16586806e312",
   "metadata": {},
   "outputs": [],
   "source": [
    "csv_writer.writerows(orders)"
   ]
  },
  {
   "cell_type": "code",
   "execution_count": null,
   "id": "eb97d0d6-bd7c-4f9a-b5b4-fe1af01abc24",
   "metadata": {},
   "outputs": [],
   "source": [
    "orders_file.close()"
   ]
  },
  {
   "cell_type": "code",
   "execution_count": null,
   "id": "7fab3e98-4e62-4e5d-b20f-01b5d82c211c",
   "metadata": {},
   "outputs": [],
   "source": [
    "!ls -ltr data/retail_db/orders/part-00000"
   ]
  },
  {
   "cell_type": "code",
   "execution_count": null,
   "id": "2ed4f12b-28f5-4d3c-b249-da8c8053fe5f",
   "metadata": {},
   "outputs": [],
   "source": [
    "!cat data/retail_db/orders/part-00000"
   ]
  },
  {
   "cell_type": "code",
   "execution_count": null,
   "id": "b37a6f97-2cec-44c4-843e-c56ca8f0c9e3",
   "metadata": {},
   "outputs": [],
   "source": []
  }
 ],
 "metadata": {
  "kernelspec": {
   "display_name": "Python 3 (ipykernel)",
   "language": "python",
   "name": "python3"
  },
  "language_info": {
   "codemirror_mode": {
    "name": "ipython",
    "version": 3
   },
   "file_extension": ".py",
   "mimetype": "text/x-python",
   "name": "python",
   "nbconvert_exporter": "python",
   "pygments_lexer": "ipython3",
   "version": "3.8.12"
  }
 },
 "nbformat": 4,
 "nbformat_minor": 5
}
