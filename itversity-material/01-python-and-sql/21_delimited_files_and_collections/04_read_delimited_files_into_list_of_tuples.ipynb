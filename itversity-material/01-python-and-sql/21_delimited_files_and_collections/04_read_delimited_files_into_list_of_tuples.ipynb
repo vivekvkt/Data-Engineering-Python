{
  "cells": [
    {
      "cell_type": "markdown",
      "id": "a08b5369",
      "metadata": {},
      "source": [
        "## Read Delimited files into list of tuples\n",
        "\n",
        "Let us go through reading delimited files into list of tuples. Here are the steps involved.\n",
        "* Open the file in read mode (default).\n",
        "* Read the data in the file as string using `read` and then use `splitlines` to create a collection.\n",
        "* At this time, we will have a list where each element is a line from the file.\n",
        "* The data in each element is typically delimited. We have to read the data at each attribute level.\n",
        "* We typically process further to create list of tuples or list of dicts. Each string will be converted to tuple or a dict.\n",
        "* We can either use conventional loops or list comprehensions or functions like `map` to convert each element in the list to a tuple or dict. For now, we will focus on tuple."
      ]
    },
    {
      "cell_type": "code",
      "execution_count": null,
      "id": "1b830906",
      "metadata": {},
      "outputs": [],
      "source": [
        "!ls -ltr /data/retail_db/orders"
      ]
    },
    {
      "cell_type": "code",
      "execution_count": null,
      "id": "3c57ac23",
      "metadata": {},
      "outputs": [],
      "source": [
        "!head -5 /data/retail_db/orders/part-00000"
      ]
    },
    {
      "cell_type": "code",
      "execution_count": null,
      "id": "514de420",
      "metadata": {},
      "outputs": [],
      "source": [
        "!wc -l /data/retail_db/orders/part-00000"
      ]
    },
    {
      "cell_type": "markdown",
      "id": "cb976b48",
      "metadata": {},
      "source": [
        "* Open the file in read mode."
      ]
    },
    {
      "cell_type": "code",
      "execution_count": null,
      "id": "b715a855",
      "metadata": {},
      "outputs": [],
      "source": [
        "orders_file = open('/data/retail_db/orders/part-00000')"
      ]
    },
    {
      "cell_type": "markdown",
      "id": "a057c04f",
      "metadata": {},
      "source": [
        "* Read the data from the file into list of strings."
      ]
    },
    {
      "cell_type": "code",
      "execution_count": null,
      "id": "69c0f251",
      "metadata": {},
      "outputs": [],
      "source": [
        "orders_list = orders_file.read().splitlines()"
      ]
    },
    {
      "cell_type": "code",
      "execution_count": null,
      "id": "ac90f518",
      "metadata": {},
      "outputs": [],
      "source": [
        "type(orders_list)"
      ]
    },
    {
      "cell_type": "code",
      "execution_count": null,
      "id": "c3f8c9d6",
      "metadata": {},
      "outputs": [],
      "source": [
        "orders_list[:10]"
      ]
    },
    {
      "cell_type": "code",
      "execution_count": null,
      "id": "f75fe7e1",
      "metadata": {},
      "outputs": [],
      "source": [
        "len(orders_list)"
      ]
    },
    {
      "cell_type": "code",
      "execution_count": null,
      "id": "a5bd61d8",
      "metadata": {},
      "outputs": [],
      "source": [
        "orders_list[0]"
      ]
    },
    {
      "cell_type": "code",
      "execution_count": null,
      "id": "44e25eed",
      "metadata": {},
      "outputs": [],
      "source": [
        "type(orders_list[0])"
      ]
    },
    {
      "cell_type": "markdown",
      "id": "f57851d9",
      "metadata": {},
      "source": [
        "* Converting each string in **orders_list** into list of tuples using conventional `for` loop."
      ]
    },
    {
      "cell_type": "code",
      "execution_count": null,
      "id": "3f6d6eb7",
      "metadata": {},
      "outputs": [],
      "source": [
        "order = orders_list[0]"
      ]
    },
    {
      "cell_type": "code",
      "execution_count": null,
      "id": "87831d15",
      "metadata": {},
      "outputs": [],
      "source": [
        "order.split(',')"
      ]
    },
    {
      "cell_type": "code",
      "execution_count": null,
      "id": "98f818ad",
      "metadata": {},
      "outputs": [],
      "source": [
        "tuple(order.split(','))"
      ]
    },
    {
      "cell_type": "code",
      "execution_count": null,
      "id": "0b1d6f50",
      "metadata": {},
      "outputs": [],
      "source": [
        "tuple((int(order.split(',')[0]), order.split(',')[1], int(order.split(',')[2]), order.split(',')[3]))"
      ]
    },
    {
      "cell_type": "code",
      "execution_count": null,
      "id": "6694cae2",
      "metadata": {},
      "outputs": [],
      "source": [
        "orders_conventional_for = []\n",
        "\n",
        "for order in orders_list:\n",
        "    order_details = order.split(',')\n",
        "    orders_conventional_for.append((int(order_details[0]), order_details[1], int(order_details[2]), order_details[3]))"
      ]
    },
    {
      "cell_type": "code",
      "execution_count": null,
      "id": "fad0c16e",
      "metadata": {},
      "outputs": [],
      "source": [
        "orders_conventional_for[:10]"
      ]
    },
    {
      "cell_type": "code",
      "execution_count": null,
      "id": "db014d4e",
      "metadata": {},
      "outputs": [],
      "source": [
        "len(orders_conventional_for)"
      ]
    },
    {
      "cell_type": "code",
      "execution_count": null,
      "id": "12d591ef",
      "metadata": {},
      "outputs": [],
      "source": [
        "orders_conventional_for[0]"
      ]
    },
    {
      "cell_type": "code",
      "execution_count": null,
      "id": "e99d395d",
      "metadata": {},
      "outputs": [],
      "source": [
        "type(orders_conventional_for[0])"
      ]
    },
    {
      "cell_type": "markdown",
      "id": "ab13c96b",
      "metadata": {},
      "source": [
        "* Converting each string in **orders_list** into list of tuples using list comprehensions."
      ]
    },
    {
      "cell_type": "code",
      "execution_count": null,
      "id": "93c0cd2c",
      "metadata": {},
      "outputs": [],
      "source": [
        "orders_list_comprehension = [\n",
        "    (int(order.split(',')[0]), order.split(',')[1], int(order.split(',')[2]), order.split(',')[3]) for order in orders_list\n",
        "]"
      ]
    },
    {
      "cell_type": "code",
      "execution_count": null,
      "id": "0f4c7d1a",
      "metadata": {},
      "outputs": [],
      "source": [
        "orders_list_comprehension[:10]"
      ]
    },
    {
      "cell_type": "code",
      "execution_count": null,
      "id": "e7cb4959",
      "metadata": {},
      "outputs": [],
      "source": [
        "len(orders_list_comprehension)"
      ]
    },
    {
      "cell_type": "code",
      "execution_count": null,
      "id": "08f71d6b",
      "metadata": {},
      "outputs": [],
      "source": [
        "orders_list_comprehension[0]"
      ]
    },
    {
      "cell_type": "code",
      "execution_count": null,
      "id": "12d8bfb9",
      "metadata": {},
      "outputs": [],
      "source": [
        "type(orders_list_comprehension[0])"
      ]
    },
    {
      "cell_type": "markdown",
      "id": "d73e6386",
      "metadata": {},
      "source": [
        "* Converting each string in **orders_list** into list of tuples using `map` function."
      ]
    },
    {
      "cell_type": "code",
      "execution_count": null,
      "id": "05af29a7",
      "metadata": {},
      "outputs": [],
      "source": [
        "orders_list_map = map(\n",
        "    lambda order: (\n",
        "        int(order.split(',')[0]), order.split(',')[1], int(order.split(',')[2]), order.split(',')[3]\n",
        "    ),\n",
        "    orders_list\n",
        ")"
      ]
    },
    {
      "cell_type": "code",
      "execution_count": null,
      "id": "eb794ee8",
      "metadata": {},
      "outputs": [],
      "source": [
        "type(orders_list_map)"
      ]
    },
    {
      "cell_type": "code",
      "execution_count": null,
      "id": "f0375134",
      "metadata": {},
      "outputs": [],
      "source": [
        "list(orders_list_map)[:10]"
      ]
    },
    {
      "cell_type": "code",
      "execution_count": null,
      "id": "afbebd7e",
      "metadata": {},
      "outputs": [],
      "source": [
        "orders_list_map = map(\n",
        "    lambda order: (\n",
        "        int(order.split(',')[0]), order.split(',')[1], int(order.split(',')[2]), order.split(',')[3]\n",
        "    ),\n",
        "    orders_list\n",
        ")\n",
        "len(list(orders_list_map))"
      ]
    },
    {
      "cell_type": "code",
      "execution_count": null,
      "id": "b35516d6",
      "metadata": {},
      "outputs": [],
      "source": [
        "orders_list_map = map(\n",
        "    lambda order: (\n",
        "        int(order.split(',')[0]), order.split(',')[1], int(order.split(',')[2]), order.split(',')[3]\n",
        "    ),\n",
        "    orders_list\n",
        ")\n",
        "\n",
        "list(orders_list_map)[0]"
      ]
    },
    {
      "cell_type": "code",
      "execution_count": null,
      "id": "6c415b0b",
      "metadata": {},
      "outputs": [],
      "source": [
        "orders_list_map = map(\n",
        "    lambda order: (\n",
        "        int(order.split(',')[0]), order.split(',')[1], int(order.split(',')[2]), order.split(',')[3]\n",
        "    ),\n",
        "    orders_list\n",
        ")\n",
        "\n",
        "type(list(orders_list_map)[0])"
      ]
    }
  ],
  "metadata": {
    "kernelspec": {
      "display_name": "Python 3",
      "language": "python",
      "name": "python3"
    },
    "language_info": {
      "codemirror_mode": {
        "name": "ipython",
        "version": 3
      },
      "file_extension": ".py",
      "mimetype": "text/x-python",
      "name": "python",
      "nbconvert_exporter": "python",
      "pygments_lexer": "ipython3",
      "version": "3.6.12"
    }
  },
  "nbformat": 4,
  "nbformat_minor": 5
}