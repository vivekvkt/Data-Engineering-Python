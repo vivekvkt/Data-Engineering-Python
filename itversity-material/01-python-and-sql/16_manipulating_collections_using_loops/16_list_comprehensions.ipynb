{
 "cells": [
  {
   "cell_type": "markdown",
   "id": "8da1d820",
   "metadata": {},
   "source": [
    "## List Comprehensions\n",
    "\n",
    "Let us see how we can process data in Python collections using list comprehensions.\n",
    "\n",
    "* Let us create list of tuples using id and email from the below employees using list comprehensions.\n",
    "* We will ensure that employee id is of type `int`.\n",
    "* Here is the approach with conventional loops.\n",
    "  * Create a global list.\n",
    "  * Process each string and extract id and email. Type cast id to `int`.\n",
    "  * Append to the list.\n",
    "  * By the time `employees` is processed, we will have a new list which contain tuples with id and email."
   ]
  },
  {
   "cell_type": "code",
   "execution_count": null,
   "id": "d7ae7a91",
   "metadata": {},
   "outputs": [],
   "source": [
    "employees = [\n",
    "    '1,ktrett0@independent.co.uk,6998.95',\n",
    "    '2,khaddock1@deviantart.com,10572.4',\n",
    "    '3,ecraft2@dell.com,3967.35',\n",
    "    '4,drussam3@t-online.de,17672.44',\n",
    "    '5,graigatt4@github.io,11660.67',\n",
    "    '6,bjaxon5@salon.com,18614.93',\n",
    "    '7,araulston6@list-manage.com,11550.75',\n",
    "    '8,mcobb7@mozilla.com,17016.15',\n",
    "    '9,grobardley8@unesco.org,14141.25',\n",
    "    '10,bbuye9@vkontakte.ru,12193.2'\n",
    "]"
   ]
  },
  {
   "cell_type": "code",
   "execution_count": null,
   "id": "df80856c",
   "metadata": {},
   "outputs": [],
   "source": [
    "employees_emails = []\n",
    "for employee in employees:\n",
    "    employees_emails.append((int(employee.split(',')[0]), employee.split(',')[1]))"
   ]
  },
  {
   "cell_type": "code",
   "execution_count": null,
   "id": "99c7e040",
   "metadata": {},
   "outputs": [],
   "source": [
    "employees_emails"
   ]
  },
  {
   "cell_type": "markdown",
   "id": "88269f89",
   "metadata": {},
   "source": [
    "* Here is the approach using `list` comprehensions.\n",
    "  * We can directly write the code using `for` loop and assign it to a variable.\n",
    "  * The variable will be of type `list`.\n",
    "  * There is no need to initialize a list and use `append` function."
   ]
  },
  {
   "cell_type": "code",
   "execution_count": null,
   "id": "0290c90a",
   "metadata": {},
   "outputs": [],
   "source": [
    "employees_emails = [(int(employee.split(',')[0]), employee.split(',')[1]) for employee in employees]"
   ]
  },
  {
   "cell_type": "code",
   "execution_count": null,
   "id": "e77ac6b5",
   "metadata": {},
   "outputs": [],
   "source": [
    "employees_emails"
   ]
  },
  {
   "cell_type": "markdown",
   "id": "39063abe-b612-463d-92cf-33ae01179ecd",
   "metadata": {},
   "source": [
    "* We can also apply conditions as part of list comprehensions. The below logic will create list of employees whose salary is greater than $1000."
   ]
  },
  {
   "cell_type": "code",
   "execution_count": null,
   "id": "a42aa5d4-1bff-4e61-9ffe-224e4f3346b9",
   "metadata": {},
   "outputs": [],
   "source": [
    "highest_salaried_employees = [employee for employee in employees if float(employee.split(',')[2]) > 10000]"
   ]
  },
  {
   "cell_type": "code",
   "execution_count": null,
   "id": "aa82b9c6-3428-4418-b35d-fcc865688d23",
   "metadata": {},
   "outputs": [],
   "source": [
    "highest_salaried_employees"
   ]
  },
  {
   "cell_type": "code",
   "execution_count": null,
   "id": "20d4a7d5-655f-4f01-84cb-b0ff9189611a",
   "metadata": {},
   "outputs": [],
   "source": [
    "highest_salaried_employees = [\n",
    "    (int(employee.split(',')[0]), employee.split(',')[1]) \n",
    "    for employee in employees if float(employee.split(',')[2]) > 10000\n",
    "]"
   ]
  },
  {
   "cell_type": "code",
   "execution_count": null,
   "id": "356db3e6-bca0-43f2-9515-9b175678db7d",
   "metadata": {},
   "outputs": [],
   "source": [
    "highest_salaried_employees"
   ]
  },
  {
   "cell_type": "markdown",
   "id": "5a74fdfa-1643-4d52-a3a2-aa2461f5740c",
   "metadata": {},
   "source": [
    "* We can also perform aggregations using comprehensions."
   ]
  },
  {
   "cell_type": "code",
   "execution_count": null,
   "id": "8ec21748-f213-428f-999b-8edd436dd037",
   "metadata": {},
   "outputs": [],
   "source": [
    "total_salary = round(sum(float(employee.split(',')[2]) for employee in employees), 2)"
   ]
  },
  {
   "cell_type": "code",
   "execution_count": null,
   "id": "d3236e5d-2d0a-4d2b-82b3-48983fea081c",
   "metadata": {},
   "outputs": [],
   "source": [
    "total_salary"
   ]
  },
  {
   "cell_type": "code",
   "execution_count": null,
   "id": "06096d21-9dd0-4254-84fe-8a2b6e6ac1ce",
   "metadata": {},
   "outputs": [],
   "source": [
    "min(float(employee.split(',')[2]) for employee in employees)"
   ]
  },
  {
   "cell_type": "code",
   "execution_count": null,
   "id": "d40b1883-7e50-4f77-a4d7-f8d8870f7239",
   "metadata": {},
   "outputs": [],
   "source": []
  }
 ],
 "metadata": {
  "kernelspec": {
   "display_name": "Python 3 (ipykernel)",
   "language": "python",
   "name": "python3"
  },
  "language_info": {
   "codemirror_mode": {
    "name": "ipython",
    "version": 3
   },
   "file_extension": ".py",
   "mimetype": "text/x-python",
   "name": "python",
   "nbconvert_exporter": "python",
   "pygments_lexer": "ipython3",
   "version": "3.8.12"
  }
 },
 "nbformat": 4,
 "nbformat_minor": 5
}
