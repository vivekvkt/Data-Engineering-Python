{
  "cells": [
    {
      "cell_type": "markdown",
      "metadata": {},
      "source": [
        "## Filtering Data\n",
        "\n",
        "Let us perform few tasks to understand how to filter the data in collections using loops and conditionals.\n",
        "\n",
        "Here are the details about orders.\n",
        "* Data is in text file format\n",
        "* Each line in the file contains one record.\n",
        "* Each record contains 4 attributes which are separated by \u201c,\u201d\n",
        "  * order_id\n",
        "  * order_date\n",
        "  * order_customer_id\n",
        "  * order_status"
      ]
    },
    {
      "cell_type": "code",
      "execution_count": null,
      "metadata": {},
      "outputs": [],
      "source": [
        "%%sh\n",
        "\n",
        "ls -ltr /data/retail_db/orders/part-00000"
      ]
    },
    {
      "cell_type": "code",
      "execution_count": null,
      "metadata": {},
      "outputs": [],
      "source": [
        "%%sh\n",
        "\n",
        "tail /data/retail_db/orders/part-00000"
      ]
    },
    {
      "cell_type": "code",
      "execution_count": null,
      "metadata": {},
      "outputs": [],
      "source": [
        "path = '/data/retail_db/orders/part-00000'\n",
        "# C:\\\\users\\\\itversity\\\\Research\\\\data\\\\retail_db\\\\orders\\\\part-00000\n",
        "orders_file = open(path)"
      ]
    },
    {
      "cell_type": "code",
      "execution_count": null,
      "metadata": {},
      "outputs": [],
      "source": [
        "type(orders_file)"
      ]
    },
    {
      "cell_type": "code",
      "execution_count": null,
      "metadata": {},
      "outputs": [],
      "source": [
        "orders_raw = orders_file.read()"
      ]
    },
    {
      "cell_type": "code",
      "execution_count": null,
      "metadata": {},
      "outputs": [],
      "source": [
        "type(orders_raw)"
      ]
    },
    {
      "cell_type": "code",
      "execution_count": null,
      "metadata": {},
      "outputs": [],
      "source": [
        "orders_raw.splitlines?"
      ]
    },
    {
      "cell_type": "code",
      "execution_count": null,
      "metadata": {},
      "outputs": [],
      "source": [
        "orders = orders_raw.splitlines()"
      ]
    },
    {
      "cell_type": "code",
      "execution_count": null,
      "metadata": {},
      "outputs": [],
      "source": [
        "type(orders)"
      ]
    },
    {
      "cell_type": "code",
      "execution_count": null,
      "metadata": {},
      "outputs": [],
      "source": [
        "orders[:10]"
      ]
    },
    {
      "cell_type": "code",
      "execution_count": null,
      "metadata": {},
      "outputs": [],
      "source": [
        "type(orders[0])"
      ]
    },
    {
      "cell_type": "code",
      "execution_count": null,
      "metadata": {},
      "outputs": [],
      "source": [
        "len(orders)"
      ]
    },
    {
      "cell_type": "code",
      "execution_count": null,
      "metadata": {},
      "outputs": [],
      "source": [
        "%%sh\n",
        "\n",
        "wc -l /data/retail_db/orders/part-00000"
      ]
    },
    {
      "cell_type": "markdown",
      "metadata": {},
      "source": [
        "### Task 1\n",
        "Create a function by name get_customer_orders which take orders list and customer_id as arguments and return all the orders placed by customer_id"
      ]
    },
    {
      "cell_type": "code",
      "execution_count": null,
      "metadata": {},
      "outputs": [],
      "source": [
        "orders[:10]"
      ]
    },
    {
      "cell_type": "code",
      "execution_count": null,
      "metadata": {},
      "outputs": [],
      "source": [
        "order = '3,2013-07-25 00:00:00.0,12111,COMPLETE'"
      ]
    },
    {
      "cell_type": "code",
      "execution_count": null,
      "metadata": {},
      "outputs": [],
      "source": [
        "int(order.split(',')[2]) == 12111"
      ]
    },
    {
      "cell_type": "code",
      "execution_count": null,
      "metadata": {},
      "outputs": [],
      "source": [
        "def get_customer_orders(orders, customer_id):\n",
        "    orders_filtered = []\n",
        "    for order in orders:\n",
        "        if int(order.split(',')[2]) == customer_id:\n",
        "            orders_filtered.append(order)\n",
        "    return orders_filtered"
      ]
    },
    {
      "cell_type": "code",
      "execution_count": null,
      "metadata": {},
      "outputs": [],
      "source": [
        "# Use the function and get all the orders which are placed by customer with id 12431\n",
        "get_customer_orders(orders, 12431)"
      ]
    },
    {
      "cell_type": "code",
      "execution_count": null,
      "metadata": {},
      "outputs": [],
      "source": [
        "len(get_customer_orders(orders, 12431))"
      ]
    },
    {
      "cell_type": "markdown",
      "metadata": {},
      "source": [
        "### Task 2\n",
        "\n",
        "Create a function by name get_customer_orders_for_month which take orders list, customer_id and month in the format YYYY-MM as arguments and return all the orders placed by customer_id for a given month."
      ]
    },
    {
      "cell_type": "code",
      "execution_count": null,
      "metadata": {},
      "outputs": [],
      "source": [
        "order = '3,2013-07-25 00:00:00.0,12111,COMPLETE'"
      ]
    },
    {
      "cell_type": "code",
      "execution_count": null,
      "metadata": {},
      "outputs": [],
      "source": [
        "int(order.split(',')[2]) == 12111"
      ]
    },
    {
      "cell_type": "code",
      "execution_count": null,
      "metadata": {},
      "outputs": [],
      "source": [
        "order.split(',')[1].startswith('2013-07')"
      ]
    },
    {
      "cell_type": "code",
      "execution_count": null,
      "metadata": {},
      "outputs": [],
      "source": [
        "import datetime as dt\n",
        "d = dt.datetime.strptime(order.split(',')[1], '%Y-%m-%d %H:%M:%S.%f')"
      ]
    },
    {
      "cell_type": "code",
      "execution_count": null,
      "metadata": {},
      "outputs": [],
      "source": [
        "d.year == 2013 and d.month == 7"
      ]
    },
    {
      "cell_type": "code",
      "execution_count": null,
      "metadata": {},
      "outputs": [],
      "source": [
        "int(order.split(',')[2]) == 12111 and order.split(',')[1].startswith('2013-07')"
      ]
    },
    {
      "cell_type": "code",
      "execution_count": null,
      "metadata": {},
      "outputs": [],
      "source": [
        "def get_customer_orders_for_month(orders, customer_id, order_month):\n",
        "    orders_filtered = []\n",
        "    for order in orders:\n",
        "        order_elements = order.split(',')\n",
        "        if (int(order_elements[2]) == customer_id and\n",
        "            order_elements[1].startswith(order_month)):\n",
        "            orders_filtered.append(order)\n",
        "    return orders_filtered"
      ]
    },
    {
      "cell_type": "code",
      "execution_count": null,
      "metadata": {},
      "outputs": [],
      "source": [
        "# Use the function and get all the orders which are placed by customer with id 12431 in January 2014\n",
        "get_customer_orders_for_month(orders, 12431, '2014-01')"
      ]
    },
    {
      "cell_type": "markdown",
      "metadata": {},
      "source": [
        "### Task 3\n",
        "Write ad hoc code to get all the orders which are placed by customer with id 12431 in January 2014 and status is in PENDING_PAYMENT or PROCESSING"
      ]
    },
    {
      "cell_type": "code",
      "execution_count": null,
      "metadata": {},
      "outputs": [],
      "source": [
        "for order in orders:\n",
        "    order_elements = order.split(',')\n",
        "    if int(order_elements[2]) == 12431 \\\n",
        "        and order_elements[1].startswith('2014-01') \\\n",
        "        and (order_elements[3] in ('PROCESSING', 'PENDING_PAYMENT')):\n",
        "        print(order)"
      ]
    }
  ],
  "metadata": {
    "kernelspec": {
      "display_name": "Python 3",
      "language": "python",
      "name": "python3"
    },
    "language_info": {
      "codemirror_mode": {
        "name": "ipython",
        "version": 3
      },
      "file_extension": ".py",
      "mimetype": "text/x-python",
      "name": "python",
      "nbconvert_exporter": "python",
      "pygments_lexer": "ipython3",
      "version": "3.6.12"
    }
  },
  "nbformat": 4,
  "nbformat_minor": 4
}