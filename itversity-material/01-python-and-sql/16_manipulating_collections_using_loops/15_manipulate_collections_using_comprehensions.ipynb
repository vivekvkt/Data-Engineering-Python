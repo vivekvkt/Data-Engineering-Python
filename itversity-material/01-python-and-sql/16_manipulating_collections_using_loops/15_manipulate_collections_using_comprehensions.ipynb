{
 "cells": [
  {
   "cell_type": "markdown",
   "id": "723083da",
   "metadata": {
    "tags": []
   },
   "source": [
    "## Manipulate Collections using comprehensions\n",
    "\n",
    "Comprehensions is alternative way of manipulating lists using conventional loops.\n",
    "* Comprehensions reduce the effort of coding and improves readability when we want to apply basic transformations on the data.\n",
    "* We can apply comprehensions on lists, sets as well as dicts.\n",
    "* We can create a new list or set or dict using comprehensions by applying simple row level transformations. We can also filter as part of the comprehensions.\n",
    "* We can also perform simple aggregations using comprehensions."
   ]
  },
  {
   "cell_type": "code",
   "execution_count": null,
   "id": "226c3f21-add5-472c-b41e-bd9dca387db1",
   "metadata": {},
   "outputs": [],
   "source": []
  }
 ],
 "metadata": {
  "kernelspec": {
   "display_name": "Python 3 (ipykernel)",
   "language": "python",
   "name": "python3"
  },
  "language_info": {
   "codemirror_mode": {
    "name": "ipython",
    "version": 3
   },
   "file_extension": ".py",
   "mimetype": "text/x-python",
   "name": "python",
   "nbconvert_exporter": "python",
   "pygments_lexer": "ipython3",
   "version": "3.8.12"
  }
 },
 "nbformat": 4,
 "nbformat_minor": 5
}
