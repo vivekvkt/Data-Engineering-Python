{
  "cells": [
    {
      "cell_type": "markdown",
      "metadata": {},
      "source": [
        "## Limitations of using Loops\n",
        "\n",
        "There are several limitations using loops.\n",
        "\n",
        "* If you look at the below examples related to processing collections using loops, most of the functions have similar logic to iterate through elements.\n",
        "* We are spending more time on coding non business logic.\n",
        "* It results in too much of code and it can become a maintenance problem."
      ]
    },
    {
      "cell_type": "code",
      "execution_count": null,
      "metadata": {},
      "outputs": [],
      "source": [
        "def get_customer_orders(orders, customer_id):\n",
        "    orders_filtered = []\n",
        "    for order in orders:\n",
        "        if int(order.split(',')[2]) == customer_id:\n",
        "            orders_filtered.append(order)\n",
        "    return orders_filtered"
      ]
    },
    {
      "cell_type": "code",
      "execution_count": null,
      "metadata": {},
      "outputs": [],
      "source": [
        "def get_customer_orders_for_month(orders, customer_id, order_month):\n",
        "    orders_filtered = []\n",
        "    for order in orders:\n",
        "        order_elements = order.split(',')\n",
        "        if (int(order_elements[2]) == customer_id and\n",
        "            order_elements[1].startswith(order_month)):\n",
        "            orders_filtered.append(order)\n",
        "    return orders_filtered"
      ]
    },
    {
      "cell_type": "code",
      "execution_count": null,
      "metadata": {},
      "outputs": [],
      "source": [
        "for order in orders:\n",
        "    order_elements = order.split(',')\n",
        "    if int(order_elements[2]) == 12431 \\\n",
        "        and order_elements[1].startswith('2014-01') \\\n",
        "        and (order_elements[3] in ('PROCESSING', 'PENDING_PAYMENT')):\n",
        "        print(order)"
      ]
    },
    {
      "cell_type": "markdown",
      "metadata": {},
      "source": [
        "* Map Reduce APIs or Higher level libraries such as Pandas will solve these problems.\n",
        "  * We do not have to develop loops and conditionals.\n",
        "  * Loops and Conditionals are taken care by the existing APIs.\n",
        "  * We can just focus on business logic. It can be passed using Lambda Functions."
      ]
    },
    {
      "cell_type": "code",
      "execution_count": null,
      "metadata": {},
      "outputs": [],
      "source": [
        "%run 07_preparing_data_sets.ipynb"
      ]
    },
    {
      "cell_type": "markdown",
      "metadata": {},
      "source": [
        "```{note}\n",
        "Here is the approach using `filter` that comes as part of Map Reduce APIs. You will learn about Map Reduce APIs soon.\n",
        "```"
      ]
    },
    {
      "cell_type": "code",
      "execution_count": null,
      "metadata": {},
      "outputs": [],
      "source": [
        "orders_filtered = filter(\n",
        "    lambda order: int(order.split(',')[2]) == 12431,\n",
        "    orders\n",
        ")\n",
        "list(orders_filtered)"
      ]
    },
    {
      "cell_type": "code",
      "execution_count": null,
      "metadata": {},
      "outputs": [],
      "source": [
        "orders_filtered = filter(\n",
        "    lambda order: int(order.split(',')[2]) == 12431\n",
        "        and order.split(',')[1].startswith('2014-01'),\n",
        "    orders\n",
        ")\n",
        "list(orders_filtered)"
      ]
    },
    {
      "cell_type": "code",
      "execution_count": null,
      "metadata": {},
      "outputs": [],
      "source": [
        "orders_filtered = filter(\n",
        "    lambda order: int(order.split(',')[2]) == 12431\n",
        "        and order.split(',')[1].startswith('2014-01')\n",
        "        and (order.split(',')[3] in ('PROCESSING', 'PENDING_PAYMENT')),\n",
        "    orders\n",
        ")\n",
        "list(orders_filtered)"
      ]
    },
    {
      "cell_type": "markdown",
      "metadata": {},
      "source": [
        "```{note}\n",
        "Here is the approach using Pandas library. You will learn about how to process data using Pandas in subsequent sections.\n",
        "```"
      ]
    },
    {
      "cell_type": "code",
      "execution_count": null,
      "metadata": {},
      "outputs": [],
      "source": [
        "import pandas as pd\n",
        "orders_schema = [\n",
        "    'order_id',\n",
        "    'order_date',\n",
        "    'order_customer_id',\n",
        "    'order_status'\n",
        "]\n",
        "orders = pd.read_csv('/data/retail_db/orders/part-00000', names=orders_schema)"
      ]
    },
    {
      "cell_type": "code",
      "execution_count": null,
      "metadata": {},
      "outputs": [],
      "source": [
        "orders.query('order_customer_id == 12431')"
      ]
    },
    {
      "cell_type": "code",
      "execution_count": null,
      "metadata": {},
      "outputs": [],
      "source": [
        "orders.query('order_customer_id == 12431 & order_date.str.startswith(\"2014-01\")')"
      ]
    },
    {
      "cell_type": "code",
      "execution_count": null,
      "metadata": {},
      "outputs": [],
      "source": [
        "orders.query('order_customer_id == 12431 & ' +\n",
        "             'order_date.str.startswith(\"2014-01\") &' +\n",
        "             'order_status in (\"PROCESSING\", \"PENDING_PAYMENT\")'\n",
        "            )"
      ]
    }
  ],
  "metadata": {
    "kernelspec": {
      "display_name": "Python 3",
      "language": "python",
      "name": "python3"
    },
    "language_info": {
      "codemirror_mode": {
        "name": "ipython",
        "version": 3
      },
      "file_extension": ".py",
      "mimetype": "text/x-python",
      "name": "python",
      "nbconvert_exporter": "python",
      "pygments_lexer": "ipython3",
      "version": "3.6.12"
    }
  },
  "nbformat": 4,
  "nbformat_minor": 4
}