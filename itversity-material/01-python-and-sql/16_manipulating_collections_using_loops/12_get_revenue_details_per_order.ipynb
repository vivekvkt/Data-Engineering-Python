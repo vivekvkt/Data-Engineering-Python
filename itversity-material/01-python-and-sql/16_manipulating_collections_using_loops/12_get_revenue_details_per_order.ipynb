{
 "cells": [
  {
   "cell_type": "markdown",
   "metadata": {
    "tags": []
   },
   "source": [
    "## Get revenue details per order\n",
    "\n",
    "Create a function get_revenue_per_order which takes order_items list as argument and returns a dict which contain order_item_order_id and corresponding quantity as well as order_revenue."
   ]
  },
  {
   "cell_type": "markdown",
   "metadata": {},
   "source": [
    "```{note}\n",
    "This is an example to get order_id and corresponding quantity as well as revenue. For each order_id, quantity and revenue are treated as list.\n",
    "```"
   ]
  },
  {
   "cell_type": "code",
   "execution_count": null,
   "metadata": {},
   "outputs": [],
   "source": [
    "%run 07_preparing_data_sets.ipynb"
   ]
  },
  {
   "cell_type": "code",
   "execution_count": null,
   "metadata": {},
   "outputs": [],
   "source": [
    "order_items[:10]"
   ]
  },
  {
   "cell_type": "code",
   "execution_count": null,
   "metadata": {},
   "outputs": [],
   "source": [
    "revenue_per_order = {}"
   ]
  },
  {
   "cell_type": "code",
   "execution_count": null,
   "metadata": {},
   "outputs": [],
   "source": [
    "order_item = order_items[0]"
   ]
  },
  {
   "cell_type": "code",
   "execution_count": null,
   "metadata": {},
   "outputs": [],
   "source": [
    "order_item"
   ]
  },
  {
   "cell_type": "code",
   "execution_count": null,
   "metadata": {},
   "outputs": [],
   "source": [
    "order_item_order_id = int(order_item.split(',')[1])\n",
    "order_item_quantity = int(order_item.split(',')[3])\n",
    "order_item_subtotal = float(order_item.split(',')[4])"
   ]
  },
  {
   "cell_type": "code",
   "execution_count": null,
   "metadata": {},
   "outputs": [],
   "source": [
    "order_metrics = [order_item_quantity, order_item_subtotal]"
   ]
  },
  {
   "cell_type": "code",
   "execution_count": null,
   "metadata": {},
   "outputs": [],
   "source": [
    "order_metrics"
   ]
  },
  {
   "cell_type": "code",
   "execution_count": null,
   "metadata": {},
   "outputs": [],
   "source": [
    "order_item_order_id in revenue_per_order"
   ]
  },
  {
   "cell_type": "code",
   "execution_count": null,
   "metadata": {},
   "outputs": [],
   "source": [
    "revenue_per_order.get(order_item_order_id)"
   ]
  },
  {
   "cell_type": "code",
   "execution_count": null,
   "metadata": {},
   "outputs": [],
   "source": [
    "if revenue_per_order.get(order_item_order_id):\n",
    "    revenue_per_order[order_item_order_id][0] += order_metrics[0]\n",
    "    revenue_per_order[order_item_order_id][1] += order_metrics[1]"
   ]
  },
  {
   "cell_type": "code",
   "execution_count": null,
   "metadata": {},
   "outputs": [],
   "source": [
    "revenue_per_order"
   ]
  },
  {
   "cell_type": "code",
   "execution_count": null,
   "metadata": {},
   "outputs": [],
   "source": [
    "if not revenue_per_order.get(order_item_order_id):\n",
    "    revenue_per_order[order_item_order_id] = order_metrics"
   ]
  },
  {
   "cell_type": "code",
   "execution_count": null,
   "metadata": {},
   "outputs": [],
   "source": [
    "revenue_per_order"
   ]
  },
  {
   "cell_type": "code",
   "execution_count": null,
   "metadata": {},
   "outputs": [],
   "source": [
    "order_item = order_items[1]"
   ]
  },
  {
   "cell_type": "code",
   "execution_count": null,
   "metadata": {},
   "outputs": [],
   "source": [
    "order_item"
   ]
  },
  {
   "cell_type": "code",
   "execution_count": null,
   "metadata": {},
   "outputs": [],
   "source": [
    "order_item_order_id = int(order_item.split(',')[1])\n",
    "order_item_quantity = int(order_item.split(',')[3])\n",
    "order_item_subtotal = float(order_item.split(',')[4])\n",
    "\n",
    "order_metrics = [order_item_quantity, order_item_subtotal]"
   ]
  },
  {
   "cell_type": "code",
   "execution_count": null,
   "metadata": {},
   "outputs": [],
   "source": [
    "order_item_order_id"
   ]
  },
  {
   "cell_type": "code",
   "execution_count": null,
   "metadata": {},
   "outputs": [],
   "source": [
    "order_metrics"
   ]
  },
  {
   "cell_type": "code",
   "execution_count": null,
   "metadata": {},
   "outputs": [],
   "source": [
    "revenue_per_order"
   ]
  },
  {
   "cell_type": "code",
   "execution_count": null,
   "metadata": {},
   "outputs": [],
   "source": [
    "if revenue_per_order.get(order_item_order_id):\n",
    "    revenue_per_order[order_item_order_id][0] += order_metrics[0]\n",
    "    revenue_per_order[order_item_order_id][1] += order_metrics[1]\n",
    "else:\n",
    "    revenue_per_order[order_item_order_id] = order_metrics\n",
    "\n",
    "revenue_per_order"
   ]
  },
  {
   "cell_type": "code",
   "execution_count": null,
   "metadata": {},
   "outputs": [],
   "source": [
    "order_item = order_items[2]"
   ]
  },
  {
   "cell_type": "code",
   "execution_count": null,
   "metadata": {},
   "outputs": [],
   "source": [
    "order_item"
   ]
  },
  {
   "cell_type": "code",
   "execution_count": null,
   "metadata": {},
   "outputs": [],
   "source": [
    "order_item_order_id = int(order_item.split(',')[1])\n",
    "order_item_quantity = int(order_item.split(',')[3])\n",
    "order_item_subtotal = float(order_item.split(',')[4])\n",
    "\n",
    "order_metrics = [order_item_quantity, order_item_subtotal]"
   ]
  },
  {
   "cell_type": "code",
   "execution_count": null,
   "metadata": {},
   "outputs": [],
   "source": [
    "revenue_per_order"
   ]
  },
  {
   "cell_type": "code",
   "execution_count": null,
   "metadata": {},
   "outputs": [],
   "source": [
    "revenue_per_order[order_item_order_id][0] = revenue_per_order[order_item_order_id][0] + order_metrics[0]\n",
    "revenue_per_order[order_item_order_id][1] = revenue_per_order[order_item_order_id][1] + order_metrics[1]"
   ]
  },
  {
   "cell_type": "code",
   "execution_count": null,
   "metadata": {},
   "outputs": [],
   "source": [
    "revenue_per_order"
   ]
  },
  {
   "cell_type": "code",
   "execution_count": null,
   "metadata": {},
   "outputs": [],
   "source": [
    "def get_revenue_per_order(order_items):\n",
    "    revenue_per_order = {}\n",
    "    for order_item in order_items:\n",
    "        order_item_order_id = int(order_item.split(',')[1])\n",
    "        order_item_quantity = int(order_item.split(',')[3])\n",
    "        order_item_subtotal = float(order_item.split(',')[4])\n",
    "        order_metrics = [order_item_quantity, order_item_subtotal]\n",
    "        if revenue_per_order.get(order_item_order_id):\n",
    "            # if revenue_per_order contains key, \n",
    "            # then add order_item_subtotal to existing value\n",
    "            revenue_per_order[order_item_order_id][0] += order_metrics[0]\n",
    "            revenue_per_order[order_item_order_id][1] += order_metrics[1]\n",
    "        else:\n",
    "            # if revenue_per_order does not contain key, \n",
    "            # then add new element to revenue_per_order\n",
    "            revenue_per_order[order_item_order_id] = order_metrics\n",
    "    return revenue_per_order"
   ]
  },
  {
   "cell_type": "code",
   "execution_count": null,
   "metadata": {},
   "outputs": [],
   "source": [
    "list(get_revenue_per_order(order_items).items())[:10]"
   ]
  },
  {
   "cell_type": "markdown",
   "metadata": {},
   "source": [
    "```{note}\n",
    "This is an example to get order_id and corresponding quantity as well as revenue. For each order_id, quantity and revenue are treated as dict.\n",
    "```"
   ]
  },
  {
   "cell_type": "code",
   "execution_count": null,
   "metadata": {},
   "outputs": [],
   "source": [
    "def get_revenue_per_order(order_items):\n",
    "    revenue_per_order = {}\n",
    "    for order_item in order_items:\n",
    "        order_item_order_id = int(order_item.split(',')[1])\n",
    "        order_item_quantity = int(order_item.split(',')[3])\n",
    "        order_item_subtotal = float(order_item.split(',')[4])\n",
    "        order_metrics = {'order_item_quantity': order_item_quantity, 'order_item_subtotal': order_item_subtotal}\n",
    "        if revenue_per_order.get(order_item_order_id):\n",
    "            # if revenue_per_order contains key, \n",
    "            # then add order_item_subtotal to existing value\n",
    "            revenue_per_order[order_item_order_id]['order_item_quantity'] += order_metrics['order_item_quantity']\n",
    "            revenue_per_order[order_item_order_id]['order_item_subtotal'] += order_metrics['order_item_subtotal']\n",
    "        else:\n",
    "            # if revenue_per_order does not contain key, \n",
    "            # then add new element to revenue_per_order\n",
    "            revenue_per_order[order_item_order_id] = order_metrics\n",
    "    return revenue_per_order"
   ]
  },
  {
   "cell_type": "code",
   "execution_count": null,
   "metadata": {},
   "outputs": [],
   "source": [
    "list(get_revenue_per_order(order_items).items())[:10]"
   ]
  },
  {
   "cell_type": "code",
   "execution_count": null,
   "metadata": {},
   "outputs": [],
   "source": []
  }
 ],
 "metadata": {
  "kernelspec": {
   "display_name": "Python 3 (ipykernel)",
   "language": "python",
   "name": "python3"
  },
  "language_info": {
   "codemirror_mode": {
    "name": "ipython",
    "version": 3
   },
   "file_extension": ".py",
   "mimetype": "text/x-python",
   "name": "python",
   "nbconvert_exporter": "python",
   "pygments_lexer": "ipython3",
   "version": "3.8.12"
  }
 },
 "nbformat": 4,
 "nbformat_minor": 4
}
