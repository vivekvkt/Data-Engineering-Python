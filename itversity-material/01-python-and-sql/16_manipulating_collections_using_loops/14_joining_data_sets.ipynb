{
  "cells": [
    {
      "cell_type": "markdown",
      "metadata": {},
      "source": [
        "## Joining Data Sets\n",
        "\n",
        "Let us perform few tasks to understand how to perform joins over multiple collections using loops and conditionals.\n",
        "* There are different strategies for joins.\n",
        "  * Nested Loops\n",
        "  * Sort Merge\n",
        "  * Hash Join\n",
        "* We will be using Nested Loops approach using orders and order_items.\n",
        "  * Build dict for one data set - orders.\n",
        "  * Iteratively lookup into the orders data set while processing the other one - order_items\n",
        "* Develop a function get_daily_revenue which takes orders, order_items and order_status as arguments and return dict containing order_date and order_revenue. We need to get revenue considering only those orders which satisfy the status passed."
      ]
    },
    {
      "cell_type": "code",
      "execution_count": null,
      "metadata": {},
      "outputs": [],
      "source": [
        "%run 07_preparing_data_sets.ipynb"
      ]
    },
    {
      "cell_type": "code",
      "execution_count": null,
      "metadata": {},
      "outputs": [],
      "source": [
        "orders[:10]"
      ]
    },
    {
      "cell_type": "code",
      "execution_count": null,
      "metadata": {},
      "outputs": [],
      "source": [
        "len(orders)"
      ]
    },
    {
      "cell_type": "code",
      "execution_count": null,
      "metadata": {},
      "outputs": [],
      "source": [
        "order_items[:10]"
      ]
    },
    {
      "cell_type": "code",
      "execution_count": null,
      "metadata": {},
      "outputs": [],
      "source": [
        "len(order_items)"
      ]
    },
    {
      "cell_type": "code",
      "execution_count": null,
      "metadata": {},
      "outputs": [],
      "source": [
        "def get_orders_dict(orders, order_status):\n",
        "    orders_dict = {}\n",
        "    for order in orders:\n",
        "        order_details = order.split(',')\n",
        "        if order_details[3] == order_status:\n",
        "            orders_dict[int(order_details[0])] = order_details[1]\n",
        "    return orders_dict"
      ]
    },
    {
      "cell_type": "code",
      "execution_count": null,
      "metadata": {},
      "outputs": [],
      "source": [
        "list(get_orders_dict(orders, 'COMPLETE').items())[:10]"
      ]
    },
    {
      "cell_type": "code",
      "execution_count": null,
      "metadata": {},
      "outputs": [],
      "source": [
        "get_orders_dict(orders, 'COMPLETE')[3]"
      ]
    },
    {
      "cell_type": "code",
      "execution_count": null,
      "metadata": {},
      "outputs": [],
      "source": [
        "get_orders_dict(orders, 'COMPLETE').get(3)"
      ]
    },
    {
      "cell_type": "code",
      "execution_count": null,
      "metadata": {},
      "outputs": [],
      "source": [
        "len(get_orders_dict(orders, 'COMPLETE'))"
      ]
    },
    {
      "cell_type": "code",
      "execution_count": null,
      "metadata": {},
      "outputs": [],
      "source": [
        "orders_dict = get_orders_dict(orders, 'COMPLETE')"
      ]
    },
    {
      "cell_type": "code",
      "execution_count": null,
      "metadata": {},
      "outputs": [],
      "source": [
        "order_item = order_items[0]\n",
        "order_item"
      ]
    },
    {
      "cell_type": "code",
      "execution_count": null,
      "metadata": {},
      "outputs": [],
      "source": [
        "int(order_item.split(',')[1]) # order_id"
      ]
    },
    {
      "cell_type": "code",
      "execution_count": null,
      "metadata": {},
      "outputs": [],
      "source": [
        "int(order_item.split(',')[1]) in orders_dict"
      ]
    },
    {
      "cell_type": "code",
      "execution_count": null,
      "metadata": {},
      "outputs": [],
      "source": [
        "3 in orders_dict"
      ]
    },
    {
      "cell_type": "code",
      "execution_count": null,
      "metadata": {},
      "outputs": [],
      "source": [
        "def get_daily_revenue(orders, order_items, order_status):\n",
        "    orders_dict = get_orders_dict(orders, order_status) # dict with order_id as key and order_date as value\n",
        "    daily_revenue = {} # Initializing empty dict to have date and corresponding revenue\n",
        "    for order_item in order_items: \n",
        "        # Processing all order_items\n",
        "        order_item_order_id = int(order_item.split(',')[1])\n",
        "        order_item_subtotal = float(order_item.split(',')[4])\n",
        "        \n",
        "        if order_item_order_id in orders_dict:\n",
        "            # Look up into orders_dict using order_id to get order_date\n",
        "            orders_dict_date = orders_dict[order_item_order_id]\n",
        "            if orders_dict_date in daily_revenue:\n",
        "                # If order_date exists in orders_dict then add order_item_subtotal to the existing value\n",
        "                # based up on the key in daily_revenue\n",
        "                daily_revenue[orders_dict_date] = round(daily_revenue[orders_dict_date] + order_item_subtotal, 2)\n",
        "            else:\n",
        "                # If order_date does not exists then add new element to daily_revenue\n",
        "                daily_revenue[orders_dict_date] = order_item_subtotal\n",
        "    return daily_revenue"
      ]
    },
    {
      "cell_type": "code",
      "execution_count": null,
      "metadata": {},
      "outputs": [],
      "source": [
        "orders_sample = [\n",
        "    '4,2013-07-25 00:00:00.0,8827,CLOSED',\n",
        "    '5,2013-07-25 00:00:00.0,11318,COMPLETE',\n",
        "    '7,2013-07-25 00:00:00.0,4530,COMPLETE',\n",
        "    '105,2013-07-26 00:00:00.0,8220,COMPLETE'\n",
        "]"
      ]
    },
    {
      "cell_type": "code",
      "execution_count": null,
      "metadata": {},
      "outputs": [],
      "source": [
        "order_items_sample = [\n",
        "    '5,4,897,2,49.98,24.99',\n",
        "    '6,4,365,5,299.95,59.99',\n",
        "    '7,4,502,3,150.0,50.0',\n",
        "    '8,4,1014,4,199.92,49.98',\n",
        "    '9,5,957,1,299.98,299.98',\n",
        "    '10,5,365,5,299.95,59.99',\n",
        "    '11,5,1014,2,99.96,49.98',\n",
        "    '12,5,957,1,299.98,299.98',\n",
        "    '13,5,403,1,129.99,129.99',\n",
        "    '14,7,1073,1,199.99,199.99',\n",
        "    '15,7,957,1,299.98,299.98',\n",
        "    '16,7,926,5,79.95,15.99',\n",
        "    '239,105,403,1,129.99,129.99',\n",
        "    '240,105,365,3,179.97,59.99',\n",
        "    '241,105,365,2,119.98,59.99'\n",
        "]"
      ]
    },
    {
      "cell_type": "code",
      "execution_count": null,
      "metadata": {},
      "outputs": [],
      "source": [
        "get_daily_revenue(orders_sample, order_items_sample, 'COMPLETE')"
      ]
    },
    {
      "cell_type": "markdown",
      "metadata": {},
      "source": [
        "```{note}\n",
        "Use the function to get daily revenue considering only COMPLETE orders.\n",
        "```"
      ]
    },
    {
      "cell_type": "code",
      "execution_count": null,
      "metadata": {},
      "outputs": [],
      "source": [
        "get_daily_revenue(orders, order_items, 'COMPLETE')"
      ]
    },
    {
      "cell_type": "code",
      "execution_count": null,
      "metadata": {},
      "outputs": [],
      "source": [
        "len(get_daily_revenue(orders, order_items, 'COMPLETE'))"
      ]
    },
    {
      "cell_type": "code",
      "execution_count": null,
      "metadata": {},
      "outputs": [],
      "source": [
        "get_daily_revenue(orders, order_items, 'COMPLETE')['2014-07-10 00:00:00.0']"
      ]
    }
  ],
  "metadata": {
    "kernelspec": {
      "display_name": "Python 3",
      "language": "python",
      "name": "python3"
    },
    "language_info": {
      "codemirror_mode": {
        "name": "ipython",
        "version": 3
      },
      "file_extension": ".py",
      "mimetype": "text/x-python",
      "name": "python",
      "nbconvert_exporter": "python",
      "pygments_lexer": "ipython3",
      "version": "3.6.12"
    }
  },
  "nbformat": 4,
  "nbformat_minor": 4
}