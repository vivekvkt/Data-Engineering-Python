{
 "cells": [
  {
   "cell_type": "markdown",
   "id": "8da1d820",
   "metadata": {
    "tags": []
   },
   "source": [
    "## Set Comprehensions\n",
    "\n",
    "Let us see how we can process Python collections using set comprehensions.\n",
    "* Set comprehensions can be applied on top of any iterable.\n",
    "* We will be using orders data set which will be available by running notebook related to preparing data sets.\n",
    "* We will see how to get all unique months from orders data set using set comprehensions.\n",
    "* Also we will see how to apply filtering to get months related to year 2014 using the same orders data set."
   ]
  },
  {
   "cell_type": "code",
   "execution_count": null,
   "id": "f44f46c1-8fa6-4eb1-a9c8-5af610df99d0",
   "metadata": {},
   "outputs": [],
   "source": [
    "%run 07_preparing_data_sets.ipynb"
   ]
  },
  {
   "cell_type": "code",
   "execution_count": null,
   "id": "b782969a-4c0e-4547-9ba0-aa61680975d5",
   "metadata": {},
   "outputs": [],
   "source": [
    "orders[:10]"
   ]
  },
  {
   "cell_type": "code",
   "execution_count": null,
   "id": "e2fd71a3-e1b9-4a08-93fe-859d8430d6ba",
   "metadata": {},
   "outputs": [],
   "source": [
    "len(orders)"
   ]
  },
  {
   "cell_type": "code",
   "execution_count": null,
   "id": "1aef3284-6587-4654-9361-5e1e1415ab85",
   "metadata": {},
   "outputs": [],
   "source": [
    "order = orders[0]"
   ]
  },
  {
   "cell_type": "code",
   "execution_count": null,
   "id": "b0f37785-fe74-4e11-8327-b27fecc8fa17",
   "metadata": {},
   "outputs": [],
   "source": [
    "order"
   ]
  },
  {
   "cell_type": "code",
   "execution_count": null,
   "id": "006c7483-6395-494c-becd-396fb09b163f",
   "metadata": {},
   "outputs": [],
   "source": [
    "order.split(',')[1][:7]"
   ]
  },
  {
   "cell_type": "code",
   "execution_count": null,
   "id": "a3929fd4-1f17-453c-a464-1cb86010ff7a",
   "metadata": {},
   "outputs": [],
   "source": [
    "order_months = {order.split(',')[1][:7] for order in orders}"
   ]
  },
  {
   "cell_type": "code",
   "execution_count": null,
   "id": "3ba98721-33df-4f62-841d-517d4770182e",
   "metadata": {},
   "outputs": [],
   "source": [
    "order_months"
   ]
  },
  {
   "cell_type": "code",
   "execution_count": null,
   "id": "787f9324-8ce9-44f8-8fa7-8bf7e36c45d3",
   "metadata": {},
   "outputs": [],
   "source": [
    "type(order_months)"
   ]
  },
  {
   "cell_type": "code",
   "execution_count": null,
   "id": "db0b37e8-83c9-464a-a247-f66152f4ebc0",
   "metadata": {},
   "outputs": [],
   "source": [
    "order_months = {order.split(',')[1][:7] for order in orders if order.split(',')[1].startswith('2014')}"
   ]
  },
  {
   "cell_type": "code",
   "execution_count": null,
   "id": "abd86c43-4ab6-4390-a2b9-9b8a88a4e27d",
   "metadata": {},
   "outputs": [],
   "source": [
    "order_months"
   ]
  },
  {
   "cell_type": "code",
   "execution_count": null,
   "id": "a24871cd-5326-4744-aa1d-e6ce7ef13449",
   "metadata": {},
   "outputs": [],
   "source": []
  }
 ],
 "metadata": {
  "kernelspec": {
   "display_name": "Python 3 (ipykernel)",
   "language": "python",
   "name": "python3"
  },
  "language_info": {
   "codemirror_mode": {
    "name": "ipython",
    "version": 3
   },
   "file_extension": ".py",
   "mimetype": "text/x-python",
   "name": "python",
   "nbconvert_exporter": "python",
   "pygments_lexer": "ipython3",
   "version": "3.8.12"
  }
 },
 "nbformat": 4,
 "nbformat_minor": 5
}
