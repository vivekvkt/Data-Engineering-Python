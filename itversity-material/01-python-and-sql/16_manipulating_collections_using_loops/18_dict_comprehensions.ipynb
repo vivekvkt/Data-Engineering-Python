{
 "cells": [
  {
   "cell_type": "markdown",
   "id": "8da1d820",
   "metadata": {
    "tags": []
   },
   "source": [
    "## Dict Comprehensions\n",
    "\n",
    "Let us see how we can process Python collections using dict comprehensions.\n",
    "* We will be using orders data set which will be available by running notebook related to preparing data sets.\n",
    "* We will see how to get a dict using dict comprehensions. The output should contain key value pairs for each order where order_id is key and order_customer_id is the value."
   ]
  },
  {
   "cell_type": "code",
   "execution_count": null,
   "id": "f44f46c1-8fa6-4eb1-a9c8-5af610df99d0",
   "metadata": {},
   "outputs": [],
   "source": [
    "%run 07_preparing_data_sets.ipynb"
   ]
  },
  {
   "cell_type": "code",
   "execution_count": null,
   "id": "b782969a-4c0e-4547-9ba0-aa61680975d5",
   "metadata": {},
   "outputs": [],
   "source": [
    "orders[:10]"
   ]
  },
  {
   "cell_type": "code",
   "execution_count": null,
   "id": "e2fd71a3-e1b9-4a08-93fe-859d8430d6ba",
   "metadata": {},
   "outputs": [],
   "source": [
    "len(orders)"
   ]
  },
  {
   "cell_type": "code",
   "execution_count": null,
   "id": "a3929fd4-1f17-453c-a464-1cb86010ff7a",
   "metadata": {},
   "outputs": [],
   "source": [
    "order_customers = {int(order.split(',')[0]): int(order.split(',')[2]) for order in orders}"
   ]
  },
  {
   "cell_type": "code",
   "execution_count": null,
   "id": "0b6b6645-8509-4b4a-bb3f-14379525a17d",
   "metadata": {},
   "outputs": [],
   "source": [
    "type(order_customers)"
   ]
  },
  {
   "cell_type": "code",
   "execution_count": null,
   "id": "3ba98721-33df-4f62-841d-517d4770182e",
   "metadata": {},
   "outputs": [],
   "source": [
    "order_customers"
   ]
  },
  {
   "cell_type": "code",
   "execution_count": null,
   "id": "28ff8b61-eb45-4ee6-9961-7ab5d3476553",
   "metadata": {},
   "outputs": [],
   "source": [
    "order_customers[1]"
   ]
  },
  {
   "cell_type": "code",
   "execution_count": null,
   "id": "d7ae7a91",
   "metadata": {},
   "outputs": [],
   "source": [
    "employees = [\n",
    "    '1,ktrett0@independent.co.uk,6998.95',\n",
    "    '2,khaddock1@deviantart.com,10572.4',\n",
    "    '3,ecraft2@dell.com,3967.35',\n",
    "    '4,drussam3@t-online.de,17672.44',\n",
    "    '5,graigatt4@github.io,11660.67',\n",
    "    '6,bjaxon5@salon.com,18614.93',\n",
    "    '7,araulston6@list-manage.com,11550.75',\n",
    "    '8,mcobb7@mozilla.com,17016.15',\n",
    "    '9,grobardley8@unesco.org,14141.25',\n",
    "    '10,bbuye9@vkontakte.ru,12193.2'\n",
    "]"
   ]
  },
  {
   "cell_type": "code",
   "execution_count": null,
   "id": "cd652511-8181-437c-94eb-333e6bdfe884",
   "metadata": {},
   "outputs": [],
   "source": [
    "highest_salaried_employees = {\n",
    "    int(employee.split(',')[0]): float(employee.split(',')[2]) \n",
    "    for employee in employees\n",
    "    if float(employee.split(',')[2]) > 10000\n",
    "}"
   ]
  },
  {
   "cell_type": "code",
   "execution_count": null,
   "id": "ef8a0237-96e5-45ad-abc0-af7c891b4497",
   "metadata": {},
   "outputs": [],
   "source": [
    "highest_salaried_employees"
   ]
  },
  {
   "cell_type": "code",
   "execution_count": null,
   "id": "3552cb5f-f3ed-4b6a-b98a-c4dafcf6ff5b",
   "metadata": {},
   "outputs": [],
   "source": []
  }
 ],
 "metadata": {
  "kernelspec": {
   "display_name": "Python 3 (ipykernel)",
   "language": "python",
   "name": "python3"
  },
  "language_info": {
   "codemirror_mode": {
    "name": "ipython",
    "version": 3
   },
   "file_extension": ".py",
   "mimetype": "text/x-python",
   "name": "python",
   "nbconvert_exporter": "python",
   "pygments_lexer": "ipython3",
   "version": "3.8.12"
  }
 },
 "nbformat": 4,
 "nbformat_minor": 5
}
