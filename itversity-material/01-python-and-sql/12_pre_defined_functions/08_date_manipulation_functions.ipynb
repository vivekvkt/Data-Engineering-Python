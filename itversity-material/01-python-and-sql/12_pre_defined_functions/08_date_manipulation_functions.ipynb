{
  "cells": [
    {
      "cell_type": "markdown",
      "metadata": {
        "pycharm": {
          "name": "#%% md\n"
        }
      },
      "source": [
        "## Date Manipulation Functions\n",
        "\n",
        "As part of our application, we often need to deal with dates. Let us get an overview about dealing with dates in Python.",
        "* `datetime` is the main library to deal with dates.\n",
        "* `datetime.datetime` and `datetime.date` are the classes as part of `datetime` library that can be used to deal with dates.\n",
        "* `datetime.datetime` is primarily used for date with timestamp and `datetime.date` can be used for date with out timestamp.\n",
        "* When we try to print the date it will print as below (for datetime). It is due to the implementation of string representation functions such as `__str__` or `__repr__`.\n",
        "```\n",
        "datetime.datetime(2020, 10, 7, 21, 9, 1, 39414)\n",
        "```\n",
        "* We need to format the date using format string to display the date the way we want. These are typically used along with functions such as `strptime` and `strftime`.\n",
        "  * `%Y` - 4 digit year\n",
        "  * `%m` - 2 digit month\n",
        "  * `%d` - 2 digit day with in month\n",
        "  * There are quite a few other format strings, but these are the most important ones to begin with.\n",
        "* Also, `datetime` library provides functions such as `strptime` to convert strings to date objects.\n",
        "* Other important modules to manipulate dates.\n",
        "  * `calendar` - to get the calendar related information for dates such as day name, month name etc.\n",
        "  * `datetime.timedelta` - to perform date arithmetic"
      ]
    },
    {
      "cell_type": "code",
      "execution_count": null,
      "metadata": {
        "collapsed": false,
        "jupyter": {
          "outputs_hidden": false
        },
        "pycharm": {
          "name": "#%%\n"
        }
      },
      "outputs": [],
      "source": [
        "# Importing datetime\n",
        "import datetime as dt"
      ]
    },
    {
      "cell_type": "code",
      "execution_count": null,
      "metadata": {
        "collapsed": false,
        "jupyter": {
          "outputs_hidden": false
        },
        "pycharm": {
          "name": "#%%\n"
        }
      },
      "outputs": [],
      "source": [
        "# Getting Current date with timestamp\n",
        "dt.datetime.now()"
      ]
    },
    {
      "cell_type": "code",
      "execution_count": null,
      "metadata": {
        "collapsed": false,
        "jupyter": {
          "outputs_hidden": false
        },
        "pycharm": {
          "name": "#%%\n"
        }
      },
      "outputs": [],
      "source": [
        "# Getting Current date without timestamp\n",
        "from datetime import date\n",
        "date.today()"
      ]
    },
    {
      "cell_type": "code",
      "execution_count": null,
      "metadata": {
        "collapsed": false,
        "jupyter": {
          "outputs_hidden": false
        },
        "pycharm": {
          "name": "#%%\n"
        }
      },
      "outputs": [],
      "source": [
        "# Converting date to a string in the form of yyyy-MM-dd (2020-10-07)\n",
        "date.today().strftime('%Y-%m-%d')"
      ]
    },
    {
      "cell_type": "code",
      "execution_count": null,
      "metadata": {
        "collapsed": false,
        "jupyter": {
          "outputs_hidden": false
        },
        "pycharm": {
          "name": "#%%\n"
        }
      },
      "outputs": [],
      "source": [
        "# Converting date to a string in the form of dd-MM-yyyy (07-10-2020)\n",
        "date.today().strftime('%d-%m-%Y')"
      ]
    },
    {
      "cell_type": "code",
      "execution_count": null,
      "metadata": {
        "collapsed": false,
        "jupyter": {
          "outputs_hidden": false
        },
        "pycharm": {
          "name": "#%%\n"
        }
      },
      "outputs": [],
      "source": [
        "# Converting date to a string in the form of yyyy/MM/dd (2020/10/07)\n",
        "date.today().strftime('%Y/%m/%d')"
      ]
    },
    {
      "cell_type": "code",
      "execution_count": null,
      "metadata": {
        "collapsed": false,
        "jupyter": {
          "outputs_hidden": false
        },
        "pycharm": {
          "name": "#%%\n"
        }
      },
      "outputs": [],
      "source": [
        "# Converting date to an integer in the form of yyyyMMdd (20201007)\n",
        "int(date.today().strftime('%Y%m%d'))"
      ]
    },
    {
      "cell_type": "code",
      "execution_count": null,
      "metadata": {
        "collapsed": false,
        "jupyter": {
          "outputs_hidden": false
        },
        "pycharm": {
          "name": "#%%\n"
        }
      },
      "outputs": [],
      "source": [
        "# Converting time to a string in the form of yyyy-MM-dd HH:mm:SS (2020-10-08 19:25:31)\n",
        "dt.datetime.now().strftime('%Y-%m-%d %H:%M:%S')"
      ]
    },
    {
      "cell_type": "code",
      "execution_count": null,
      "metadata": {
        "collapsed": false,
        "jupyter": {
          "outputs_hidden": false
        },
        "pycharm": {
          "name": "#%%\n"
        }
      },
      "outputs": [],
      "source": [
        "# Converting date to a string in the form yyyyMMdd (20201007)\n",
        "# We can represent this date as integer and hence we can convert the data type\n",
        "int(date.today().strftime('%Y%m%d'))"
      ]
    },
    {
      "cell_type": "code",
      "execution_count": null,
      "metadata": {
        "collapsed": false,
        "jupyter": {
          "outputs_hidden": false
        },
        "pycharm": {
          "name": "#%%\n"
        }
      },
      "outputs": [],
      "source": [
        "# Converting string which contains date using format yyyy-MM-dd as date\n",
        "dt.datetime.strptime('2020-10-07', '%Y-%m-%d')"
      ]
    },
    {
      "cell_type": "code",
      "execution_count": null,
      "metadata": {
        "collapsed": false,
        "jupyter": {
          "outputs_hidden": false
        },
        "pycharm": {
          "name": "#%%\n"
        }
      },
      "outputs": [],
      "source": [
        "dt.datetime.strptime('2020-10-07', '%Y-%m-%d').date()"
      ]
    },
    {
      "cell_type": "code",
      "execution_count": null,
      "metadata": {
        "collapsed": false,
        "jupyter": {
          "outputs_hidden": false
        },
        "pycharm": {
          "name": "#%%\n"
        }
      },
      "outputs": [],
      "source": [
        "# Converting number which contains date using format yyyyMMdd as date\n",
        "# strptime expects first argument to be string which contain date\n",
        "# so we need to convert datatype of number to string\n",
        "dt.datetime.strptime(20201007, '%Y%m%d')"
      ]
    },
    {
      "cell_type": "code",
      "execution_count": null,
      "metadata": {
        "collapsed": false,
        "jupyter": {
          "outputs_hidden": false
        },
        "pycharm": {
          "name": "#%%\n"
        }
      },
      "outputs": [],
      "source": [
        "# Converting number which contains date using format yyyyMMdd as date\n",
        "# strptime expects first argument to be string which contain date\n",
        "# so we need to convert datatype of number to string\n",
        "dt.datetime.strptime(str(20201007), '%Y%m%d')"
      ]
    },
    {
      "cell_type": "code",
      "execution_count": null,
      "metadata": {
        "collapsed": false,
        "jupyter": {
          "outputs_hidden": false
        },
        "pycharm": {
          "name": "#%%\n"
        }
      },
      "outputs": [],
      "source": [
        "# Converting string which contains timestamp using format yyyy-MM-dd HH:mm:ss as date\n",
        "dt.datetime.strptime('2020-10-07 21:09:10', '%Y-%m-%d %H:%M:%S')"
      ]
    },
    {
      "cell_type": "code",
      "execution_count": null,
      "metadata": {},
      "outputs": [],
      "source": [
        "import calendar, datetime as dt"
      ]
    },
    {
      "cell_type": "code",
      "execution_count": null,
      "metadata": {},
      "outputs": [],
      "source": [
        "d = dt.date.today()"
      ]
    },
    {
      "cell_type": "code",
      "execution_count": null,
      "metadata": {},
      "outputs": [],
      "source": [
        "d"
      ]
    },
    {
      "cell_type": "markdown",
      "metadata": {},
      "source": [
        "* `calendar` contains an attribute called `day_name`. It is a list like object. "
      ]
    },
    {
      "cell_type": "code",
      "execution_count": null,
      "metadata": {},
      "outputs": [],
      "source": [
        "type(calendar.day_name)"
      ]
    },
    {
      "cell_type": "code",
      "execution_count": null,
      "metadata": {},
      "outputs": [],
      "source": [
        "list(calendar.day_name)"
      ]
    },
    {
      "cell_type": "code",
      "execution_count": null,
      "metadata": {},
      "outputs": [],
      "source": [
        "calendar.weekday?"
      ]
    },
    {
      "cell_type": "code",
      "execution_count": null,
      "metadata": {},
      "outputs": [],
      "source": [
        "type(d)"
      ]
    },
    {
      "cell_type": "markdown",
      "metadata": {},
      "source": [
        "* `year` will return 4 digit year."
      ]
    },
    {
      "cell_type": "code",
      "execution_count": null,
      "metadata": {},
      "outputs": [],
      "source": [
        "d.year"
      ]
    },
    {
      "cell_type": "markdown",
      "metadata": {},
      "source": [
        "* `month` will return 1 or 2 digit month. It will be in the range of 1 to 12."
      ]
    },
    {
      "cell_type": "code",
      "execution_count": null,
      "metadata": {},
      "outputs": [],
      "source": [
        "d.month"
      ]
    },
    {
      "cell_type": "markdown",
      "metadata": {},
      "source": [
        "* `day` will return 1 or 2 digit day. The range will be based up on the range of dates in a given month."
      ]
    },
    {
      "cell_type": "code",
      "execution_count": null,
      "metadata": {},
      "outputs": [],
      "source": [
        "d.day"
      ]
    },
    {
      "cell_type": "markdown",
      "metadata": {},
      "source": [
        "`calendar.weekday` takes year, month and day as argument and returns a number between 0 and 6. It typically starts with **Monday**."
      ]
    },
    {
      "cell_type": "code",
      "execution_count": null,
      "metadata": {},
      "outputs": [],
      "source": [
        "calendar.weekday(d.year, d.month, d.day)"
      ]
    },
    {
      "cell_type": "markdown",
      "metadata": {},
      "source": [
        "* As `day_name` is list like object, we can pass the generated day number in `[]` to get the day name."
      ]
    },
    {
      "cell_type": "code",
      "execution_count": null,
      "metadata": {},
      "outputs": [],
      "source": [
        "calendar.day_name[calendar.weekday(d.year, d.month, d.day)]"
      ]
    },
    {
      "cell_type": "code",
      "execution_count": null,
      "metadata": {},
      "outputs": [],
      "source": []
    }
  ],
  "metadata": {
    "kernelspec": {
      "display_name": "Python 3",
      "language": "python",
      "name": "python3"
    },
    "language_info": {
      "codemirror_mode": {
        "name": "ipython",
        "version": 3
      },
      "file_extension": ".py",
      "mimetype": "text/x-python",
      "name": "python",
      "nbconvert_exporter": "python",
      "pygments_lexer": "ipython3",
      "version": "3.6.12"
    }
  },
  "nbformat": 4,
  "nbformat_minor": 4
}