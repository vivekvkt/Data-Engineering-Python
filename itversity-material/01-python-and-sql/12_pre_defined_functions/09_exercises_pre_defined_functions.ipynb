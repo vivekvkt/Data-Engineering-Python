{
  "cells": [
    {
      "cell_type": "markdown",
      "metadata": {},
      "source": [
        "## Exercises\n",
        "\n",
        "Here are the exercises to evaluate about some of the pre-defined functions to manipulate strings and dates."
      ]
    },
    {
      "cell_type": "markdown",
      "metadata": {},
      "source": [
        "### Convert Case and Concatenate Strings\n",
        "* Create 2 variables of type string.\n",
        "  * **first_name** with value **Donald**.\n",
        "  * **last_name** with value **Duck**.\n",
        "* Concatentate both the variables with \", \" in between and assign to a new variable **full_name**.\n",
        "* **full_name** should be in upper case.\n",
        "* Print **full_name** and output should be **DONALD, DUCK**."
      ]
    },
    {
      "cell_type": "code",
      "execution_count": null,
      "metadata": {},
      "outputs": [],
      "source": [
        "first_name = 'Donald'"
      ]
    },
    {
      "cell_type": "code",
      "execution_count": null,
      "metadata": {},
      "outputs": [],
      "source": [
        "last_name = 'Duck'"
      ]
    },
    {
      "cell_type": "code",
      "execution_count": null,
      "metadata": {},
      "outputs": [],
      "source": [
        "full_name = f'{first_name}, {last_name}'.upper()"
      ]
    },
    {
      "cell_type": "code",
      "execution_count": null,
      "metadata": {},
      "outputs": [],
      "source": [
        "print(full_name)"
      ]
    },
    {
      "cell_type": "markdown",
      "metadata": {},
      "source": [
        "### Check if the string is palindrome\n",
        "\n",
        "* Use these string literals and confirm if they are palindromes or not. You can get the definition of palindrome by googling it. You should ignore the case while checking if the string is a palindrome.\n",
        "  * String 1: ITVersity\n",
        "  * String 2: level\n",
        "  * String 3: RaceCar"
      ]
    },
    {
      "cell_type": "markdown",
      "metadata": {},
      "source": [
        "### Getting Day for a given Date\n",
        "\n",
        "* Use existing Python libraries and get the day for the given date.\n",
        "  * Create a variable by name **some_date** using format **yyyy-MM-dd** (2020-10-18).\n",
        "* Get the day in 3 character format **Sun**. Assign it to a variable **day**.\n",
        "* Print the value of **day** and it should be **Sun**."
      ]
    },
    {
      "cell_type": "markdown",
      "metadata": {},
      "source": [
        "### Get the Student Name\n",
        "\n",
        "* Create a string variable by name **student** with this value `student_id=1;student_name=Some X;join_date=2020-10-02`.\n",
        "* Get student_name from **student** and assign it to a variable **student_name**.\n",
        "* Print the value of **student_name** and it should be **Some X**"
      ]
    },
    {
      "cell_type": "markdown",
      "metadata": {},
      "source": [
        "### Get the Student Joining Date\n",
        "\n",
        "* Create a string variable by name **student** with this value `student_id=1;student_name=Some X;join_date=2020-10-02`.\n",
        "* Get join date and assign it to variable called as **join_date**. It should only contain **2020-10-02**\n",
        "* Convert the string to date type. The date is in the format of **yyyy-MM-dd**.\n",
        "  * **yyyy** - 4 digit year\n",
        "  * **MM** - 2 digit month\n",
        "  * **dd** - 2 digit day.\n",
        "* Format and print the date using `%Y-%b-%d`. The output should be **2020-Oct-02**"
      ]
    }
  ],
  "metadata": {
    "kernelspec": {
      "display_name": "Python 3",
      "language": "python",
      "name": "python3"
    },
    "language_info": {
      "codemirror_mode": {
        "name": "ipython",
        "version": 3
      },
      "file_extension": ".py",
      "mimetype": "text/x-python",
      "name": "python",
      "nbconvert_exporter": "python",
      "pygments_lexer": "ipython3",
      "version": "3.6.12"
    }
  },
  "nbformat": 4,
  "nbformat_minor": 4
}