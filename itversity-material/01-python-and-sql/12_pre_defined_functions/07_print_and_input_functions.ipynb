{
  "cells": [
    {
      "cell_type": "markdown",
      "metadata": {
        "pycharm": {
          "name": "#%% md\n"
        }
      },
      "source": [
        "## Print and Input Functions\n",
        "\n",
        "Let us understand details related to `print` and `input` functions. These functions will help us in enhancing our learning experience.",
        "* `print` is primarily used to print the strings on the console while `input` is used to accept the input from console.\n",
        "* `input` will typically prompts the user to enter the value and we can assign to a variable and use it further.\n",
        "* By default, the value passed for `input` is of type `str` and hence we need to convert the data type of the values entered before processing."
      ]
    },
    {
      "cell_type": "code",
      "execution_count": null,
      "metadata": {},
      "outputs": [],
      "source": [
        "input?"
      ]
    },
    {
      "cell_type": "code",
      "execution_count": null,
      "metadata": {},
      "outputs": [],
      "source": [
        "a = int(input('Enter first value: '))\n",
        "b = int(input('Enter second value: '))\n",
        "print(f'Sum of first value {a} and second value {b} is {a + b}')"
      ]
    },
    {
      "cell_type": "markdown",
      "metadata": {
        "pycharm": {
          "name": "#%% md\n"
        }
      },
      "source": [
        "* When we use `print` with one string, by default it will have new line character at the end of the srring.\n",
        "* We can also pass multiple strings **(varrying arguments)** and space will be used as delimiter\n",
        "* We can change the end of the string character, by passing argument\n",
        "* `print` can accept 2 keyword arguments `sep` and `end` to support the above mentioned features.\n",
        "\n",
        "You will understand more about keyword arguments and varrying arguments in **User Defined Functions**."
      ]
    },
    {
      "cell_type": "code",
      "execution_count": null,
      "metadata": {
        "collapsed": false,
        "jupyter": {
          "outputs_hidden": false
        },
        "pycharm": {
          "name": "#%%\n"
        }
      },
      "outputs": [],
      "source": [
        "print?"
      ]
    },
    {
      "cell_type": "markdown",
      "metadata": {},
      "source": [
        "* You will see **Hello** and **World** in separate lines."
      ]
    },
    {
      "cell_type": "code",
      "execution_count": null,
      "metadata": {
        "collapsed": false,
        "jupyter": {
          "outputs_hidden": false
        },
        "pycharm": {
          "name": "#%%\n"
        }
      },
      "outputs": [],
      "source": [
        "# Default print by using one string as argument\n",
        "print('Hello')\n",
        "print('World')"
      ]
    },
    {
      "cell_type": "markdown",
      "metadata": {},
      "source": [
        "* You will see **Hello** and **World** separated by space."
      ]
    },
    {
      "cell_type": "code",
      "execution_count": null,
      "metadata": {
        "collapsed": false,
        "jupyter": {
          "outputs_hidden": false
        },
        "pycharm": {
          "name": "#%%\n"
        }
      },
      "outputs": [],
      "source": [
        "# Default print by using multiple arguments. Each argument is of type string\n",
        "print('Hello', 'World')"
      ]
    },
    {
      "cell_type": "markdown",
      "metadata": {},
      "source": [
        "* You will see **Hello** and **World** combined together. The new line character is replaced with empty string."
      ]
    },
    {
      "cell_type": "code",
      "execution_count": null,
      "metadata": {
        "collapsed": false,
        "jupyter": {
          "outputs_hidden": false
        },
        "pycharm": {
          "name": "#%%\n"
        }
      },
      "outputs": [],
      "source": [
        "# Changing end of line character - empty string\n",
        "print('Hello', end='')\n",
        "print('World')"
      ]
    },
    {
      "cell_type": "code",
      "execution_count": null,
      "metadata": {
        "collapsed": false,
        "jupyter": {
          "outputs_hidden": false
        },
        "pycharm": {
          "name": "#%%\n"
        }
      },
      "outputs": [],
      "source": [
        "# Changing separater to empty string\n",
        "print('Hello', 'World', sep='')"
      ]
    },
    {
      "cell_type": "markdown",
      "metadata": {},
      "source": [
        "* We can pass both `sep` and `end` at the same time."
      ]
    },
    {
      "cell_type": "code",
      "execution_count": null,
      "metadata": {
        "collapsed": false,
        "jupyter": {
          "outputs_hidden": false
        },
        "pycharm": {
          "name": "#%%\n"
        }
      },
      "outputs": [],
      "source": [
        "print('Hello', 'World', sep=', ', end=' - ')\n",
        "print('How', 'are', 'you?')"
      ]
    },
    {
      "cell_type": "code",
      "execution_count": null,
      "metadata": {},
      "outputs": [],
      "source": []
    }
  ],
  "metadata": {
    "kernelspec": {
      "display_name": "Python 3",
      "language": "python",
      "name": "python3"
    },
    "language_info": {
      "codemirror_mode": {
        "name": "ipython",
        "version": 3
      },
      "file_extension": ".py",
      "mimetype": "text/x-python",
      "name": "python",
      "nbconvert_exporter": "python",
      "pygments_lexer": "ipython3",
      "version": "3.6.12"
    }
  },
  "nbformat": 4,
  "nbformat_minor": 4
}