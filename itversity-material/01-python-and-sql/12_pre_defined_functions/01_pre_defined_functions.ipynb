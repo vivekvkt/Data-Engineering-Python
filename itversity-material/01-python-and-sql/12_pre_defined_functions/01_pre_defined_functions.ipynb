{
  "cells": [
    {
      "cell_type": "markdown",
      "metadata": {},
      "source": [
        "# Pre-defined Functions\n",
        "\n",
        "Let us go through the list of commonly used Pre-defined Functions.\n",
        "* Overview of Pre-defined Functions\n",
        "* Numeric Functions\n",
        "* Overview of Strings\n",
        "* String Manipulation Functions\n",
        "* Formatting Strings\n",
        "* Print and Input Functions\n",
        "* Date Manipulation Functions\n",
        "* Special Functions"
      ]
    }
  ],
  "metadata": {
    "kernelspec": {
      "display_name": "Python 3",
      "language": "python",
      "name": "python3"
    },
    "language_info": {
      "codemirror_mode": {
        "name": "ipython",
        "version": 3
      },
      "file_extension": ".py",
      "mimetype": "text/x-python",
      "name": "python",
      "nbconvert_exporter": "python",
      "pygments_lexer": "ipython3",
      "version": "3.6.12"
    }
  },
  "nbformat": 4,
  "nbformat_minor": 4
}