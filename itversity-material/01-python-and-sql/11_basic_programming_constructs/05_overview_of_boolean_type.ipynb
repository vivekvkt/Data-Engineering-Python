{
 "cells": [
  {
   "cell_type": "markdown",
   "id": "2a6a1103",
   "metadata": {},
   "source": [
    "## Overview of Boolean Type\n",
    "\n",
    "Let us get into the details related to Boolean.\n",
    "* Boolean typically will have `True` or `False`. In Python it is defined as `bool`.\n",
    "* You can assign boolean value by saying `a = True` or `a = False`.\n",
    "* All comparison operators which we will be seeing as part of the next topic will return bool type.\n",
    "* `not` can be used to get the negation of the `bool` value."
   ]
  },
  {
   "cell_type": "code",
   "execution_count": 1,
   "id": "97fd8b0f",
   "metadata": {},
   "outputs": [],
   "source": [
    "a = True"
   ]
  },
  {
   "cell_type": "code",
   "execution_count": 2,
   "id": "2d1aa3e6-1a9b-43e2-ac47-06e339b2f910",
   "metadata": {},
   "outputs": [
    {
     "data": {
      "text/plain": [
       "True"
      ]
     },
     "execution_count": 2,
     "metadata": {},
     "output_type": "execute_result"
    }
   ],
   "source": [
    "a"
   ]
  },
  {
   "cell_type": "code",
   "execution_count": 3,
   "id": "ff7911fd",
   "metadata": {},
   "outputs": [
    {
     "data": {
      "text/plain": [
       "bool"
      ]
     },
     "execution_count": 3,
     "metadata": {},
     "output_type": "execute_result"
    }
   ],
   "source": [
    "type(a)"
   ]
  },
  {
   "cell_type": "code",
   "execution_count": 4,
   "id": "846bc2fd",
   "metadata": {},
   "outputs": [],
   "source": [
    "a = False"
   ]
  },
  {
   "cell_type": "code",
   "execution_count": 5,
   "id": "aae238b7",
   "metadata": {},
   "outputs": [
    {
     "data": {
      "text/plain": [
       "bool"
      ]
     },
     "execution_count": 5,
     "metadata": {},
     "output_type": "execute_result"
    }
   ],
   "source": [
    "type(a)"
   ]
  },
  {
   "cell_type": "code",
   "execution_count": 6,
   "id": "1d571769-0870-4764-a6a9-3c9f9fdea7e0",
   "metadata": {},
   "outputs": [
    {
     "data": {
      "text/plain": [
       "True"
      ]
     },
     "execution_count": 6,
     "metadata": {},
     "output_type": "execute_result"
    }
   ],
   "source": [
    "type(a) == bool"
   ]
  },
  {
   "cell_type": "code",
   "execution_count": 7,
   "id": "02b38deb",
   "metadata": {},
   "outputs": [],
   "source": [
    "# Assigning 10 to i\n",
    "i = 10"
   ]
  },
  {
   "cell_type": "code",
   "execution_count": 8,
   "id": "2bce3e49",
   "metadata": {},
   "outputs": [
    {
     "data": {
      "text/plain": [
       "True"
      ]
     },
     "execution_count": 8,
     "metadata": {},
     "output_type": "execute_result"
    }
   ],
   "source": [
    "# Comparing i with some number\n",
    "# Returns True\n",
    "i == 10"
   ]
  },
  {
   "cell_type": "code",
   "execution_count": 9,
   "id": "9bf0c9b1",
   "metadata": {},
   "outputs": [
    {
     "data": {
      "text/plain": [
       "False"
      ]
     },
     "execution_count": 9,
     "metadata": {},
     "output_type": "execute_result"
    }
   ],
   "source": [
    "# Comparing i with some value of type string\n",
    "# Returns False\n",
    "i == '10'"
   ]
  },
  {
   "cell_type": "code",
   "execution_count": 10,
   "id": "ed9aceec",
   "metadata": {},
   "outputs": [
    {
     "data": {
      "text/plain": [
       "bool"
      ]
     },
     "execution_count": 10,
     "metadata": {},
     "output_type": "execute_result"
    }
   ],
   "source": [
    "type(i == 10)"
   ]
  },
  {
   "cell_type": "code",
   "execution_count": 11,
   "id": "935c70ff",
   "metadata": {},
   "outputs": [
    {
     "data": {
      "text/plain": [
       "bool"
      ]
     },
     "execution_count": 11,
     "metadata": {},
     "output_type": "execute_result"
    }
   ],
   "source": [
    "type(i == '10')"
   ]
  },
  {
   "cell_type": "code",
   "execution_count": 12,
   "id": "9ab2c452",
   "metadata": {},
   "outputs": [],
   "source": [
    "i = 10"
   ]
  },
  {
   "cell_type": "code",
   "execution_count": 13,
   "id": "eb7d645a",
   "metadata": {},
   "outputs": [
    {
     "data": {
      "text/plain": [
       "True"
      ]
     },
     "execution_count": 13,
     "metadata": {},
     "output_type": "execute_result"
    }
   ],
   "source": [
    "i == 10"
   ]
  },
  {
   "cell_type": "code",
   "execution_count": 14,
   "id": "f8a673f0",
   "metadata": {},
   "outputs": [
    {
     "data": {
      "text/plain": [
       "False"
      ]
     },
     "execution_count": 14,
     "metadata": {},
     "output_type": "execute_result"
    }
   ],
   "source": [
    "not i == 10"
   ]
  },
  {
   "cell_type": "code",
   "execution_count": null,
   "id": "6ea87b0c-6bed-48ed-818a-c84b3710eb73",
   "metadata": {},
   "outputs": [],
   "source": []
  }
 ],
 "metadata": {
  "kernelspec": {
   "display_name": "Python 3 (ipykernel)",
   "language": "python",
   "name": "python3"
  },
  "language_info": {
   "codemirror_mode": {
    "name": "ipython",
    "version": 3
   },
   "file_extension": ".py",
   "mimetype": "text/x-python",
   "name": "python",
   "nbconvert_exporter": "python",
   "pygments_lexer": "ipython3",
   "version": "3.8.12"
  }
 },
 "nbformat": 4,
 "nbformat_minor": 5
}
