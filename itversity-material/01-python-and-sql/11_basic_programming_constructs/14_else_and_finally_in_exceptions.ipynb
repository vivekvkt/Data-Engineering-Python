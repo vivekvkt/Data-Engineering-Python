{
 "cells": [
  {
   "cell_type": "markdown",
   "id": "605b9486-cf5e-4eed-8f17-cf8e0bcf491a",
   "metadata": {},
   "source": [
    "## Exception Handling - else and finally\n",
    "\n",
    "Let us go through else and finally.\n",
    "* Some times we might want to log all sucessful executions. We can leverage `else` for it.\n",
    "* If no exceptions are raised or thrown, then the code in `else` block will be executed.\n",
    "* The code in the `finally` will be executed all the time. Typically we use `finally` to ensure that any open database connections closed irrespective whether exceptions are raised or not.\n",
    "* We also use `finally` to generate informational logs."
   ]
  },
  {
   "cell_type": "code",
   "execution_count": null,
   "id": "1f5f469c-739a-4b27-b4f6-462d47470e82",
   "metadata": {},
   "outputs": [],
   "source": [
    "a = 1"
   ]
  },
  {
   "cell_type": "code",
   "execution_count": null,
   "id": "d16df50c-25a4-4678-aae7-a9d8c779d5ba",
   "metadata": {},
   "outputs": [],
   "source": [
    "b = 'ten'"
   ]
  },
  {
   "cell_type": "code",
   "execution_count": null,
   "id": "54f5042a-d14e-4abc-87e9-bbe401c8cd06",
   "metadata": {},
   "outputs": [],
   "source": [
    "int(a) + int(b)"
   ]
  },
  {
   "cell_type": "code",
   "execution_count": null,
   "id": "14a56652-de09-432b-b7ac-2f5f9b54c6ae",
   "metadata": {},
   "outputs": [],
   "source": [
    "try:\n",
    "    res = int(a) + int(b)\n",
    "except TypeError:\n",
    "    print(f'Either {a} or {b} or both are not of integer type')"
   ]
  },
  {
   "cell_type": "code",
   "execution_count": 1,
   "id": "8d15c7ce-4ee9-4c36-98d9-b10fc492e204",
   "metadata": {},
   "outputs": [
    {
     "name": "stdout",
     "output_type": "stream",
     "text": [
      "Sum of 1 and 10 is 11\n"
     ]
    }
   ],
   "source": [
    "a = 1\n",
    "b = '10'\n",
    "try:\n",
    "    res = int(a) + int(b)\n",
    "except TypeError:\n",
    "    print(f'Either {a} or {b} or both are not of integer type')\n",
    "else:\n",
    "    print(f'Sum of {a} and {b} is {res}')"
   ]
  },
  {
   "cell_type": "code",
   "execution_count": 2,
   "id": "028ffa9f-f865-4d99-855d-0df1cf88cc04",
   "metadata": {},
   "outputs": [
    {
     "name": "stdout",
     "output_type": "stream",
     "text": [
      "Sum of 1 and 10 is 11\n",
      "Performed arithmetic operation on 1 and 10\n"
     ]
    }
   ],
   "source": [
    "a = 1\n",
    "b = '10'\n",
    "try:\n",
    "    res = int(a) + int(b)\n",
    "except TypeError:\n",
    "    print(f'Either {a} or {b} or both are not of integer type')\n",
    "else:\n",
    "    print(f'Sum of {a} and {b} is {res}')\n",
    "finally:\n",
    "    print(f'Performed arithmetic operation on {a} and {b}')"
   ]
  },
  {
   "cell_type": "code",
   "execution_count": 4,
   "id": "738bb533-975a-413c-9d71-bdaddcdee790",
   "metadata": {},
   "outputs": [
    {
     "name": "stdout",
     "output_type": "stream",
     "text": [
      "Either 1 or ten or both are not of integer type\n",
      "Performed arithmetic operation on 1 and ten\n"
     ]
    }
   ],
   "source": [
    "a = 1\n",
    "b = 'ten'\n",
    "try:\n",
    "    res = int(a) + int(b)\n",
    "except ValueError:\n",
    "    print(f'Either {a} or {b} or both are not of integer type')\n",
    "else:\n",
    "    print(f'Sum of {a} and {b} is {res}')\n",
    "finally:\n",
    "    print(f'Performed arithmetic operation on {a} and {b}')"
   ]
  },
  {
   "cell_type": "code",
   "execution_count": null,
   "id": "9e51779c-3997-4341-85f7-d24662bacd01",
   "metadata": {},
   "outputs": [],
   "source": []
  }
 ],
 "metadata": {
  "kernelspec": {
   "display_name": "Python 3 (ipykernel)",
   "language": "python",
   "name": "python3"
  },
  "language_info": {
   "codemirror_mode": {
    "name": "ipython",
    "version": 3
   },
   "file_extension": ".py",
   "mimetype": "text/x-python",
   "name": "python",
   "nbconvert_exporter": "python",
   "pygments_lexer": "ipython3",
   "version": "3.8.12"
  }
 },
 "nbformat": 4,
 "nbformat_minor": 5
}
