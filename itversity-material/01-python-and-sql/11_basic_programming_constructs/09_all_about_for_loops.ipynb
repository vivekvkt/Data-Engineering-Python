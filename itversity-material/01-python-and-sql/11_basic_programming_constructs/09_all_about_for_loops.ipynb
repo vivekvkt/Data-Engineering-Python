{
  "cells": [
    {
      "cell_type": "markdown",
      "metadata": {},
      "source": [
        "## All about for Loops\n",
        "\n",
        "Let us understand how we can loop through using `for` in Python.",
        "* Go through range between 2 integers (5 and 10) and print them. We can use range function to get range between two integers."
      ]
    },
    {
      "cell_type": "code",
      "execution_count": null,
      "metadata": {},
      "outputs": [],
      "source": [
        "range(5, 11)"
      ]
    },
    {
      "cell_type": "code",
      "execution_count": null,
      "metadata": {},
      "outputs": [],
      "source": [
        "list(range(5, 11))"
      ]
    },
    {
      "cell_type": "code",
      "execution_count": null,
      "metadata": {},
      "outputs": [],
      "source": [
        "list(range(5, 11, 2))"
      ]
    },
    {
      "cell_type": "code",
      "execution_count": null,
      "metadata": {
        "collapsed": false,
        "jupyter": {
          "outputs_hidden": false
        },
        "pycharm": {
          "name": "#%%\n"
        }
      },
      "outputs": [],
      "source": [
        "for i in range(5, 11): print(i)"
      ]
    },
    {
      "cell_type": "markdown",
      "metadata": {},
      "source": [
        "* Create a list of 7 elements and print alternate numbers starting from 1.\n",
        "`[1, 6, 8, 3, 7, 2, 9]`\n",
        "* In this example we are using list. It will be covered extensively at a later point in time. `list` is one of the core Python Data Structures."
      ]
    },
    {
      "cell_type": "code",
      "execution_count": null,
      "metadata": {
        "collapsed": false,
        "jupyter": {
          "outputs_hidden": false
        },
        "pycharm": {
          "name": "#%%\n"
        }
      },
      "outputs": [],
      "source": [
        "l = [1, 6, 8, 3, 7, 2, 9]"
      ]
    },
    {
      "cell_type": "code",
      "execution_count": null,
      "metadata": {},
      "outputs": [],
      "source": [
        "type(l)"
      ]
    },
    {
      "cell_type": "code",
      "execution_count": null,
      "metadata": {
        "collapsed": false,
        "jupyter": {
          "outputs_hidden": false
        },
        "pycharm": {
          "name": "#%%\n"
        }
      },
      "outputs": [],
      "source": [
        "cnt = 0\n",
        "for i in l:\n",
        "    if cnt % 2 == 0: # checking if cnt is even or not\n",
        "        print(i)\n",
        "    cnt += 1 # incrementing cnt by 1"
      ]
    },
    {
      "cell_type": "markdown",
      "metadata": {},
      "source": [
        "* Go through range between 2 integers (5 and 15) and print even numbers."
      ]
    },
    {
      "cell_type": "code",
      "execution_count": null,
      "metadata": {
        "collapsed": false,
        "jupyter": {
          "outputs_hidden": false
        },
        "pycharm": {
          "name": "#%%\n"
        }
      },
      "outputs": [],
      "source": [
        "for i in range(5, 16): \n",
        "    if i % 2 == 0:\n",
        "        print(i)"
      ]
    },
    {
      "cell_type": "markdown",
      "metadata": {},
      "source": [
        "* Iterate through a list of months and print them."
      ]
    },
    {
      "cell_type": "code",
      "execution_count": null,
      "metadata": {},
      "outputs": [],
      "source": [
        "months = ['January', 'February', 'March']\n",
        "for month in months:\n",
        "    print(month)"
      ]
    },
    {
      "cell_type": "code",
      "execution_count": null,
      "metadata": {},
      "outputs": [],
      "source": [
        "import calendar\n",
        "list(calendar.month_name)"
      ]
    },
    {
      "cell_type": "code",
      "execution_count": null,
      "metadata": {},
      "outputs": [],
      "source": [
        "for month in list(calendar.month_name)[1:]:\n",
        "    print(month)"
      ]
    },
    {
      "cell_type": "markdown",
      "metadata": {},
      "source": [
        "### Task 1\n",
        "\n",
        "Take the list of ages and determine the category of the baby.\n",
        "* Print **New Born or Infant** till 6 months.\n",
        "* Print **Toddler** from 7 months to 18 months.\n",
        "* Print **Grown up** from 19 months to 144 months.\n",
        "* Print **Youth** from 145 months to 216 months"
      ]
    },
    {
      "cell_type": "code",
      "execution_count": null,
      "metadata": {},
      "outputs": [],
      "source": [
        "ages = [7, 3, 15, 145, 217, 18]"
      ]
    },
    {
      "cell_type": "code",
      "execution_count": null,
      "metadata": {},
      "outputs": [],
      "source": [
        "for age in ages:\n",
        "    if age <= 6:\n",
        "        print(f'Kid with {age} months age is \"New Born or Infant\"')\n",
        "    elif age > 6 and age <= 18:\n",
        "        print(f'Kid with {age} months age is \"Toddler\"')\n",
        "    elif age > 18 and age <= 144:\n",
        "        print(f'Kid with {age} months age is \"Grown up\"')\n",
        "    elif age > 144 and age <= 216:\n",
        "        print(f'Kid with {age} months age is \"Youth\"')\n",
        "    else:\n",
        "        print(f'Kid with {age} months age is \"Adult\"')"
      ]
    },
    {
      "cell_type": "markdown",
      "metadata": {},
      "source": [
        "### Task 2\n",
        "\n",
        "Check if each number in list of integers is even or divisible by 3."
      ]
    },
    {
      "cell_type": "code",
      "execution_count": null,
      "metadata": {},
      "outputs": [],
      "source": [
        "ns = [1, 6, 2, 7, 9, 11, 3, 4]"
      ]
    },
    {
      "cell_type": "code",
      "execution_count": null,
      "metadata": {},
      "outputs": [],
      "source": [
        "for n in ns:\n",
        "    if n % 2 == 0 or n % 3 == 0:\n",
        "        print(f'Number {n} is even or divisible by 3')"
      ]
    },
    {
      "cell_type": "markdown",
      "metadata": {},
      "source": [
        "### Task 3\n",
        "\n",
        "Check if the number in list of integers is even and divisible by 3"
      ]
    },
    {
      "cell_type": "code",
      "execution_count": null,
      "metadata": {},
      "outputs": [],
      "source": [
        "ns = [1, 6, 2, 7, 9, 11, 3, 4]"
      ]
    },
    {
      "cell_type": "code",
      "execution_count": null,
      "metadata": {},
      "outputs": [],
      "source": [
        "for n in ns:\n",
        "    if n % 2 == 0 and n % 3 == 0:\n",
        "        print(f'Number {n} is even or divisible by 3')\n",
        "    elif n % 3 == 0:\n",
        "        print(f'Number {n} is divisible by 3 but not even')\n",
        "    elif n % 2 == 0:\n",
        "        print(f'Number {n} is even but not divisible by 3')"
      ]
    },
    {
      "cell_type": "markdown",
      "metadata": {},
      "source": [
        "### Task 4\n",
        "\n",
        "Check if each salary in list of salaries is valid. If the salary is negative or 0, then print **Salary {salary_amount} is invalid**. If the salary is `None` then print **Salary is Not Available**."
      ]
    },
    {
      "cell_type": "code",
      "execution_count": null,
      "metadata": {},
      "outputs": [],
      "source": [
        "sals = [100.0, 1000.0, 0.0, -100, 1200.0, None, -500]"
      ]
    },
    {
      "cell_type": "code",
      "execution_count": null,
      "metadata": {},
      "outputs": [],
      "source": [
        "for sal in sals:\n",
        "    if sal == None:\n",
        "        print('Salary is Not Available')\n",
        "    elif sal <= 0:\n",
        "        print(f'Salary {sal} is invalid')"
      ]
    },
    {
      "cell_type": "code",
      "execution_count": null,
      "metadata": {},
      "outputs": [],
      "source": [
        "for sal in sals:\n",
        "    if not sal:\n",
        "        print('Salary is Not Available')\n",
        "    elif sal <= 0:\n",
        "        print(f'Salary {sal} is invalid')"
      ]
    },
    {
      "cell_type": "markdown",
      "metadata": {},
      "source": [
        "```{note}\n",
        "We can also use list of tuples with employee id and salary. You will see examples like this as part of manipulating collections later.\n",
        "```"
      ]
    },
    {
      "cell_type": "code",
      "execution_count": null,
      "metadata": {},
      "outputs": [],
      "source": [
        "emp_sals = [\n",
        "    (1, 100.0), \n",
        "    (2, 1000.0), \n",
        "    (3, 0), \n",
        "    (4, -100), \n",
        "    (5, 1200.0), \n",
        "    (6, None), \n",
        "    (7, -500)\n",
        "]"
      ]
    },
    {
      "cell_type": "code",
      "execution_count": null,
      "metadata": {},
      "outputs": [],
      "source": [
        "for emp_sal in emp_sals:\n",
        "    if emp_sal[1] == None:\n",
        "        print(f'Salary for employee with id {emp_sal[0]} is Not Available')\n",
        "    elif emp_sal[1] <= 0:\n",
        "        print(f'Salary {emp_sal[1]} for employee with id {emp_sal[0]} is invalid')"
      ]
    },
    {
      "cell_type": "code",
      "execution_count": null,
      "metadata": {},
      "outputs": [],
      "source": []
    }
  ],
  "metadata": {
    "kernelspec": {
      "display_name": "Python 3",
      "language": "python",
      "name": "python3"
    },
    "language_info": {
      "codemirror_mode": {
        "name": "ipython",
        "version": 3
      },
      "file_extension": ".py",
      "mimetype": "text/x-python",
      "name": "python",
      "nbconvert_exporter": "python",
      "pygments_lexer": "ipython3",
      "version": "3.6.12"
    }
  },
  "nbformat": 4,
  "nbformat_minor": 4
}