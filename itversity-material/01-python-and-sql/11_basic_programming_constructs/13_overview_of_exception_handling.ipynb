{
 "cells": [
  {
   "cell_type": "markdown",
   "id": "237d1a2e-ec83-45ad-899d-c2d6736f11d9",
   "metadata": {
    "tags": []
   },
   "source": [
    "## Overview of Exception Handling\n",
    "\n",
    "Let us get an overview of Exception Handling.\n",
    "* Exception Handling in general means dealing with unexpected events (eg: trying to add a number with string).\n",
    "* Here are the different ways using which we handle exceptions in Python.\n",
    "  * Using try catch blocks.\n",
    "  * Throwing or raising exceptions as part of if conditions.\n",
    "  * Using assert function."
   ]
  },
  {
   "cell_type": "markdown",
   "id": "33a023b1-9840-43ee-af1a-1d3834048522",
   "metadata": {},
   "source": [
    "* Using `try catch`"
   ]
  },
  {
   "cell_type": "code",
   "execution_count": null,
   "id": "019ea67c-8400-48ab-bc63-d87f785d7848",
   "metadata": {},
   "outputs": [],
   "source": [
    "a = 1"
   ]
  },
  {
   "cell_type": "code",
   "execution_count": null,
   "id": "1b465e01-b181-45c9-a675-b163d16f5eb4",
   "metadata": {},
   "outputs": [],
   "source": [
    "b = '10'"
   ]
  },
  {
   "cell_type": "code",
   "execution_count": null,
   "id": "43264639-13de-498f-abc7-18285da4fad6",
   "metadata": {},
   "outputs": [],
   "source": [
    "a + b # TypeError is Exception Class. It is followed by exception message"
   ]
  },
  {
   "cell_type": "code",
   "execution_count": null,
   "id": "27fe7af0-ac21-40ab-88f6-143ffe6a426e",
   "metadata": {},
   "outputs": [],
   "source": [
    "try:\n",
    "    res = a + b\n",
    "except TypeError:\n",
    "    # Below statement will not print exception class name\n",
    "    print(f'Either {a} or {b} or both are not integers')"
   ]
  },
  {
   "cell_type": "code",
   "execution_count": null,
   "id": "5d618f2d-2ad4-4671-af0f-3dfd7f735445",
   "metadata": {},
   "outputs": [],
   "source": [
    "help(TypeError)"
   ]
  },
  {
   "cell_type": "code",
   "execution_count": null,
   "id": "a1d19019-c30b-4c94-835c-cfd18f4c50ab",
   "metadata": {},
   "outputs": [],
   "source": [
    "try:\n",
    "    res = a + b\n",
    "except TypeError as te:\n",
    "    # Print Exception class name along with custom message.\n",
    "    print(f'{type(te).__name__}: Either {a} or {b} or both are not integers')"
   ]
  },
  {
   "cell_type": "code",
   "execution_count": null,
   "id": "546d3075-13d4-4f71-b5db-a2c6b23ea7e2",
   "metadata": {},
   "outputs": [],
   "source": [
    "try:\n",
    "    res = a + b\n",
    "except TypeError as te:\n",
    "    # Print default message along with custom message.\n",
    "    # We can also use str (class name will not be printed)\n",
    "    print(f'{repr(te)}: Either {a} or {b} or both are not integers')"
   ]
  },
  {
   "cell_type": "code",
   "execution_count": null,
   "id": "ec5800d1-5233-4d16-acf4-22edab7922f0",
   "metadata": {},
   "outputs": [],
   "source": [
    "help(Exception)"
   ]
  },
  {
   "cell_type": "code",
   "execution_count": null,
   "id": "116f2fee-3085-4bfd-b9e6-95dedad682e3",
   "metadata": {},
   "outputs": [],
   "source": [
    "int(a) + int(b)"
   ]
  },
  {
   "cell_type": "code",
   "execution_count": null,
   "id": "92aec8ce-0117-469c-bf3c-1294c9b7778f",
   "metadata": {},
   "outputs": [],
   "source": [
    "a = 1"
   ]
  },
  {
   "cell_type": "code",
   "execution_count": null,
   "id": "ec29a4e2-dc03-4b1a-a5d3-622998b01d77",
   "metadata": {},
   "outputs": [],
   "source": [
    "b = 'ten'"
   ]
  },
  {
   "cell_type": "code",
   "execution_count": null,
   "id": "776984c4-c429-4daf-aae5-8ee826c71ea3",
   "metadata": {},
   "outputs": [],
   "source": [
    "int(a) + int(b)"
   ]
  },
  {
   "cell_type": "code",
   "execution_count": null,
   "id": "c6f2b52c-058b-4d20-a574-e2e27427018a",
   "metadata": {},
   "outputs": [],
   "source": [
    "try:\n",
    "    res = int(a) + int(b)\n",
    "except ValueError:\n",
    "    print(f'Either {a} or {b} or both cannot be converted to integers')"
   ]
  },
  {
   "cell_type": "markdown",
   "id": "d2dc7132-0482-4a08-b41a-7b45ec4c335b",
   "metadata": {},
   "source": [
    "* Throwing or raising exceptions as part of if conditions"
   ]
  },
  {
   "cell_type": "code",
   "execution_count": null,
   "id": "083790e4-3006-4b95-9905-7dbf67c42dd6",
   "metadata": {},
   "outputs": [],
   "source": [
    "if type(a) != int or type(b) != int:\n",
    "    raise ValueError(f'{a} or {b} or both cannot be converted to integers')"
   ]
  },
  {
   "cell_type": "markdown",
   "id": "8ca54e2a-6389-49df-81e7-157a158a619b",
   "metadata": {},
   "source": [
    "* Using `assert`"
   ]
  },
  {
   "cell_type": "code",
   "execution_count": null,
   "id": "3b091ba9-68be-4476-8d01-c8e5e60ad95f",
   "metadata": {},
   "outputs": [],
   "source": [
    "age = -1\n",
    "assert age >= 0, f'Age ({age}) cannot be negative'"
   ]
  }
 ],
 "metadata": {
  "kernelspec": {
   "display_name": "Python 3 (ipykernel)",
   "language": "python",
   "name": "python3"
  },
  "language_info": {
   "codemirror_mode": {
    "name": "ipython",
    "version": 3
   },
   "file_extension": ".py",
   "mimetype": "text/x-python",
   "name": "python",
   "nbconvert_exporter": "python",
   "pygments_lexer": "ipython3",
   "version": "3.8.12"
  }
 },
 "nbformat": 4,
 "nbformat_minor": 5
}
