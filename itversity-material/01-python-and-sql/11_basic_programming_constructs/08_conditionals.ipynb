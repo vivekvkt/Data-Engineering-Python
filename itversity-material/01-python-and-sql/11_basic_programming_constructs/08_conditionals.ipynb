{
  "cells": [
    {
      "cell_type": "markdown",
      "metadata": {},
      "source": [
        "## Conditionals\n",
        "Let us go through conditionals in Python. We typically use \u201cif else\u201d for conditionals. Let us perform a few tasks to understand how conditionals are developed.",
        "* Create a variable i with 5. Write a conditional to print whether i  is even or odd."
      ]
    },
    {
      "cell_type": "code",
      "execution_count": null,
      "metadata": {
        "collapsed": false,
        "jupyter": {
          "outputs_hidden": false
        },
        "pycharm": {
          "name": "#%%\n"
        }
      },
      "outputs": [],
      "source": [
        "i = 5"
      ]
    },
    {
      "cell_type": "code",
      "execution_count": null,
      "metadata": {
        "collapsed": false,
        "jupyter": {
          "outputs_hidden": false
        },
        "pycharm": {
          "name": "#%%\n"
        }
      },
      "outputs": [],
      "source": [
        "# Regular if else\n",
        "if i % 2 == 0:\n",
        "    print(\"even\")\n",
        "else:\n",
        "    print(\"odd\")"
      ]
    },
    {
      "cell_type": "code",
      "execution_count": null,
      "metadata": {},
      "outputs": [],
      "source": [
        "# (cond) ? on_true : on_false"
      ]
    },
    {
      "cell_type": "code",
      "execution_count": null,
      "metadata": {},
      "outputs": [],
      "source": [
        "# on_true (cond) else on_false"
      ]
    },
    {
      "cell_type": "code",
      "execution_count": null,
      "metadata": {
        "collapsed": false,
        "jupyter": {
          "outputs_hidden": false
        },
        "pycharm": {
          "name": "#%%\n"
        }
      },
      "outputs": [],
      "source": [
        "# Ternary Operator (one liner)\n",
        "print(\"even\") if i % 2 == 0 else print(\"odd\")"
      ]
    },
    {
      "cell_type": "markdown",
      "metadata": {},
      "source": [
        "* Improvise it to check if i is 0 and print zero"
      ]
    },
    {
      "cell_type": "code",
      "execution_count": null,
      "metadata": {},
      "outputs": [],
      "source": [
        "i = int(input(\"Enter an integer: \"))"
      ]
    },
    {
      "cell_type": "code",
      "execution_count": null,
      "metadata": {
        "collapsed": false,
        "jupyter": {
          "outputs_hidden": false
        },
        "pycharm": {
          "name": "#%%\n"
        }
      },
      "outputs": [],
      "source": [
        "if i == 0:\n",
        "    print(f\"i is 0\")\n",
        "elif i % 2 == 0:\n",
        "    print(f\"{i} is even\")\n",
        "else:\n",
        "    print(f\"{i} is odd\")"
      ]
    },
    {
      "cell_type": "markdown",
      "metadata": {},
      "source": [
        "* Object of type `None` is special object which represent nothing. At times we need to check against `None`."
      ]
    },
    {
      "cell_type": "code",
      "execution_count": null,
      "metadata": {},
      "outputs": [],
      "source": [
        "n = None\n",
        "print('Not None') if n else print(n)"
      ]
    },
    {
      "cell_type": "code",
      "execution_count": null,
      "metadata": {},
      "outputs": [],
      "source": [
        "i = int(input(\"Enter an integer: \"))"
      ]
    },
    {
      "cell_type": "code",
      "execution_count": null,
      "metadata": {},
      "outputs": [],
      "source": [
        "if i:\n",
        "    print('Not None') \n",
        "else: print(n)"
      ]
    },
    {
      "cell_type": "code",
      "execution_count": null,
      "metadata": {},
      "outputs": [],
      "source": [
        "i = int(input(\"Enter an integer: \"))"
      ]
    },
    {
      "cell_type": "code",
      "execution_count": null,
      "metadata": {},
      "outputs": [],
      "source": [
        "if not i % 2 == 0: print(f'{i} is odd')"
      ]
    },
    {
      "cell_type": "markdown",
      "metadata": {},
      "source": [
        "* We can also perform boolean operations such as **boolean or** and **boolean and**."
      ]
    },
    {
      "cell_type": "markdown",
      "metadata": {},
      "source": [
        "### Task 1\n",
        "\n",
        "Determine the category of the baby.\n",
        "* Print **New Born or Infant** till 6 months.\n",
        "* Print **Toddler** from 7 months to 18 months.\n",
        "* Print **Grown up** from 19 months to 144 months.\n",
        "* Print **Youth** from 145 months to 216 months"
      ]
    },
    {
      "cell_type": "code",
      "execution_count": null,
      "metadata": {},
      "outputs": [],
      "source": [
        "age = int(input('Enter age in months: '))"
      ]
    },
    {
      "cell_type": "code",
      "execution_count": null,
      "metadata": {},
      "outputs": [],
      "source": [
        "if age <= 6:\n",
        "    print('New Born or Infant')\n",
        "elif age > 6 and age <= 18:\n",
        "    print('Toddler')\n",
        "elif age > 18 and age <= 144:\n",
        "    print('Grown up')\n",
        "elif age > 144 and age <= 216:\n",
        "    print('Youth')\n",
        "else:\n",
        "    print('Adult')"
      ]
    },
    {
      "cell_type": "markdown",
      "metadata": {},
      "source": [
        "### Task 2\n",
        "\n",
        "Check if the number is even or divisible by 3."
      ]
    },
    {
      "cell_type": "code",
      "execution_count": null,
      "metadata": {},
      "outputs": [],
      "source": [
        "n = int(input('Enter integer: '))"
      ]
    },
    {
      "cell_type": "code",
      "execution_count": null,
      "metadata": {},
      "outputs": [],
      "source": [
        "if n % 2 == 0 or n % 3 == 0:\n",
        "    print(f'Number {n} is even or divisible by 3')"
      ]
    },
    {
      "cell_type": "markdown",
      "metadata": {},
      "source": [
        "### Task 3\n",
        "\n",
        "Check if the number is even and divisible by 3"
      ]
    },
    {
      "cell_type": "code",
      "execution_count": null,
      "metadata": {},
      "outputs": [],
      "source": [
        "n = int(input('Enter integer: '))"
      ]
    },
    {
      "cell_type": "code",
      "execution_count": null,
      "metadata": {},
      "outputs": [],
      "source": [
        "if n % 2 == 0 and n % 3 == 0:\n",
        "    print(f'Number {n} is even and divisible by 3')\n",
        "elif n % 3 == 0:\n",
        "    print(f'Number {n} is divisible by 3 but not even')\n",
        "elif n % 2 == 0:\n",
        "    print(f'Number {n} is even but not divisible by 3')"
      ]
    },
    {
      "cell_type": "code",
      "execution_count": null,
      "metadata": {},
      "outputs": [],
      "source": []
    }
  ],
  "metadata": {
    "kernelspec": {
      "display_name": "Python 3",
      "language": "python",
      "name": "python3"
    },
    "language_info": {
      "codemirror_mode": {
        "name": "ipython",
        "version": 3
      },
      "file_extension": ".py",
      "mimetype": "text/x-python",
      "name": "python",
      "nbconvert_exporter": "python",
      "pygments_lexer": "ipython3",
      "version": "3.7.10"
    }
  },
  "nbformat": 4,
  "nbformat_minor": 4
}