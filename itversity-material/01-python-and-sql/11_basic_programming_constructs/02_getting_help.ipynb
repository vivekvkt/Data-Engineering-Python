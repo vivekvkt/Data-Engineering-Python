{
  "cells": [
    {
      "cell_type": "markdown",
      "metadata": {},
      "source": [
        "## Getting Help\n",
        "\n",
        "We have already seen how to get help earlier. Let's deep dive to understand more about getting help using Python.",
        "* We can get help either in Python CLI or Jupyter Notebook.\n",
        "* Help can be launched by calling help()\n",
        "* It will launch CLI and we can enter a class name or function name.\n",
        "* We can hit ctrl+c to come out of help\n",
        "* We can also get help on a class or function by passing them to help function interactively.\n",
        "* We will be able to get help by passing objects as well. In cases like str it will try to get the help on the value of variable."
      ]
    },
    {
      "cell_type": "markdown",
      "metadata": {},
      "source": [
        "### Tasks\n",
        "\n",
        "Here are some of the tasks we can perform to understand help better. You can use Python CLI. If you want to perform these tasks using Python CLI, then you have to lauch Python from terminal and perform these tasks.\n",
        "* Launch help\n",
        "* Get help for str\n",
        "* Get help for str.lstrip function\n",
        "* Exit from help\n",
        "* Get help on str and str.lstrip directly\n",
        "* Create an integer object i=0 and get help by passing the object.\n",
        "\n",
        "You can get help on specific class or on an object or on a function using `help` on them"
      ]
    },
    {
      "cell_type": "code",
      "execution_count": null,
      "metadata": {},
      "outputs": [],
      "source": [
        "# Getting help on class str\n",
        "help(str)"
      ]
    },
    {
      "cell_type": "code",
      "execution_count": null,
      "metadata": {},
      "outputs": [],
      "source": [
        "# Getting help on a function\n",
        "help(str.lstrip)"
      ]
    },
    {
      "cell_type": "code",
      "execution_count": null,
      "metadata": {},
      "outputs": [],
      "source": [
        "# Getting help on object of type integer\n",
        "i = 0\n",
        "help(i)"
      ]
    },
    {
      "cell_type": "code",
      "execution_count": null,
      "metadata": {},
      "outputs": [],
      "source": []
    }
  ],
  "metadata": {
    "kernelspec": {
      "display_name": "Python 3",
      "language": "python",
      "name": "python3"
    },
    "language_info": {
      "codemirror_mode": {
        "name": "ipython",
        "version": 3
      },
      "file_extension": ".py",
      "mimetype": "text/x-python",
      "name": "python",
      "nbconvert_exporter": "python",
      "pygments_lexer": "ipython3",
      "version": "3.6.12"
    }
  },
  "nbformat": 4,
  "nbformat_minor": 4
}