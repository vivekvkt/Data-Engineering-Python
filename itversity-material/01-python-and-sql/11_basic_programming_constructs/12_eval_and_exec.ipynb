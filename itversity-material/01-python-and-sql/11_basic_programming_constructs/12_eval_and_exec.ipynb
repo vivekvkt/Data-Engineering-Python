{
 "cells": [
  {
   "cell_type": "markdown",
   "id": "377dca13",
   "metadata": {},
   "source": [
    "## eval and exec\n",
    "\n",
    "Let us understand how we can use `eval` and `exec` in Python.\n",
    "\n",
    "* Typically we perform arithmetic operations like this `a = b + c`.\n",
    "* We can also use `eval` and `exec` for the same.\n",
    "* `eval` typically evaluates the expression. We need to assign the value to some variable when we use `eval`.\n",
    "* `exec` executes the statement."
   ]
  },
  {
   "cell_type": "code",
   "execution_count": null,
   "id": "ec9fc426",
   "metadata": {},
   "outputs": [],
   "source": [
    "b = 10"
   ]
  },
  {
   "cell_type": "code",
   "execution_count": null,
   "id": "ce86c04d",
   "metadata": {},
   "outputs": [],
   "source": [
    "c = 20"
   ]
  },
  {
   "cell_type": "code",
   "execution_count": null,
   "id": "e3348ebd",
   "metadata": {},
   "outputs": [],
   "source": [
    "a = b + c"
   ]
  },
  {
   "cell_type": "code",
   "execution_count": null,
   "id": "b81708f8",
   "metadata": {},
   "outputs": [],
   "source": [
    "a"
   ]
  },
  {
   "cell_type": "code",
   "execution_count": null,
   "id": "b52bac4c",
   "metadata": {},
   "outputs": [],
   "source": [
    "eval('b + c') # Typically we assign the result of eval to a variable or object"
   ]
  },
  {
   "cell_type": "code",
   "execution_count": null,
   "id": "21a36a75",
   "metadata": {},
   "outputs": [],
   "source": [
    "exec('d = b + c') # variable or object will be created when we use exec"
   ]
  },
  {
   "cell_type": "code",
   "execution_count": null,
   "id": "1682a88f",
   "metadata": {},
   "outputs": [],
   "source": [
    "d"
   ]
  },
  {
   "cell_type": "code",
   "execution_count": null,
   "id": "c5c4f1b7-ef29-48b4-82c0-f34d2d430e0d",
   "metadata": {},
   "outputs": [],
   "source": [
    "def calc(a, b, op):\n",
    "    return eval(f'{a} {op} {b}')"
   ]
  },
  {
   "cell_type": "code",
   "execution_count": null,
   "id": "b778e149-16b3-490a-98ca-f6e9e3e4a80a",
   "metadata": {},
   "outputs": [],
   "source": [
    "calc(1, 2, '+')"
   ]
  },
  {
   "cell_type": "code",
   "execution_count": null,
   "id": "ce003b77-0c96-4503-819d-d21537e99c46",
   "metadata": {},
   "outputs": [],
   "source": [
    "calc(10, 20, '*')"
   ]
  },
  {
   "cell_type": "code",
   "execution_count": null,
   "id": "5f7c87c6-7d4f-4301-807f-1ca38c1621d8",
   "metadata": {},
   "outputs": [],
   "source": []
  }
 ],
 "metadata": {
  "kernelspec": {
   "display_name": "Python 3 (ipykernel)",
   "language": "python",
   "name": "python3"
  },
  "language_info": {
   "codemirror_mode": {
    "name": "ipython",
    "version": 3
   },
   "file_extension": ".py",
   "mimetype": "text/x-python",
   "name": "python",
   "nbconvert_exporter": "python",
   "pygments_lexer": "ipython3",
   "version": "3.8.12"
  }
 },
 "nbformat": 4,
 "nbformat_minor": 5
}
