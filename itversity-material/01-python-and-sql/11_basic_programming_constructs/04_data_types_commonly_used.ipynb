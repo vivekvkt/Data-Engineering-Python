{
  "cells": [
    {
      "cell_type": "markdown",
      "metadata": {},
      "source": [
        "## Data Types - Commonly used\n",
        "Python has several data types which are commonly used. There are advanced data types such as Data Frames as part of modules such as pandas.",
        "* Numeric - `int`, `float`, complex\n",
        "* Alpha Numeric - `str`\n",
        "* Boolean - `bool` (it will be covered in another topic)\n",
        "* Collections\n",
        "  * `list`\n",
        "  * `set`\n",
        "  * `dict`\n",
        "  * `tuple`\n",
        "* type(VARIABLE_NAME) returns the data type of the variable.\n",
        "* All the data types are nothing but classes.\n",
        "* We can type cast data types by invoking constructor.\n",
        "\n",
        "We will deep dive into all the above commonly used data types in the subsequent topics in this section as well as topic in subsequent sections. We have tons of material around collections and hence stay tuned."
      ]
    },
    {
      "cell_type": "code",
      "execution_count": null,
      "metadata": {},
      "outputs": [],
      "source": []
    }
  ],
  "metadata": {
    "kernelspec": {
      "display_name": "Python 3",
      "language": "python",
      "name": "python3"
    },
    "language_info": {
      "codemirror_mode": {
        "name": "ipython",
        "version": 3
      },
      "file_extension": ".py",
      "mimetype": "text/x-python",
      "name": "python",
      "nbconvert_exporter": "python",
      "pygments_lexer": "ipython3",
      "version": "3.6.12"
    }
  },
  "nbformat": 4,
  "nbformat_minor": 4
}