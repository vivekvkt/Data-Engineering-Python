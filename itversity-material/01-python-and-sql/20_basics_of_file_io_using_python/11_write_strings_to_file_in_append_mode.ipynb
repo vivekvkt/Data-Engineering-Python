{
 "cells": [
  {
   "cell_type": "markdown",
   "id": "2f2510ee",
   "metadata": {},
   "source": [
    "## Write strings to file in append mode\n",
    "\n",
    "Let us see how we can write multiple strings from a list to file in append mode.\n",
    "* We cannot write the list of strings into file properly all at once."
   ]
  },
  {
   "cell_type": "code",
   "execution_count": 1,
   "id": "468d764e",
   "metadata": {},
   "outputs": [],
   "source": [
    "departments = [\n",
    "    '2,Fitness', \n",
    "    '3,Footwear', \n",
    "    '4,Apparel', \n",
    "    '5,Golf', \n",
    "    '6,Outdoors', \n",
    "    '7,Fan Shop'\n",
    "]"
   ]
  },
  {
   "cell_type": "code",
   "execution_count": 2,
   "id": "868be42d",
   "metadata": {},
   "outputs": [],
   "source": [
    "file = open('data/departments.txt', 'w')"
   ]
  },
  {
   "cell_type": "code",
   "execution_count": 3,
   "id": "172c7112",
   "metadata": {},
   "outputs": [
    {
     "ename": "TypeError",
     "evalue": "write() argument must be str, not list",
     "output_type": "error",
     "traceback": [
      "\u001b[0;31m---------------------------------------------------------------------------\u001b[0m",
      "\u001b[0;31mTypeError\u001b[0m                                 Traceback (most recent call last)",
      "\u001b[0;32m/tmp/ipykernel_396/3577735782.py\u001b[0m in \u001b[0;36m<module>\u001b[0;34m\u001b[0m\n\u001b[0;32m----> 1\u001b[0;31m \u001b[0mfile\u001b[0m\u001b[0;34m.\u001b[0m\u001b[0mwrite\u001b[0m\u001b[0;34m(\u001b[0m\u001b[0mdepartments\u001b[0m\u001b[0;34m)\u001b[0m \u001b[0;31m# Fails\u001b[0m\u001b[0;34m\u001b[0m\u001b[0;34m\u001b[0m\u001b[0m\n\u001b[0m",
      "\u001b[0;31mTypeError\u001b[0m: write() argument must be str, not list"
     ]
    }
   ],
   "source": [
    "file.write(departments) # Fails"
   ]
  },
  {
   "cell_type": "code",
   "execution_count": 4,
   "id": "69334f8d",
   "metadata": {},
   "outputs": [],
   "source": [
    "file.close()"
   ]
  },
  {
   "cell_type": "markdown",
   "id": "1ac9e1c2",
   "metadata": {},
   "source": [
    "Here are the steps involved in writing list of strings in the form of CSV to a file.\n",
    "* Make sure that data in the list contains delimited strings.\n",
    "* Open the file in append mode.\n",
    "* Iterate through the list and write one element at a time into the file.\n",
    "* Close the file.\n",
    "\n",
    "Make sure to validate whether data is written properly or not in the file."
   ]
  },
  {
   "cell_type": "code",
   "execution_count": 5,
   "id": "657c1659",
   "metadata": {},
   "outputs": [],
   "source": [
    "departments = [\n",
    "    '2,Fitness', \n",
    "    '3,Footwear', \n",
    "    '4,Apparel', \n",
    "    '5,Golf', \n",
    "    '6,Outdoors', \n",
    "    '7,Fan Shop'\n",
    "]"
   ]
  },
  {
   "cell_type": "code",
   "execution_count": 6,
   "id": "d1255246",
   "metadata": {},
   "outputs": [],
   "source": [
    "file = open('data/departments.txt', 'a')"
   ]
  },
  {
   "cell_type": "code",
   "execution_count": 7,
   "id": "5649b910",
   "metadata": {},
   "outputs": [],
   "source": [
    "for department in departments:\n",
    "    file.write(department)"
   ]
  },
  {
   "cell_type": "code",
   "execution_count": 8,
   "id": "ac8c3ccd",
   "metadata": {},
   "outputs": [],
   "source": [
    "file.close()"
   ]
  },
  {
   "cell_type": "code",
   "execution_count": 9,
   "id": "5d6b02d9",
   "metadata": {},
   "outputs": [
    {
     "name": "stdout",
     "output_type": "stream",
     "text": [
      "-rwxrwxrwx 1 root root 54 Nov 13 04:01 data/departments.txt\n"
     ]
    }
   ],
   "source": [
    "!ls -ltr data/departments.txt"
   ]
  },
  {
   "cell_type": "code",
   "execution_count": 10,
   "id": "d7c8da68",
   "metadata": {},
   "outputs": [
    {
     "name": "stdout",
     "output_type": "stream",
     "text": [
      "2,Fitness3,Footwear4,Apparel5,Golf6,Outdoors7,Fan Shop"
     ]
    }
   ],
   "source": [
    "!cat data/departments.txt # No new line characters"
   ]
  },
  {
   "cell_type": "code",
   "execution_count": 11,
   "id": "2e2a90b7",
   "metadata": {},
   "outputs": [],
   "source": [
    "!rm data/departments.txt"
   ]
  },
  {
   "cell_type": "code",
   "execution_count": 12,
   "id": "ed08df93",
   "metadata": {},
   "outputs": [],
   "source": [
    "departments = [\n",
    "    '2,Fitness', \n",
    "    '3,Footwear', \n",
    "    '4,Apparel', \n",
    "    '5,Golf', \n",
    "    '6,Outdoors', \n",
    "    '7,Fan Shop'\n",
    "]"
   ]
  },
  {
   "cell_type": "code",
   "execution_count": 13,
   "id": "260c4d10",
   "metadata": {},
   "outputs": [],
   "source": [
    "file = open('data/departments.txt', 'a')"
   ]
  },
  {
   "cell_type": "code",
   "execution_count": 14,
   "id": "7bbedcc0",
   "metadata": {},
   "outputs": [],
   "source": [
    "for department in departments:\n",
    "    file.write(f'{department}\\n')"
   ]
  },
  {
   "cell_type": "code",
   "execution_count": 15,
   "id": "d41ced2b",
   "metadata": {},
   "outputs": [],
   "source": [
    "file.close()"
   ]
  },
  {
   "cell_type": "code",
   "execution_count": 16,
   "id": "4e78f3d1",
   "metadata": {},
   "outputs": [
    {
     "name": "stdout",
     "output_type": "stream",
     "text": [
      "-rw-r--r-- 1 itversity itversity 60 Nov 13 04:02 data/departments.txt\n"
     ]
    }
   ],
   "source": [
    "!ls -ltr data/departments.txt"
   ]
  },
  {
   "cell_type": "code",
   "execution_count": 17,
   "id": "4efba783",
   "metadata": {},
   "outputs": [
    {
     "name": "stdout",
     "output_type": "stream",
     "text": [
      "2,Fitness\n",
      "3,Footwear\n",
      "4,Apparel\n",
      "5,Golf\n",
      "6,Outdoors\n",
      "7,Fan Shop\n"
     ]
    }
   ],
   "source": [
    "!cat data/departments.txt # With new line characters"
   ]
  },
  {
   "cell_type": "code",
   "execution_count": 18,
   "id": "95ef017f",
   "metadata": {},
   "outputs": [
    {
     "name": "stdout",
     "output_type": "stream",
     "text": [
      "6 data/departments.txt\n"
     ]
    }
   ],
   "source": [
    "!wc -l data/departments.txt"
   ]
  },
  {
   "cell_type": "markdown",
   "id": "b5b228bb",
   "metadata": {},
   "source": [
    "* You can also build one big string and write into the file in one shot. However you need to ensure that the line delimiter is placed between the elements."
   ]
  },
  {
   "cell_type": "code",
   "execution_count": 19,
   "id": "4d3e8980",
   "metadata": {},
   "outputs": [],
   "source": [
    "!rm data/departments.txt"
   ]
  },
  {
   "cell_type": "code",
   "execution_count": 20,
   "id": "1bb934ad",
   "metadata": {},
   "outputs": [],
   "source": [
    "departments = [\n",
    "    '2,Fitness', \n",
    "    '3,Footwear', \n",
    "    '4,Apparel', \n",
    "    '5,Golf', \n",
    "    '6,Outdoors', \n",
    "    '7,Fan Shop'\n",
    "]"
   ]
  },
  {
   "cell_type": "code",
   "execution_count": 21,
   "id": "5325f803",
   "metadata": {},
   "outputs": [],
   "source": [
    "data = '\\n'.join(departments)"
   ]
  },
  {
   "cell_type": "code",
   "execution_count": 22,
   "id": "2708559b-e897-413f-8fea-5e0aef7ecb8d",
   "metadata": {},
   "outputs": [
    {
     "data": {
      "text/plain": [
       "str"
      ]
     },
     "execution_count": 22,
     "metadata": {},
     "output_type": "execute_result"
    }
   ],
   "source": [
    "type(data)"
   ]
  },
  {
   "cell_type": "code",
   "execution_count": 23,
   "id": "0c020461-c984-42a0-bc0f-1350cfa6dcf5",
   "metadata": {},
   "outputs": [
    {
     "data": {
      "text/plain": [
       "'2,Fitness\\n3,Footwear\\n4,Apparel\\n5,Golf\\n6,Outdoors\\n7,Fan Shop'"
      ]
     },
     "execution_count": 23,
     "metadata": {},
     "output_type": "execute_result"
    }
   ],
   "source": [
    "data"
   ]
  },
  {
   "cell_type": "code",
   "execution_count": 24,
   "id": "db0b7190",
   "metadata": {},
   "outputs": [],
   "source": [
    "file = open('data/departments.txt', 'a')"
   ]
  },
  {
   "cell_type": "code",
   "execution_count": 25,
   "id": "a75a9435",
   "metadata": {},
   "outputs": [
    {
     "data": {
      "text/plain": [
       "59"
      ]
     },
     "execution_count": 25,
     "metadata": {},
     "output_type": "execute_result"
    }
   ],
   "source": [
    "file.write(data)"
   ]
  },
  {
   "cell_type": "code",
   "execution_count": 26,
   "id": "27e2be5a",
   "metadata": {},
   "outputs": [],
   "source": [
    "file.close()"
   ]
  },
  {
   "cell_type": "code",
   "execution_count": 27,
   "id": "11f34e27",
   "metadata": {},
   "outputs": [
    {
     "name": "stdout",
     "output_type": "stream",
     "text": [
      "-rw-r--r-- 1 itversity itversity 59 Nov 13 04:03 data/departments.txt\n"
     ]
    }
   ],
   "source": [
    "!ls -ltr data/departments.txt"
   ]
  },
  {
   "cell_type": "code",
   "execution_count": 28,
   "id": "b2cb2b39",
   "metadata": {},
   "outputs": [
    {
     "name": "stdout",
     "output_type": "stream",
     "text": [
      "2,Fitness\n",
      "3,Footwear\n",
      "4,Apparel\n",
      "5,Golf\n",
      "6,Outdoors\n",
      "7,Fan Shop"
     ]
    }
   ],
   "source": [
    "!cat data/departments.txt # With new line characters"
   ]
  },
  {
   "cell_type": "code",
   "execution_count": 30,
   "id": "334a8ae7",
   "metadata": {},
   "outputs": [
    {
     "name": "stdout",
     "output_type": "stream",
     "text": [
      "5 data/departments.txt\n"
     ]
    }
   ],
   "source": [
    "!wc -l data/departments.txt"
   ]
  },
  {
   "cell_type": "code",
   "execution_count": null,
   "id": "f93690fc-965c-4dd1-9af9-fa7505fdde4c",
   "metadata": {},
   "outputs": [],
   "source": []
  }
 ],
 "metadata": {
  "kernelspec": {
   "display_name": "Python 3 (ipykernel)",
   "language": "python",
   "name": "python3"
  },
  "language_info": {
   "codemirror_mode": {
    "name": "ipython",
    "version": 3
   },
   "file_extension": ".py",
   "mimetype": "text/x-python",
   "name": "python",
   "nbconvert_exporter": "python",
   "pygments_lexer": "ipython3",
   "version": "3.8.12"
  }
 },
 "nbformat": 4,
 "nbformat_minor": 5
}
