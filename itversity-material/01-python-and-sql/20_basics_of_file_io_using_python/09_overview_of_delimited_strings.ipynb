{
  "cells": [
    {
      "cell_type": "markdown",
      "id": "45de9782",
      "metadata": {},
      "source": [
        "## Overview of Delimited Strings\n",
        "\n",
        "Let us get an overview of delimited strings. As part of this topic we will primarily deal with Python objects (not the data in the files).\n",
        "* At times, we read the text files and the text files might contain delimited lines.\n",
        "* Also, we might want to read the data from a database or a REST API into the text files. Each line might be delimited records.\n",
        "* In both the scenarios, we deal with strings. The strings typically contain multiple attribute values separated by a delimiter or separator.\n",
        "* Comma separated or delimited string - `1,2013-07-25 00:00:00.0,11599,CLOSED`\n",
        "* Pipe **`|`** separated or delimited string - `1|2013-07-25 00:00:00.0|11599|CLOSED`\n",
        "* Tab separated or delimited string - `1\\t2013-07-25 00:00:00.0\\t11599\\tCLOSED`\n",
        "* Tab is special character. When we open the file, we will not see `\\t`, instead we see some spaces. We will see an example at a later point in time. But we use `\\t` to create tab delimited strings"
      ]
    },
    {
      "cell_type": "code",
      "execution_count": null,
      "id": "1cd301fc",
      "metadata": {},
      "outputs": [],
      "source": [
        "comma_separated = '1,2013-07-25 00:00:00.0,11599,CLOSED'"
      ]
    },
    {
      "cell_type": "code",
      "execution_count": null,
      "id": "c00e2568",
      "metadata": {},
      "outputs": [],
      "source": [
        "print(comma_separated)"
      ]
    },
    {
      "cell_type": "code",
      "execution_count": null,
      "id": "ae0339da",
      "metadata": {},
      "outputs": [],
      "source": [
        "type(comma_separated)"
      ]
    },
    {
      "cell_type": "code",
      "execution_count": null,
      "id": "c960605a",
      "metadata": {},
      "outputs": [],
      "source": [
        "pipe_separated = '1|2013-07-25 00:00:00.0|11599|CLOSED'"
      ]
    },
    {
      "cell_type": "code",
      "execution_count": null,
      "id": "66761f05",
      "metadata": {},
      "outputs": [],
      "source": [
        "print(pipe_separated)"
      ]
    },
    {
      "cell_type": "code",
      "execution_count": null,
      "id": "4532921d",
      "metadata": {},
      "outputs": [],
      "source": [
        "type(pipe_separated)"
      ]
    },
    {
      "cell_type": "code",
      "execution_count": null,
      "id": "220985bd",
      "metadata": {},
      "outputs": [],
      "source": [
        "tab_separated = '1\\t2013-07-25 00:00:00.0\\t11599\\tCLOSED'"
      ]
    },
    {
      "cell_type": "code",
      "execution_count": null,
      "id": "1c73a919",
      "metadata": {},
      "outputs": [],
      "source": [
        "print(tab_separated)"
      ]
    },
    {
      "cell_type": "code",
      "execution_count": null,
      "id": "e1ad94ed",
      "metadata": {},
      "outputs": [],
      "source": [
        "type(tab_separated)"
      ]
    }
  ],
  "metadata": {
    "kernelspec": {
      "display_name": "Python 3",
      "language": "python",
      "name": "python3"
    },
    "language_info": {
      "codemirror_mode": {
        "name": "ipython",
        "version": 3
      },
      "file_extension": ".py",
      "mimetype": "text/x-python",
      "name": "python",
      "nbconvert_exporter": "python",
      "pygments_lexer": "ipython3",
      "version": "3.6.12"
    }
  },
  "nbformat": 4,
  "nbformat_minor": 5
}