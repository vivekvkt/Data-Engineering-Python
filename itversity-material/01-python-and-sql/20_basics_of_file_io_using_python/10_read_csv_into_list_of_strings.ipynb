{
  "cells": [
    {
      "cell_type": "markdown",
      "id": "6b679aeb",
      "metadata": {},
      "source": [
        "## Read csv into list of strings\n",
        "\n",
        "Let us read csv data into list of strings. First let us go through the steps involved in reading csv data into list of strings.\n",
        "* Create file object using `open` in read mode.\n",
        "* Invoke `read` function to read the contents in the file into memory.\n",
        "* `csv` files typically contains multiple lines where each line have multiple attribute values. Values related to different attributes in each line are typically delimited or separated.\n",
        "* Lines (also known as records) are typically delimited or separated by new line character. We can use `splitlines` on the output of `read` function to create list of strings.\n",
        "\n",
        "```{note}\n",
        "Even though CSV stands for comma separated values, we often find the data separated by other separators or delimiters than comma. Tab character (\\t), Pipe Character (|) are also commonly used. They are also known as tsv and psv sometimes.\n",
        "```"
      ]
    },
    {
      "cell_type": "code",
      "execution_count": null,
      "id": "1b696b26",
      "metadata": {},
      "outputs": [],
      "source": [
        "!ls -ltr /data/retail_db/categories/"
      ]
    },
    {
      "cell_type": "code",
      "execution_count": null,
      "id": "00b1feef",
      "metadata": {},
      "outputs": [],
      "source": [
        "!cat /data/retail_db/categories/part-00000 # Viewing file contents using Linux commands"
      ]
    },
    {
      "cell_type": "code",
      "execution_count": null,
      "id": "3b5607eb",
      "metadata": {},
      "outputs": [],
      "source": [
        "# Create file object\n",
        "file = open('/data/retail_db/categories/part-00000')"
      ]
    },
    {
      "cell_type": "code",
      "execution_count": null,
      "id": "22e6daec",
      "metadata": {},
      "outputs": [],
      "source": [
        "# Read file contents into the memory\n",
        "data = file.read()"
      ]
    },
    {
      "cell_type": "code",
      "execution_count": null,
      "id": "61449834",
      "metadata": {},
      "outputs": [],
      "source": [
        "type(data)"
      ]
    },
    {
      "cell_type": "code",
      "execution_count": null,
      "id": "ec5aff35",
      "metadata": {},
      "outputs": [],
      "source": [
        "data # One big string. You can find new line characters in between"
      ]
    },
    {
      "cell_type": "code",
      "execution_count": null,
      "id": "8825644c",
      "metadata": {},
      "outputs": [],
      "source": [
        "# Create list of strings (each line in the file will be element in a string)\n",
        "categories = data.split('\\n')"
      ]
    },
    {
      "cell_type": "code",
      "execution_count": null,
      "id": "6eb00dd4",
      "metadata": {},
      "outputs": [],
      "source": [
        "type(categories)"
      ]
    },
    {
      "cell_type": "code",
      "execution_count": null,
      "id": "b41282d2",
      "metadata": {},
      "outputs": [],
      "source": [
        "categories \n",
        "# Data in the file /data/retail_db/categories/part-00000 is now in a list\n",
        "# Each element in the list is a line in the file"
      ]
    },
    {
      "cell_type": "code",
      "execution_count": null,
      "id": "a885ad1e",
      "metadata": {},
      "outputs": [],
      "source": [
        "!wc -l /data/retail_db/categories/part-00000"
      ]
    },
    {
      "cell_type": "code",
      "execution_count": null,
      "id": "1af38bfe",
      "metadata": {},
      "outputs": [],
      "source": [
        "len(categories)"
      ]
    },
    {
      "cell_type": "code",
      "execution_count": null,
      "id": "22305d35",
      "metadata": {},
      "outputs": [],
      "source": [
        "# Same thing can be achieved using splitlines\n",
        "categories = data.splitlines()"
      ]
    },
    {
      "cell_type": "code",
      "execution_count": null,
      "id": "36133ec7",
      "metadata": {},
      "outputs": [],
      "source": [
        "categories"
      ]
    },
    {
      "cell_type": "code",
      "execution_count": null,
      "id": "a290cf18",
      "metadata": {},
      "outputs": [],
      "source": [
        "!wc -l /data/retail_db/categories/part-00000"
      ]
    },
    {
      "cell_type": "code",
      "execution_count": null,
      "id": "e0756efc",
      "metadata": {},
      "outputs": [],
      "source": [
        "len(categories)"
      ]
    }
  ],
  "metadata": {
    "kernelspec": {
      "display_name": "Python 3",
      "language": "python",
      "name": "python3"
    },
    "language_info": {
      "codemirror_mode": {
        "name": "ipython",
        "version": 3
      },
      "file_extension": ".py",
      "mimetype": "text/x-python",
      "name": "python",
      "nbconvert_exporter": "python",
      "pygments_lexer": "ipython3",
      "version": "3.6.12"
    }
  },
  "nbformat": 4,
  "nbformat_minor": 5
}