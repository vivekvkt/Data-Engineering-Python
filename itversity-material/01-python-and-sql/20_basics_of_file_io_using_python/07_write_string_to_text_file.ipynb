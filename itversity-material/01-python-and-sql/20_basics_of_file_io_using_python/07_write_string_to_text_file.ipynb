{
  "cells": [
    {
      "cell_type": "markdown",
      "id": "88036529",
      "metadata": {},
      "source": [
        "## Write string to text file\n",
        "\n",
        "Let us understand how to write string to the text file. Here are the steps involved to write string to text file.\n",
        "* Make sure the target directory is available and the user have write permissions.\n",
        "* You need to have a string object to write into the file using default mode. The default mode is text or `t`.\n",
        "* The file object should be created in write mode using `open` function.\n",
        "* You can use `write` on file object to write the content into the file.\n",
        "* We need to make sure that file object is closed to reflect the data in the file. Until we close, we will not be able to read the contents of the file."
      ]
    },
    {
      "cell_type": "code",
      "execution_count": null,
      "id": "41cdc800",
      "metadata": {},
      "outputs": [],
      "source": [
        "# Create folder to write the data to for practice.\n",
        "!mkdir -p data"
      ]
    },
    {
      "cell_type": "code",
      "execution_count": null,
      "id": "b2353474",
      "metadata": {},
      "outputs": [],
      "source": [
        "# We will use data folder in the current directory\n",
        "# As we have created the folder, we will typically have write permissions on it\n",
        "!ls -ltr|grep data"
      ]
    },
    {
      "cell_type": "code",
      "execution_count": null,
      "id": "003fa331",
      "metadata": {},
      "outputs": [],
      "source": [
        "# Check if the files exists\n",
        "!ls -ltr data"
      ]
    },
    {
      "cell_type": "code",
      "execution_count": null,
      "id": "26a6e14f",
      "metadata": {},
      "outputs": [],
      "source": [
        "# You can also validate whether you are able to create files or not using touch command\n",
        "!touch data/validating_write_permissions"
      ]
    },
    {
      "cell_type": "code",
      "execution_count": null,
      "id": "8fb8c640",
      "metadata": {},
      "outputs": [],
      "source": [
        "!ls -ltr data"
      ]
    },
    {
      "cell_type": "code",
      "execution_count": null,
      "id": "450d36d0",
      "metadata": {},
      "outputs": [],
      "source": [
        "!rm data/validating_write_permissions"
      ]
    },
    {
      "cell_type": "code",
      "execution_count": null,
      "id": "4f06c2b1",
      "metadata": {},
      "outputs": [],
      "source": [
        "!ls -ltr data"
      ]
    },
    {
      "cell_type": "code",
      "execution_count": null,
      "id": "3b447b55",
      "metadata": {},
      "outputs": [],
      "source": [
        "!rm data/sample_data.txt"
      ]
    },
    {
      "cell_type": "code",
      "execution_count": null,
      "id": "51844847",
      "metadata": {},
      "outputs": [],
      "source": [
        "content = 'Sample Text which will be written to file'"
      ]
    },
    {
      "cell_type": "code",
      "execution_count": null,
      "id": "14e6cf05",
      "metadata": {},
      "outputs": [],
      "source": [
        "type(content)"
      ]
    },
    {
      "cell_type": "code",
      "execution_count": null,
      "id": "385db6d4",
      "metadata": {},
      "outputs": [],
      "source": [
        "# Now let us create the file object in write mode\n",
        "# The default file format or mode is text\n",
        "file = open('data/sample_data.txt', 'w')"
      ]
    },
    {
      "cell_type": "code",
      "execution_count": null,
      "id": "2d55f7c5",
      "metadata": {},
      "outputs": [],
      "source": [
        "file.write?"
      ]
    },
    {
      "cell_type": "code",
      "execution_count": null,
      "id": "fa7d4812",
      "metadata": {},
      "outputs": [],
      "source": [
        "# Returns the size of the file\n",
        "# By default the contents of the file will be overwritten if the file already exists\n",
        "file.write(content)"
      ]
    },
    {
      "cell_type": "code",
      "execution_count": null,
      "id": "b9a8a86b",
      "metadata": {},
      "outputs": [],
      "source": [
        "file.close()"
      ]
    },
    {
      "cell_type": "code",
      "execution_count": null,
      "id": "55333fd4",
      "metadata": {},
      "outputs": [],
      "source": [
        "!cat data/sample_data.txt"
      ]
    }
  ],
  "metadata": {
    "kernelspec": {
      "display_name": "Python 3",
      "language": "python",
      "name": "python3"
    },
    "language_info": {
      "codemirror_mode": {
        "name": "ipython",
        "version": 3
      },
      "file_extension": ".py",
      "mimetype": "text/x-python",
      "name": "python",
      "nbconvert_exporter": "python",
      "pygments_lexer": "ipython3",
      "version": "3.6.12"
    }
  },
  "nbformat": 4,
  "nbformat_minor": 5
}