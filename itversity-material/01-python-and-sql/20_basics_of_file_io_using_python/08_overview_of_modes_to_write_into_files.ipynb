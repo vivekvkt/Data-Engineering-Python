{
  "cells": [
    {
      "cell_type": "markdown",
      "id": "c00f1b17",
      "metadata": {},
      "source": [
        "## Overview of modes to write into files\n",
        "\n",
        "Let us go through the details related to the modes that are used to write data into files. Already we have seen `r` which is default as well as `w`. They are meant for read and write respectively.\n",
        "\n",
        "```\n",
        "========= ===============================================================\n",
        "Character Meaning\n",
        "--------- ---------------------------------------------------------------\n",
        "'r'       open for reading (default)\n",
        "'w'       open for writing, truncating the file first\n",
        "'x'       create a new file and open it for writing\n",
        "'a'       open for writing, appending to the end of the file if it exists\n",
        "'b'       binary mode\n",
        "'t'       text mode (default)\n",
        "'+'       open a disk file for updating (reading and writing)\n",
        "'U'       universal newline mode (deprecated)\n",
        "========= ===============================================================\n",
        "```\n",
        "\n",
        "* `r` is used for read and `w`, `a`, `x` are used for write.\n",
        "* We can read or write either in binary or text mode. Unless specified, operations are performed in text mode.\n",
        "* We need to combine `b` with read or write operations to perform read or write in binary mode."
      ]
    },
    {
      "cell_type": "markdown",
      "id": "5ee1bc36",
      "metadata": {},
      "source": [
        "### Overwriting the existing file using w\n",
        "\n",
        "If the file does not exists, it will create otherwise it will overwrite."
      ]
    },
    {
      "cell_type": "code",
      "execution_count": null,
      "id": "2d517487",
      "metadata": {},
      "outputs": [],
      "source": [
        "!rm data/overwrite.txt"
      ]
    },
    {
      "cell_type": "code",
      "execution_count": null,
      "id": "33dd9738",
      "metadata": {},
      "outputs": [],
      "source": [
        "file = open('data/overwrite.txt', 'w')"
      ]
    },
    {
      "cell_type": "code",
      "execution_count": null,
      "id": "422a2098",
      "metadata": {},
      "outputs": [],
      "source": [
        "data = 'Writing in file - attempt 1'"
      ]
    },
    {
      "cell_type": "code",
      "execution_count": null,
      "id": "20be4142",
      "metadata": {},
      "outputs": [],
      "source": [
        "len(data)"
      ]
    },
    {
      "cell_type": "code",
      "execution_count": null,
      "id": "33714c81",
      "metadata": {},
      "outputs": [],
      "source": [
        "file.write(data)"
      ]
    },
    {
      "cell_type": "code",
      "execution_count": null,
      "id": "73147cd4",
      "metadata": {},
      "outputs": [],
      "source": [
        "file.close()"
      ]
    },
    {
      "cell_type": "code",
      "execution_count": null,
      "id": "583e2b7f",
      "metadata": {},
      "outputs": [],
      "source": [
        "!cat data/overwrite.txt"
      ]
    },
    {
      "cell_type": "code",
      "execution_count": null,
      "id": "5edda06d",
      "metadata": {},
      "outputs": [],
      "source": [
        "file = open('data/overwrite.txt', 'w')"
      ]
    },
    {
      "cell_type": "code",
      "execution_count": null,
      "id": "16efcd53",
      "metadata": {},
      "outputs": [],
      "source": [
        "data = 'Writing in file - attempt 2'"
      ]
    },
    {
      "cell_type": "code",
      "execution_count": null,
      "id": "b04d7e22",
      "metadata": {},
      "outputs": [],
      "source": [
        "file.write(data)"
      ]
    },
    {
      "cell_type": "code",
      "execution_count": null,
      "id": "a8339466",
      "metadata": {},
      "outputs": [],
      "source": [
        "file.close()"
      ]
    },
    {
      "cell_type": "code",
      "execution_count": null,
      "id": "16373836",
      "metadata": {},
      "outputs": [],
      "source": [
        "!cat data/overwrite.txt # Data is overwritten"
      ]
    },
    {
      "cell_type": "markdown",
      "id": "b1b97652",
      "metadata": {},
      "source": [
        "### Appending into existing file using a\n",
        "\n",
        "If the file does not exists, it will create otherwise it will append."
      ]
    },
    {
      "cell_type": "code",
      "execution_count": null,
      "id": "14a3f481",
      "metadata": {},
      "outputs": [],
      "source": [
        "!rm data/append.txt"
      ]
    },
    {
      "cell_type": "code",
      "execution_count": null,
      "id": "d9ff68a6",
      "metadata": {},
      "outputs": [],
      "source": [
        "file = open('data/append.txt', 'a')"
      ]
    },
    {
      "cell_type": "code",
      "execution_count": null,
      "id": "2d6f65a8",
      "metadata": {},
      "outputs": [],
      "source": [
        "data = 'Writing in file - attempt 1'"
      ]
    },
    {
      "cell_type": "code",
      "execution_count": null,
      "id": "1378208b",
      "metadata": {},
      "outputs": [],
      "source": [
        "file.write(data)"
      ]
    },
    {
      "cell_type": "code",
      "execution_count": null,
      "id": "113a6c18",
      "metadata": {},
      "outputs": [],
      "source": [
        "file.close()"
      ]
    },
    {
      "cell_type": "code",
      "execution_count": null,
      "id": "eeed2d20",
      "metadata": {},
      "outputs": [],
      "source": [
        "!cat data/append.txt"
      ]
    },
    {
      "cell_type": "code",
      "execution_count": null,
      "id": "2c90c85e",
      "metadata": {},
      "outputs": [],
      "source": [
        "file = open('data/append.txt', 'a')"
      ]
    },
    {
      "cell_type": "code",
      "execution_count": null,
      "id": "26873c2c",
      "metadata": {},
      "outputs": [],
      "source": [
        "data = 'Writing in file - attempt 2'"
      ]
    },
    {
      "cell_type": "code",
      "execution_count": null,
      "id": "e1b1dfda",
      "metadata": {},
      "outputs": [],
      "source": [
        "file.write(data)"
      ]
    },
    {
      "cell_type": "code",
      "execution_count": null,
      "id": "c36fe4d6",
      "metadata": {},
      "outputs": [],
      "source": [
        "file.close()"
      ]
    },
    {
      "cell_type": "code",
      "execution_count": null,
      "id": "038ff812",
      "metadata": {},
      "outputs": [],
      "source": [
        "!cat data/append.txt # Data is appended"
      ]
    },
    {
      "cell_type": "markdown",
      "id": "28ce2200",
      "metadata": {},
      "source": [
        "### Write into file using x\n",
        "\n",
        "If the file already exists, it will fail."
      ]
    },
    {
      "cell_type": "code",
      "execution_count": null,
      "id": "da8f6fe7",
      "metadata": {},
      "outputs": [],
      "source": [
        "!rm data/new_file.txt"
      ]
    },
    {
      "cell_type": "code",
      "execution_count": null,
      "id": "174b2839",
      "metadata": {},
      "outputs": [],
      "source": [
        "file = open('data/new_file.txt', 'x')"
      ]
    },
    {
      "cell_type": "code",
      "execution_count": null,
      "id": "f7e016e3",
      "metadata": {},
      "outputs": [],
      "source": [
        "data = 'Writing in file - attempt 1'"
      ]
    },
    {
      "cell_type": "code",
      "execution_count": null,
      "id": "62426843",
      "metadata": {},
      "outputs": [],
      "source": [
        "file.write(data)"
      ]
    },
    {
      "cell_type": "code",
      "execution_count": null,
      "id": "409378cb",
      "metadata": {},
      "outputs": [],
      "source": [
        "file.close()"
      ]
    },
    {
      "cell_type": "code",
      "execution_count": null,
      "id": "ca76d251",
      "metadata": {},
      "outputs": [],
      "source": [
        "!cat data/new_file.txt"
      ]
    },
    {
      "cell_type": "code",
      "execution_count": null,
      "id": "1585ebb9",
      "metadata": {},
      "outputs": [],
      "source": [
        "file = open('data/new_file.txt', 'x') # Fails, as the file already exists"
      ]
    }
  ],
  "metadata": {
    "kernelspec": {
      "display_name": "Python 3",
      "language": "python",
      "name": "python3"
    },
    "language_info": {
      "codemirror_mode": {
        "name": "ipython",
        "version": 3
      },
      "file_extension": ".py",
      "mimetype": "text/x-python",
      "name": "python",
      "nbconvert_exporter": "python",
      "pygments_lexer": "ipython3",
      "version": "3.6.12"
    }
  },
  "nbformat": 4,
  "nbformat_minor": 5
}