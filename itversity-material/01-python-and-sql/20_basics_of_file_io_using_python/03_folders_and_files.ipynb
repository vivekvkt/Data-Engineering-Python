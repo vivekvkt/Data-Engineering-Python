{
 "cells": [
  {
   "cell_type": "markdown",
   "id": "ae1c4df7",
   "metadata": {},
   "source": [
    "## Folders and Files\n",
    "\n",
    "Let us quickly recap details about folders and files, especially using Linux. You need to be comfortable with the following.\n",
    "* Differentiating Files and Folders. Keep in mind that Folders and Directories means the samething.\n",
    "* Understanding Absolute or Fully Qualified Path.\n",
    "* Understanding Relative Path.\n",
    "* Understanding File or Folder permissions."
   ]
  },
  {
   "cell_type": "code",
   "execution_count": null,
   "id": "629b96ff",
   "metadata": {},
   "outputs": [],
   "source": [
    "# Listing files in the present working directory\n",
    "!ls -ltr"
   ]
  },
  {
   "cell_type": "code",
   "execution_count": null,
   "id": "4e88a3b5",
   "metadata": {},
   "outputs": [],
   "source": [
    "# Listing files and folders under /data/retail_db\n",
    "!ls -ltr /data/retail_db"
   ]
  },
  {
   "cell_type": "markdown",
   "id": "fe10d003",
   "metadata": {},
   "source": [
    "### Absolute and Relative Paths\n",
    "\n",
    "Let us get into the details related to accessing the files either by using absolute as well as relative paths.\n",
    "* In Linux, absolute path typically starts with `/`. For example the absolute path of `retail_db` which we have used above is `/data/retail_db`.\n",
    "* Now I would like to perform this task to understand about **relative path**. You can access files using relative paths.\n",
    "  * Open Terminal\n",
    "  * Run `cd /data/retail_db`. You are using absolute path of `retail_db` here to change to that directory.\n",
    "  * Run `ls -ltr`. You should see the files and folders. The entries which start with `d` are folders or directories.\n",
    "  * Now run `cd orders`. You are using relative path of orders to get into the folder `/data/retail_db/orders`. As `orders` is the subfolder or subdirectory under `/data/retail_db`, you will be able to get into it with out any issues.\n",
    "  * We can also represent the directory which we are in using `.` and parent directory using `..`.\n",
    "  * If you look at the output of `ls -ltr` which was run earlier, you can see other folders as well along with `orders`. `order_items` is one of them.\n",
    "  * Now you are in `/data/retail_db/orders` and `/data/retail_db` also have `order_items`. You need to run `cd ../order_items` to get into the `order_items` folder using relative path.\n",
    "  * You can also use absolute path from any where any time. For example from any folder you can run `cd /data/retail_db/products` to get into products folder.\n",
    "* Here are the commands for your reference. You can run these using terminal.\n",
    "\n",
    "```shell\n",
    "cd /data/retail_db\n",
    "ls -ltr\n",
    "cd orders # using relative path from /data/retail_db to get into orders\n",
    "pwd\n",
    "cd ../order_items # using relative path from orders to get into order_items\n",
    "pwd\n",
    "cd /data/retail_db/products\n",
    "pwd\n",
    "cd # Switch to home directory\n",
    "pwd\n",
    "cd /data/retail_db/products # We can use absolute path from any location\n",
    "```\n",
    "\n",
    "```{note}\n",
    "You should be really comfortable with terms file, directory, absolute path and relative path by now.\n",
    "```"
   ]
  },
  {
   "cell_type": "code",
   "execution_count": null,
   "id": "5ff4e646",
   "metadata": {},
   "outputs": [],
   "source": [
    "!pwd"
   ]
  },
  {
   "cell_type": "code",
   "execution_count": null,
   "id": "b81fff84",
   "metadata": {},
   "outputs": [],
   "source": [
    "!ls -ltr"
   ]
  },
  {
   "cell_type": "code",
   "execution_count": null,
   "id": "822e536f",
   "metadata": {},
   "outputs": [],
   "source": [
    "# Listing files in the home directory. ~ represents home directory. It is a key on the keyboard.\n",
    "# You can find the ~ key on the left side of 1 in most of the keyboards.\n",
    "!ls -ltr ~"
   ]
  },
  {
   "cell_type": "markdown",
   "id": "7ca5e9f2",
   "metadata": {},
   "source": [
    "* The lines which start with `d` represents folders or directories.\n",
    "* The lines which start with `-` represents files.\n",
    "\n",
    "Let us go through the one sample in detail and understand what they actually mean.\n",
    "```shell\n",
    "drwxr-xr-x  5 itversity itversity  4096 Jul 13 07:21 itversity-material\n",
    "```\n",
    "* `drwxr-xr-x` - Permissions of the file or folder. \n",
    "* `5` - ignore for now\n",
    "* First `itversity` - Owner\n",
    "* Second `itversity` - Group\n",
    "* `4096` - Size of file or folder\n",
    "* `Jul 13 07:21` - Last modified time\n",
    "* `itversity-material` - File name or folder name\n",
    "* `rwx` after `d` tells that `itversity` who is owner over this file or folder have `read`, `write` and `execute` permissions.\n",
    "* I am currently logged in as `itversity` and hence I will be able to perform `read`, `write` and `execute` operations on the directory `itversity-material`."
   ]
  }
 ],
 "metadata": {
  "kernelspec": {
   "display_name": "Python 3 (ipykernel)",
   "language": "python",
   "name": "python3"
  },
  "language_info": {
   "codemirror_mode": {
    "name": "ipython",
    "version": 3
   },
   "file_extension": ".py",
   "mimetype": "text/x-python",
   "name": "python",
   "nbconvert_exporter": "python",
   "pygments_lexer": "ipython3",
   "version": "3.7.12"
  }
 },
 "nbformat": 4,
 "nbformat_minor": 5
}
