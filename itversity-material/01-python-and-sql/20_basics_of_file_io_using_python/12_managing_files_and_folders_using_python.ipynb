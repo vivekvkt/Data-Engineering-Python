{
 "cells": [
  {
   "cell_type": "markdown",
   "id": "2cbdc1be",
   "metadata": {},
   "source": [
    "## Managing Folders and Files using Python\n",
    "\n",
    "Let us quickly recap details about folders and files, especially using Linux. You need to be comfortable with the following.\n",
    "* Differentiating Files and Folders. Keep in mind that Folders and Directories means the samething.\n",
    "* Understanding Absolute or Fully Qualified Path.\n",
    "* Understanding Relative Path.\n",
    "* Understanding File or Folder permissions.\n",
    "\n",
    "We will first see how we can leverage subprocess to run Linux commands to manage files and then we will go through the above topics."
   ]
  },
  {
   "cell_type": "markdown",
   "id": "3b65a0a8",
   "metadata": {},
   "source": [
    "We will be running the following commands using Python `subprocess` module. That way, you will also pick up the relevance of `subprocess` as well.\n",
    "\n",
    "```shell\n",
    "# Listing files and folders under /data/retail_db\n",
    "ls -ltr /data/retail_db\n",
    "\n",
    "# Listing files in the present working directory\n",
    "ls -ltr\n",
    "\n",
    "# Listing files in the home directory. ~ represents home directory.\n",
    "# You can find the ~ key on the left side of 1 in most of the keyboards.\n",
    "ls -ltr ~\n",
    "```"
   ]
  },
  {
   "cell_type": "code",
   "execution_count": null,
   "id": "ace810a6",
   "metadata": {},
   "outputs": [],
   "source": [
    "import subprocess"
   ]
  },
  {
   "cell_type": "code",
   "execution_count": null,
   "id": "87c33c72",
   "metadata": {},
   "outputs": [],
   "source": [
    "# Output is not reader friendly.\n",
    "# Output is of type bytes\n",
    "subprocess.check_output('ls -ltr /data/retail_db', shell=True)"
   ]
  },
  {
   "cell_type": "code",
   "execution_count": null,
   "id": "0623468a",
   "metadata": {},
   "outputs": [],
   "source": [
    "# We can decode to string and apply string functions\n",
    "# Now the output is of type string\n",
    "subprocess.check_output('ls -ltr /data/retail_db', shell=True).decode('utf-8')"
   ]
  },
  {
   "cell_type": "code",
   "execution_count": null,
   "id": "2918f955",
   "metadata": {},
   "outputs": [],
   "source": [
    "# We can use splitlines to convert this big string into list of strings.\n",
    "# splitlines will use new line character as the delimiter.\n",
    "subprocess.check_output('ls -ltr /data/retail_db', shell=True).decode('utf-8').splitlines()"
   ]
  },
  {
   "cell_type": "code",
   "execution_count": null,
   "id": "697d92d1",
   "metadata": {},
   "outputs": [],
   "source": [
    "# We can iterate through the list and print one item at a time.\n",
    "# Now the output will be reader friendly\n",
    "output = subprocess.check_output('ls -ltr /data/retail_db', shell=True).decode('utf-8').splitlines()\n",
    "for line in output: print(line)"
   ]
  },
  {
   "cell_type": "code",
   "execution_count": null,
   "id": "65b48778-e961-412e-9bb7-d789859fc41a",
   "metadata": {},
   "outputs": [],
   "source": [
    "subprocess.check_output('ls -ltr', shell=True).decode('utf-8').splitlines()"
   ]
  },
  {
   "cell_type": "code",
   "execution_count": null,
   "id": "c57527f5-ce57-44aa-9481-d2ec02103411",
   "metadata": {},
   "outputs": [],
   "source": [
    "!pwd"
   ]
  },
  {
   "cell_type": "code",
   "execution_count": null,
   "id": "cc258377-ff4d-43dc-8aee-533cb6190a56",
   "metadata": {},
   "outputs": [],
   "source": [
    "subprocess.check_output('ls -l', shell=True).decode('utf-8').splitlines()"
   ]
  },
  {
   "cell_type": "code",
   "execution_count": null,
   "id": "ab0a247c-d19c-49b4-a243-402e8f103965",
   "metadata": {},
   "outputs": [],
   "source": [
    "subprocess.check_output('ls -ltr ~', shell=True).decode('utf-8').splitlines()"
   ]
  },
  {
   "cell_type": "code",
   "execution_count": null,
   "id": "7faefc9f-3765-464e-a2e1-61c000a055f7",
   "metadata": {},
   "outputs": [],
   "source": [
    "subprocess.check_output('ls -ltr data', shell=True).decode('utf-8').splitlines()"
   ]
  },
  {
   "cell_type": "code",
   "execution_count": null,
   "id": "996870b4-6c0b-4f38-9f18-1b3fbc2cae80",
   "metadata": {},
   "outputs": [],
   "source": []
  }
 ],
 "metadata": {
  "kernelspec": {
   "display_name": "Python 3 (ipykernel)",
   "language": "python",
   "name": "python3"
  },
  "language_info": {
   "codemirror_mode": {
    "name": "ipython",
    "version": 3
   },
   "file_extension": ".py",
   "mimetype": "text/x-python",
   "name": "python",
   "nbconvert_exporter": "python",
   "pygments_lexer": "ipython3",
   "version": "3.8.12"
  }
 },
 "nbformat": 4,
 "nbformat_minor": 5
}
