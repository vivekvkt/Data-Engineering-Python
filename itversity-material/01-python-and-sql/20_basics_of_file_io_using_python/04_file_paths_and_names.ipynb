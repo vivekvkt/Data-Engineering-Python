{
  "cells": [
    {
      "cell_type": "markdown",
      "id": "76a3ed40",
      "metadata": {},
      "source": [
        "## File Paths and Names\n",
        "\n",
        "Let us quickly review about file paths and names. Typically, we will have folder and file name associated while processing a file.\n",
        "* A file might be part of a directory structure with multiple levels.\n",
        "* All the directories in the path are typically separated by `/`.\n",
        "* The last part of path is typically the name of a file or the name of a folder which contain multiple files.\n",
        "* For first class Python functions, we typically pass a file and hence last part will be the name of the file. We pass these names as strings."
      ]
    },
    {
      "cell_type": "code",
      "execution_count": null,
      "id": "93fb55f7",
      "metadata": {},
      "outputs": [],
      "source": [
        "!ls -ltr /data/retail_db # Folder which contain multiple folders and files"
      ]
    },
    {
      "cell_type": "code",
      "execution_count": null,
      "id": "4a57bd52",
      "metadata": {},
      "outputs": [],
      "source": [
        "!ls -ltr /data/retail_db/orders\n",
        "# The folder contains files related to orders data set\n",
        "# As of now we have only one file"
      ]
    },
    {
      "cell_type": "code",
      "execution_count": null,
      "id": "965a5d23",
      "metadata": {},
      "outputs": [],
      "source": [
        "!ls -ltr /data/retail_db/orders/part-00000\n",
        "# You can see that the directories in the hierarchy are separated by /\n",
        "# The last part is a file"
      ]
    },
    {
      "cell_type": "code",
      "execution_count": null,
      "id": "9b3d2cbf",
      "metadata": {},
      "outputs": [],
      "source": [
        "# You can use head command to confirm it is a text file\n",
        "!head -5 /data/retail_db/orders/part-00000"
      ]
    },
    {
      "cell_type": "markdown",
      "id": "b37ef60f",
      "metadata": {},
      "source": [
        "```{note}\n",
        "We can pass `/data/retail_db/orders/part-00000` as string to first class Python functions to perform File I/O.\n",
        "```"
      ]
    }
  ],
  "metadata": {
    "kernelspec": {
      "display_name": "Python 3",
      "language": "python",
      "name": "python3"
    },
    "language_info": {
      "codemirror_mode": {
        "name": "ipython",
        "version": 3
      },
      "file_extension": ".py",
      "mimetype": "text/x-python",
      "name": "python",
      "nbconvert_exporter": "python",
      "pygments_lexer": "ipython3",
      "version": "3.6.12"
    }
  },
  "nbformat": 4,
  "nbformat_minor": 5
}