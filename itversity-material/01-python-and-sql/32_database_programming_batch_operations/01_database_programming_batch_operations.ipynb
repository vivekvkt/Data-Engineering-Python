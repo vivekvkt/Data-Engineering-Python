{
 "cells": [
  {
   "cell_type": "markdown",
   "metadata": {
    "pycharm": {
     "name": "#%% md"
    }
   },
   "source": [
    "# Database Programming – Batch Operations\n",
    "\n",
    "As part of this section, we will talk about how we can perform batch operations against database tables using Python.\n",
    "\n",
    "* Recap of Insert\n",
    "* Preparing Database\n",
    "* Reading Data from File\n",
    "* Processing Data using Pandas\n",
    "* Writing Data to Table\n",
    "* Batch Loading of Data\n",
    "* Best Practices - Batch Loading\n",
    "* Read Process Write Pattern"
   ]
  }
 ],
 "metadata": {
  "kernelspec": {
   "display_name": "Python 3 (ipykernel)",
   "language": "python",
   "name": "python3"
  },
  "language_info": {
   "codemirror_mode": {
    "name": "ipython",
    "version": 3
   },
   "file_extension": ".py",
   "mimetype": "text/x-python",
   "name": "python",
   "nbconvert_exporter": "python",
   "pygments_lexer": "ipython3",
   "version": "3.8.12"
  }
 },
 "nbformat": 4,
 "nbformat_minor": 4
}
