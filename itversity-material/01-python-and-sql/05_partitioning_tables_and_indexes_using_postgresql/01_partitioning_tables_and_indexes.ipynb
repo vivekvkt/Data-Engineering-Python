{
 "cells": [
  {
   "cell_type": "markdown",
   "metadata": {},
   "source": [
    "# Partitioning Tables and Indexes\n",
    "\n",
    "As part of this section we will primarily talk about partitioning tables as well as indexes.\n",
    "\n",
    "* Overview of Partitioning\n",
    "* List Partitioning\n",
    "* Managing Partitions - List\n",
    "* Manipulating Data\n",
    "* Range Partitioning\n",
    "* Managing Partitions - Range\n",
    "* Repartitioning - Range\n",
    "* Hash Partitioning\n",
    "* Managing Partitions - Hash\n",
    "* Usage Scenarios\n",
    "* Sub Partitioning\n",
    "* Exercise - Partitioning Tables\n",
    "\n",
    "Here are the key objectives of this section.\n",
    "* Different partitioning strategies\n",
    "* How to create and manage partitioned tables?\n",
    "* How to manipulate data by inserting, updating and deleting data from managed tables?\n",
    "* How to repartition the tables if partitioning strategy is changed (example: from yearly to monthly)?\n",
    "* Learn about sub partitioning or nested partitioning or multi level partitioning with examples.\n",
    "* Self evaluate whether one understood key skills related to partitioned tables or not using exercises."
   ]
  },
  {
   "cell_type": "code",
   "execution_count": null,
   "metadata": {},
   "outputs": [],
   "source": []
  }
 ],
 "metadata": {
  "kernelspec": {
   "display_name": "Python 3",
   "language": "python",
   "name": "python3"
  },
  "language_info": {
   "codemirror_mode": {
    "name": "ipython",
    "version": 3
   },
   "file_extension": ".py",
   "mimetype": "text/x-python",
   "name": "python",
   "nbconvert_exporter": "python",
   "pygments_lexer": "ipython3",
   "version": "3.6.12"
  }
 },
 "nbformat": 4,
 "nbformat_minor": 4
}
