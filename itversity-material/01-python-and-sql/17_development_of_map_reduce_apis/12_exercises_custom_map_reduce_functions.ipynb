{
 "cells": [
  {
   "cell_type": "markdown",
   "metadata": {},
   "source": [
    "## Exercises - Custom Map Reduce Functions\n",
    "Here are the same exercises which you have solved before. Try to solve these using mapReduce APIs.\n",
    "* We will provide you a python script as part of next cell which will have all the map reduce APIs developed earlier. Run it to expose all the map reduce functions developed."
   ]
  },
  {
   "cell_type": "code",
   "execution_count": null,
   "metadata": {},
   "outputs": [],
   "source": [
    "def myFilter(c, f):\n",
    "    c_f = []\n",
    "    for e in c:\n",
    "        if(f(e)):\n",
    "            c_f.append(e)\n",
    "    return c_f\n",
    "\n",
    "def myMap(c, f):\n",
    "    c_f = []\n",
    "    for e in c:\n",
    "        c_f.append(f(e))\n",
    "    return c_f\n",
    "\n",
    "def myReduce(c, f):\n",
    "    t = c[0]\n",
    "    for e in c[1:]:\n",
    "        t = f(t, e)\n",
    "    return t\n",
    "\n",
    "def myReduceByKey(p, f):\n",
    "    p_f = {}\n",
    "    for e in p:\n",
    "        if(e[0] in p_f):\n",
    "            p_f[e[0]] = f(p_f[e[0]], e[1])\n",
    "        else:\n",
    "            p_f[e[0]] = e[1]\n",
    "    return list(p_f.items())\n",
    "\n",
    "def myJoin(c1, c2):\n",
    "    c1_dict = dict(c1) # dict with first element as key and second element as value\n",
    "    results = [] # Initializing empty list\n",
    "    for c2_item in c2: \n",
    "        if c2_item[0] in c1_dict:\n",
    "            results.append((c2_item[0], (c1_dict[c2_item[0]], c2_item[1])))\n",
    "    return results"
   ]
  },
  {
   "cell_type": "markdown",
   "metadata": {},
   "source": [
    "* Get number of COMPLETE orders placed by each customer\n",
    "* Get total number of PENDING or PENDING_PAYMENT orders for the month of 2014 January.\n",
    "* Get outstanding amount for each month considering orders with status PAYMENT_REVIEW, PENDING, PENDING_PAYMENT and PROCESSING."
   ]
  },
  {
   "cell_type": "markdown",
   "metadata": {},
   "source": [
    "### Details of Data\n",
    "\n",
    "Here are the details about the orders data which you can leverage to take care of these exercises.\n",
    "* Location: `/data/retail_db/orders/part-00000`\n",
    "* Each record is line separated or line delimited.\n",
    "* Attribute in each record is comma separated.\n",
    "* Here are the columns in the orders data set.\n",
    "  * order_id\n",
    "  * order_date\n",
    "  * order_customer_id\n",
    "  * order_status"
   ]
  },
  {
   "cell_type": "code",
   "execution_count": 3,
   "metadata": {},
   "outputs": [
    {
     "name": "stdout",
     "output_type": "stream",
     "text": [
      "-rwxrwxrwx 1 root root 3068827 Nov 10 01:02 /data/retail_db/orders/part-00000\n"
     ]
    }
   ],
   "source": [
    "# Get the details about file\n",
    "!ls -ltr /data/retail_db/orders/part-00000"
   ]
  },
  {
   "cell_type": "code",
   "execution_count": 4,
   "metadata": {},
   "outputs": [
    {
     "name": "stdout",
     "output_type": "stream",
     "text": [
      "1,2013-07-25 00:00:00.0,11599,CLOSED\n",
      "2,2013-07-25 00:00:00.0,256,PENDING_PAYMENT\n",
      "3,2013-07-25 00:00:00.0,12111,COMPLETE\n",
      "4,2013-07-25 00:00:00.0,8827,CLOSED\n",
      "5,2013-07-25 00:00:00.0,11318,COMPLETE\n"
     ]
    }
   ],
   "source": [
    "# Get first five lines from the file\n",
    "!head -5 /data/retail_db/orders/part-00000"
   ]
  },
  {
   "cell_type": "code",
   "execution_count": 5,
   "metadata": {},
   "outputs": [
    {
     "name": "stdout",
     "output_type": "stream",
     "text": [
      "68883 /data/retail_db/orders/part-00000\n"
     ]
    }
   ],
   "source": [
    "# Get number of lines from the file\n",
    "# We can use linux command wc with -l\n",
    "!wc -l /data/retail_db/orders/part-00000"
   ]
  },
  {
   "cell_type": "markdown",
   "metadata": {},
   "source": [
    "Here are the details about the order_items data which you can leverage to take care of these exercises.\n",
    "* Location: `/data/retail_db/order_items/part-00000`\n",
    "* Each record is line separated or line delimited.\n",
    "* Attribute in each record is comma separated.\n",
    "* Here are the columns in the order_items data set.\n",
    "  * order_item_id\n",
    "  * order_item_order_id\n",
    "  * order_item_product_id\n",
    "  * order_item_quantity\n",
    "  * order_item_subtotal\n",
    "  * order_item_product_price"
   ]
  },
  {
   "cell_type": "code",
   "execution_count": 6,
   "metadata": {},
   "outputs": [
    {
     "name": "stdout",
     "output_type": "stream",
     "text": [
      "-rwxrwxrwx 1 root root 5581078 Nov 10 01:02 /data/retail_db/order_items/part-00000\n"
     ]
    }
   ],
   "source": [
    "# Get the details about file\n",
    "!ls -ltr /data/retail_db/order_items/part-00000"
   ]
  },
  {
   "cell_type": "code",
   "execution_count": 7,
   "metadata": {},
   "outputs": [
    {
     "name": "stdout",
     "output_type": "stream",
     "text": [
      "1,1,957,1,299.98,299.98\n",
      "2,2,1073,1,199.99,199.99\n",
      "3,2,502,5,250.0,50.0\n",
      "4,2,403,1,129.99,129.99\n",
      "5,4,897,2,49.98,24.99\n"
     ]
    }
   ],
   "source": [
    "# Get first five lines from the file\n",
    "!head -5 /data/retail_db/order_items/part-00000"
   ]
  },
  {
   "cell_type": "code",
   "execution_count": 8,
   "metadata": {},
   "outputs": [
    {
     "name": "stdout",
     "output_type": "stream",
     "text": [
      "172198 /data/retail_db/order_items/part-00000\n"
     ]
    }
   ],
   "source": [
    "# Get number of lines from the file\n",
    "# We can use linux command wc with -l\n",
    "!wc -l /data/retail_db/order_items/part-00000"
   ]
  },
  {
   "cell_type": "markdown",
   "metadata": {},
   "source": [
    "### Exercise 1 - Read data from file\n",
    "Before getting into problem statement, develop the code to read the file into list of elements.\n",
    "* We should be able to use this function to read any file with text data using line as record delimiter."
   ]
  },
  {
   "cell_type": "code",
   "execution_count": null,
   "metadata": {},
   "outputs": [],
   "source": [
    "# Update the logic here\n",
    "def get_list_from_file(file_path):\n",
    "    return data_list"
   ]
  },
  {
   "cell_type": "markdown",
   "metadata": {},
   "source": [
    "* Run below cells to validate the function\n",
    "* You should see 68883 records as part of the output for the cell with `len(orders)` below.\n",
    "* You should see 172198 records as part of the output for the cell with `len(order_items)` below."
   ]
  },
  {
   "cell_type": "code",
   "execution_count": null,
   "metadata": {},
   "outputs": [],
   "source": [
    "orders = get_list_from_file('/data/retail_db/orders/part-00000')"
   ]
  },
  {
   "cell_type": "code",
   "execution_count": null,
   "metadata": {},
   "outputs": [],
   "source": [
    "orders[:5]"
   ]
  },
  {
   "cell_type": "code",
   "execution_count": null,
   "metadata": {},
   "outputs": [],
   "source": [
    "len(orders)"
   ]
  },
  {
   "cell_type": "code",
   "execution_count": null,
   "metadata": {},
   "outputs": [],
   "source": [
    "order_items = get_list_from_file('/data/retail_db/order_items/part-00000')"
   ]
  },
  {
   "cell_type": "code",
   "execution_count": null,
   "metadata": {},
   "outputs": [],
   "source": [
    "order_items[:5]"
   ]
  },
  {
   "cell_type": "code",
   "execution_count": null,
   "metadata": {
    "tags": []
   },
   "outputs": [],
   "source": [
    "len(order_items)"
   ]
  },
  {
   "cell_type": "markdown",
   "metadata": {},
   "source": [
    "### Exercise 2 - Complete Order Count by Customer\n",
    "\n",
    "Get number of COMPLETE orders placed by each customer. Develop a function which read the orders data and get us count of orders with completed status by each customer using **order_customer_id**.\n",
    "* The function should take the complete order list as argument and return count of complete orders by customer. The function should return **dict** type object.\n",
    "* The order is said to be complete if the **order_status** is **COMPLETE**.\n",
    "* You can review structure of the data under **Details of Data** section in this notebook.\n",
    "* Use the relevant functions created as part of this notebook. We have created these functions in this notebook.\n",
    "  * `myFilter`\n",
    "  * `myMap`\n",
    "  * `myReduce`\n",
    "  * `myReduceByKey`\n",
    "  * `myJoin`"
   ]
  },
  {
   "cell_type": "code",
   "execution_count": null,
   "metadata": {},
   "outputs": [],
   "source": [
    "# Update the logic here\n",
    "# You need to use myFilter and myReduce for this\n",
    "def get_complete_order_count_by_customer(orders):\n",
    "    return order_count_by_customer"
   ]
  },
  {
   "cell_type": "markdown",
   "metadata": {},
   "source": [
    "* Run below cell to validate the function. You should get **22899** as output."
   ]
  },
  {
   "cell_type": "code",
   "execution_count": null,
   "metadata": {},
   "outputs": [],
   "source": [
    "orders = get_list_from_file('/data/retail_db/orders/part-00000')"
   ]
  },
  {
   "cell_type": "code",
   "execution_count": null,
   "metadata": {},
   "outputs": [],
   "source": [
    "complete_order_count_by_customer = get_complete_order_count_by_customer(orders)"
   ]
  },
  {
   "cell_type": "code",
   "execution_count": null,
   "metadata": {},
   "outputs": [],
   "source": [
    "# This should return dict\n",
    "type(complete_order_count_by_customer)"
   ]
  },
  {
   "cell_type": "code",
   "execution_count": null,
   "metadata": {},
   "outputs": [],
   "source": [
    "# This should return 10538\n",
    "len(complete_order_count_by_customer)"
   ]
  },
  {
   "cell_type": "markdown",
   "metadata": {},
   "source": [
    "* Run below cell to preview the data."
   ]
  },
  {
   "cell_type": "code",
   "execution_count": null,
   "metadata": {},
   "outputs": [],
   "source": [
    "for e in sorted(complete_order_count_by_customer.items())[:5]:\n",
    "    print(e)"
   ]
  },
  {
   "cell_type": "markdown",
   "metadata": {},
   "source": [
    "### Exercise 3 - Pending Order Count\n",
    "\n",
    "Get total number of PENDING or PENDING_PAYMENT orders for the month of 2014 January. Develop a function which read the orders data and get us pending order count.\n",
    "* The function should take the complete order list as argument and return count of pending orders.\n",
    "* The order is said to be complete if the status is **PENDING** or **PENDING_PAYMENT**. We should only consider the orders placed in the month of 2014 January.\n",
    "* The second element in each comma separated record gives us the date\n",
    "* The 4th or last element in each comma separated record gives us the order status.\n",
    "* Use the relevant functions created as part of this notebook. We have created these functions in this notebook.\n",
    "  * `myFilter`\n",
    "  * `myMap`\n",
    "  * `myReduce`\n",
    "  * `myReduceByKey`\n",
    "  * `myJoin`"
   ]
  },
  {
   "cell_type": "code",
   "execution_count": null,
   "metadata": {},
   "outputs": [],
   "source": [
    "# Update the logic here\n",
    "# You need to use myFilter and myReduce for this\n",
    "def get_pending_order_count(orders):\n",
    "    return order_count"
   ]
  },
  {
   "cell_type": "markdown",
   "metadata": {},
   "source": [
    "* Run below cell to validate your function. You should get **1969** as output."
   ]
  },
  {
   "cell_type": "code",
   "execution_count": null,
   "metadata": {},
   "outputs": [],
   "source": [
    "get_pending_order_count(orders)"
   ]
  },
  {
   "cell_type": "markdown",
   "metadata": {},
   "source": [
    "* You can also validate results using simple linux scripts."
   ]
  },
  {
   "cell_type": "code",
   "execution_count": null,
   "metadata": {},
   "outputs": [],
   "source": [
    "!egrep -w '(PENDING|PENDING_PAYMENT)' /data/retail_db/orders/part-00000|grep 2014-01|wc -l"
   ]
  },
  {
   "cell_type": "markdown",
   "metadata": {},
   "source": [
    "### Exercise 4 - Get Outstanding Revenue\n",
    "\n",
    "Get outstanding amount for each month considering orders with status PAYMENT_REVIEW, PENDING, PENDING_PAYMENT and PROCESSING. Modularize by developing multiple functions.\n",
    "* Develop a function which takes orders list as argument and return a collection of order ids with one of the pending statuses.\n",
    "* Develop a function which takes **order_items list** as well as **orders dict with only status** as arguments and return outstanding amount. \n",
    "* You can use **order_item_subtotal** to compute the outstanding amount.\n",
    "* Here are the instructions for the solution.\n",
    "  * Create a list of tuples by name `pending_orders` for pending orders using `myFilter`. Each tuple in the list should contain order_id and hard coded value 1.\n",
    "  * Create a list of tuples by name `order_item` for order_items in which each tuple contain `order_id` and `order_item_subtotal`.\n",
    "  * Create a new list by name `order_item_subtotals` by invoking `myJoin` using `pending_orders` and `order_items`. \n",
    "  * `order_item_subtotals` is of type `list` of tuples where first element in each tuple is order_id and second element is a nested tuple which contain elements related to `pending_orders` and `order_items`.\n",
    "  * We can then use `myMap` function to get order_item_subtotal and then use `sum` to get the outstanding revenue.\n",
    "  * Make sure to use `round` to round off to 2 decimals.\n",
    "* Review **Details of Data** section to get more details of columns.\n",
    "* Use the relevant functions created as part of this notebook. We have created these functions in this notebook.\n",
    "  * `myFilter`\n",
    "  * `myMap`\n",
    "  * `myReduce`\n",
    "  * `myReduceByKey`\n",
    "  * `myJoin`"
   ]
  },
  {
   "cell_type": "code",
   "execution_count": null,
   "metadata": {},
   "outputs": [],
   "source": []
  }
 ],
 "metadata": {
  "kernelspec": {
   "display_name": "Python 3 (ipykernel)",
   "language": "python",
   "name": "python3"
  },
  "language_info": {
   "codemirror_mode": {
    "name": "ipython",
    "version": 3
   },
   "file_extension": ".py",
   "mimetype": "text/x-python",
   "name": "python",
   "nbconvert_exporter": "python",
   "pygments_lexer": "ipython3",
   "version": "3.8.12"
  }
 },
 "nbformat": 4,
 "nbformat_minor": 4
}
