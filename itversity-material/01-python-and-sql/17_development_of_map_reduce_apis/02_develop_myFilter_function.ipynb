{
 "cells": [
  {
   "cell_type": "markdown",
   "metadata": {},
   "source": [
    "## Develop myFilter Function\n",
    "\n",
    "Develop a function by name myFilter which takes a collection and a function as arguments. Function should do the following:\n",
    "* Iterate through elements\n",
    "* Apply the condition using the argument passed. We might pass named function or lambda function.\n",
    "* Return the collection with all the elements satisfying the condition.\n",
    "\n",
    "```{note}\n",
    "This is how the original function look like.\n",
    "```"
   ]
  },
  {
   "cell_type": "code",
   "execution_count": null,
   "metadata": {},
   "outputs": [],
   "source": [
    "def get_customer_orders(orders, customer_id):\n",
    "    orders_filtered = []\n",
    "    for order in orders:\n",
    "        if int(order.split(',')[2]) == customer_id:\n",
    "            orders_filtered.append(order)\n",
    "    return orders_filtered"
   ]
  },
  {
   "cell_type": "code",
   "execution_count": null,
   "metadata": {},
   "outputs": [],
   "source": [
    "orders_file = open('/data/retail_db/orders/part-00000')"
   ]
  },
  {
   "cell_type": "code",
   "execution_count": null,
   "metadata": {},
   "outputs": [],
   "source": [
    "orders = orders_file.read().splitlines()"
   ]
  },
  {
   "cell_type": "code",
   "execution_count": null,
   "metadata": {},
   "outputs": [],
   "source": [
    "orders[:10]"
   ]
  },
  {
   "cell_type": "code",
   "execution_count": null,
   "metadata": {},
   "outputs": [],
   "source": [
    "get_customer_orders(orders, 11599)"
   ]
  },
  {
   "cell_type": "markdown",
   "metadata": {},
   "source": [
    "```{note}\n",
    "This is the example of implementation of generic libraries such as `filter`, `map`, `reduce` etc.\n",
    "```"
   ]
  },
  {
   "cell_type": "code",
   "execution_count": null,
   "metadata": {},
   "outputs": [],
   "source": [
    "def myFilter(c, f):\n",
    "    c_f = []\n",
    "    for e in c:\n",
    "        if f(e):\n",
    "            c_f.append(e)\n",
    "    return c_f"
   ]
  },
  {
   "cell_type": "code",
   "execution_count": null,
   "metadata": {},
   "outputs": [],
   "source": []
  }
 ],
 "metadata": {
  "kernelspec": {
   "display_name": "Python 3 (ipykernel)",
   "language": "python",
   "name": "python3"
  },
  "language_info": {
   "codemirror_mode": {
    "name": "ipython",
    "version": 3
   },
   "file_extension": ".py",
   "mimetype": "text/x-python",
   "name": "python",
   "nbconvert_exporter": "python",
   "pygments_lexer": "ipython3",
   "version": "3.8.12"
  }
 },
 "nbformat": 4,
 "nbformat_minor": 4
}
