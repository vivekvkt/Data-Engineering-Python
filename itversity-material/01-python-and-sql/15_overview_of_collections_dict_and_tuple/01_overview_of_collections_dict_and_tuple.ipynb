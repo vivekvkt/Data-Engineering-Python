{
  "cells": [
    {
      "cell_type": "markdown",
      "metadata": {
        "pycharm": {
          "name": "#%% md"
        }
      },
      "source": [
        "# Overview of Collections - dict and tuple\n",
        "Let us get an overview of dict and tuple as part of the Python Collections.\n",
        "\n",
        "* Overview of dict and tuple\n",
        "* Common Operations\n",
        "* Accessing Elements - tuples\n",
        "* Accessing Elements - dict\n",
        "* Manipulating dict\n",
        "* Common Examples - dict\n",
        "* List of tuples\n",
        "* List of dicts"
      ]
    }
  ],
  "metadata": {
    "kernelspec": {
      "display_name": "Python 3",
      "language": "python",
      "name": "python3"
    },
    "language_info": {
      "codemirror_mode": {
        "name": "ipython",
        "version": 3
      },
      "file_extension": ".py",
      "mimetype": "text/x-python",
      "name": "python",
      "nbconvert_exporter": "python",
      "pygments_lexer": "ipython3",
      "version": "3.6.12"
    }
  },
  "nbformat": 4,
  "nbformat_minor": 4
}