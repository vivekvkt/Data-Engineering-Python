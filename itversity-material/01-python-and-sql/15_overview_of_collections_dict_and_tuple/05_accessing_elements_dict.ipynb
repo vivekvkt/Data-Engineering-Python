{
  "cells": [
    {
      "cell_type": "markdown",
      "metadata": {},
      "source": [
        "## Accessing Elements - dict\n",
        "\n",
        "Let us see how we can access elements from the `dict` using Python as programming language.",
        "* We can access a value of a particular element in `dict` by passing key `d[key]`. If the key does not exists, it will throw **KeyError**.\n",
        "* `get` also can be used to access a value of particular element in `dict` by passing key as argument. However, if key does not exists, it will return None.\n",
        "* We can also pass a default value to `get`.\n",
        "* We can get all the keys in the form of set like object by using `keys` and all the values in the form of list like object by using `values`.\n",
        "* We can also use `items` to convert a `dict` into a set like object with pairs. Each element (which is a pair) in the set like object will be a tuple.\n",
        "* Let us see few examples."
      ]
    },
    {
      "cell_type": "markdown",
      "metadata": {},
      "source": [
        "* Creating a dict object"
      ]
    },
    {
      "cell_type": "code",
      "execution_count": null,
      "metadata": {},
      "outputs": [],
      "source": [
        "d = {'id': 1, 'first_name': 'Scott', 'last_name': 'Tiger', 'amount': 1000.0}"
      ]
    },
    {
      "cell_type": "markdown",
      "metadata": {},
      "source": [
        "* Accessing one of the element with key **id** from `dict`."
      ]
    },
    {
      "cell_type": "code",
      "execution_count": null,
      "metadata": {},
      "outputs": [],
      "source": [
        "d['id']"
      ]
    },
    {
      "cell_type": "markdown",
      "metadata": {},
      "source": [
        "* Accessing another element with key **first_name** from `dict`."
      ]
    },
    {
      "cell_type": "code",
      "execution_count": null,
      "metadata": {},
      "outputs": [],
      "source": [
        "d['first_name']"
      ]
    },
    {
      "cell_type": "code",
      "execution_count": null,
      "metadata": {},
      "outputs": [],
      "source": [
        "d['commission_pct'] # throws key error"
      ]
    },
    {
      "cell_type": "markdown",
      "metadata": {},
      "source": [
        "* We can also use `get` to get the value by passing the key as argument to it."
      ]
    },
    {
      "cell_type": "code",
      "execution_count": null,
      "metadata": {},
      "outputs": [],
      "source": [
        "d.get?"
      ]
    },
    {
      "cell_type": "code",
      "execution_count": null,
      "metadata": {},
      "outputs": [],
      "source": [
        "d.get('first_name')"
      ]
    },
    {
      "cell_type": "markdown",
      "metadata": {},
      "source": [
        "* If the key does not exists it will return `None` (unlike `d['commission_pct']` which threw **key error**."
      ]
    },
    {
      "cell_type": "code",
      "execution_count": null,
      "metadata": {},
      "outputs": [],
      "source": [
        "d.get('commission_pct') # Returns None"
      ]
    },
    {
      "cell_type": "markdown",
      "metadata": {},
      "source": [
        "* You can pass default value as second argument to `get`. If the key exists it will return the value from `dict`, if not it will return the default value which is passed as second argument."
      ]
    },
    {
      "cell_type": "code",
      "execution_count": null,
      "metadata": {},
      "outputs": [],
      "source": [
        "d.get('first_name', 'Some First Name')"
      ]
    },
    {
      "cell_type": "code",
      "execution_count": null,
      "metadata": {},
      "outputs": [],
      "source": [
        "d.get('commission_pct', 0) "
      ]
    },
    {
      "cell_type": "code",
      "execution_count": null,
      "metadata": {},
      "outputs": [],
      "source": [
        "d.keys?"
      ]
    },
    {
      "cell_type": "code",
      "execution_count": null,
      "metadata": {},
      "outputs": [],
      "source": [
        "d.keys() # returns all the keys in set like object (as keys are unique)"
      ]
    },
    {
      "cell_type": "code",
      "execution_count": null,
      "metadata": {},
      "outputs": [],
      "source": [
        "d.values?"
      ]
    },
    {
      "cell_type": "code",
      "execution_count": null,
      "metadata": {},
      "outputs": [],
      "source": [
        "d.values() # returns all the values in list like object."
      ]
    },
    {
      "cell_type": "code",
      "execution_count": null,
      "metadata": {},
      "outputs": [],
      "source": [
        "d.items?"
      ]
    },
    {
      "cell_type": "code",
      "execution_count": null,
      "metadata": {},
      "outputs": [],
      "source": [
        "d.items() \n",
        "# returns all the items in set like object. \n",
        "# Each item will be of type tuple\n",
        "# Each tuple will contain key from the dict followed by corresponding value"
      ]
    },
    {
      "cell_type": "markdown",
      "metadata": {},
      "source": [
        "* We can convert keys or values or items to list and perform any list operations."
      ]
    },
    {
      "cell_type": "code",
      "execution_count": null,
      "metadata": {},
      "outputs": [],
      "source": [
        "list(d.items())[0] # first tuple from the list of items from dict"
      ]
    },
    {
      "cell_type": "code",
      "execution_count": null,
      "metadata": {},
      "outputs": [],
      "source": [
        "list(d.items())[1] # second tuple from the list of items from dict"
      ]
    },
    {
      "cell_type": "code",
      "execution_count": null,
      "metadata": {},
      "outputs": [],
      "source": [
        "type(list(d.items())[1])"
      ]
    },
    {
      "cell_type": "code",
      "execution_count": null,
      "metadata": {},
      "outputs": [],
      "source": []
    }
  ],
  "metadata": {
    "kernelspec": {
      "display_name": "Python 3",
      "language": "python",
      "name": "python3"
    },
    "language_info": {
      "codemirror_mode": {
        "name": "ipython",
        "version": 3
      },
      "file_extension": ".py",
      "mimetype": "text/x-python",
      "name": "python",
      "nbconvert_exporter": "python",
      "pygments_lexer": "ipython3",
      "version": "3.6.12"
    }
  },
  "nbformat": 4,
  "nbformat_minor": 4
}