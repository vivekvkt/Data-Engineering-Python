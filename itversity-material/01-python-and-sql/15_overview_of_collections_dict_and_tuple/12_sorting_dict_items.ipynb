{
 "cells": [
  {
   "cell_type": "markdown",
   "id": "0b815a90",
   "metadata": {},
   "source": [
    "## Sorting dict items\n",
    "\n",
    "Let us understand how we can sort the dict items in Python.\n",
    "* `dict` is nothing but group of key value pairs where keys are unique.\n",
    "* `sorted` on `dict` returns only sorted keys."
   ]
  },
  {
   "cell_type": "code",
   "execution_count": null,
   "id": "e8c54501",
   "metadata": {},
   "outputs": [],
   "source": [
    "famous_players = {\n",
    "    'Pete Sampras': 'Tennis',\n",
    "    'Sachin Tendulkar': 'Cricket',\n",
    "    'Brian Lara': 'Cricket',\n",
    "    'Diego Maradona': 'Soccer',\n",
    "    'Roger Federer': 'Tennis',\n",
    "    'Ian Thorpe': 'Swimming',\n",
    "    'Ronaldo': 'Soccer',\n",
    "    'Usain Bolt': 'Running',\n",
    "    'P. V. Sindhu': 'Badminton',\n",
    "    'Shane Warne': 'Cricket',\n",
    "    'David Beckham': 'Cricket',\n",
    "    'Michael Phelps': 'Swimming'\n",
    "}"
   ]
  },
  {
   "cell_type": "code",
   "execution_count": null,
   "id": "ac3b7bf8",
   "metadata": {},
   "outputs": [],
   "source": [
    "sorted(famous_players) # Creates list with only keys from dict"
   ]
  },
  {
   "cell_type": "code",
   "execution_count": null,
   "id": "d620abb2",
   "metadata": {},
   "outputs": [],
   "source": [
    "type(sorted(famous_players)) # Creates list with only keys from dict"
   ]
  },
  {
   "cell_type": "markdown",
   "id": "711236b3",
   "metadata": {},
   "source": [
    "* But at times we might want to sort the items based up on the values in the `dict`.\n",
    "* Here are the steps involved to sort the items in dict by values.\n",
    "  * Create list like object using `items`.\n",
    "  * Sort the list like object using `sorted` with custom comparison or sort logic. We need to use `key` argument for that.\n",
    "* The output of `sorted` will be of type `list`."
   ]
  },
  {
   "cell_type": "code",
   "execution_count": null,
   "id": "e4315455",
   "metadata": {},
   "outputs": [],
   "source": [
    "famous_players.items()"
   ]
  },
  {
   "cell_type": "code",
   "execution_count": null,
   "id": "dfcc2422",
   "metadata": {},
   "outputs": [],
   "source": [
    "# Sorts based up on natural order of tuples\n",
    "# By default data will be sorted by names of the players.\n",
    "# Player names are first elemen in the tuples\n",
    "sorted(famous_players.items())"
   ]
  },
  {
   "cell_type": "code",
   "execution_count": null,
   "id": "d289b5da",
   "metadata": {},
   "outputs": [],
   "source": [
    "# Use key argument to pass the custom comparison logic\n",
    "# We would like to compare by sport name.\n",
    "# Sport name is second elemet in tuple.\n",
    "sorted(famous_players.items(), key=lambda player: player[1])"
   ]
  },
  {
   "cell_type": "markdown",
   "id": "50a2d9dd",
   "metadata": {},
   "source": [
    "* You can see that data is sorted in ascending order by name of the sport now."
   ]
  }
 ],
 "metadata": {
  "kernelspec": {
   "display_name": "Python 3 (ipykernel)",
   "language": "python",
   "name": "python3"
  },
  "language_info": {
   "codemirror_mode": {
    "name": "ipython",
    "version": 3
   },
   "file_extension": ".py",
   "mimetype": "text/x-python",
   "name": "python",
   "nbconvert_exporter": "python",
   "pygments_lexer": "ipython3",
   "version": "3.8.12"
  }
 },
 "nbformat": 4,
 "nbformat_minor": 5
}
