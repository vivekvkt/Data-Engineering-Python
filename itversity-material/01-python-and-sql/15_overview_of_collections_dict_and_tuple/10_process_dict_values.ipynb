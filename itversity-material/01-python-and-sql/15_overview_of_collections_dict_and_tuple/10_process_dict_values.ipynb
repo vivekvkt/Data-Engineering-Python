{
 "cells": [
  {
   "cell_type": "markdown",
   "id": "58046a9c",
   "metadata": {
    "tags": []
   },
   "source": [
    "## Process dict values\n",
    "\n",
    "Let us understand how we can process the values in dicts.\n",
    "* We have already seen a function called as `values` which return all the values as a list like object."
   ]
  },
  {
   "cell_type": "code",
   "execution_count": null,
   "id": "f66febf6",
   "metadata": {},
   "outputs": [],
   "source": [
    "order_item_subtotals = {\n",
    "    1: 299.98,\n",
    "    2: 199.99,\n",
    "    3: 250.0,\n",
    "    4: 129.99\n",
    "}"
   ]
  },
  {
   "cell_type": "code",
   "execution_count": null,
   "id": "c2fd50e5",
   "metadata": {},
   "outputs": [],
   "source": [
    "order_item_subtotals"
   ]
  },
  {
   "cell_type": "code",
   "execution_count": null,
   "id": "621efbec",
   "metadata": {},
   "outputs": [],
   "source": [
    "type(order_item_subtotals)"
   ]
  },
  {
   "cell_type": "code",
   "execution_count": null,
   "id": "dcb0564b",
   "metadata": {},
   "outputs": [],
   "source": [
    "order_item_subtotals.values()"
   ]
  },
  {
   "cell_type": "code",
   "execution_count": null,
   "id": "b5d38044-3812-4a7a-a049-d7cf7c32e252",
   "metadata": {},
   "outputs": [],
   "source": [
    "type(order_item_subtotals.values())"
   ]
  },
  {
   "cell_type": "markdown",
   "id": "dd3c6e76",
   "metadata": {},
   "source": [
    "* If we would like to get total revenue by adding all the values, we can apply `sum`."
   ]
  },
  {
   "cell_type": "code",
   "execution_count": null,
   "id": "7b2437b9",
   "metadata": {},
   "outputs": [],
   "source": [
    "sum(order_item_subtotals.values())"
   ]
  },
  {
   "cell_type": "code",
   "execution_count": null,
   "id": "1376cb1f",
   "metadata": {},
   "outputs": [],
   "source": [
    "# min\n",
    "min(order_item_subtotals.values())"
   ]
  },
  {
   "cell_type": "code",
   "execution_count": null,
   "id": "d1d8c261",
   "metadata": {},
   "outputs": [],
   "source": [
    "# max\n",
    "max(order_item_subtotals.values())"
   ]
  },
  {
   "cell_type": "code",
   "execution_count": null,
   "id": "b705ba82",
   "metadata": {},
   "outputs": [],
   "source": [
    "# sort\n",
    "sorted(order_item_subtotals.values())"
   ]
  },
  {
   "cell_type": "markdown",
   "id": "06c42290",
   "metadata": {},
   "source": [
    "* We can convert the values to `list` and perform all available list operations."
   ]
  },
  {
   "cell_type": "code",
   "execution_count": null,
   "id": "b7698d44",
   "metadata": {},
   "outputs": [],
   "source": [
    "list(order_item_subtotals.values())"
   ]
  },
  {
   "cell_type": "markdown",
   "id": "0b69d277",
   "metadata": {},
   "source": [
    "* The values in the `dict` need not be unique. Sometimes, we might want to get all the unique values.\n",
    "* For example, get all the unique sports that is part of this dict. In this `dict`, the key is name of the sports person and the value is the sport the person plays.\n",
    "\n",
    "```{note}\n",
    "You can always use `set` to get unique elements from any list type object.\n",
    "```"
   ]
  },
  {
   "cell_type": "code",
   "execution_count": null,
   "id": "bd713d25",
   "metadata": {},
   "outputs": [],
   "source": [
    "famous_players = {\n",
    "    'Pete Sampras': 'Tennis',\n",
    "    'Sachin Tendulkar': 'Cricket',\n",
    "    'Brian Lara': 'Cricket',\n",
    "    'Diego Maradona': 'Soccer',\n",
    "    'Roger Federer': 'Tennis',\n",
    "    'Ian Thorpe': 'Swimming',\n",
    "    'Ronaldo': 'Soccer',\n",
    "    'Usain Bolt': 'Running',\n",
    "    'P. V. Sindhu': 'Badminton',\n",
    "    'Shane Warne': 'Cricket',\n",
    "    'David Beckham': 'Cricket',\n",
    "    'Michael Phelps': 'Swimming'\n",
    "}"
   ]
  },
  {
   "cell_type": "code",
   "execution_count": null,
   "id": "579b4b7b",
   "metadata": {},
   "outputs": [],
   "source": [
    "famous_players.values()"
   ]
  },
  {
   "cell_type": "code",
   "execution_count": null,
   "id": "9fe54b42",
   "metadata": {},
   "outputs": [],
   "source": [
    "len(famous_players.values())"
   ]
  },
  {
   "cell_type": "code",
   "execution_count": null,
   "id": "77f73f3a",
   "metadata": {},
   "outputs": [],
   "source": [
    "set(famous_players.values())"
   ]
  },
  {
   "cell_type": "code",
   "execution_count": null,
   "id": "5a9b72b5",
   "metadata": {},
   "outputs": [],
   "source": [
    "len(set(famous_players.values()))"
   ]
  },
  {
   "cell_type": "code",
   "execution_count": null,
   "id": "9d2a45a4-0948-4341-9881-fd6559e39661",
   "metadata": {},
   "outputs": [],
   "source": []
  }
 ],
 "metadata": {
  "kernelspec": {
   "display_name": "Python 3 (ipykernel)",
   "language": "python",
   "name": "python3"
  },
  "language_info": {
   "codemirror_mode": {
    "name": "ipython",
    "version": 3
   },
   "file_extension": ".py",
   "mimetype": "text/x-python",
   "name": "python",
   "nbconvert_exporter": "python",
   "pygments_lexer": "ipython3",
   "version": "3.8.12"
  }
 },
 "nbformat": 4,
 "nbformat_minor": 5
}
