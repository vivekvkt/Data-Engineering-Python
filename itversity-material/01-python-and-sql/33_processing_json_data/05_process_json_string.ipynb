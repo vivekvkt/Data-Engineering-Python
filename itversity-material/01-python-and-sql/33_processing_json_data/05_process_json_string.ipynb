{
  "cells": [
    {
      "cell_type": "markdown",
      "metadata": {},
      "source": [
        "## Process JSON String\n",
        "\n",
        "Let us understand how to process JSON strings using Python as programming language. Later we will see different ways of storing JSON data in files.\n",
        "\n",
        "We will see following examples of processing JSON strings.\n",
        "* Single JSON document.\n",
        "* Multiple JSON documents, with one JSON per line.\n",
        "* Multiple JSON documents as an Array under one attribute. Most of the REST APIs which return multiple elements follow this approach.\n",
        "* We can process JSON Strings either by using `json` module or `pandas`.\n",
        "* As part of developing backend for web or mobile applications we use `json` or some high level wrappers. For bulk data processing typically we fall back on modules such as `pandas`.\n",
        "* You should be familiar with both. For now, we will focus on `json`.\n",
        "* We should first import `json` module to process the JSON strings using it.\n",
        "* We have a function called as `loads` which takes a JSON in string and returns `dict`."
      ]
    },
    {
      "cell_type": "markdown",
      "metadata": {},
      "source": [
        "### Single JSON document\n",
        "\n",
        "Let us go through the details of processing Single JSON document. \n",
        "* Import `json` module.\n",
        "* Create JSON String.\n",
        "* Pass the string to `json.loads`. It will return `dict`.\n",
        "* Assign it to a variable and use it further."
      ]
    },
    {
      "cell_type": "code",
      "execution_count": null,
      "metadata": {},
      "outputs": [],
      "source": [
        "import json"
      ]
    },
    {
      "cell_type": "code",
      "execution_count": null,
      "metadata": {},
      "outputs": [],
      "source": [
        "person = '{\"id\":1,\"first_name\":\"Frasco\",\"last_name\":\"Necolds\",\"email\":\"fnecolds0@vk.com\",\"gender\":\"Male\",\"ip_address\":\"243.67.63.34\"}'"
      ]
    },
    {
      "cell_type": "code",
      "execution_count": null,
      "metadata": {},
      "outputs": [],
      "source": [
        "type(person)"
      ]
    },
    {
      "cell_type": "code",
      "execution_count": null,
      "metadata": {},
      "outputs": [],
      "source": [
        "json.loads?"
      ]
    },
    {
      "cell_type": "code",
      "execution_count": null,
      "metadata": {},
      "outputs": [],
      "source": [
        "person_dict = json.loads(person)"
      ]
    },
    {
      "cell_type": "code",
      "execution_count": null,
      "metadata": {},
      "outputs": [],
      "source": [
        "type(person_dict)"
      ]
    },
    {
      "cell_type": "code",
      "execution_count": null,
      "metadata": {},
      "outputs": [],
      "source": [
        "print(person_dict)"
      ]
    },
    {
      "cell_type": "code",
      "execution_count": null,
      "metadata": {},
      "outputs": [],
      "source": [
        "person_dict['id']"
      ]
    },
    {
      "cell_type": "code",
      "execution_count": null,
      "metadata": {},
      "outputs": [],
      "source": [
        "person_dict['first_name']"
      ]
    },
    {
      "cell_type": "code",
      "execution_count": null,
      "metadata": {},
      "outputs": [],
      "source": [
        "person_dict.keys()"
      ]
    },
    {
      "cell_type": "code",
      "execution_count": null,
      "metadata": {},
      "outputs": [],
      "source": [
        "person_dict.items()"
      ]
    },
    {
      "cell_type": "markdown",
      "metadata": {},
      "source": [
        "* Here is an example of a single JSON as string that is part of multiple lines."
      ]
    },
    {
      "cell_type": "code",
      "execution_count": null,
      "metadata": {},
      "outputs": [],
      "source": [
        "import json"
      ]
    },
    {
      "cell_type": "code",
      "execution_count": null,
      "metadata": {},
      "outputs": [],
      "source": [
        "person = '''{\n",
        "    \"id\":1,\n",
        "    \"first_name\":\"Frasco\",\n",
        "    \"last_name\":\"Necolds\",\n",
        "    \"email\":\"fnecolds0@vk.com\",\n",
        "    \"gender\":\"Male\",\n",
        "    \"ip_address\":\"243.67.63.34\"\n",
        "}'''"
      ]
    },
    {
      "cell_type": "code",
      "execution_count": null,
      "metadata": {},
      "outputs": [],
      "source": [
        "type(person)"
      ]
    },
    {
      "cell_type": "code",
      "execution_count": null,
      "metadata": {},
      "outputs": [],
      "source": [
        "person_dict = json.loads(person)"
      ]
    },
    {
      "cell_type": "code",
      "execution_count": null,
      "metadata": {},
      "outputs": [],
      "source": [
        "type(person_dict)"
      ]
    },
    {
      "cell_type": "code",
      "execution_count": null,
      "metadata": {},
      "outputs": [],
      "source": [
        "print(person_dict)"
      ]
    },
    {
      "cell_type": "markdown",
      "metadata": {},
      "source": [
        "### Multiple JSON Documents - One per line\n",
        "\n",
        "Let us go through the steps involved in processing a string which contain one JSON per line.\n",
        "* We should convert the string into list of JSON strings and then use `json.loads` to process each JSON.\n",
        "* Import `json` module.\n",
        "* Split the string into multiple strings using new line character (`\\n`) as delimiter. String have a function called as `splitlines` and we should be able to leverage it.\n",
        "* Use `for` loop or `map` function to convert list of JSON Strings into list of dicts. We should use `json.loads` to convert each JSON String as dict."
      ]
    },
    {
      "cell_type": "code",
      "execution_count": null,
      "metadata": {},
      "outputs": [],
      "source": [
        "persons = '''{\"id\":1,\"first_name\":\"Frasco\",\"last_name\":\"Necolds\",\"email\":\"fnecolds0@vk.com\",\"gender\":\"Male\",\"ip_address\":\"243.67.63.34\"}\n",
        "{\"id\":2,\"first_name\":\"Dulce\",\"last_name\":\"Santos\",\"email\":\"dsantos1@mashable.com\",\"gender\":\"Female\",\"ip_address\":\"60.30.246.227\"}\n",
        "{\"id\":3,\"first_name\":\"Prissie\",\"last_name\":\"Tebbett\",\"email\":\"ptebbett2@infoseek.co.jp\",\"gender\":\"Genderfluid\",\"ip_address\":\"22.21.162.56\"}\n",
        "{\"id\":4,\"first_name\":\"Schuyler\",\"last_name\":\"Coppledike\",\"email\":\"scoppledike3@gnu.org\",\"gender\":\"Agender\",\"ip_address\":\"120.35.186.161\"}\n",
        "{\"id\":5,\"first_name\":\"Leopold\",\"last_name\":\"Jarred\",\"email\":\"ljarred4@wp.com\",\"gender\":\"Agender\",\"ip_address\":\"30.119.34.4\"}\n",
        "{\"id\":6,\"first_name\":\"Joanna\",\"last_name\":\"Teager\",\"email\":\"jteager5@apache.org\",\"gender\":\"Bigender\",\"ip_address\":\"245.221.176.34\"}\n",
        "{\"id\":7,\"first_name\":\"Lion\",\"last_name\":\"Beere\",\"email\":\"lbeere6@bloomberg.com\",\"gender\":\"Polygender\",\"ip_address\":\"105.54.139.46\"}\n",
        "{\"id\":8,\"first_name\":\"Marabel\",\"last_name\":\"Wornum\",\"email\":\"mwornum7@posterous.com\",\"gender\":\"Polygender\",\"ip_address\":\"247.229.14.25\"}\n",
        "{\"id\":9,\"first_name\":\"Helenka\",\"last_name\":\"Mullender\",\"email\":\"hmullender8@cloudflare.com\",\"gender\":\"Non-binary\",\"ip_address\":\"133.216.118.88\"}\n",
        "{\"id\":10,\"first_name\":\"Christine\",\"last_name\":\"Swane\",\"email\":\"cswane9@shop-pro.jp\",\"gender\":\"Polygender\",\"ip_address\":\"86.16.210.164\"}'''"
      ]
    },
    {
      "cell_type": "code",
      "execution_count": null,
      "metadata": {},
      "outputs": [],
      "source": [
        "type(persons)"
      ]
    },
    {
      "cell_type": "code",
      "execution_count": null,
      "metadata": {},
      "outputs": [],
      "source": [
        "persons.splitlines?"
      ]
    },
    {
      "cell_type": "code",
      "execution_count": null,
      "metadata": {},
      "outputs": [],
      "source": [
        "# Using for loop\n",
        "import json"
      ]
    },
    {
      "cell_type": "code",
      "execution_count": null,
      "metadata": {},
      "outputs": [],
      "source": [
        "persons_list = persons.splitlines()"
      ]
    },
    {
      "cell_type": "code",
      "execution_count": null,
      "metadata": {},
      "outputs": [],
      "source": [
        "type(persons_list)"
      ]
    },
    {
      "cell_type": "code",
      "execution_count": null,
      "metadata": {},
      "outputs": [],
      "source": [
        "type(persons_list[0])"
      ]
    },
    {
      "cell_type": "code",
      "execution_count": null,
      "metadata": {},
      "outputs": [],
      "source": [
        "persons_list[1]"
      ]
    },
    {
      "cell_type": "code",
      "execution_count": null,
      "metadata": {},
      "outputs": [],
      "source": [
        "json.loads(persons_list[0])"
      ]
    },
    {
      "cell_type": "markdown",
      "metadata": {},
      "source": [
        "* Converting list of strings to list of dicts using conventional loops."
      ]
    },
    {
      "cell_type": "code",
      "execution_count": null,
      "metadata": {},
      "outputs": [],
      "source": [
        "persons_dict_list = []\n",
        "\n",
        "for person in persons_list:\n",
        "    persons_dict_list.append(json.loads(person))"
      ]
    },
    {
      "cell_type": "code",
      "execution_count": null,
      "metadata": {},
      "outputs": [],
      "source": [
        "type(persons_dict_list)"
      ]
    },
    {
      "cell_type": "code",
      "execution_count": null,
      "metadata": {},
      "outputs": [],
      "source": [
        "type(persons_dict_list[0])"
      ]
    },
    {
      "cell_type": "code",
      "execution_count": null,
      "metadata": {},
      "outputs": [],
      "source": [
        "persons_dict_list[0]"
      ]
    },
    {
      "cell_type": "code",
      "execution_count": null,
      "metadata": {},
      "outputs": [],
      "source": [
        "persons_dict_list[0]['first_name']"
      ]
    },
    {
      "cell_type": "markdown",
      "metadata": {},
      "source": [
        "* Converting list of strings to list of dicts using list comprehensions."
      ]
    },
    {
      "cell_type": "code",
      "execution_count": null,
      "metadata": {},
      "outputs": [],
      "source": [
        "persons_dict_list = [json.loads(person) for person in persons_list]"
      ]
    },
    {
      "cell_type": "code",
      "execution_count": null,
      "metadata": {},
      "outputs": [],
      "source": [
        "type(persons_dict_list)"
      ]
    },
    {
      "cell_type": "code",
      "execution_count": null,
      "metadata": {},
      "outputs": [],
      "source": [
        "type(persons_dict_list[0])"
      ]
    },
    {
      "cell_type": "code",
      "execution_count": null,
      "metadata": {},
      "outputs": [],
      "source": [
        "persons_dict_list[0]"
      ]
    },
    {
      "cell_type": "markdown",
      "metadata": {},
      "source": [
        "* Converting list of strings to list of dicts using `map` function."
      ]
    },
    {
      "cell_type": "code",
      "execution_count": null,
      "metadata": {},
      "outputs": [],
      "source": [
        "persons_dict_list = list(map(json.loads, persons_list))"
      ]
    },
    {
      "cell_type": "code",
      "execution_count": null,
      "metadata": {},
      "outputs": [],
      "source": [
        "type(persons_dict_list)"
      ]
    },
    {
      "cell_type": "code",
      "execution_count": null,
      "metadata": {},
      "outputs": [],
      "source": [
        "type(persons_dict_list[0])"
      ]
    },
    {
      "cell_type": "code",
      "execution_count": null,
      "metadata": {},
      "outputs": [],
      "source": [
        "persons_dict_list[0]"
      ]
    },
    {
      "cell_type": "code",
      "execution_count": null,
      "metadata": {},
      "outputs": [],
      "source": [
        "list(map(lambda person: person['first_name'], persons_dict_list))"
      ]
    },
    {
      "cell_type": "code",
      "execution_count": null,
      "metadata": {},
      "outputs": [],
      "source": [
        "list(filter(lambda person: person['gender'] == 'Female', persons_dict_list))"
      ]
    },
    {
      "cell_type": "markdown",
      "metadata": {},
      "source": [
        "### Multiple JSON Documents - Array\n",
        "\n",
        "Let us go through the details of processing multiple JSON Documents as an array.\n",
        "* We should be able to use `json.loads`. For the below string it will return Python list.\n",
        "* Steps are same as processing single JSON document.\n",
        "  * Import `json` module.\n",
        "  * Use `json.loads` to convert to Python list.\n",
        "  * Process using Python capabilities."
      ]
    },
    {
      "cell_type": "code",
      "execution_count": null,
      "metadata": {},
      "outputs": [],
      "source": [
        "persons = '''[{\"id\":1,\"first_name\":\"Frasco\",\"last_name\":\"Necolds\",\"email\":\"fnecolds0@vk.com\",\"gender\":\"Male\",\"ip_address\":\"243.67.63.34\"},\n",
        "{\"id\":2,\"first_name\":\"Dulce\",\"last_name\":\"Santos\",\"email\":\"dsantos1@mashable.com\",\"gender\":\"Female\",\"ip_address\":\"60.30.246.227\"},\n",
        "{\"id\":3,\"first_name\":\"Prissie\",\"last_name\":\"Tebbett\",\"email\":\"ptebbett2@infoseek.co.jp\",\"gender\":\"Genderfluid\",\"ip_address\":\"22.21.162.56\"},\n",
        "{\"id\":4,\"first_name\":\"Schuyler\",\"last_name\":\"Coppledike\",\"email\":\"scoppledike3@gnu.org\",\"gender\":\"Agender\",\"ip_address\":\"120.35.186.161\"},\n",
        "{\"id\":5,\"first_name\":\"Leopold\",\"last_name\":\"Jarred\",\"email\":\"ljarred4@wp.com\",\"gender\":\"Agender\",\"ip_address\":\"30.119.34.4\"},\n",
        "{\"id\":6,\"first_name\":\"Joanna\",\"last_name\":\"Teager\",\"email\":\"jteager5@apache.org\",\"gender\":\"Bigender\",\"ip_address\":\"245.221.176.34\"},\n",
        "{\"id\":7,\"first_name\":\"Lion\",\"last_name\":\"Beere\",\"email\":\"lbeere6@bloomberg.com\",\"gender\":\"Polygender\",\"ip_address\":\"105.54.139.46\"},\n",
        "{\"id\":8,\"first_name\":\"Marabel\",\"last_name\":\"Wornum\",\"email\":\"mwornum7@posterous.com\",\"gender\":\"Polygender\",\"ip_address\":\"247.229.14.25\"},\n",
        "{\"id\":9,\"first_name\":\"Helenka\",\"last_name\":\"Mullender\",\"email\":\"hmullender8@cloudflare.com\",\"gender\":\"Non-binary\",\"ip_address\":\"133.216.118.88\"},\n",
        "{\"id\":10,\"first_name\":\"Christine\",\"last_name\":\"Swane\",\"email\":\"cswane9@shop-pro.jp\",\"gender\":\"Polygender\",\"ip_address\":\"86.16.210.164\"}]'''"
      ]
    },
    {
      "cell_type": "code",
      "execution_count": null,
      "metadata": {},
      "outputs": [],
      "source": [
        "persons_dict_list = json.loads(persons)"
      ]
    },
    {
      "cell_type": "code",
      "execution_count": null,
      "metadata": {},
      "outputs": [],
      "source": [
        "type(persons_dict_list)"
      ]
    },
    {
      "cell_type": "code",
      "execution_count": null,
      "metadata": {},
      "outputs": [],
      "source": [
        "type(persons_dict_list[0])"
      ]
    },
    {
      "cell_type": "code",
      "execution_count": null,
      "metadata": {},
      "outputs": [],
      "source": [
        "persons_dict_list[0]"
      ]
    },
    {
      "cell_type": "markdown",
      "metadata": {},
      "source": [
        "* When we use `json.loads` on below string, it will create a dict where value will be a list."
      ]
    },
    {
      "cell_type": "code",
      "execution_count": null,
      "metadata": {},
      "outputs": [],
      "source": [
        "persons = '''{\n",
        "    \"results\": [\n",
        "        {\n",
        "            \"id\": 1,\n",
        "            \"first_name\": \"Frasco\",\n",
        "            \"last_name\": \"Necolds\",\n",
        "            \"email\": \"fnecolds0@vk.com\",\n",
        "            \"gender\": \"Male\",\n",
        "            \"ip_address\": \"243.67.63.34\"\n",
        "        },\n",
        "        {\n",
        "            \"id\": 2,\n",
        "            \"first_name\": \"Dulce\",\n",
        "            \"last_name\": \"Santos\",\n",
        "            \"email\": \"dsantos1@mashable.com\",\n",
        "            \"gender\": \"Female\",\n",
        "            \"ip_address\": \"60.30.246.227\"\n",
        "        },\n",
        "        {\n",
        "            \"id\": 3,\n",
        "            \"first_name\": \"Prissie\",\n",
        "            \"last_name\": \"Tebbett\",\n",
        "            \"email\": \"ptebbett2@infoseek.co.jp\",\n",
        "            \"gender\": \"Genderfluid\",\n",
        "            \"ip_address\": \"22.21.162.56\"\n",
        "        },\n",
        "        {\n",
        "            \"id\": 4,\n",
        "            \"first_name\": \"Schuyler\",\n",
        "            \"last_name\": \"Coppledike\",\n",
        "            \"email\": \"scoppledike3@gnu.org\",\n",
        "            \"gender\": \"Agender\",\n",
        "            \"ip_address\": \"120.35.186.161\"\n",
        "        },\n",
        "        {\n",
        "            \"id\": 5,\n",
        "            \"first_name\": \"Leopold\",\n",
        "            \"last_name\": \"Jarred\",\n",
        "            \"email\": \"ljarred4@wp.com\",\n",
        "            \"gender\": \"Agender\",\n",
        "            \"ip_address\": \"30.119.34.4\"\n",
        "        },\n",
        "        {\n",
        "            \"id\": 6,\n",
        "            \"first_name\": \"Joanna\",\n",
        "            \"last_name\": \"Teager\",\n",
        "            \"email\": \"jteager5@apache.org\",\n",
        "            \"gender\": \"Bigender\",\n",
        "            \"ip_address\": \"245.221.176.34\"\n",
        "        },\n",
        "        {\n",
        "            \"id\": 7,\n",
        "            \"first_name\": \"Lion\",\n",
        "            \"last_name\": \"Beere\",\n",
        "            \"email\": \"lbeere6@bloomberg.com\",\n",
        "            \"gender\": \"Polygender\",\n",
        "            \"ip_address\": \"105.54.139.46\"\n",
        "        },\n",
        "        {\n",
        "            \"id\": 8,\n",
        "            \"first_name\": \"Marabel\",\n",
        "            \"last_name\": \"Wornum\",\n",
        "            \"email\": \"mwornum7@posterous.com\",\n",
        "            \"gender\": \"Polygender\",\n",
        "            \"ip_address\": \"247.229.14.25\"\n",
        "        },\n",
        "        {\n",
        "            \"id\": 9,\n",
        "            \"first_name\": \"Helenka\",\n",
        "            \"last_name\": \"Mullender\",\n",
        "            \"email\": \"hmullender8@cloudflare.com\",\n",
        "            \"gender\": \"Non-binary\",\n",
        "            \"ip_address\": \"133.216.118.88\"\n",
        "        },\n",
        "        {\n",
        "            \"id\": 10,\n",
        "            \"first_name\": \"Christine\",\n",
        "            \"last_name\": \"Swane\",\n",
        "            \"email\": \"cswane9@shop-pro.jp\",\n",
        "            \"gender\": \"Polygender\",\n",
        "            \"ip_address\": \"86.16.210.164\"\n",
        "        }\n",
        "    ]\n",
        "}'''"
      ]
    },
    {
      "cell_type": "code",
      "execution_count": null,
      "metadata": {},
      "outputs": [],
      "source": [
        "import json"
      ]
    },
    {
      "cell_type": "code",
      "execution_count": null,
      "metadata": {},
      "outputs": [],
      "source": [
        "person_results = json.loads(persons)"
      ]
    },
    {
      "cell_type": "code",
      "execution_count": null,
      "metadata": {},
      "outputs": [],
      "source": [
        "type(person_results)"
      ]
    },
    {
      "cell_type": "code",
      "execution_count": null,
      "metadata": {},
      "outputs": [],
      "source": [
        "person_results.keys()"
      ]
    },
    {
      "cell_type": "code",
      "execution_count": null,
      "metadata": {},
      "outputs": [],
      "source": [
        "type(person_results['results'])"
      ]
    },
    {
      "cell_type": "code",
      "execution_count": null,
      "metadata": {},
      "outputs": [],
      "source": [
        "type(person_results['results'][0])"
      ]
    },
    {
      "cell_type": "code",
      "execution_count": null,
      "metadata": {},
      "outputs": [],
      "source": [
        "person_results['results'][0]"
      ]
    },
    {
      "cell_type": "code",
      "execution_count": null,
      "metadata": {},
      "outputs": [],
      "source": [
        "results = person_results['results']"
      ]
    },
    {
      "cell_type": "code",
      "execution_count": null,
      "metadata": {},
      "outputs": [],
      "source": [
        "type(results)"
      ]
    },
    {
      "cell_type": "code",
      "execution_count": null,
      "metadata": {},
      "outputs": [],
      "source": [
        "results[0]"
      ]
    },
    {
      "cell_type": "markdown",
      "metadata": {},
      "source": [
        "### Exercise on processing collections\n",
        "\n",
        "Take person_results and get list of dicts where each dict contain id, first_name and email. We would like to send an offer for all the persons in the form of email.\n",
        "* You should use `map` function for the same.\n",
        "* Do not use loops."
      ]
    }
  ],
  "metadata": {
    "kernelspec": {
      "display_name": "Python 3",
      "language": "python",
      "name": "python3"
    },
    "language_info": {
      "codemirror_mode": {
        "name": "ipython",
        "version": 3
      },
      "file_extension": ".py",
      "mimetype": "text/x-python",
      "name": "python",
      "nbconvert_exporter": "python",
      "pygments_lexer": "ipython3",
      "version": "3.6.12"
    }
  },
  "nbformat": 4,
  "nbformat_minor": 4
}