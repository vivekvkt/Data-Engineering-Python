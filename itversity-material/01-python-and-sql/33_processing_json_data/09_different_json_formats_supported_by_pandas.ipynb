{
  "cells": [
    {
      "cell_type": "markdown",
      "id": "2867f3ca",
      "metadata": {},
      "source": [
        "## Different JSON Formats supported by Pandas\n",
        "\n",
        "Let us go through the details about different standard JSON formats supported by Pandas.\n",
        "* Here are the arguments we need to pass to `read_json` or `to_json` for respective JSON formats.\n",
        "  * `orient=split` - columns, index, and data are separated.\n",
        "  * `orient=records` - array of json documents (eg: courses.json)\n",
        "  * `lines=True` - Multiple jsons with one json per line (eg: customers.json)\n",
        "* We can use `to_json` to display the output from buffer. We can also write to files using `to_json`.\n",
        "* We can specify `orient` as part of `to_json` along with `_` as path or buffer to see the output with out writing to the files.\n",
        "* Here are examples with different supported JSON formats."
      ]
    },
    {
      "cell_type": "code",
      "execution_count": null,
      "id": "7c6719bd",
      "metadata": {},
      "outputs": [],
      "source": [
        "!ls -ltr customers.json"
      ]
    },
    {
      "cell_type": "code",
      "execution_count": null,
      "id": "b2f355ac",
      "metadata": {},
      "outputs": [],
      "source": [
        "import pandas as pd"
      ]
    },
    {
      "cell_type": "code",
      "execution_count": null,
      "id": "46d8ae89",
      "metadata": {},
      "outputs": [],
      "source": [
        "df = pd.read_json('customers.json', lines=True)"
      ]
    },
    {
      "cell_type": "code",
      "execution_count": null,
      "id": "8d834907",
      "metadata": {},
      "outputs": [],
      "source": [
        "df"
      ]
    },
    {
      "cell_type": "code",
      "execution_count": null,
      "id": "1fd3af2e",
      "metadata": {},
      "outputs": [],
      "source": [
        "df.to_json(orient='split') # columns, index and data are separated"
      ]
    },
    {
      "cell_type": "code",
      "execution_count": null,
      "id": "e3e5a6f2",
      "metadata": {},
      "outputs": [],
      "source": [
        "pd.read_json(_, orient='split') # Creating data frame by using data from buffer"
      ]
    },
    {
      "cell_type": "code",
      "execution_count": null,
      "id": "67a1f721",
      "metadata": {},
      "outputs": [],
      "source": [
        "df.to_json(orient='records') # array of json documents"
      ]
    },
    {
      "cell_type": "code",
      "execution_count": null,
      "id": "71090479",
      "metadata": {},
      "outputs": [],
      "source": [
        "pd.read_json(_) # the default for orient is None which is similar to records"
      ]
    },
    {
      "cell_type": "code",
      "execution_count": null,
      "id": "f6f352e2",
      "metadata": {},
      "outputs": [],
      "source": [
        "df.to_json(orient='records', lines=True) # Multiple jsons with one json per line"
      ]
    },
    {
      "cell_type": "code",
      "execution_count": null,
      "id": "8ebf2245",
      "metadata": {},
      "outputs": [],
      "source": [
        "pd.read_json(_, lines=True) # the default for orient is records"
      ]
    }
  ],
  "metadata": {
    "kernelspec": {
      "display_name": "Python 3",
      "language": "python",
      "name": "python3"
    },
    "language_info": {
      "codemirror_mode": {
        "name": "ipython",
        "version": 3
      },
      "file_extension": ".py",
      "mimetype": "text/x-python",
      "name": "python",
      "nbconvert_exporter": "python",
      "pygments_lexer": "ipython3",
      "version": "3.6.12"
    }
  },
  "nbformat": 4,
  "nbformat_minor": 5
}