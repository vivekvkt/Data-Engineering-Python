{
  "cells": [
    {
      "cell_type": "markdown",
      "metadata": {},
      "source": [
        "## Overview of JSON\n",
        "\n",
        "Let us get an overview of JSON.\n",
        "* JSON stands for **JavaScript Object Notation**.\n",
        "* It is group of **Key Value Pairs**.\n",
        "* Keys are unique and values need not be unique.\n",
        "* Both Keys as well as Values can be of any type.\n",
        "* Strings should be enclosed in **double quotes**.\n",
        "* Here is an example of a simple JSON.\n",
        "\n",
        "```json\n",
        "{\"id\": 1, \"first_name\": \"Scott\", \"last_name\": \"Tiger\"}\n",
        "```\n",
        "\n",
        "* Here are the characteristics of the above json.\n",
        "  * All keys are of type strings.\n",
        "  * The value for id is of numeric type.\n",
        "  * The values for first_name and last_name are of type strings.\n",
        "* Here is an example for complex JSON.\n",
        "\n",
        "```json\n",
        "{\n",
        "    \"id\": 1, \n",
        "    \"first_name\": \"Scott\", \n",
        "    \"last_name\": \"Tiger\",\n",
        "    \"phone_numbers\": [\"+1 123 456 7890\", \"+1 215 801 7000\"],\n",
        "    \"address\": {\n",
        "        \"street\": \"1234 Special Street\",\n",
        "        \"city\": \"Round Rock\",\n",
        "        \"state\": \"Texas\"\n",
        "    }\n",
        "}\n",
        "```\n",
        "\n",
        "* Here are the characteristics of the above complex json.\n",
        "  * The value for phone_numbers is of type JSON Array. All the elements in the JSON Array are of type strings. We can also have elements of different types in the list.\n",
        "  * The value for address is of type nested JSON (JSON within JSON). All keys and values in the nested JSON are of type strings. As part of nested JSON we can have keys and values of different types.\n",
        "* JSON look like Python dict object. When we use Python to process JSON data, we typically load the JSON into dict."
      ]
    }
  ],
  "metadata": {
    "kernelspec": {
      "display_name": "Python 3",
      "language": "python",
      "name": "python3"
    },
    "language_info": {
      "codemirror_mode": {
        "name": "ipython",
        "version": 3
      },
      "file_extension": ".py",
      "mimetype": "text/x-python",
      "name": "python",
      "nbconvert_exporter": "python",
      "pygments_lexer": "ipython3",
      "version": "3.6.12"
    }
  },
  "nbformat": 4,
  "nbformat_minor": 4
}