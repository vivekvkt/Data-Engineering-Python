{
  "cells": [
    {
      "cell_type": "markdown",
      "id": "1a21e66b",
      "metadata": {},
      "source": [
        "## JSON Data Types\n",
        "\n",
        "Let us understand the data types that are used while representing objects in the form of JSON.\n",
        "\n",
        "Here are the basic data types of JSON.\n",
        "* Number\n",
        "* String\n",
        "* Boolean\n",
        "* Array (Similar to Python list)\n",
        "* Object (Nested JSON)\n",
        "* null (empty value)\n",
        "\n",
        "Here is an example for JSON representation of a Person object.\n",
        "\n",
        "```json\n",
        "{\n",
        "  \"firstName\": \"John\",\n",
        "  \"lastName\": \"Smith\",\n",
        "  \"isAlive\": true,\n",
        "  \"age\": 27,\n",
        "  \"address\": {\n",
        "    \"streetAddress\": \"21 2nd Street\",\n",
        "    \"city\": \"New York\",\n",
        "    \"state\": \"NY\",\n",
        "    \"postalCode\": \"10021-3100\"\n",
        "  },\n",
        "  \"phoneNumbers\": [\n",
        "    {\n",
        "      \"type\": \"home\",\n",
        "      \"number\": \"212 555-1234\"\n",
        "    },\n",
        "    {\n",
        "      \"type\": \"office\",\n",
        "      \"number\": \"646 555-4567\"\n",
        "    }\n",
        "  ],\n",
        "  \"children\": [],\n",
        "  \"spouse\": null\n",
        "}\n",
        "```\n",
        "\n",
        "Here are the details of data types of values in the above JSON.\n",
        "\n",
        "* **age** is of type **Number**.\n",
        "* **isAlive** is of type **Boolean**.\n",
        "* **spouse** is of type **null**.\n",
        "* **address** is of type **Object**.\n",
        "* **children** is of type **Array**. In the example above, children array is empty.\n",
        "* **phoneNumbers** is of type **Array of Objects**."
      ]
    }
  ],
  "metadata": {
    "kernelspec": {
      "display_name": "Python 3",
      "language": "python",
      "name": "python3"
    },
    "language_info": {
      "codemirror_mode": {
        "name": "ipython",
        "version": 3
      },
      "file_extension": ".py",
      "mimetype": "text/x-python",
      "name": "python",
      "nbconvert_exporter": "python",
      "pygments_lexer": "ipython3",
      "version": "3.6.12"
    }
  },
  "nbformat": 4,
  "nbformat_minor": 5
}