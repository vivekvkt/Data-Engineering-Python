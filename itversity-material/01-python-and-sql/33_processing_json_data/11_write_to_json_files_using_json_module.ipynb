{
  "cells": [
    {
      "cell_type": "markdown",
      "id": "98ccac07",
      "metadata": {},
      "source": [
        "## Write to JSON files using json module\n",
        "\n",
        "Let us understand how to write to JSON files using `json` module.\n",
        "* We can use `dump` to save JSON data to files. We can also generate a JSON string from a `dict` using `dumps`."
      ]
    },
    {
      "cell_type": "markdown",
      "id": "062c7083",
      "metadata": {},
      "source": [
        "In the below example we will see how to dump a dict to a string. We will see a bit more advanced example of writing list of dicts into JSON file shortly."
      ]
    },
    {
      "cell_type": "code",
      "execution_count": null,
      "id": "07c00750",
      "metadata": {},
      "outputs": [],
      "source": [
        "course = {'course_name': 'Programming using Python',\n",
        "  'course_author': 'Bob Dillon',\n",
        "  'course_status': 'published',\n",
        "  'course_published_dt': '2020-09-30'}"
      ]
    },
    {
      "cell_type": "code",
      "execution_count": null,
      "id": "5b3e8649",
      "metadata": {},
      "outputs": [],
      "source": [
        "type(course)"
      ]
    },
    {
      "cell_type": "code",
      "execution_count": null,
      "id": "07b7eff2",
      "metadata": {},
      "outputs": [],
      "source": [
        "import json"
      ]
    },
    {
      "cell_type": "code",
      "execution_count": null,
      "id": "20cc35c2",
      "metadata": {},
      "outputs": [],
      "source": [
        "json.dumps(course)"
      ]
    },
    {
      "cell_type": "code",
      "execution_count": null,
      "id": "d9228d6c",
      "metadata": {},
      "outputs": [],
      "source": [
        "type(json.dumps(course))"
      ]
    },
    {
      "cell_type": "code",
      "execution_count": null,
      "id": "d8c06740",
      "metadata": {},
      "outputs": [],
      "source": [
        "courses = [{'course_name': 'Programming using Python',\n",
        "  'course_author': 'Bob Dillon',\n",
        "  'course_status': 'published',\n",
        "  'course_published_dt': '2020-09-30'},\n",
        " {'course_name': 'Data Engineering using Python',\n",
        "  'course_author': 'Bob Dillon',\n",
        "  'course_status': 'published',\n",
        "  'course_published_dt': '2020-07-15'},\n",
        " {'course_name': 'Data Engineering using Scala',\n",
        "  'course_author': 'Elvis Presley',\n",
        "  'course_status': 'draft',\n",
        "  'course_published_dt': None},\n",
        " {'course_name': 'Programming using Scala',\n",
        "  'course_author': 'Elvis Presley',\n",
        "  'course_status': 'published',\n",
        "  'course_published_dt': '2020-05-12'},\n",
        " {'course_name': 'Programming using Java',\n",
        "  'course_author': 'Mike Jack',\n",
        "  'course_status': 'inactive',\n",
        "  'course_published_dt': '2020-08-10'},\n",
        " {'course_name': 'Web Applications - Python Flask',\n",
        "  'course_author': 'Bob Dillon',\n",
        "  'course_status': 'inactive',\n",
        "  'course_published_dt': '2020-07-20'},\n",
        " {'course_name': 'Web Applications - Java Spring',\n",
        "  'course_author': 'Mike Jack',\n",
        "  'course_status': 'draft',\n",
        "  'course_published_dt': None},\n",
        " {'course_name': 'Pipeline Orchestration - Python',\n",
        "  'course_author': 'Bob Dillon',\n",
        "  'course_status': 'draft',\n",
        "  'course_published_dt': None},\n",
        " {'course_name': 'Streaming Pipelines - Python',\n",
        "  'course_author': 'Bob Dillon',\n",
        "  'course_status': 'published',\n",
        "  'course_published_dt': '2020-10-05'},\n",
        " {'course_name': 'Web Applications - Scala Play',\n",
        "  'course_author': 'Elvis Presley',\n",
        "  'course_status': 'inactive',\n",
        "  'course_published_dt': '2020-09-30'},\n",
        " {'course_name': 'Web Applications - Python Django',\n",
        "  'course_author': 'Bob Dillon',\n",
        "  'course_status': 'published',\n",
        "  'course_published_dt': '2020-06-23'},\n",
        " {'course_name': 'Server Automation - Ansible',\n",
        "  'course_author': 'Uncle Sam',\n",
        "  'course_status': 'published',\n",
        "  'course_published_dt': '2020-07-05'}]"
      ]
    },
    {
      "cell_type": "code",
      "execution_count": null,
      "id": "defe4411",
      "metadata": {},
      "outputs": [],
      "source": [
        "json.dumps(courses) # This will dump json as a string object (not to file)"
      ]
    },
    {
      "cell_type": "markdown",
      "id": "fd5a1dfa",
      "metadata": {},
      "source": [
        "Here are the steps involved in writing data in single JSON to JSON files using `json` module.\n",
        "* Make sure you have a dict or any other object which can be converted to single valid json.\n",
        "* Open the file in write mode.\n",
        "* Write the data into the file. You have to use `json.dump` to write to file.\n",
        "* Close the file."
      ]
    },
    {
      "cell_type": "code",
      "execution_count": null,
      "id": "f496f16e",
      "metadata": {},
      "outputs": [],
      "source": [
        "# list of dicts\n",
        "\n",
        "courses = [{'course_name': 'Programming using Python',\n",
        "  'course_author': 'Bob Dillon',\n",
        "  'course_status': 'published',\n",
        "  'course_published_dt': '2020-09-30'},\n",
        " {'course_name': 'Data Engineering using Python',\n",
        "  'course_author': 'Bob Dillon',\n",
        "  'course_status': 'published',\n",
        "  'course_published_dt': '2020-07-15'},\n",
        " {'course_name': 'Data Engineering using Scala',\n",
        "  'course_author': 'Elvis Presley',\n",
        "  'course_status': 'draft',\n",
        "  'course_published_dt': None},\n",
        " {'course_name': 'Programming using Scala',\n",
        "  'course_author': 'Elvis Presley',\n",
        "  'course_status': 'published',\n",
        "  'course_published_dt': '2020-05-12'},\n",
        " {'course_name': 'Programming using Java',\n",
        "  'course_author': 'Mike Jack',\n",
        "  'course_status': 'inactive',\n",
        "  'course_published_dt': '2020-08-10'},\n",
        " {'course_name': 'Web Applications - Python Flask',\n",
        "  'course_author': 'Bob Dillon',\n",
        "  'course_status': 'inactive',\n",
        "  'course_published_dt': '2020-07-20'},\n",
        " {'course_name': 'Web Applications - Java Spring',\n",
        "  'course_author': 'Mike Jack',\n",
        "  'course_status': 'draft',\n",
        "  'course_published_dt': None},\n",
        " {'course_name': 'Pipeline Orchestration - Python',\n",
        "  'course_author': 'Bob Dillon',\n",
        "  'course_status': 'draft',\n",
        "  'course_published_dt': None},\n",
        " {'course_name': 'Streaming Pipelines - Python',\n",
        "  'course_author': 'Bob Dillon',\n",
        "  'course_status': 'published',\n",
        "  'course_published_dt': '2020-10-05'},\n",
        " {'course_name': 'Web Applications - Scala Play',\n",
        "  'course_author': 'Elvis Presley',\n",
        "  'course_status': 'inactive',\n",
        "  'course_published_dt': '2020-09-30'},\n",
        " {'course_name': 'Web Applications - Python Django',\n",
        "  'course_author': 'Bob Dillon',\n",
        "  'course_status': 'published',\n",
        "  'course_published_dt': '2020-06-23'},\n",
        " {'course_name': 'Server Automation - Ansible',\n",
        "  'course_author': 'Uncle Sam',\n",
        "  'course_status': 'published',\n",
        "  'course_published_dt': '2020-07-05'}]"
      ]
    },
    {
      "cell_type": "code",
      "execution_count": null,
      "id": "ff1010a5",
      "metadata": {},
      "outputs": [],
      "source": [
        "json.dump?"
      ]
    },
    {
      "cell_type": "code",
      "execution_count": null,
      "id": "9e2de2d2",
      "metadata": {},
      "outputs": [],
      "source": [
        "open?"
      ]
    },
    {
      "cell_type": "code",
      "execution_count": null,
      "id": "681557f5",
      "metadata": {},
      "outputs": [],
      "source": [
        "!mkdir -p data/courses"
      ]
    },
    {
      "cell_type": "code",
      "execution_count": null,
      "id": "b5d5ab6a",
      "metadata": {},
      "outputs": [],
      "source": [
        "# Opening the file in write mode\n",
        "courses_file = open('data/courses/courses.json', 'w')"
      ]
    },
    {
      "cell_type": "code",
      "execution_count": null,
      "id": "4a505268",
      "metadata": {},
      "outputs": [],
      "source": [
        "# Dumpling the list of dicts as JSON array into the file\n",
        "json.dump(courses, courses_file)"
      ]
    },
    {
      "cell_type": "code",
      "execution_count": null,
      "id": "f0388dc9",
      "metadata": {},
      "outputs": [],
      "source": [
        "# Closing the file\n",
        "courses_file.close()"
      ]
    },
    {
      "cell_type": "code",
      "execution_count": null,
      "id": "f1864c8b",
      "metadata": {},
      "outputs": [],
      "source": [
        "!ls -ltr data/courses/courses.json"
      ]
    },
    {
      "cell_type": "code",
      "execution_count": null,
      "id": "7f448016",
      "metadata": {},
      "outputs": [],
      "source": [
        "!cat data/courses/courses.json"
      ]
    },
    {
      "cell_type": "markdown",
      "id": "40bce7b2",
      "metadata": {},
      "source": [
        "Here are the steps involved in dumping a JSON array to the file.\n",
        "* Make sure you have list of dicts.\n",
        "* Open the file in write mode.\n",
        "* Write the data into the file. You have to use `json.dump` to write to file.\n",
        "* You have to dump one element at a time into the file until all the dicts are written to file.\n",
        "* Close the file."
      ]
    },
    {
      "cell_type": "code",
      "execution_count": null,
      "id": "1162d42c",
      "metadata": {},
      "outputs": [],
      "source": [
        "!rm data/courses/courses.json"
      ]
    },
    {
      "cell_type": "code",
      "execution_count": null,
      "id": "316521cc",
      "metadata": {},
      "outputs": [],
      "source": [
        "# Opening the file in write mode\n",
        "courses_file = open('data/courses/courses.json', 'w')"
      ]
    },
    {
      "cell_type": "code",
      "execution_count": null,
      "id": "381ff88d",
      "metadata": {},
      "outputs": [],
      "source": [
        "len(courses)"
      ]
    },
    {
      "cell_type": "code",
      "execution_count": null,
      "id": "54084149",
      "metadata": {},
      "outputs": [],
      "source": [
        "# Writing each dict as JSON document as line in the file\n",
        "for course in courses:\n",
        "    json.dump(course, courses_file) # Writing one JSON at a time.\n",
        "    courses_file.write('\\n') # we need to add new line character after each JSON document in the file."
      ]
    },
    {
      "cell_type": "code",
      "execution_count": null,
      "id": "0ef529e8",
      "metadata": {},
      "outputs": [],
      "source": [
        "# Closing the file\n",
        "courses_file.close()"
      ]
    },
    {
      "cell_type": "code",
      "execution_count": null,
      "id": "0a741350",
      "metadata": {},
      "outputs": [],
      "source": [
        "!ls -ltr data/courses/courses.json"
      ]
    },
    {
      "cell_type": "code",
      "execution_count": null,
      "id": "10f57ace",
      "metadata": {},
      "outputs": [],
      "source": [
        "!cat data/courses/courses.json"
      ]
    },
    {
      "cell_type": "code",
      "execution_count": null,
      "id": "00dc39d4",
      "metadata": {},
      "outputs": [],
      "source": [
        "import pandas as pd"
      ]
    },
    {
      "cell_type": "code",
      "execution_count": null,
      "id": "98811a8b",
      "metadata": {},
      "outputs": [],
      "source": [
        "pd.read_json('data/courses/courses.json', lines=True)"
      ]
    }
  ],
  "metadata": {
    "kernelspec": {
      "display_name": "Pyspark 3",
      "language": "python",
      "name": "pyspark3"
    },
    "language_info": {
      "codemirror_mode": {
        "name": "ipython",
        "version": 3
      },
      "file_extension": ".py",
      "mimetype": "text/x-python",
      "name": "python",
      "nbconvert_exporter": "python",
      "pygments_lexer": "ipython3",
      "version": "3.6.12"
    }
  },
  "nbformat": 4,
  "nbformat_minor": 5
}