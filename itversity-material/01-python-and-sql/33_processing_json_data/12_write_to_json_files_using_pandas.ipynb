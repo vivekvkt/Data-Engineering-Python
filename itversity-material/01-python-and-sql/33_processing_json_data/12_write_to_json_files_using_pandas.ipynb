{
  "cells": [
    {
      "cell_type": "markdown",
      "id": "dda5e01e",
      "metadata": {},
      "source": [
        "## Write to JSON files using pandas\n",
        "\n",
        "Let us understand how to write to JSON files using `pandas` module.\n",
        "* We can use `to_json` to write to JSON file using `pandas`."
      ]
    },
    {
      "cell_type": "code",
      "execution_count": null,
      "id": "27e4db62",
      "metadata": {},
      "outputs": [],
      "source": [
        "import pandas as pd"
      ]
    },
    {
      "cell_type": "code",
      "execution_count": null,
      "id": "17f4d889",
      "metadata": {},
      "outputs": [],
      "source": [
        "courses = [{'course_name': 'Programming using Python',\n",
        "  'course_author': 'Bob Dillon',\n",
        "  'course_status': 'published',\n",
        "  'course_published_dt': '2020-09-30'},\n",
        " {'course_name': 'Data Engineering using Python',\n",
        "  'course_author': 'Bob Dillon',\n",
        "  'course_status': 'published',\n",
        "  'course_published_dt': '2020-07-15'}]"
      ]
    },
    {
      "cell_type": "code",
      "execution_count": null,
      "id": "b0c76aa7",
      "metadata": {},
      "outputs": [],
      "source": [
        "df = pd.DataFrame(courses)"
      ]
    },
    {
      "cell_type": "code",
      "execution_count": null,
      "id": "0ee2afe5",
      "metadata": {},
      "outputs": [],
      "source": [
        "df"
      ]
    },
    {
      "cell_type": "code",
      "execution_count": null,
      "id": "637f4b6a",
      "metadata": {},
      "outputs": [],
      "source": [
        "df.to_json?"
      ]
    },
    {
      "cell_type": "markdown",
      "id": "9d6d3e9b",
      "metadata": {},
      "source": [
        "* Dumping a JSON documents into a file with one JSON document per line."
      ]
    },
    {
      "cell_type": "code",
      "execution_count": null,
      "id": "15829a0a",
      "metadata": {},
      "outputs": [],
      "source": [
        "courses = [{'course_name': 'Programming using Python',\n",
        "  'course_author': 'Bob Dillon',\n",
        "  'course_status': 'published',\n",
        "  'course_published_dt': '2020-09-30'},\n",
        " {'course_name': 'Data Engineering using Python',\n",
        "  'course_author': 'Bob Dillon',\n",
        "  'course_status': 'published',\n",
        "  'course_published_dt': '2020-07-15'},\n",
        " {'course_name': 'Data Engineering using Scala',\n",
        "  'course_author': 'Elvis Presley',\n",
        "  'course_status': 'draft',\n",
        "  'course_published_dt': None},\n",
        " {'course_name': 'Programming using Scala',\n",
        "  'course_author': 'Elvis Presley',\n",
        "  'course_status': 'published',\n",
        "  'course_published_dt': '2020-05-12'},\n",
        " {'course_name': 'Programming using Java',\n",
        "  'course_author': 'Mike Jack',\n",
        "  'course_status': 'inactive',\n",
        "  'course_published_dt': '2020-08-10'},\n",
        " {'course_name': 'Web Applications - Python Flask',\n",
        "  'course_author': 'Bob Dillon',\n",
        "  'course_status': 'inactive',\n",
        "  'course_published_dt': '2020-07-20'},\n",
        " {'course_name': 'Web Applications - Java Spring',\n",
        "  'course_author': 'Mike Jack',\n",
        "  'course_status': 'draft',\n",
        "  'course_published_dt': None},\n",
        " {'course_name': 'Pipeline Orchestration - Python',\n",
        "  'course_author': 'Bob Dillon',\n",
        "  'course_status': 'draft',\n",
        "  'course_published_dt': None},\n",
        " {'course_name': 'Streaming Pipelines - Python',\n",
        "  'course_author': 'Bob Dillon',\n",
        "  'course_status': 'published',\n",
        "  'course_published_dt': '2020-10-05'},\n",
        " {'course_name': 'Web Applications - Scala Play',\n",
        "  'course_author': 'Elvis Presley',\n",
        "  'course_status': 'inactive',\n",
        "  'course_published_dt': '2020-09-30'},\n",
        " {'course_name': 'Web Applications - Python Django',\n",
        "  'course_author': 'Bob Dillon',\n",
        "  'course_status': 'published',\n",
        "  'course_published_dt': '2020-06-23'},\n",
        " {'course_name': 'Server Automation - Ansible',\n",
        "  'course_author': 'Uncle Sam',\n",
        "  'course_status': 'published',\n",
        "  'course_published_dt': '2020-07-05'}]"
      ]
    },
    {
      "cell_type": "code",
      "execution_count": null,
      "id": "72d77ed6",
      "metadata": {},
      "outputs": [],
      "source": [
        "!rm data/courses/courses.json"
      ]
    },
    {
      "cell_type": "code",
      "execution_count": null,
      "id": "18598a74",
      "metadata": {},
      "outputs": [],
      "source": [
        "import pandas as pd"
      ]
    },
    {
      "cell_type": "code",
      "execution_count": null,
      "id": "89ad5260",
      "metadata": {},
      "outputs": [],
      "source": [
        "courses_df = pd.DataFrame(courses)"
      ]
    },
    {
      "cell_type": "code",
      "execution_count": null,
      "id": "1c0ed51a",
      "metadata": {},
      "outputs": [],
      "source": [
        "courses_df"
      ]
    },
    {
      "cell_type": "code",
      "execution_count": null,
      "id": "9263df45",
      "metadata": {},
      "outputs": [],
      "source": [
        "courses_df.to_json('data/courses/courses.json', orient='records', lines=True)"
      ]
    },
    {
      "cell_type": "code",
      "execution_count": null,
      "id": "87e1c0ec",
      "metadata": {},
      "outputs": [],
      "source": [
        "!ls -ltr data/courses/courses.json"
      ]
    },
    {
      "cell_type": "code",
      "execution_count": null,
      "id": "dbef391e",
      "metadata": {},
      "outputs": [],
      "source": [
        "!cat data/courses/courses.json"
      ]
    },
    {
      "cell_type": "markdown",
      "id": "9a6eea5f",
      "metadata": {},
      "source": [
        "* We can also write Pandas dataframe to json file with orient split."
      ]
    },
    {
      "cell_type": "code",
      "execution_count": null,
      "id": "a51f1d3e",
      "metadata": {},
      "outputs": [],
      "source": [
        "courses_df"
      ]
    },
    {
      "cell_type": "code",
      "execution_count": null,
      "id": "b334e4a3",
      "metadata": {},
      "outputs": [],
      "source": [
        "courses_df.to_json('data/courses/courses.json', orient='split')"
      ]
    },
    {
      "cell_type": "code",
      "execution_count": null,
      "id": "ef3c2297",
      "metadata": {},
      "outputs": [],
      "source": [
        "!ls -ltr data/courses/courses.json"
      ]
    },
    {
      "cell_type": "code",
      "execution_count": null,
      "id": "7141a2d8",
      "metadata": {},
      "outputs": [],
      "source": [
        "!cat data/courses/courses.json"
      ]
    },
    {
      "cell_type": "markdown",
      "id": "51ea8ff0",
      "metadata": {},
      "source": [
        "* We can also write Pandas dataframe to json file with orient records. It will generate string with valid JSON array."
      ]
    },
    {
      "cell_type": "code",
      "execution_count": null,
      "id": "fbf135ec",
      "metadata": {},
      "outputs": [],
      "source": [
        "courses_df.to_json('data/courses/courses.json', orient='records')"
      ]
    },
    {
      "cell_type": "code",
      "execution_count": null,
      "id": "af1854cd",
      "metadata": {},
      "outputs": [],
      "source": [
        "!ls -ltr data/courses/courses.json"
      ]
    },
    {
      "cell_type": "code",
      "execution_count": null,
      "id": "b65b73de",
      "metadata": {},
      "outputs": [],
      "source": [
        "!cat data/courses/courses.json"
      ]
    }
  ],
  "metadata": {
    "kernelspec": {
      "display_name": "Python 3",
      "language": "python",
      "name": "python3"
    },
    "language_info": {
      "codemirror_mode": {
        "name": "ipython",
        "version": 3
      },
      "file_extension": ".py",
      "mimetype": "text/x-python",
      "name": "python",
      "nbconvert_exporter": "python",
      "pygments_lexer": "ipython3",
      "version": "3.6.12"
    }
  },
  "nbformat": 4,
  "nbformat_minor": 5
}