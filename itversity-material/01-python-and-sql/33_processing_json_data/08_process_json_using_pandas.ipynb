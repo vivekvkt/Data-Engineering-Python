{
  "cells": [
    {
      "cell_type": "markdown",
      "id": "3af79868",
      "metadata": {},
      "source": [
        "## Process JSON using Pandas\n",
        "\n",
        "Let us understand how to process JSON using Pandas.\n",
        "* We can use `read_json` to read JSON documents from file into a Data Frame.\n",
        "* It works well with **customers.json** where we have one valid JSON document per line."
      ]
    },
    {
      "cell_type": "code",
      "execution_count": null,
      "id": "d3a51442",
      "metadata": {},
      "outputs": [],
      "source": [
        "import pandas as pd"
      ]
    },
    {
      "cell_type": "code",
      "execution_count": null,
      "id": "0cf3bac4",
      "metadata": {},
      "outputs": [],
      "source": [
        "pd.read_json?"
      ]
    },
    {
      "cell_type": "code",
      "execution_count": null,
      "id": "c51ab1d2",
      "metadata": {},
      "outputs": [],
      "source": [
        "pd.read_json('customers.json', lines=True)"
      ]
    },
    {
      "cell_type": "markdown",
      "id": "479006e0",
      "metadata": {},
      "source": [
        "* It is not straight forward to create data frame using **youtube_playlist_items.json** where we have one single JSON document with multiple attributes.\n",
        "* We can extract **items** and create data frame using `pd.DataFrame` by passing the list of dicts to it."
      ]
    },
    {
      "cell_type": "code",
      "execution_count": null,
      "id": "e0d98c29",
      "metadata": {},
      "outputs": [],
      "source": [
        "import json"
      ]
    },
    {
      "cell_type": "code",
      "execution_count": null,
      "id": "4266d3fe",
      "metadata": {},
      "outputs": [],
      "source": [
        "type(open('youtube_playlist_items.json'))"
      ]
    },
    {
      "cell_type": "code",
      "execution_count": null,
      "id": "cdb433bb",
      "metadata": {},
      "outputs": [],
      "source": [
        "json.load(open('youtube_playlist_items.json'))['items']"
      ]
    },
    {
      "cell_type": "code",
      "execution_count": null,
      "id": "e971af28",
      "metadata": {},
      "outputs": [],
      "source": [
        "json.load(open('youtube_playlist_items.json'))['items'][0]"
      ]
    },
    {
      "cell_type": "code",
      "execution_count": null,
      "id": "4177c4fe",
      "metadata": {},
      "outputs": [],
      "source": [
        "yt_items = json.load(open('youtube_playlist_items.json'))['items']"
      ]
    },
    {
      "cell_type": "code",
      "execution_count": null,
      "id": "60944aa5",
      "metadata": {},
      "outputs": [],
      "source": [
        "type(yt_items)"
      ]
    },
    {
      "cell_type": "code",
      "execution_count": null,
      "id": "b7fe74a2",
      "metadata": {},
      "outputs": [],
      "source": [
        "yt_items"
      ]
    },
    {
      "cell_type": "code",
      "execution_count": null,
      "id": "e442f529",
      "metadata": {},
      "outputs": [],
      "source": [
        "pd.DataFrame(yt_items)"
      ]
    },
    {
      "cell_type": "code",
      "execution_count": null,
      "id": "15125fcc",
      "metadata": {},
      "outputs": [],
      "source": [
        "pd.json_normalize(json.load(open('youtube_playlist_items.json'))['items']) # nested jsons are flattened"
      ]
    }
  ],
  "metadata": {
    "kernelspec": {
      "display_name": "Python 3",
      "language": "python",
      "name": "python3"
    },
    "language_info": {
      "codemirror_mode": {
        "name": "ipython",
        "version": 3
      },
      "file_extension": ".py",
      "mimetype": "text/x-python",
      "name": "python",
      "nbconvert_exporter": "python",
      "pygments_lexer": "ipython3",
      "version": "3.6.12"
    }
  },
  "nbformat": 4,
  "nbformat_minor": 5
}