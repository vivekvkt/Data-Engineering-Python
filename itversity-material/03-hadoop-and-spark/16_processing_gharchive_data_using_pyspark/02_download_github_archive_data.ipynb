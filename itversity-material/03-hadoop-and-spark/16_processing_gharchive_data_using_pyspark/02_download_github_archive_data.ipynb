{
 "cells": [
  {
   "cell_type": "markdown",
   "metadata": {},
   "source": [
    "## Download GitHub Archive Data\n",
    "\n",
    "Let us download GitHub Archive Data for few days, to go through the Data Engineering Process using a realistic exaple.\n",
    "* GitHub Archive data is available under https://data.gharchive.org.\n",
    "* It is denormalized in the form of JSON per hourly basis.\n",
    "\n",
    "Here are the steps you can follow to download GitHub Archive Data.\n",
    "* Create a folder or directory by name **gharchive** in the home directory.\n",
    "* Download files into the directory created.\n",
    "* Validate to ensure files are downloaded with out any issues by listing files in the target folder."
   ]
  },
  {
   "cell_type": "code",
   "execution_count": 1,
   "metadata": {},
   "outputs": [],
   "source": [
    "!mkdir -p /home/${USER}/gharchive"
   ]
  },
  {
   "cell_type": "code",
   "execution_count": null,
   "metadata": {},
   "outputs": [],
   "source": [
    "!wget https://data.gharchive.org/2021-01-13-{0..23}.json.gz -P /home/${USER}/gharchive/"
   ]
  },
  {
   "cell_type": "code",
   "execution_count": null,
   "metadata": {},
   "outputs": [],
   "source": [
    "!wget https://data.gharchive.org/2021-01-14-{0..23}.json.gz -P /home/${USER}/gharchive/"
   ]
  },
  {
   "cell_type": "code",
   "execution_count": null,
   "metadata": {},
   "outputs": [],
   "source": [
    "!wget https://data.gharchive.org/2021-01-15-{0..23}.json.gz -P /home/${USER}/gharchive/"
   ]
  },
  {
   "cell_type": "code",
   "execution_count": null,
   "metadata": {},
   "outputs": [],
   "source": [
    "!wget https://data.gharchive.org/2021-01-16-{0..23}.json.gz -P /home/${USER}/gharchive/"
   ]
  },
  {
   "cell_type": "code",
   "execution_count": null,
   "metadata": {},
   "outputs": [],
   "source": [
    "!ls -ltr /home/${USER}/gharchive"
   ]
  },
  {
   "cell_type": "code",
   "execution_count": null,
   "metadata": {},
   "outputs": [],
   "source": []
  }
 ],
 "metadata": {
  "kernelspec": {
   "display_name": "Python 3",
   "language": "python",
   "name": "python3"
  },
  "language_info": {
   "codemirror_mode": {
    "name": "ipython",
    "version": 3
   },
   "file_extension": ".py",
   "mimetype": "text/x-python",
   "name": "python",
   "nbconvert_exporter": "python",
   "pygments_lexer": "ipython3",
   "version": "3.6.12"
  }
 },
 "nbformat": 4,
 "nbformat_minor": 4
}
