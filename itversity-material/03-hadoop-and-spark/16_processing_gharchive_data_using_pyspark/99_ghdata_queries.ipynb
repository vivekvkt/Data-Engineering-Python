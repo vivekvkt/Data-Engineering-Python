{
 "cells": [
  {
   "cell_type": "code",
   "execution_count": 1,
   "metadata": {},
   "outputs": [],
   "source": [
    "from pyspark.sql import SparkSession\n",
    "\n",
    "import getpass\n",
    "username = getpass.getuser()\n",
    "\n",
    "spark = SparkSession. \\\n",
    "    builder. \\\n",
    "    config('spark.ui.port', '0'). \\\n",
    "    config(\"spark.sql.warehouse.dir\", f\"/user/{username}/warehouse\"). \\\n",
    "    enableHiveSupport(). \\\n",
    "    appName(f'{username} | Analyze GitHub Archive Data'). \\\n",
    "    master('yarn'). \\\n",
    "    getOrCreate()"
   ]
  },
  {
   "cell_type": "code",
   "execution_count": null,
   "metadata": {},
   "outputs": [],
   "source": [
    "%%sh\n",
    "\n",
    "hdfs dfs -ls /user/${USER}/itv-github/landing/"
   ]
  },
  {
   "cell_type": "code",
   "execution_count": 2,
   "metadata": {},
   "outputs": [],
   "source": [
    "ghdata = spark.read.json(f'/user/{username}/itv-github/landing/2021-01-13-0.json.gz')"
   ]
  },
  {
   "cell_type": "code",
   "execution_count": null,
   "metadata": {},
   "outputs": [],
   "source": [
    "ghdata.printSchema()"
   ]
  },
  {
   "cell_type": "code",
   "execution_count": 7,
   "metadata": {},
   "outputs": [
    {
     "name": "stdout",
     "output_type": "stream",
     "text": [
      "+-----------------------------+-----+\n",
      "|type                         |count|\n",
      "+-----------------------------+-----+\n",
      "|PullRequestReviewEvent       |2493 |\n",
      "|PushEvent                    |48569|\n",
      "|GollumEvent                  |227  |\n",
      "|ReleaseEvent                 |425  |\n",
      "|CommitCommentEvent           |319  |\n",
      "|CreateEvent                  |11762|\n",
      "|PullRequestReviewCommentEvent|1727 |\n",
      "|IssueCommentEvent            |6062 |\n",
      "|DeleteEvent                  |2812 |\n",
      "|IssuesEvent                  |2419 |\n",
      "|ForkEvent                    |1697 |\n",
      "|PublicEvent                  |376  |\n",
      "|MemberEvent                  |206  |\n",
      "|WatchEvent                   |4488 |\n",
      "|PullRequestEvent             |7329 |\n",
      "+-----------------------------+-----+\n",
      "\n"
     ]
    }
   ],
   "source": [
    "ghdata. \\\n",
    "    groupBy('type'). \\\n",
    "    count(). \\\n",
    "    show(truncate=False)"
   ]
  },
  {
   "cell_type": "code",
   "execution_count": 10,
   "metadata": {},
   "outputs": [
    {
     "name": "stdout",
     "output_type": "stream",
     "text": [
      "+---------+-----+\n",
      "|action   |count|\n",
      "+---------+-----+\n",
      "|null     |65762|\n",
      "|created  |10282|\n",
      "|reopened |67   |\n",
      "|closed   |4407 |\n",
      "|published|425  |\n",
      "|opened   |5274 |\n",
      "|added    |206  |\n",
      "|started  |4488 |\n",
      "+---------+-----+\n",
      "\n"
     ]
    }
   ],
   "source": [
    "ghdata. \\\n",
    "    groupBy('payload.action'). \\\n",
    "    count(). \\\n",
    "    show(truncate=False)"
   ]
  },
  {
   "cell_type": "code",
   "execution_count": 14,
   "metadata": {},
   "outputs": [
    {
     "name": "stdout",
     "output_type": "stream",
     "text": [
      "root\n",
      " |-- head: string (nullable = true)\n",
      "\n"
     ]
    }
   ],
   "source": [
    "ghdata.select('payload.head').printSchema()"
   ]
  },
  {
   "cell_type": "code",
   "execution_count": 16,
   "metadata": {},
   "outputs": [
    {
     "name": "stdout",
     "output_type": "stream",
     "text": [
      "+--------------------+\n",
      "|                 ref|\n",
      "+--------------------+\n",
      "|                null|\n",
      "|                main|\n",
      "|                null|\n",
      "|snyk-fix-1e1002e1...|\n",
      "|                null|\n",
      "|   refs/heads/master|\n",
      "|   refs/heads/master|\n",
      "|     refs/heads/main|\n",
      "|   refs/heads/master|\n",
      "|                null|\n",
      "|                null|\n",
      "|   refs/heads/master|\n",
      "|refs/heads/locald...|\n",
      "|   refs/heads/master|\n",
      "|     refs/heads/main|\n",
      "|                null|\n",
      "|                null|\n",
      "|     refs/heads/main|\n",
      "|refs/heads/cap35-...|\n",
      "|                null|\n",
      "+--------------------+\n",
      "only showing top 20 rows\n",
      "\n"
     ]
    }
   ],
   "source": [
    "ghdata.select('payload.ref').show()"
   ]
  },
  {
   "cell_type": "code",
   "execution_count": null,
   "metadata": {},
   "outputs": [],
   "source": []
  }
 ],
 "metadata": {
  "kernelspec": {
   "display_name": "Pyspark 2",
   "language": "python",
   "name": "pyspark2"
  },
  "language_info": {
   "codemirror_mode": {
    "name": "ipython",
    "version": 3
   },
   "file_extension": ".py",
   "mimetype": "text/x-python",
   "name": "python",
   "nbconvert_exporter": "python",
   "pygments_lexer": "ipython3",
   "version": "3.6.8"
  }
 },
 "nbformat": 4,
 "nbformat_minor": 4
}
