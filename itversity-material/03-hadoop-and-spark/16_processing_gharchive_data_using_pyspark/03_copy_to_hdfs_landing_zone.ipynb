{
 "cells": [
  {
   "cell_type": "markdown",
   "metadata": {},
   "source": [
    "## Copy to HDFS Landing Zone\n",
    "\n",
    "Let us copy the compressed JSON files that are downloaded into HDFS.\n",
    "* Source Location (local file system): `/home/${USER}/gharchive`.\n",
    "* Target Location (HDFS): `/user/${USER}/itvgithub/landing`\n",
    "* We will read the data from the landing zone and populate the data in a metastore database called as `${USER}_ghraw_db`. We will take care of this as part of the next topic.\n",
    "\n",
    "Here are the steps to copy the files from local file system into HDFS.\n",
    "* Make sure folder is created to copy the files into HDFS using `hdfs dfs -mkdir`.\n",
    "* We can copy the files from local file system into HDFS either by using `hdfs dfs -cp` or `hdfs dfs -copyFromLocal`.\n",
    "* Make sure to validate whether files are successfully created or not using `hdfs dfs -ls`.\n",
    "* We can also get the size of the files copied using `hdfs dfs -du -s -h` command.\n",
    "* The folders for staging GitHub Archive data both on the local file system as well as HDFS will be retained only for few days. It is typically 7 days to a month."
   ]
  },
  {
   "cell_type": "code",
   "execution_count": 1,
   "metadata": {},
   "outputs": [],
   "source": [
    "%%sh\n",
    "\n",
    "hdfs dfs -mkdir -p /user/${USER}/itvgithub/landing"
   ]
  },
  {
   "cell_type": "code",
   "execution_count": 2,
   "metadata": {},
   "outputs": [],
   "source": [
    "%%sh\n",
    "\n",
    "hdfs dfs -copyFromLocal /data/gharchive/*.json.gz /user/${USER}/itvgithub/landing"
   ]
  },
  {
   "cell_type": "code",
   "execution_count": 3,
   "metadata": {},
   "outputs": [
    {
     "name": "stdout",
     "output_type": "stream",
     "text": [
      "Found 96 items\n",
      "-rw-r--r--   3 itversity itversity   47825349 2021-06-29 20:22 /user/itversity/itvgithub/landing/2021-01-13-0.json.gz\n",
      "-rw-r--r--   3 itversity itversity   45560145 2021-06-29 20:23 /user/itversity/itvgithub/landing/2021-01-13-1.json.gz\n",
      "-rw-r--r--   3 itversity itversity   71293671 2021-06-29 20:22 /user/itversity/itvgithub/landing/2021-01-13-10.json.gz\n",
      "-rw-r--r--   3 itversity itversity   65318647 2021-06-29 20:22 /user/itversity/itvgithub/landing/2021-01-13-11.json.gz\n",
      "-rw-r--r--   3 itversity itversity   65044936 2021-06-29 20:22 /user/itversity/itvgithub/landing/2021-01-13-12.json.gz\n",
      "-rw-r--r--   3 itversity itversity   77894277 2021-06-29 20:22 /user/itversity/itvgithub/landing/2021-01-13-13.json.gz\n",
      "-rw-r--r--   3 itversity itversity   81246956 2021-06-29 20:22 /user/itversity/itvgithub/landing/2021-01-13-14.json.gz\n",
      "-rw-r--r--   3 itversity itversity   85821693 2021-06-29 20:23 /user/itversity/itvgithub/landing/2021-01-13-15.json.gz\n",
      "-rw-r--r--   3 itversity itversity   80773183 2021-06-29 20:23 /user/itversity/itvgithub/landing/2021-01-13-16.json.gz\n",
      "-rw-r--r--   3 itversity itversity   74211217 2021-06-29 20:23 /user/itversity/itvgithub/landing/2021-01-13-17.json.gz\n",
      "-rw-r--r--   3 itversity itversity   85334578 2021-06-29 20:23 /user/itversity/itvgithub/landing/2021-01-13-18.json.gz\n",
      "-rw-r--r--   3 itversity itversity   72766696 2021-06-29 20:23 /user/itversity/itvgithub/landing/2021-01-13-19.json.gz\n",
      "-rw-r--r--   3 itversity itversity   44467455 2021-06-29 20:23 /user/itversity/itvgithub/landing/2021-01-13-2.json.gz\n",
      "-rw-r--r--   3 itversity itversity   68686332 2021-06-29 20:23 /user/itversity/itvgithub/landing/2021-01-13-20.json.gz\n",
      "-rw-r--r--   3 itversity itversity   67046149 2021-06-29 20:23 /user/itversity/itvgithub/landing/2021-01-13-21.json.gz\n",
      "-rw-r--r--   3 itversity itversity   61659516 2021-06-29 20:23 /user/itversity/itvgithub/landing/2021-01-13-22.json.gz\n",
      "-rw-r--r--   3 itversity itversity   53437943 2021-06-29 20:23 /user/itversity/itvgithub/landing/2021-01-13-23.json.gz\n",
      "-rw-r--r--   3 itversity itversity   42314408 2021-06-29 20:23 /user/itversity/itvgithub/landing/2021-01-13-3.json.gz\n",
      "-rw-r--r--   3 itversity itversity   43620238 2021-06-29 20:24 /user/itversity/itvgithub/landing/2021-01-13-4.json.gz\n",
      "-rw-r--r--   3 itversity itversity   52649777 2021-06-29 20:24 /user/itversity/itvgithub/landing/2021-01-13-5.json.gz\n",
      "-rw-r--r--   3 itversity itversity   58672363 2021-06-29 20:24 /user/itversity/itvgithub/landing/2021-01-13-6.json.gz\n",
      "-rw-r--r--   3 itversity itversity   62523629 2021-06-29 20:24 /user/itversity/itvgithub/landing/2021-01-13-7.json.gz\n",
      "-rw-r--r--   3 itversity itversity   66034142 2021-06-29 20:24 /user/itversity/itvgithub/landing/2021-01-13-8.json.gz\n",
      "-rw-r--r--   3 itversity itversity   74438431 2021-06-29 20:24 /user/itversity/itvgithub/landing/2021-01-13-9.json.gz\n",
      "-rw-r--r--   3 itversity itversity   48939787 2021-06-29 20:24 /user/itversity/itvgithub/landing/2021-01-14-0.json.gz\n",
      "-rw-r--r--   3 itversity itversity   45571519 2021-06-29 20:25 /user/itversity/itvgithub/landing/2021-01-14-1.json.gz\n",
      "-rw-r--r--   3 itversity itversity   68647918 2021-06-29 20:24 /user/itversity/itvgithub/landing/2021-01-14-10.json.gz\n",
      "-rw-r--r--   3 itversity itversity   64715976 2021-06-29 20:24 /user/itversity/itvgithub/landing/2021-01-14-11.json.gz\n",
      "-rw-r--r--   3 itversity itversity   65023905 2021-06-29 20:24 /user/itversity/itvgithub/landing/2021-01-14-12.json.gz\n",
      "-rw-r--r--   3 itversity itversity   72086940 2021-06-29 20:24 /user/itversity/itvgithub/landing/2021-01-14-13.json.gz\n",
      "-rw-r--r--   3 itversity itversity   79622290 2021-06-29 20:25 /user/itversity/itvgithub/landing/2021-01-14-14.json.gz\n",
      "-rw-r--r--   3 itversity itversity   82477550 2021-06-29 20:25 /user/itversity/itvgithub/landing/2021-01-14-15.json.gz\n",
      "-rw-r--r--   3 itversity itversity   79619325 2021-06-29 20:25 /user/itversity/itvgithub/landing/2021-01-14-16.json.gz\n",
      "-rw-r--r--   3 itversity itversity   75428029 2021-06-29 20:25 /user/itversity/itvgithub/landing/2021-01-14-17.json.gz\n",
      "-rw-r--r--   3 itversity itversity   69959798 2021-06-29 20:25 /user/itversity/itvgithub/landing/2021-01-14-18.json.gz\n",
      "-rw-r--r--   3 itversity itversity   77306109 2021-06-29 20:25 /user/itversity/itvgithub/landing/2021-01-14-19.json.gz\n",
      "-rw-r--r--   3 itversity itversity   45418752 2021-06-29 20:26 /user/itversity/itvgithub/landing/2021-01-14-2.json.gz\n",
      "-rw-r--r--   3 itversity itversity   94160369 2021-06-29 20:25 /user/itversity/itvgithub/landing/2021-01-14-20.json.gz\n",
      "-rw-r--r--   3 itversity itversity   65861337 2021-06-29 20:25 /user/itversity/itvgithub/landing/2021-01-14-21.json.gz\n",
      "-rw-r--r--   3 itversity itversity   61744991 2021-06-29 20:25 /user/itversity/itvgithub/landing/2021-01-14-22.json.gz\n",
      "-rw-r--r--   3 itversity itversity   54949831 2021-06-29 20:26 /user/itversity/itvgithub/landing/2021-01-14-23.json.gz\n",
      "-rw-r--r--   3 itversity itversity   43278885 2021-06-29 20:26 /user/itversity/itvgithub/landing/2021-01-14-3.json.gz\n",
      "-rw-r--r--   3 itversity itversity   42641735 2021-06-29 20:26 /user/itversity/itvgithub/landing/2021-01-14-4.json.gz\n",
      "-rw-r--r--   3 itversity itversity   55102086 2021-06-29 20:26 /user/itversity/itvgithub/landing/2021-01-14-5.json.gz\n",
      "-rw-r--r--   3 itversity itversity   65292924 2021-06-29 20:26 /user/itversity/itvgithub/landing/2021-01-14-6.json.gz\n",
      "-rw-r--r--   3 itversity itversity   64296969 2021-06-29 20:26 /user/itversity/itvgithub/landing/2021-01-14-7.json.gz\n",
      "-rw-r--r--   3 itversity itversity   63686075 2021-06-29 20:26 /user/itversity/itvgithub/landing/2021-01-14-8.json.gz\n",
      "-rw-r--r--   3 itversity itversity   70178774 2021-06-29 20:26 /user/itversity/itvgithub/landing/2021-01-14-9.json.gz\n",
      "-rw-r--r--   3 itversity itversity   45732837 2021-06-29 20:26 /user/itversity/itvgithub/landing/2021-01-15-0.json.gz\n",
      "-rw-r--r--   3 itversity itversity   44620285 2021-06-29 20:27 /user/itversity/itvgithub/landing/2021-01-15-1.json.gz\n",
      "-rw-r--r--   3 itversity itversity   66420762 2021-06-29 20:26 /user/itversity/itvgithub/landing/2021-01-15-10.json.gz\n",
      "-rw-r--r--   3 itversity itversity   63453350 2021-06-29 20:26 /user/itversity/itvgithub/landing/2021-01-15-11.json.gz\n",
      "-rw-r--r--   3 itversity itversity   61805367 2021-06-29 20:27 /user/itversity/itvgithub/landing/2021-01-15-12.json.gz\n",
      "-rw-r--r--   3 itversity itversity   70278294 2021-06-29 20:27 /user/itversity/itvgithub/landing/2021-01-15-13.json.gz\n",
      "-rw-r--r--   3 itversity itversity   71761298 2021-06-29 20:27 /user/itversity/itvgithub/landing/2021-01-15-14.json.gz\n",
      "-rw-r--r--   3 itversity itversity   73767676 2021-06-29 20:27 /user/itversity/itvgithub/landing/2021-01-15-15.json.gz\n",
      "-rw-r--r--   3 itversity itversity   73143530 2021-06-29 20:27 /user/itversity/itvgithub/landing/2021-01-15-16.json.gz\n",
      "-rw-r--r--   3 itversity itversity   70981314 2021-06-29 20:27 /user/itversity/itvgithub/landing/2021-01-15-17.json.gz\n",
      "-rw-r--r--   3 itversity itversity   66377992 2021-06-29 20:27 /user/itversity/itvgithub/landing/2021-01-15-18.json.gz\n",
      "-rw-r--r--   3 itversity itversity   62375641 2021-06-29 20:27 /user/itversity/itvgithub/landing/2021-01-15-19.json.gz\n",
      "-rw-r--r--   3 itversity itversity   44713680 2021-06-29 20:28 /user/itversity/itvgithub/landing/2021-01-15-2.json.gz\n",
      "-rw-r--r--   3 itversity itversity   58359712 2021-06-29 20:27 /user/itversity/itvgithub/landing/2021-01-15-20.json.gz\n",
      "-rw-r--r--   3 itversity itversity   57525229 2021-06-29 20:27 /user/itversity/itvgithub/landing/2021-01-15-21.json.gz\n",
      "-rw-r--r--   3 itversity itversity   51293022 2021-06-29 20:28 /user/itversity/itvgithub/landing/2021-01-15-22.json.gz\n",
      "-rw-r--r--   3 itversity itversity   56179396 2021-06-29 20:28 /user/itversity/itvgithub/landing/2021-01-15-23.json.gz\n",
      "-rw-r--r--   3 itversity itversity   41251256 2021-06-29 20:28 /user/itversity/itvgithub/landing/2021-01-15-3.json.gz\n",
      "-rw-r--r--   3 itversity itversity   41469943 2021-06-29 20:28 /user/itversity/itvgithub/landing/2021-01-15-4.json.gz\n",
      "-rw-r--r--   3 itversity itversity   54600826 2021-06-29 20:28 /user/itversity/itvgithub/landing/2021-01-15-5.json.gz\n",
      "-rw-r--r--   3 itversity itversity   64890927 2021-06-29 20:28 /user/itversity/itvgithub/landing/2021-01-15-6.json.gz\n",
      "-rw-r--r--   3 itversity itversity   64776141 2021-06-29 20:28 /user/itversity/itvgithub/landing/2021-01-15-7.json.gz\n",
      "-rw-r--r--   3 itversity itversity   62006797 2021-06-29 20:28 /user/itversity/itvgithub/landing/2021-01-15-8.json.gz\n",
      "-rw-r--r--   3 itversity itversity   65526835 2021-06-29 20:28 /user/itversity/itvgithub/landing/2021-01-15-9.json.gz\n",
      "-rw-r--r--   3 itversity itversity   40992667 2021-06-29 20:28 /user/itversity/itvgithub/landing/2021-01-16-0.json.gz\n",
      "-rw-r--r--   3 itversity itversity   35481943 2021-06-29 20:29 /user/itversity/itvgithub/landing/2021-01-16-1.json.gz\n",
      "-rw-r--r--   3 itversity itversity   31968435 2021-06-29 20:28 /user/itversity/itvgithub/landing/2021-01-16-10.json.gz\n",
      "-rw-r--r--   3 itversity itversity   33247270 2021-06-29 20:28 /user/itversity/itvgithub/landing/2021-01-16-11.json.gz\n",
      "-rw-r--r--   3 itversity itversity   36851086 2021-06-29 20:28 /user/itversity/itvgithub/landing/2021-01-16-12.json.gz\n",
      "-rw-r--r--   3 itversity itversity   37109752 2021-06-29 20:28 /user/itversity/itvgithub/landing/2021-01-16-13.json.gz\n",
      "-rw-r--r--   3 itversity itversity   40576868 2021-06-29 20:29 /user/itversity/itvgithub/landing/2021-01-16-14.json.gz\n",
      "-rw-r--r--   3 itversity itversity   40921977 2021-06-29 20:29 /user/itversity/itvgithub/landing/2021-01-16-15.json.gz\n",
      "-rw-r--r--   3 itversity itversity   42346925 2021-06-29 20:29 /user/itversity/itvgithub/landing/2021-01-16-16.json.gz\n",
      "-rw-r--r--   3 itversity itversity   40222832 2021-06-29 20:29 /user/itversity/itvgithub/landing/2021-01-16-17.json.gz\n",
      "-rw-r--r--   3 itversity itversity   39460844 2021-06-29 20:29 /user/itversity/itvgithub/landing/2021-01-16-18.json.gz\n",
      "-rw-r--r--   3 itversity itversity   38734453 2021-06-29 20:29 /user/itversity/itvgithub/landing/2021-01-16-19.json.gz\n",
      "-rw-r--r--   3 itversity itversity   34133533 2021-06-29 20:29 /user/itversity/itvgithub/landing/2021-01-16-2.json.gz\n",
      "-rw-r--r--   3 itversity itversity   35489273 2021-06-29 20:29 /user/itversity/itvgithub/landing/2021-01-16-20.json.gz\n",
      "-rw-r--r--   3 itversity itversity   34439170 2021-06-29 20:29 /user/itversity/itvgithub/landing/2021-01-16-21.json.gz\n",
      "-rw-r--r--   3 itversity itversity   31832508 2021-06-29 20:29 /user/itversity/itvgithub/landing/2021-01-16-22.json.gz\n",
      "-rw-r--r--   3 itversity itversity   28627994 2021-06-29 20:29 /user/itversity/itvgithub/landing/2021-01-16-23.json.gz\n",
      "-rw-r--r--   3 itversity itversity   29920475 2021-06-29 20:29 /user/itversity/itvgithub/landing/2021-01-16-3.json.gz\n",
      "-rw-r--r--   3 itversity itversity   26999210 2021-06-29 20:29 /user/itversity/itvgithub/landing/2021-01-16-4.json.gz\n",
      "-rw-r--r--   3 itversity itversity   25842995 2021-06-29 20:29 /user/itversity/itvgithub/landing/2021-01-16-5.json.gz\n",
      "-rw-r--r--   3 itversity itversity   26132898 2021-06-29 20:29 /user/itversity/itvgithub/landing/2021-01-16-6.json.gz\n",
      "-rw-r--r--   3 itversity itversity   27672129 2021-06-29 20:29 /user/itversity/itvgithub/landing/2021-01-16-7.json.gz\n",
      "-rw-r--r--   3 itversity itversity   28849210 2021-06-29 20:29 /user/itversity/itvgithub/landing/2021-01-16-8.json.gz\n",
      "-rw-r--r--   3 itversity itversity   30668785 2021-06-29 20:29 /user/itversity/itvgithub/landing/2021-01-16-9.json.gz\n"
     ]
    }
   ],
   "source": [
    "%%sh\n",
    "\n",
    "hdfs dfs -ls /user/${USER}/itvgithub/landing"
   ]
  },
  {
   "cell_type": "code",
   "execution_count": 4,
   "metadata": {},
   "outputs": [
    {
     "name": "stdout",
     "output_type": "stream",
     "text": [
      "5.0 G  15.0 G  /user/itversity/itvgithub/landing\n"
     ]
    }
   ],
   "source": [
    "%%sh\n",
    "\n",
    "hdfs dfs -du -s -h /user/${USER}/itvgithub/landing"
   ]
  },
  {
   "cell_type": "code",
   "execution_count": null,
   "metadata": {},
   "outputs": [],
   "source": []
  }
 ],
 "metadata": {
  "kernelspec": {
   "display_name": "Python 3",
   "language": "python",
   "name": "python3"
  },
  "language_info": {
   "codemirror_mode": {
    "name": "ipython",
    "version": 3
   },
   "file_extension": ".py",
   "mimetype": "text/x-python",
   "name": "python",
   "nbconvert_exporter": "python",
   "pygments_lexer": "ipython3",
   "version": "3.6.12"
  }
 },
 "nbformat": 4,
 "nbformat_minor": 4
}
