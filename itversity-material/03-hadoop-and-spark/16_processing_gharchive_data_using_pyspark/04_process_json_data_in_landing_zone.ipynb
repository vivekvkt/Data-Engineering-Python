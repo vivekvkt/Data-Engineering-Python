{
 "cells": [
  {
   "cell_type": "markdown",
   "metadata": {},
   "source": [
    "## Process JSON Data in Landing Zone\n",
    "\n",
    "Let us quickly understand how to process JSON Data in Landing Zone.\n",
    "* The files related to GitHub Activity Archive data which are downloaded and copied on to the landing zone are of type JSON format.\n",
    "* Spark provides robust APIs to deal with JSON data.\n",
    "* Processing of JSON data along with special data types is covered in subsequent topics. For now we will see some basics of processing data in JSON Structure.\n",
    "* A JSON record will have attributes of different types.\n",
    "  * Simple - Numeric, String, Boolean, Null, etc.\n",
    "  * Object Type (a nested JSON object)\n",
    "  * JSON Array. An array can contain attributes of simple type or object type or another JSON Array.\n",
    "* Our GitHub Archive data have all type of attributes. We will review how to process data of different types here."
   ]
  },
  {
   "cell_type": "code",
   "execution_count": 1,
   "metadata": {},
   "outputs": [],
   "source": [
    "from pyspark.sql import SparkSession\n",
    "\n",
    "import getpass\n",
    "username = getpass.getuser()\n",
    "\n",
    "spark = SparkSession. \\\n",
    "    builder. \\\n",
    "    config('spark.ui.port', '0'). \\\n",
    "    config(\"spark.sql.warehouse.dir\", f\"/user/{username}/warehouse\"). \\\n",
    "    enableHiveSupport(). \\\n",
    "    appName(f'{username} | Analyze GitHub Archive Data'). \\\n",
    "    master('yarn'). \\\n",
    "    getOrCreate()"
   ]
  },
  {
   "cell_type": "code",
   "execution_count": null,
   "metadata": {},
   "outputs": [],
   "source": [
    "%%sh\n",
    "\n",
    "hdfs dfs -ls /user/${USER}/itvgithub/landing/"
   ]
  },
  {
   "cell_type": "markdown",
   "metadata": {},
   "source": [
    "* We can use `spark.read.json` to read a file or all files in a folder or some files based upon a pattern.\n",
    "* To explore basic capabilities of Spark to process JSON data, we will read one file into a Data Frame."
   ]
  },
  {
   "cell_type": "code",
   "execution_count": 2,
   "metadata": {},
   "outputs": [],
   "source": [
    "ghdata = spark.read.json(f'/user/{username}/itvgithub/landing/2021-01-13-0.json.gz')"
   ]
  },
  {
   "cell_type": "markdown",
   "metadata": {},
   "source": [
    "Spend sometime in reviewing the Schema.\n",
    "* `actor`, `org`, `payload`, `repo` are of type structs.\n",
    "* `created_at`, `id` are of strings.\n",
    "* Most of the attributes under payload are either of simple type or JSON object type. However `commits` under payload is of type JSON Array."
   ]
  },
  {
   "cell_type": "code",
   "execution_count": null,
   "metadata": {},
   "outputs": [],
   "source": [
    "ghdata.printSchema()"
   ]
  },
  {
   "cell_type": "code",
   "execution_count": 3,
   "metadata": {},
   "outputs": [
    {
     "name": "stdout",
     "output_type": "stream",
     "text": [
      "+--------------------+\n",
      "|                repo|\n",
      "+--------------------+\n",
      "|[67224522, i-RIC/...|\n",
      "|[329141406, kaned...|\n",
      "|[221279833, arche...|\n",
      "|[182814691, Auden...|\n",
      "|[4542716, NixOS/n...|\n",
      "|[329130975, eterw...|\n",
      "|[104382627, littl...|\n",
      "|[302490178, qmk/q...|\n",
      "|[156042726, Maybe...|\n",
      "|[329144511, direw...|\n",
      "|[91074692, zaland...|\n",
      "|[280011532, GeopJ...|\n",
      "|[32481543, cBioPo...|\n",
      "|[270887418, feeda...|\n",
      "|[322448852, ehenn...|\n",
      "|[325641835, machi...|\n",
      "|[189429001, mlysy...|\n",
      "|[307762661, steve...|\n",
      "|[214051777, leigh...|\n",
      "|[97922418, leanpr...|\n",
      "+--------------------+\n",
      "only showing top 20 rows\n",
      "\n"
     ]
    }
   ],
   "source": [
    "ghdata.select('repo').show()"
   ]
  },
  {
   "cell_type": "code",
   "execution_count": 4,
   "metadata": {},
   "outputs": [
    {
     "name": "stdout",
     "output_type": "stream",
     "text": [
      "root\n",
      " |-- repo: struct (nullable = true)\n",
      " |    |-- id: long (nullable = true)\n",
      " |    |-- name: string (nullable = true)\n",
      " |    |-- url: string (nullable = true)\n",
      "\n"
     ]
    }
   ],
   "source": [
    "ghdata.select('repo').printSchema()"
   ]
  },
  {
   "cell_type": "code",
   "execution_count": 5,
   "metadata": {},
   "outputs": [
    {
     "name": "stdout",
     "output_type": "stream",
     "text": [
      "root\n",
      " |-- id: long (nullable = true)\n",
      " |-- name: string (nullable = true)\n",
      " |-- url: string (nullable = true)\n",
      "\n"
     ]
    }
   ],
   "source": [
    "# we can access all the attributes from struct using .*\n",
    "ghdata.select('repo.*').printSchema()"
   ]
  },
  {
   "cell_type": "code",
   "execution_count": 6,
   "metadata": {},
   "outputs": [
    {
     "name": "stdout",
     "output_type": "stream",
     "text": [
      "+--------------------+---------+--------------------+--------------------+\n",
      "|          created_at|       id|                name|                 url|\n",
      "+--------------------+---------+--------------------+--------------------+\n",
      "|2021-01-13T00:00:00Z| 67224522|   i-RIC/prepost-gui|https://api.githu...|\n",
      "|2021-01-13T00:00:00Z|329141406| kaneda96/React-quiz|https://api.githu...|\n",
      "|2021-01-13T00:00:00Z|221279833|archesproject/arc...|https://api.githu...|\n",
      "|2021-01-13T00:00:00Z|182814691|    Audentio/kinetic|https://api.githu...|\n",
      "|2021-01-13T00:00:00Z|  4542716|       NixOS/nixpkgs|https://api.githu...|\n",
      "|2021-01-13T00:00:00Z|329130975|   eterwin/schastota|https://api.githu...|\n",
      "|2021-01-13T00:00:00Z|104382627|littlebizzy/slick...|https://api.githu...|\n",
      "|2021-01-13T00:00:00Z|302490178|   qmk/qmk_keyboards|https://api.githu...|\n",
      "|2021-01-13T00:00:00Z|156042726|MaybeNotWrong/lc-sep|https://api.githu...|\n",
      "|2021-01-13T00:00:00Z|329144511|direwolf-github/e...|https://api.githu...|\n",
      "|2021-01-13T00:00:00Z| 91074692|zalando/postgres-...|https://api.githu...|\n",
      "|2021-01-13T00:00:00Z|280011532|       GeopJr/GeopJr|https://api.githu...|\n",
      "|2021-01-13T00:00:00Z| 32481543|cBioPortal/cbiopo...|https://api.githu...|\n",
      "|2021-01-13T00:00:00Z|270887418|feedarchive/freen...|https://api.githu...|\n",
      "|2021-01-13T00:00:00Z|322448852|ehenn345/hf_helpe...|https://api.githu...|\n",
      "|2021-01-13T00:00:00Z|325641835|machinegunhairy/P...|https://api.githu...|\n",
      "|2021-01-13T00:00:00Z|189429001|       mlysy/realPSD|https://api.githu...|\n",
      "|2021-01-13T00:00:00Z|307762661|stevennguyen99/re...|https://api.githu...|\n",
      "|2021-01-13T00:00:00Z|214051777|leighmcculloch/st...|https://api.githu...|\n",
      "|2021-01-13T00:00:00Z| 97922418|leanprover-commun...|https://api.githu...|\n",
      "+--------------------+---------+--------------------+--------------------+\n",
      "only showing top 20 rows\n",
      "\n"
     ]
    }
   ],
   "source": [
    "ghdata.select('created_at', 'repo.*').show()"
   ]
  },
  {
   "cell_type": "markdown",
   "metadata": {},
   "source": [
    "* `payload.commits` is of type array. Each element in the array is of type JSON object."
   ]
  },
  {
   "cell_type": "code",
   "execution_count": 7,
   "metadata": {},
   "outputs": [
    {
     "name": "stdout",
     "output_type": "stream",
     "text": [
      "root\n",
      " |-- commits: array (nullable = true)\n",
      " |    |-- element: struct (containsNull = true)\n",
      " |    |    |-- author: struct (nullable = true)\n",
      " |    |    |    |-- email: string (nullable = true)\n",
      " |    |    |    |-- name: string (nullable = true)\n",
      " |    |    |-- distinct: boolean (nullable = true)\n",
      " |    |    |-- message: string (nullable = true)\n",
      " |    |    |-- sha: string (nullable = true)\n",
      " |    |    |-- url: string (nullable = true)\n",
      "\n"
     ]
    }
   ],
   "source": [
    "ghdata.select('payload.commits').printSchema()"
   ]
  },
  {
   "cell_type": "code",
   "execution_count": 8,
   "metadata": {},
   "outputs": [
    {
     "data": {
      "text/plain": [
       "90911"
      ]
     },
     "execution_count": 8,
     "metadata": {},
     "output_type": "execute_result"
    }
   ],
   "source": [
    "ghdata.count()"
   ]
  },
  {
   "cell_type": "markdown",
   "metadata": {},
   "source": [
    "* We can use `explode` to flatten the list. Once you use explode you will see more records."
   ]
  },
  {
   "cell_type": "code",
   "execution_count": 9,
   "metadata": {},
   "outputs": [
    {
     "name": "stdout",
     "output_type": "stream",
     "text": [
      "root\n",
      " |-- commits: struct (nullable = true)\n",
      " |    |-- author: struct (nullable = true)\n",
      " |    |    |-- email: string (nullable = true)\n",
      " |    |    |-- name: string (nullable = true)\n",
      " |    |-- distinct: boolean (nullable = true)\n",
      " |    |-- message: string (nullable = true)\n",
      " |    |-- sha: string (nullable = true)\n",
      " |    |-- url: string (nullable = true)\n",
      "\n"
     ]
    }
   ],
   "source": [
    "from pyspark.sql.functions import explode\n",
    "ghdata. \\\n",
    "    select(explode('payload.commits').alias('commits')). \\\n",
    "    printSchema()"
   ]
  },
  {
   "cell_type": "markdown",
   "metadata": {},
   "source": [
    "* `explode` by default ignore the records where there are no element in the list."
   ]
  },
  {
   "cell_type": "code",
   "execution_count": 10,
   "metadata": {},
   "outputs": [
    {
     "data": {
      "text/plain": [
       "75708"
      ]
     },
     "execution_count": 10,
     "metadata": {},
     "output_type": "execute_result"
    }
   ],
   "source": [
    "from pyspark.sql.functions import explode\n",
    "ghdata. \\\n",
    "    select(explode('payload.commits').alias('commits')). \\\n",
    "    count()"
   ]
  },
  {
   "cell_type": "markdown",
   "metadata": {},
   "source": [
    "* `explode_outer` will retain those records where there are no elements in the JSON Array and explode when there are elements in the JSON Array.\n",
    "* With `explode_outer`, you can see the count to be greater than the original Data Frame."
   ]
  },
  {
   "cell_type": "code",
   "execution_count": 11,
   "metadata": {},
   "outputs": [
    {
     "data": {
      "text/plain": [
       "119495"
      ]
     },
     "execution_count": 11,
     "metadata": {},
     "output_type": "execute_result"
    }
   ],
   "source": [
    "from pyspark.sql.functions import explode_outer\n",
    "ghdata. \\\n",
    "    select(explode_outer('payload.commits').alias('commits')). \\\n",
    "    count()"
   ]
  },
  {
   "cell_type": "code",
   "execution_count": 13,
   "metadata": {},
   "outputs": [
    {
     "name": "stdout",
     "output_type": "stream",
     "text": [
      "+---------+--------------------+--------------------+--------------------+--------------------+\n",
      "|       id|                name|                 url|          created_at|             commits|\n",
      "+---------+--------------------+--------------------+--------------------+--------------------+\n",
      "| 67224522|   i-RIC/prepost-gui|https://api.githu...|2021-01-13T00:00:00Z|                null|\n",
      "|329141406| kaneda96/React-quiz|https://api.githu...|2021-01-13T00:00:00Z|                null|\n",
      "|221279833|archesproject/arc...|https://api.githu...|2021-01-13T00:00:00Z|                null|\n",
      "|182814691|    Audentio/kinetic|https://api.githu...|2021-01-13T00:00:00Z|                null|\n",
      "|  4542716|       NixOS/nixpkgs|https://api.githu...|2021-01-13T00:00:00Z|                null|\n",
      "|329130975|   eterwin/schastota|https://api.githu...|2021-01-13T00:00:00Z|[[394a73ceb6ee034...|\n",
      "|104382627|littlebizzy/slick...|https://api.githu...|2021-01-13T00:00:00Z|[[a5c95b3d7cb4d0a...|\n",
      "|302490178|   qmk/qmk_keyboards|https://api.githu...|2021-01-13T00:00:00Z|[[aaf4c61ddcc5e8a...|\n",
      "|156042726|MaybeNotWrong/lc-sep|https://api.githu...|2021-01-13T00:00:00Z|[[a5d664a0dae274a...|\n",
      "|329144511|direwolf-github/e...|https://api.githu...|2021-01-13T00:00:00Z|                null|\n",
      "| 91074692|zalando/postgres-...|https://api.githu...|2021-01-13T00:00:00Z|                null|\n",
      "|280011532|       GeopJr/GeopJr|https://api.githu...|2021-01-13T00:00:00Z|[[f619e61b249410e...|\n",
      "| 32481543|cBioPortal/cbiopo...|https://api.githu...|2021-01-13T00:00:00Z|[[f7dc43fb05ba7df...|\n",
      "|270887418|feedarchive/freen...|https://api.githu...|2021-01-13T00:00:00Z|[[a2e4bd1b8c0100d...|\n",
      "|322448852|ehenn345/hf_helpe...|https://api.githu...|2021-01-13T00:00:00Z|[[28c0ad73248faab...|\n",
      "|325641835|machinegunhairy/P...|https://api.githu...|2021-01-13T00:00:00Z|                null|\n",
      "|189429001|       mlysy/realPSD|https://api.githu...|2021-01-13T00:00:00Z|                null|\n",
      "|307762661|stevennguyen99/re...|https://api.githu...|2021-01-13T00:00:00Z|[[823e795abaa3c63...|\n",
      "|214051777|leighmcculloch/st...|https://api.githu...|2021-01-13T00:00:00Z|[[273d69efa9a4f6f...|\n",
      "| 97922418|leanprover-commun...|https://api.githu...|2021-01-13T00:00:00Z|                null|\n",
      "+---------+--------------------+--------------------+--------------------+--------------------+\n",
      "only showing top 20 rows\n",
      "\n"
     ]
    }
   ],
   "source": [
    "from pyspark.sql.functions import explode_outer\n",
    "ghdata. \\\n",
    "    select('repo.*', 'created_at', explode_outer('payload.commits').alias('commits')). \\\n",
    "    show()"
   ]
  },
  {
   "cell_type": "markdown",
   "metadata": {},
   "source": [
    "* You can access the authors for the commits by using `commits.author.*` after exploding `commits` which is of type JSON Array."
   ]
  },
  {
   "cell_type": "code",
   "execution_count": 15,
   "metadata": {},
   "outputs": [
    {
     "name": "stdout",
     "output_type": "stream",
     "text": [
      "+---------+--------------------+--------------------+--------------------+--------------------+-------------------+\n",
      "|       id|                name|                 url|          created_at|               email|               name|\n",
      "+---------+--------------------+--------------------+--------------------+--------------------+-------------------+\n",
      "| 67224522|   i-RIC/prepost-gui|https://api.githu...|2021-01-13T00:00:00Z|                null|               null|\n",
      "|329141406| kaneda96/React-quiz|https://api.githu...|2021-01-13T00:00:00Z|                null|               null|\n",
      "|221279833|archesproject/arc...|https://api.githu...|2021-01-13T00:00:00Z|                null|               null|\n",
      "|182814691|    Audentio/kinetic|https://api.githu...|2021-01-13T00:00:00Z|                null|               null|\n",
      "|  4542716|       NixOS/nixpkgs|https://api.githu...|2021-01-13T00:00:00Z|                null|               null|\n",
      "|329130975|   eterwin/schastota|https://api.githu...|2021-01-13T00:00:00Z|394a73ceb6ee03413...|            eterwin|\n",
      "|104382627|littlebizzy/slick...|https://api.githu...|2021-01-13T00:00:00Z|a5c95b3d7cb4d0ae0...|      Jesse Nickles|\n",
      "|302490178|   qmk/qmk_keyboards|https://api.githu...|2021-01-13T00:00:00Z|aaf4c61ddcc5e8a2d...|              zvecr|\n",
      "|156042726|MaybeNotWrong/lc-sep|https://api.githu...|2021-01-13T00:00:00Z|a5d664a0dae274a67...|      MaybeNotWrong|\n",
      "|329144511|direwolf-github/e...|https://api.githu...|2021-01-13T00:00:00Z|                null|               null|\n",
      "| 91074692|zalando/postgres-...|https://api.githu...|2021-01-13T00:00:00Z|                null|               null|\n",
      "|280011532|       GeopJr/GeopJr|https://api.githu...|2021-01-13T00:00:00Z|f619e61b249410e96...|github-actions[bot]|\n",
      "| 32481543|cBioPortal/cbiopo...|https://api.githu...|2021-01-13T00:00:00Z|f7dc43fb05ba7df7e...|      Ino de Bruijn|\n",
      "|270887418|feedarchive/freen...|https://api.githu...|2021-01-13T00:00:00Z|a2e4bd1b8c0100d5c...|       datarods-svc|\n",
      "|322448852|ehenn345/hf_helpe...|https://api.githu...|2021-01-13T00:00:00Z|28c0ad73248faab86...|        Erin Weston|\n",
      "|325641835|machinegunhairy/P...|https://api.githu...|2021-01-13T00:00:00Z|                null|               null|\n",
      "|189429001|       mlysy/realPSD|https://api.githu...|2021-01-13T00:00:00Z|                null|               null|\n",
      "|307762661|stevennguyen99/re...|https://api.githu...|2021-01-13T00:00:00Z|823e795abaa3c633b...|     stevennguyen99|\n",
      "|214051777|leighmcculloch/st...|https://api.githu...|2021-01-13T00:00:00Z|273d69efa9a4f6fa2...|    Leigh McCulloch|\n",
      "| 97922418|leanprover-commun...|https://api.githu...|2021-01-13T00:00:00Z|                null|               null|\n",
      "+---------+--------------------+--------------------+--------------------+--------------------+-------------------+\n",
      "only showing top 20 rows\n",
      "\n"
     ]
    }
   ],
   "source": [
    "from pyspark.sql.functions import explode_outer\n",
    "ghdata. \\\n",
    "    select('repo.*', 'created_at', explode_outer('payload.commits').alias('commits')). \\\n",
    "    select('id', 'name', 'url', 'created_at', 'commits.author.*'). \\\n",
    "    show()"
   ]
  },
  {
   "cell_type": "code",
   "execution_count": null,
   "metadata": {},
   "outputs": [],
   "source": []
  }
 ],
 "metadata": {
  "kernelspec": {
   "display_name": "Pyspark 2",
   "language": "python",
   "name": "pyspark2"
  },
  "language_info": {
   "codemirror_mode": {
    "name": "ipython",
    "version": 3
   },
   "file_extension": ".py",
   "mimetype": "text/x-python",
   "name": "python",
   "nbconvert_exporter": "python",
   "pygments_lexer": "ipython3",
   "version": "3.6.12"
  }
 },
 "nbformat": 4,
 "nbformat_minor": 4
}
